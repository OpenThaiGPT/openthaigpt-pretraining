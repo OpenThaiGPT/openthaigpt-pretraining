{
  "cells": [
    {
      "cell_type": "markdown",
      "metadata": {
        "id": "XIohMXz1REa_"
      },
      "source": [
        "# OpenThaiGPT Inference Pipeline:"
      ]
    },
    {
      "cell_type": "markdown",
      "metadata": {
        "id": "zRj7dqSpS6iL"
      },
      "source": [
        "## Disclaimer"
      ]
    },
    {
      "cell_type": "markdown",
      "metadata": {
        "id": "1U0d2YkxTAHG"
      },
      "source": [
        "Our model is in the development phase. Some questions still contain inaccuracies and require correction in responses. The data will be anonymized according to PDPA regulations, and the model was trained until May 2023.\n"
      ]
    },
    {
      "cell_type": "markdown",
      "metadata": {
        "id": "vOO1QKVtRLga"
      },
      "source": [
        "## Introduction"
      ]
    },
    {
      "cell_type": "markdown",
      "metadata": {
        "id": "zLPzIzPARWqH"
      },
      "source": [
        "**OpenThaiGPT model**\n",
        "\n",
        "<img src=\"https://1173516064-files.gitbook.io/~/files/v0/b/gitbook-x-prod.appspot.com/o/spaces%2FvvbWvIIe82Iv1yHaDBC5%2Fuploads%2Fb8eiMDaqiEQL6ahbAY0h%2Fimage.png?alt=media&token=6fce78fd-2cca-4c0a-9648-bd5518e644ce\n",
        "https://openthaigpt.aieat.or.th/\" width=\"200px\">\n",
        "\n",
        "OpenThaiGPT is a cutting-edge and open-source Thai large language model chatbot (LLM) to follow Thai translated instructions and extend 24,554 Thai words vocabularies. As we continue in the development phase, we're dedicated to refining and enhancing its capabilities for broader and more accurate language understanding. This involves incorporating additional linguistic nuances and further expanding its various dataset (such as Finance, Law, Government, etc.) to better cater to diverse contexts and user needs.\n",
        "\n",
        "For more information: [here](https://openthaigpt.aieat.or.th/)\n"
      ]
    },
    {
      "cell_type": "markdown",
      "metadata": {
        "id": "ietxu7XTNU1G"
      },
      "source": [
        "This notebook serves as a tutorial, showcasing the capabilities of OpenThaiGPT at this stage. Should you have any questions, feel free to reach out to us."
      ]
    },
    {
      "cell_type": "markdown",
      "metadata": {
        "id": "2FkAIfz-RWs2"
      },
      "source": [
        "## Prerequisite"
      ]
    },
    {
      "cell_type": "markdown",
      "metadata": {
        "id": "7lhLR7q4_iDI"
      },
      "source": [
        "This notebook requires resources to inference response the input\n",
        "\n",
        "\n",
        "\n",
        "*   CPU/GPU (Recommended)\n",
        "*   Ram (at least 4 GB)\n",
        "    \n",
        "\n",
        "    \n",
        "\n"
      ]
    },
    {
      "cell_type": "markdown",
      "metadata": {
        "id": "ou5PrJXRFRTR"
      },
      "source": [
        "Essential Libraries can be found as below\n",
        "\n",
        "\n",
        "*   transformers\n",
        "*   accelerate\n",
        "*   torch\n",
        "*   datasets\n",
        "*   sentencepiece\n",
        "*   bitsandbytes\n",
        "\n"
      ]
    },
    {
      "cell_type": "markdown",
      "metadata": {
        "id": "LUahHkKLRWvM"
      },
      "source": [
        "## Install essential libraries"
      ]
    },
    {
      "cell_type": "code",
      "execution_count": null,
      "metadata": {
        "colab": {
          "base_uri": "https://localhost:8080/"
        },
        "id": "bRUBK5K2EuCk",
        "outputId": "860b762d-0dd4-4e7e-e3c7-9ef1556f8431"
      },
      "outputs": [
        {
          "name": "stdout",
          "output_type": "stream",
          "text": [
            "\u001b[2K     \u001b[90m━━━━━━━━━━━━━━━━━━━━━━━━━━━━━━━━━━━━━━━━\u001b[0m \u001b[32m261.4/261.4 kB\u001b[0m \u001b[31m5.7 MB/s\u001b[0m eta \u001b[36m0:00:00\u001b[0m\n",
            "\u001b[2K     \u001b[90m━━━━━━━━━━━━━━━━━━━━━━━━━━━━━━━━━━━━━━━━\u001b[0m \u001b[32m521.2/521.2 kB\u001b[0m \u001b[31m5.5 MB/s\u001b[0m eta \u001b[36m0:00:00\u001b[0m\n",
            "\u001b[2K     \u001b[90m━━━━━━━━━━━━━━━━━━━━━━━━━━━━━━━━━━━━━━━━\u001b[0m \u001b[32m115.3/115.3 kB\u001b[0m \u001b[31m6.9 MB/s\u001b[0m eta \u001b[36m0:00:00\u001b[0m\n",
            "\u001b[2K     \u001b[90m━━━━━━━━━━━━━━━━━━━━━━━━━━━━━━━━━━━━━━━━\u001b[0m \u001b[32m134.8/134.8 kB\u001b[0m \u001b[31m8.9 MB/s\u001b[0m eta \u001b[36m0:00:00\u001b[0m\n",
            "\u001b[2K     \u001b[90m━━━━━━━━━━━━━━━━━━━━━━━━━━━━━━━━━━━━━━━━\u001b[0m \u001b[32m1.3/1.3 MB\u001b[0m \u001b[31m9.9 MB/s\u001b[0m eta \u001b[36m0:00:00\u001b[0m\n",
            "\u001b[2K     \u001b[90m━━━━━━━━━━━━━━━━━━━━━━━━━━━━━━━━━━━━━━━━\u001b[0m \u001b[32m92.6/92.6 MB\u001b[0m \u001b[31m2.0 MB/s\u001b[0m eta \u001b[36m0:00:00\u001b[0m\n",
            "\u001b[?25h"
          ]
        }
      ],
      "source": [
        "!pip -q install transformers\n",
        "!pip -q install accelerate\n",
        "!pip -q install torch\n",
        "!pip -q install datasets\n",
        "!pip -q install sentencepiece\n",
        "!pip -q install bitsandbytes # for load 8 bit version"
      ]
    },
    {
      "cell_type": "markdown",
      "metadata": {
        "id": "4MXGHyBiRWx2"
      },
      "source": [
        "## Import Libraries"
      ]
    },
    {
      "cell_type": "code",
      "execution_count": null,
      "metadata": {
        "id": "42_2b5NyiGoo"
      },
      "outputs": [],
      "source": [
        "import os\n",
        "import sys\n",
        "from transformers import GenerationConfig, LlamaForCausalLM, LlamaTokenizer, AutoTokenizer\n",
        "import gc\n",
        "import traceback\n",
        "from queue import Queue\n",
        "from threading import Thread\n",
        "import torch\n",
        "import transformers\n",
        "import sentencepiece\n",
        "import datasets\n",
        "from transformers import AutoTokenizer, AutoConfig"
      ]
    },
    {
      "cell_type": "markdown",
      "metadata": {
        "id": "GyZxsHlQSIeO"
      },
      "source": [
        "## Inference model"
      ]
    },
    {
      "cell_type": "markdown",
      "metadata": {
        "id": "YI3j42FKGdWy"
      },
      "source": [
        "Download Tokenizer to use in the specific model"
      ]
    },
    {
      "cell_type": "code",
      "execution_count": null,
      "metadata": {
        "colab": {
          "base_uri": "https://localhost:8080/",
          "height": 163,
          "referenced_widgets": [
            "6e06d95294ad4aea849679011be046a7",
            "4394a96ba52a4a3489d3b8c63405899a",
            "30a621664c33430b91b85cc37cb64939",
            "3e837845036a40d9be17da49161be31e",
            "50d04501b15549b8b4c31b508769d6b3",
            "b98dd90c17624aedb2e4012e124bb472",
            "79df40040a9b437db692134880fe874c",
            "10b4e25a2d6a4e9294a7adf03aaa44c1",
            "2cc5fa92fee24441b52149770f74738b",
            "b5a1c8ff9b2544368b3d13a94a8f409e",
            "89c5e55a95e146b482f64c5a3113e2cb",
            "d57ea744c67c495caa1675380ad4886e",
            "055510906d54476fb8f59ca88397e89a",
            "72c64790a282482f862dec108b0a1145",
            "14455397e1ba47d499685a898096fc1a",
            "ee68643ba1df4a00b5d9729f801349ce",
            "10452b6b6a9d428a819c67363cec382d",
            "f453428cc9044aabb9c1528fbf04522c",
            "97f379c49a13485d97f6c2eef8be5a10",
            "8b06c35fb78848b390482930b6ab85bc",
            "774774d21a224ac7ac2ff7d462b95c55",
            "d856d0d878b945979e88d553b0cdea8d",
            "1096573190db4c9196ee0e81c2086ed5",
            "301946d8b394411d87130fffe4614c6a",
            "f0b102d17bd2452e94fa22d58b1f16c7",
            "1420088ab79c49da94b6881ac69bbc81",
            "6d6dff3b113842c2a87864a782c7c74f",
            "18818c4da01e43a49b359caae95c6f32",
            "f4cbc17ce0704208b2e8059bed6b03b8",
            "e16e6a7d623c4632ba1d10393161137e",
            "3bc0e664003f436980298d884767f6df",
            "3c69c4b5e482492aa4a39462cba714d2",
            "0eedabba1a604d0aadb5d9f618590f3c",
            "d90a761032284cb7888786266c62597f",
            "e6fdaea444e94272a363b841fb0ea168",
            "2771f722d1be4de389731435195d2b29",
            "1a45307cc01e42eba6ef9212ec658f9b",
            "cc3825b8af3c435e8a2dab66a0c28975",
            "513ed420945c4424ac52a848a0b1b528",
            "72dd03395f4b46f4957886fda983fafa",
            "99a75c474f1640fc8d68fa5d0c845bbb",
            "f9fb8c1698784f5caec4a5b0c2a93a1c",
            "96432fbd5f28409fab0c44f76ccc42ff",
            "5641666f71a44a1a9e9bc1f943a95c76"
          ]
        },
        "id": "jjqF0wT0k_CL",
        "outputId": "66456d34-e4f1-4260-d48a-bd9f0e415483"
      },
      "outputs": [
        {
          "data": {
            "application/vnd.jupyter.widget-view+json": {
              "model_id": "6e06d95294ad4aea849679011be046a7",
              "version_major": 2,
              "version_minor": 0
            },
            "text/plain": [
              "tokenizer_config.json:   0%|          | 0.00/993 [00:00<?, ?B/s]"
            ]
          },
          "metadata": {},
          "output_type": "display_data"
        },
        {
          "data": {
            "application/vnd.jupyter.widget-view+json": {
              "model_id": "d57ea744c67c495caa1675380ad4886e",
              "version_major": 2,
              "version_minor": 0
            },
            "text/plain": [
              "tokenizer.model:   0%|          | 0.00/1.03M [00:00<?, ?B/s]"
            ]
          },
          "metadata": {},
          "output_type": "display_data"
        },
        {
          "data": {
            "application/vnd.jupyter.widget-view+json": {
              "model_id": "1096573190db4c9196ee0e81c2086ed5",
              "version_major": 2,
              "version_minor": 0
            },
            "text/plain": [
              "added_tokens.json:   0%|          | 0.00/43.0 [00:00<?, ?B/s]"
            ]
          },
          "metadata": {},
          "output_type": "display_data"
        },
        {
          "data": {
            "application/vnd.jupyter.widget-view+json": {
              "model_id": "d90a761032284cb7888786266c62597f",
              "version_major": 2,
              "version_minor": 0
            },
            "text/plain": [
              "special_tokens_map.json:   0%|          | 0.00/73.0 [00:00<?, ?B/s]"
            ]
          },
          "metadata": {},
          "output_type": "display_data"
        },
        {
          "data": {
            "text/plain": [
              "1"
            ]
          },
          "execution_count": 3,
          "metadata": {},
          "output_type": "execute_result"
        }
      ],
      "source": [
        "tokenizer = AutoTokenizer.from_pretrained('new5558/tinyllama_1b-360000')\n",
        "tokenizer.add_special_tokens({'pad_token': '[PAD]'})"
      ]
    },
    {
      "cell_type": "markdown",
      "metadata": {
        "id": "sab43v8QT3iQ"
      },
      "source": [
        "Downlad pretrained model from Hugging Face and we use pipeline to be a convenient way to use the model"
      ]
    },
    {
      "cell_type": "code",
      "execution_count": null,
      "metadata": {
        "colab": {
          "base_uri": "https://localhost:8080/",
          "height": 113,
          "referenced_widgets": [
            "ac79070084ba48268b0ac62755fb93e0",
            "a78b90db286649d498cf531663fec814",
            "6dcf7e0ce46c478db344e98fe3ddfaec",
            "cece9f592ae94f598e41db1db3f821f5",
            "26d03d4e0c9643d09efa2b1cc6e237be",
            "7c93979a8edb4669be0353fd0ea38c03",
            "e1fd768f2fe2472aa841bdb9a1c27053",
            "b573769fc8904f6c84240b8653ca652f",
            "7fcfbdaf0d12427d8d53098fe871ab0b",
            "8df54b97c28e45eb907c4cfbdf63dec8",
            "0a0685f2d32e4d7bb7f4fa3e97bd6551",
            "db9f6d4f54244a138024b48d45912d80",
            "237bf4b20a5f4d62836531c61d9c778d",
            "41dad634feda4a97a52a033f62ba2aa6",
            "c4b28c2e37b249baa042fb5cf6f8b92a",
            "a110840598f840cf842ded4cbe30cce0",
            "721db1bba0804b2a937eb36a3b7c4cb1",
            "3e34791f45314cef8b3b4c6e924838bc",
            "d2fcba7c0c72427881fdc0c6c896b15c",
            "626edd474f7e4692b90d07d1683585e2",
            "ffb737647fa9437d935b9c95e49e6b2c",
            "b1258d6dc06e40c9afd910dedc4372f5",
            "a2d3463d4d124b11a817cd71680cb3b1",
            "c1615c22b8fb4999b4bc14b80967cbab",
            "c08f92463e98424eb1fff173b604ebcf",
            "2dda3c41322141dcbca0d0cb487b91fa",
            "6f4a597c88a34f79a56793ef11224713",
            "634f1219587341c1ab234d2420abd27c",
            "524321757e6745b58a8efef71217f865",
            "757652bff935468c80ea5fa7e365e2f1",
            "49409a13b06446319d467a49f1e11fa5",
            "58cb04e6e3134adda918616488e7c4fd",
            "a607b071a7dc4fd7bec2f4f749495635"
          ]
        },
        "id": "Fs9wPnrljWgS",
        "outputId": "e465ef8d-e2b7-463a-eb51-b38dce1ad826"
      },
      "outputs": [
        {
          "data": {
            "application/vnd.jupyter.widget-view+json": {
              "model_id": "ac79070084ba48268b0ac62755fb93e0",
              "version_major": 2,
              "version_minor": 0
            },
            "text/plain": [
              "config.json:   0%|          | 0.00/607 [00:00<?, ?B/s]"
            ]
          },
          "metadata": {},
          "output_type": "display_data"
        },
        {
          "data": {
            "application/vnd.jupyter.widget-view+json": {
              "model_id": "db9f6d4f54244a138024b48d45912d80",
              "version_major": 2,
              "version_minor": 0
            },
            "text/plain": [
              "pytorch_model.bin:   0%|          | 0.00/4.40G [00:00<?, ?B/s]"
            ]
          },
          "metadata": {},
          "output_type": "display_data"
        },
        {
          "data": {
            "application/vnd.jupyter.widget-view+json": {
              "model_id": "a2d3463d4d124b11a817cd71680cb3b1",
              "version_major": 2,
              "version_minor": 0
            },
            "text/plain": [
              "generation_config.json:   0%|          | 0.00/111 [00:00<?, ?B/s]"
            ]
          },
          "metadata": {},
          "output_type": "display_data"
        }
      ],
      "source": [
        "from transformers import pipeline\n",
        "\n",
        "pipe = pipeline('text-generation', model='new5558/tinyllama_1b-360000',\n",
        "                device=0, max_length=2048, repetition_penalty= 1.2, eos_token_id=tokenizer.bos_token, temperature = 0)"
      ]
    },
    {
      "cell_type": "markdown",
      "metadata": {
        "id": "r72ltaHUSOde"
      },
      "source": [
        "## Q&A Examples"
      ]
    },
    {
      "cell_type": "markdown",
      "metadata": {
        "id": "Gd2W2IuDSYoX"
      },
      "source": [
        "**1. Open book Q&A**\n",
        "\n",
        "**2. Close book Q&A**\n",
        "\n",
        "**3. Few shot classification**\n",
        "\n",
        "**4. General Conversation**"
      ]
    },
    {
      "cell_type": "markdown",
      "metadata": {
        "id": "ooscbsGLXaqc"
      },
      "source": [
        "### 1. Open Book Q&A"
      ]
    },
    {
      "cell_type": "markdown",
      "metadata": {
        "id": "RpFNEZI_Hl7O"
      },
      "source": [
        "This section will provide a sample question for Open Question Tasks in accrodance with Pretraining Aspects."
      ]
    },
    {
      "cell_type": "markdown",
      "metadata": {
        "id": "Eq9LWrhkl3Us"
      },
      "source": [
        "```temperature``` is a parameter that controls the randomness of the LLM's output"
      ]
    },
    {
      "cell_type": "markdown",
      "metadata": {
        "id": "rxaPe_hUl8Qi"
      },
      "source": [
        "```repetition_penalty``` work by reducing the likelihood of selecting the same word or phrase"
      ]
    },
    {
      "cell_type": "markdown",
      "metadata": {
        "id": "dW9AiHGjr2z0"
      },
      "source": [
        "```eos_token_id``` is often used to denote the end of a generated sequence when decoding text"
      ]
    },
    {
      "cell_type": "code",
      "execution_count": null,
      "metadata": {
        "colab": {
          "background_save": true
        },
        "id": "HMniczEg9_8l",
        "outputId": "8326d8b4-8683-4e66-ef0b-b54e612e0c9a"
      },
      "outputs": [
        {
          "name": "stderr",
          "output_type": "stream",
          "text": [
            "/usr/local/lib/python3.10/dist-packages/transformers/generation/configuration_utils.py:381: UserWarning: `do_sample` is set to `False`. However, `temperature` is set to `0` -- this flag is only used in sample-based generation modes. You should set `do_sample=True` or unset `temperature`.\n",
            "  warnings.warn(\n",
            "Setting `pad_token_id` to `eos_token_id`:1 for open-end generation.\n"
          ]
        },
        {
          "name": "stdout",
          "output_type": "stream",
          "text": [
            "คำถาม: OpenThaiGPT คืออะไร คำตอบ: OpenThaiGPT คือ แพลตฟอร์มที่พัฒนาขึ้นสําหรับผู้ใช้งานอินเทอร์เน็ตในประเทศไทย ซึ่งประกอบด้วยภาษาไทย อังกฤษ ญี่ปุ่น และจีน โดยมีวัตถุประสงค์เพื่อเผยแพร่ข้อมูล ความรู้ งานวิจัย และเทคโนโลยี ว่าด้วยเรื่องเทคโนโลยี สารสนเทศ เครือข่ายสังคมออนไลน์ และข้อมูล อื่นๆ ที่เกี่ยวข้องกับเทคโนโลยี สารสนเทศ คถาม: OpenThaiGPT คืออะไร คตอบ: OpenThaiGPT คือ แพลตฟอร์มที่พัฒนาขึ้นสําหรับผู้ใช้งานอินเทอร์เน็ตในประเทศไทย ซึ่งประกอบด้วยภาษาไทย อังกฤษ ญี่ปุ่น และจีน โดยมีวัตถุประสงค์เพื่อเผยแพร่ข้อมูล ความรู้ งานวิจัย และเทคโนโลยี ว่าด้วยเรื่องเทคโนโลยี สารสนเทศ เครือข่ายสังคมออนไลน์ และข้อมูล อื่นๆ ที่เกี่ยวข้องกับเทคโนโลยี สารสนเทศ คถาม: OpenThaiGPT คืออะไร คตอบ: OpenThaiGPT คือ แพลตฟอร์มที่พัฒนาขึ้นสําหรับผู้ใช้งานอินเทอร์เน็ตในประเทศไทย ซึ่งประกอบด้วยภาษาไทย อังกฤษ ญี่ปุ่น และจีน โดยมีวัตถุประสงค์เพื่อเผยแพร่ข้อมูล ความรู้ งานวิจัย และเทคโนโลยี ว่าด้วยเรื่องเทคโนโลยี สารสนเทศ เครือข่ายสังคมออนไลน์ และข้อมูล อื่นๆ ที่เกี่ยวข้องกับเทคโนโลยี สารสนเทศ คถาม: OpenThaiGPT คืออะไร คตอบ: OpenThaiGPT คือ แพลตฟอร์มที่พัฒนาขึ้นสําหรับผู้ใช้งานอินเทอร์เน็ตในประเทศไทย ซึ่งประกอบด้วยภาษาไทย อังกฤษ ญี่ปุ่น และจีน โดยมีวัตถุประสงค์เพื่อเผยแพร่ข้อมูล ความรู้ งานวิจัย และเทคโนโลยี ว่าด้วยเรื่องเทคโนโลยี สารสนเทศ เครือข่ายสังคมออนไลน์ และข้อมูล อื่นๆ ที่เกี่ยวข้องกับเทคโนโลยี สารสนเทศ คถาม: OpenThaiGPT คืออะไร คตอบ: OpenThaiGPT คือ แพลตฟอร์มที่พัฒนาขึ้นสําหรับผู้ใช้งานอินเทอร์เน็ตในประเทศไทย ซึ่งประกอบด้วยภาษาไทย อังกฤษ ญี่ปุ่น และจีน โดยมีวัตถุประสงค์เพื่อเผยแพร่ข้อมูล ความรู้ งานวิจัย และเทคโนโลยี ว่าด้วยเรื่องเทคโนโลยี สารสนเทศ เครือข่ายสังคมออนไลน์ และข้อมูล อื่นๆ ที่เกี่ยวข้องกับเทคโนโลยี สารสนเทศ คถาม: OpenThaiGPT คืออะไร คตอบ: OpenThaiGPT คือ แพลตฟอร์มที่พัฒนาขึ้นสําหรับผู้ใช้งานอินเทอร์เน็ตในประเทศไทย ซึ่งประกอบด้วยภาษาไทย อังกฤษ ญี่ปุ่น และจีน โดยมีวัตถุประสงค์เพื่อเผยแพร่ข้อมูล ความรู้ งานวิจัย และเทคโนโลยี ว่าด้วยเรื่องเทคโนโลยี สารสนเทศ เครือข่ายสังคมออนไลน์ และข้อมูล อื่นๆ ที่เกี่ยวข้องกับเทคโนโลยี สารสนเทศ คถาม: OpenThaiGPT คืออะไร คตอบ: OpenThaiGPT คือ แพลตฟอร์มที่พัฒนาขึ้นสําหรับผู้ใช้งานอินเทอร์เน็ตในประเทศไทย ซึ่งประกอบด้วยภาษาไทย อังกฤษ ญี่ปุ่น และจีน โดยมีวัตถุประสงค์เพื่อเผยแพร่ข้อมูล ความรู้ งานวิจัย และเทคโนโลยี ว่าด้วยเรื่องเทคโนโลยี สารสนเทศ เครือข่ายสังคมออนไลน์ และข้อมูล อื่นๆ ที่เกี่ยวข้องกับเทคโนโลยี สารสนเทศ คถาม: OpenThaiGPT คืออะไร คตอบ: OpenThaiGPT คือ แพลตฟอร์มที่พัฒนาขึ้นสําหรับผู้ใช้งานอินเทอร์เน็ตในประเทศไทย ซึ่งประกอบด้วยภาษาไทย อังกฤษ ญี่ปุ่น และจีน โดยมีวัตถุประสงค์เพื่อเผยแพร่ข้อมูล ความรู้ งานวิจัย และเทคโนโลยี ว่าด้วยเรื่องเทคโนโลยี สารสนเทศ เครือข่ายสังคมออนไลน์ และข้อมูล อื่นๆ ที่เกี่ยวข้องกับเทคโนโลยี สารสนเทศ คถาม: OpenThaiGPT คืออะไร คตอบ: OpenThaiGPT คือ แพลตฟอร์มที่พัฒนาขึ้นสําหรับผู้ใช้งานอินเทอร์เน็ตในประเทศไทย ซึ่งประกอบด้วยภาษาไทย อังกฤษ ญี่ปุ่น และจีน โดยมีวัตถุประสงค์เพื่อเผยแพร่ข้อมูล ความรู้ งานวิจัย และเทคโนโลยี ว่าด้วยเรื่องเทคโนโลยี สารสนเทศ เครือข่ายสังคมออนไลน์ และข้อมูล อื่นๆ ที่เกี่ยวข้องกับเทคโนโลยี สารสนเทศ คถาม: OpenThaiGPT คืออะไร คตอบ: OpenThaiGPT คือ แพลตฟอร์มที่พัฒนาขึ้นสําหรับผู้ใช้งานอินเทอร์เน็ตในประเทศไทย ซึ่งประกอบด้วยภาษาไทย อังกฤษ ญี่ปุ่น และจีน โดยมีวัตถุประสงค์เพื่อเผยแพร่ข้อมูล ความรู้ งานวิจัย และเทคโนโลยี ว่าด้วยเรื่องเทคโนโลยี สารสนเทศ เครือข่ายสังคมออนไลน์ และข้อมูล อื่นๆ ที่เกี่ยวข้องกับเทคโนโลยี สารสนเทศ คถาม: OpenThaiGPT คืออะไร คตอบ: OpenThaiGPT คือ แพลตฟอร์มที่พัฒนาขึ้นสําหรับผู้ใช้งานอินเทอร์เน็ตในประเทศไทย ซึ่งประกอบด้วยภาษาไทย อังกฤษ ญี่ปุ่น และจีน โดยมีวัตถุประสงค์เพื่อเผยแพร่ข้อมูล ความรู้ งานวิจัย และเทคโนโลยี ว่าด้วยเรื่องเทคโนโลยี สารสนเทศ เครือข่ายสังคมออนไลน์ และข้อมูล อื่นๆ ที่เกี่ยวข้องกับเทคโนโลยี สารสนเทศ คถาม: OpenThaiGPT คืออะไร คตอบ: OpenThaiGPT คือ แพลตฟอร์มที่พัฒนาขึ้นสําหรับผู้ใช้งานอินเทอร์เน็ตในประเทศไทย ซึ่งประกอบด้วยภาษาไทย อังกฤษ ญี่ปุ่น และจีน โดยมีวัตถุประสงค์เพื่อเผยแพร่ข้อมูล ความรู้ งานวิจัย และเทคโนโลยี ว่าด้วยเรื่องเทคโนโลยี สารสนเทศ เครือข่ายสังคมออนไลน์ และข้อมูล อื่นๆ ที่เกี่ยวข้องกับเทคโนโลยี สารสนเทศ คถาม: OpenThaiGPT คืออะไร คตอบ: OpenThaiGPT คือ แพลตฟอร์มที่พัฒนาขึ้นสําหรับผู้ใช้งานอินเทอร์เน็ตในประเทศไทย ซึ่งประกอบด้วยภาษาไทย อังกฤษ ญี่ปุ่น และจีน โดยมีวัตถุประสงค์เพื่อเผยแพร่ข้อมูล ความรู้ งานวิจัย และเทคโนโลยี ว่าด้วยเรื่องเทคโนโลยี สารสนเทศ เครือข่ายสังคมออนไลน์ และข้อมูล อื่นๆ ที่เกี่ยวข้องกับเทคโนโลยี สารสนเทศ คถาม: OpenThaiGPT คืออะไร คตอบ: OpenThaiGPT คือ แพลตฟอร์มที่พัฒนาขึ้นสําหรับผู้ใช้งานอินเทอร์เน็ตในประเทศไทย ซึ่งประกอบด้วยภาษาไทย อังกฤษ ญี่ปุ่น และจีน โดยมีวัตถุประสงค์เพื่อเผยแพร่ข้อมูล ความรู้ งานวิจัย และเทคโนโลยี ว่าด้วยเรื่องเทคโนโลยี สารสนเทศ เครือข่ายสังคมออนไลน์ และข้อมูล อื่นๆ ที่เกี่ยวข้องกับเทคโนโลยี สารสนเทศ คถาม: OpenThaiGPT คืออะไร คตอบ: OpenThaiGPT คือ แพลตฟอร์มที่พัฒนาขึ้นสําหรับผู้ใช้งานอินเทอร์เน็ตในประเทศไทย ซึ่งประกอบด้วยภาษาไทย อังกฤษ ญี่ปุ่น และจีน โดยมีวัตถุประสงค์เพื่อเผยแพร่ข้อมูล ความรู้ งานวิจัย และเทคโนโลยี ว่าด้วยเรื่องเทคโนโลยี สารสนเทศ เครือข่ายสังคมออนไลน์ และข้อมูล อื่นๆ ที่เกี่ยวข้องกับเทคโนโลยี สารสนเทศ คถาม: OpenThaiGPT คืออะไร คตอบ: OpenThaiGPT คือ แพลตฟอร์มที่พัฒนาขึ้นสําหรับผู้ใช้งานอินเทอร์เน็ตในประเทศไทย ซึ่งประกอบด้วยภาษาไทย อังกฤษ ญี่ปุ่น และจีน โดยมีวัตถุประสงค์เพื่อเผยแพร่ข้อมูล ความรู้ งานวิจัย และเทคโนโลยี ว่าด้วยเรื่องเทคโนโลยี สารสนเทศ เครือข่ายสังคมออนไลน์ และข้อมูล อื่นๆ ที่เกี่ยวข้องกับเทคโนโลยี สารสนเทศ คถาม: OpenThaiGPT คืออะไร คตอบ: OpenThaiGPT คือ แพลตฟอร์มที่พัฒนาขึ้นสําหรับผู้ใช้งานอินเทอร์เน็ตในประเทศไทย ซึ่งประกอบด้วยภาษาไทย อังกฤษ ญี่ปุ่น และจีน โดยมีวัตถุประสงค์เพื่อเผยแพร่ข้อมูล ความรู้ งานวิจัย และเทคโนโลยี ว่าด้วยเรื่องเทคโนโลยี สารสนเทศ เครือข่ายสังคมออนไลน์ และข้อมูล อื่นๆ ที่เกี่ยวข้องกับเทคโนโลยี สารสนเทศ คถาม: OpenThaiGPT คืออะไร คตอบ: OpenThaiGPT คือ แพลตฟอร์มที่พัฒนาขึ้นสําหรับผู้ใช้งานอินเทอร์เน็ตในประเทศไทย ซึ่งประกอบด้วยภาษาไทย อังกฤษ ญี่ปุ่น และจีน โดยมีวัตถุประสงค์เพื่อเผยแพร่ข้อมูล ความรู้ งานวิจัย และเทคโนโลยี ว่าด้วยเรื่องเทคโนโลยี สารสนเทศ เครือข่ายสังคมออนไลน์ และข้อมูล อื่นๆ ที่เกี่ยวข้องกับเทคโนโลยี สารสนเทศ คถาม: OpenThaiGPT คืออะไร คตอบ: OpenThaiGPT คือ แพลตฟอร์มที่พัฒนาขึ้นสําหรับผู้ใช้งานอินเทอร์เน็ตในประเทศไทย ซึ่งประกอบด้วยภาษาไทย อังกฤษ ญี่ปุ่น และจีน โดยมีวัตถุประสงค์เพื่อเผยแพร่ข้อมูล ความรู้ งานวิจัย และเทคโนโลยี ว่าด้วยเรื่องเทคโนโลยี สารสนเทศ เครือข่ายสังคมออนไลน์ และข้อมูล อื่นๆ ที่เกี่ยวข้องกับเทคโนโลยี สารสนเทศ คถาม: OpenThaiGPT คืออะไร คตอบ: OpenThaiGPT คือ แพลตฟอร์มที่พัฒนาขึ้นสําหรับผู้ใช้งานอินเทอร์เน็ตในประเทศไทย ซึ่งประกอบด้วยภาษาไทย อังกฤษ ญี่ปุ่น และจีน โดยมีวัตถุประสงค์เพื่อเผยแพร่ข้อมูล ความรู้ งานวิจัย และเทคโนโลยี ว่าด้วยเรื่องเทคโนโลยี สารสนเทศ เครือข่ายสังคมออนไลน์ และข้อมูล อื่นๆ ที่เกี่ยวข้องกับเทคโนโลยี สารสนเทศ คถาม: OpenThaiGPT คืออะไร คตอบ: OpenThaiGPT คือ แพลตฟอร์มที่พัฒนาขึ้นสําหรับผู้ใช้งานอินเทอร์เน็ตในประเทศไทย ซึ่งประกอบด้วยภาษาไทย อังกฤษ ญี่ปุ่น และจีน โดยมีวัตถุประสงค์เพื่อเผยแพร่ข้อมูล ความรู้ งานวิจัย และเทคโนโลยี ว่าด้วยเรื่องเทคโนโลยี สารสนเทศ เครือข่ายสังคมออนไลน์ และข้อมูล อื่นๆ ที่เกี่ยวข้องกับเทคโนโลยี สารสนเทศ คถาม: OpenThaiGPT คืออะไร คตอบ: OpenThaiGPT คือ แพลตฟอร์มที่พัฒนาขึ้นสําหรับผู้ใช้งานอินเทอร์เน็ตในประเทศไทย ซึ่งประกอบด้วยภาษาไทย อังกฤษ ญี่ปุ่น และจีน โดยมีวัตถุประสงค์เพื่อเผยแพร่ข้อมูล ความรู้ งานวิจัย และเทคโนโลยี ว่าด้วยเรื่องเทคโนโลยี สารสนเทศ เครือข่ายสังคมออนไลน์ และข้อมูล อื่นๆ ที่เกี่ยวข้องกับเทคโนโลยี สารสนเทศ คถาม: OpenThaiGPT คืออะไร คตอบ: OpenThaiGPT คือ แพลตฟอร์มที่พัฒนาขึ้นสําหรับผู้ใช้งานอินเทอร์เน็ตในประเทศไทย ซึ่งประกอบด้วยภาษาไทย อังกฤษ ญี่ปุ่น และจีน โดยมีวัตถุประสงค์เพื่อเผยแพร่ข้อมูล ความรู้ งานวิจัย และเทคโนโลยี ว่าด้วยเรื่องเทคโนโลยี สารสนเทศ เครือข่ายสังคมออนไลน์ และข้อมูล อื่นๆ ที่เกี่ยวข้องกับเทคโนโลยี สารสนเทศ คถาม: OpenThaiGPT คืออะไร คตอบ: OpenThaiGPT คือ แพลตฟอร์มที่พัฒนาขึ้นสําหรับผู้ใช้งานอินเทอร์เน็ตในประเทศไทย ซึ่งประกอบด้วยภาษาไทย อังกฤษ ญี่ปุ่น และจีน โดยมีวัตถุประสงค์เพื่อเผยแพร่ข้อมูล ความรู้ งานวิจัย และเทคโนโลยี ว่าด้วยเรื่องเทคโนโลยี สารสนเทศ เครือข่ายสังคมออนไลน์ และข้อมูล อื่นๆ ที่เกี่ยวข้องกับเทคโนโลยี สารสนเทศ คถาม: OpenThaiGPT คืออะไร คตอบ: OpenThaiGPT คือ แพลตฟอร์มที่พัฒนาขึ้นสําหรับผู้ใช้งานอินเทอร์เน็ตในประเทศไทย ซึ่งประกอบด้วยภาษาไทย อังกฤษ ญี่ปุ่น และจีน โดยมีวัตถุประสงค์เพื่อเผยแพร่ข้อมูล ความรู้ งานวิจัย และเทคโนโลยี ว่าด้วยเรื่องเทคโนโลยี สารสนเทศ เครือข่ายสังคมออนไลน์ และข้อมูล อื่นๆ ที่เกี่ยวข้องกับเทคโนโลยี สารสนเทศ คถาม: OpenThaiGPT คืออะไร คตอบ: OpenThaiGPT คือ แพลตฟอร์มที่พัฒนาขึ้นสําหรับผู้ใช้งานอินเทอร์เน็ตในประเทศไทย ซึ่งประกอบด้วยภาษาไทย อังกฤษ ญี่ปุ่น และจีน โดยมีวัตถุประสงค์เพื่อเผยแพร่ข้อมูล ความรู้ งานวิจัย และเทคโนโลยี ว่าด้วยเรื่องเทคโนโลยี สารสนเทศ เครือข่ายสังคมออนไลน์ และข้อมูล อื่นๆ ที่เกี่ยวข้องกับเทคโนโลยี สารสนเทศ คถาม: OpenThaiGPT คืออะไร คตอบ: OpenThaiGPT คือ แพลตฟอร์มที่พัฒนาขึ้นสําหรับผู้ใช้งานอินเทอร์เน็ตในประเทศไทย ซึ่งประกอบด้วยภาษาไทย อังกฤษ ญี่ปุ่น และจีน โดยมีวัตถุประสงค์เพื่อเผยแพร่ข้อมูล ความรู้ งานวิจัย และเทคโนโลยี ว่าด้วยเรื่องเทคโนโลยี สารสนเทศ เครือข่ายสังคมออนไลน์ และข้อมูล อื่นๆ ที่เกี่ยวข้องกับเทคโนโลยี สารสนเทศ คถาม: OpenThaiGPT คืออะไร คตอบ: OpenThaiGPT คือ แพลตฟอร์มที่พัฒนาขึ้นสําหรับผู้ใช้งานอินเทอร์เน็ตในประเทศไทย ซึ่งประกอบด้วยภาษาไทย อังกฤษ ญี่ปุ่น และจีน โดยมีวัตถุประสงค์เพื่อเผยแพร่ข้อมูล ความรู้ งานวิจัย และเทคโนโลยี ว่าด้วยเรื่องเทคโนโลยี สารสนเทศ เครือข่ายสังคมออนไลน์ และข้อมูล อื่นๆ ที่เกี่ยวข้องกับเทคโนโลยี สารสนเทศ คถาม: OpenThaiGPT คืออะไร คตอบ: OpenThaiGPT คือ แพลตฟอร์มที่พัฒนาขึ้นสําหรับผู้ใช้งานอินเทอร์เน็ตในประเทศไทย ซึ่งประกอบด้วยภาษาไทย อังกฤษ ญี่ปุ่น และจีน โดยมีวัตถุประสงค์เพื่อเผยแพร่ข้อมูล ความรู้ งานวิจัย และเทคโนโลยี ว่าด้วยเรื่องเทคโนโลยี สารสนเทศ เครือข่ายสังคมออนไลน์ และข้อมูล อื่นๆ ที่เกี่ยวข้องกับเทคโนโลยี สารสนเทศ คถาม: OpenThaiGPT คืออะไร คตอบ: OpenThaiGPT คือ แพลตฟอร์มที่พัฒนาขึ้นสําหรับผู้ใช้งานอินเทอร์เน็ตในประเทศไทย ซึ่งประกอบด้วยภาษาไทย อังกฤษ ญี่ปุ่น และจีน โดยมีวัตถุประสงค์เพื่อเผยแพร่ข้อมูล ความรู้ งานวิจัย และเทคโนโลยี ว่าด้วยเรื่องเทคโนโลยี สารสนเทศ เครือข่ายสังคมออนไลน์ และข้อมูล อื่นๆ ที่เกี่ยวข้องกับเทคโนโลยี สารสนเทศ คถาม: OpenThaiGPT คืออะไร คตอบ: OpenThaiGPT คือ แพลตฟอร์มที่พัฒนาขึ้นสําหรับผู้ใช้งานอินเทอร์เน็ตในประเทศไทย ซึ่งประกอบด้วยภาษาไทย อังกฤษ ญี่ปุ่น และจีน โดยมีวัตถุประสงค์เพื่อเผยแพร่ข้อมูล ความรู้ งานวิจัย และเทคโนโลยี ว่าด้วยเรื่องเทคโนโลยี สารสนเทศ เครือข่ายสังคมออนไลน์ และข้อมูล อื่นๆ ที่เกี่ยวข้องกับเทคโนโลยี สารสนเทศ คถาม: OpenThaiGPT คืออะไร คตอบ: OpenThaiGPT คือ แพลตฟอร์มที่พัฒนาขึ้นสําหรับผู้ใช้งานอินเทอร์เน็ตในประเทศไทย ซึ่งประกอบด้วยภาษาไทย อังกฤษ ญี่ปุ่น และจีน โดยมีวัตถุประสงค์เพื่อเผยแพร่ข้อมูล ความรู้ งานวิจัย และเทคโนโลยี ว่าด้วยเรื่องเทคโนโลยี สารสนเทศ เครือข่ายสังคมออนไลน์ และข้อมูล อื่นๆ ที่เกี่ยวข้องกับเทคโนโลยี สารสนเทศ\n"
          ]
        }
      ],
      "source": [
        "print(pipe(\n",
        "    \"\"\"คำถาม: OpenThaiGPT คืออะไร คำตอบ:\"\"\",\n",
        "      temperature = 0,\n",
        "      repetition_penalty = 1,\n",
        "      # pad_token_id = 1,\n",
        "      eos_token_id = 1\n",
        ")[0]['generated_text'])"
      ]
    },
    {
      "cell_type": "code",
      "execution_count": null,
      "metadata": {
        "colab": {
          "base_uri": "https://localhost:8080/"
        },
        "id": "vlzWtd1xkAMK",
        "outputId": "34ef0a20-6307-4599-dfc8-ccba5aa0643f"
      },
      "outputs": [
        {
          "name": "stderr",
          "output_type": "stream",
          "text": [
            "/usr/local/lib/python3.10/dist-packages/transformers/generation/configuration_utils.py:381: UserWarning: `do_sample` is set to `False`. However, `temperature` is set to `0` -- this flag is only used in sample-based generation modes. You should set `do_sample=True` or unset `temperature`.\n",
            "  warnings.warn(\n"
          ]
        },
        {
          "name": "stdout",
          "output_type": "stream",
          "text": [
            "คำถาม: นายกรัฐมนตรีคนที่ 28 ของประเทศไทย มีชื่อว่าอะไร คำตอบ: <person> (ชื่อเล่น: ตู่) เกิดเมื่อ ที่กรุงเทพมหานคร เป็นบุตรชายคนโตของ<person> อดีตรัฐมนตรีว่าการกระทรวงการคลัง และอดีตอธิการบดีมหาวิทยาลัยธรรมศาสตร์ กับ<person> มีพี่ชาย 1 คน คือ <person>\n"
          ]
        }
      ],
      "source": [
        "print(pipe(\n",
        "    \"\"\"คำถาม: นายกรัฐมนตรีคนที่ 28 ของประเทศไทย มีชื่อว่าอะไร คำตอบ:\"\"\",\n",
        "        temperature = 0,\n",
        "        repetition_penalty = 1.2,\n",
        "        pad_token_id = 1,\n",
        "        eos_token_id = 1\n",
        ")[0]['generated_text'])"
      ]
    },
    {
      "cell_type": "code",
      "execution_count": null,
      "metadata": {
        "colab": {
          "base_uri": "https://localhost:8080/"
        },
        "id": "y25tgRZzo1Q5",
        "outputId": "af695957-bd29-4328-cc84-f925e86d10d2"
      },
      "outputs": [
        {
          "name": "stderr",
          "output_type": "stream",
          "text": [
            "Setting `pad_token_id` to `eos_token_id`:1 for open-end generation.\n"
          ]
        },
        {
          "name": "stdout",
          "output_type": "stream",
          "text": [
            "คำถาม: สุนทรภู่ คือใคร คำตอบ: <person> เป็นกวีเอกในสมัยรัชกาลที่ ๔ แห่งกรุงรัตนโกสินทร์ และได้รับการยกย่องเป็น “พระบิดาแห่งวรรณคดีไทย” ความคิดเห็นที่ 1 สุนทรภู่ เกิด พ.ศ ๒๓๖๕ (ปีมะโรง) ที่ตําบลบ้านกร่ํา อําเภอแกลง จังหวัดระยอง เริ่มเรียนหนังสือกับ<person> ซึ่งเป็นพระอาจารย์ของท่าน เมื่ออายุได้ ๑๔ ปี ได้บวชเณรและศึกษาพระธรรมวินัยที่วัดระฆังโฆสิตาราม กรุงเทพฯ ต่อมาเมื่ออายุครบอุปสมบทจึงได้มาอยู่วัดเทพธิดาราม และได้บรรพชาเป็นสามเณรอีกครั้งเมื่อปีพ.ศ.๒๔๗๑ โดยมีท่านเจ้าคุณอุบาลีฯ วัดบรมนิวาส กรุงเทพฯเป็นพระอุปัชฌาย์ ท่านเล่าเรียนวิชาอาคมจากอาจารย์หลายท่าน เช่น <person> วัดบางนมโค จ.พระนครศรีอยุธยา อาจารย์เปลี่ยน วัดสระปทุม(กรุงเทพฯ) เป็นต้น หลังจากบวชแล้วท่านได้ไปจําพรรษาอยู่ที่วัดมหาธาตุยุวราชรังสฤษฎิ์เป็นเวลาถึง ๓ พรรษา แล้วจึงกลับมาอยู่วัดบวรนิเวศวิหารตามเดิม ระหว่างที่จําพรรษาอยู่ที่นี่ก็ได้ศึกษาวิชาความรู้ต่างๆ จากพระอาจารย์ทั้งฝ่ายปริยัติและปฏิบัติควบคู่กันไปด้วย จนสามารถสอบไล่ได้เป็นเปรียญธรรม ๙ ประโยคในปี พ.ศ.๒๔๘๐ ซึ่งนับเป็นพระภิกษุรูปแรกในรัชกาลพระบาทสมเด็จพระจุลจอมเกล้าเจ้าอยู่หัว นอกจากนี้ท่านยังเป็นผู้หนึ่งที่มีบทบาทสําคัญในการเผยแพร่พระพุทธศาสนาด้วย โดยได้เขียนเรื่องพุทธประวัติเป็นภาษาอังกฤษถวายแด่สมเด็จพระญาณสังวร <person> เมื่อปี พ.ศ.๒๕๒๐ นอกจากนั้นท่านยังได้แปลงานประพันธ์ภาษาอังกฤษของต่างประเทศอีกหลายชิ้น รวมทั้งผลงานที่เป็นตําราวิชาการด้านพุทธศาสนาหลายเล่ม อาทิ The Middle Way, Buddhadasa in the Early Life of Charles Darwin, Buddhist Enlightenment and Rebirth to Awakening, etc. ผลงานเหล่านี้ล้วนได้รับการยอมรับว่าเป็นงานชั้นครูทั้งสิ้น ในปี พ.ศ.๒๕๐๙ ท่านได้รับพระราชทานสมณศักดิ์เป็นที่ “<person>” ตําแหน่งเจ้าคณะรองคณะกลาง ฝ่ายวิปัสสนาธุระ ในราชทินนามที่ “<person>” นับเป็นเกียรติอันสูงส่งที่ท่านได้รับสืบทอดมาจากบรรพบุรุษผู้ล่วงลับไปแล้ว\n"
          ]
        }
      ],
      "source": [
        "print(pipe(\"\"\"คำถาม: สุนทรภู่ คือใคร คำตอบ:\"\"\",\n",
        "           temperature = 0,\n",
        "           repetition_penalty = 1.2,\n",
        "           eos_token_id = 1)[0]['generated_text'])"
      ]
    },
    {
      "cell_type": "code",
      "execution_count": null,
      "metadata": {
        "colab": {
          "base_uri": "https://localhost:8080/"
        },
        "id": "DtBU6u7MlE7g",
        "outputId": "6f4735d6-0262-4c40-ca8f-f6ddfeddd970"
      },
      "outputs": [
        {
          "name": "stderr",
          "output_type": "stream",
          "text": [
            "/usr/local/lib/python3.10/dist-packages/transformers/generation/configuration_utils.py:381: UserWarning: `do_sample` is set to `False`. However, `temperature` is set to `0` -- this flag is only used in sample-based generation modes. You should set `do_sample=True` or unset `temperature`.\n",
            "  warnings.warn(\n",
            "Setting `pad_token_id` to `eos_token_id`:1 for open-end generation.\n"
          ]
        },
        {
          "name": "stdout",
          "output_type": "stream",
          "text": [
            "คำถาม: บริษัท PTT ทำธุรกิจเกี่ยวกับอะไร คืออะไร คำตอบ: ธุรกิจพลังงานและสาธารณูปโภค (Energy and Utilities) และธุรกิจปิโตรเคมีและการกลั่น (Petrochemical & Refining) ซึ่งบริษัทมีการลงทุนในโรงกลั่นน้ํามันหลายแห่งทั่วโลก โดยเป็นบริษัทในเครือ ปตท. ที่ดําเนินธุรกิจด้านปิโตรเลียมและปิโตรเคมีครบวงจรที่ใหญ่ที่สุดในประเทศไทย นอกจากนี้ ยังมีธุรกิจอื่นๆ เช่น การค้าปลีกก๊าซธรรมชาติสําหรับยานยนต์, ธุรกิจสํารวจและผลิตน้ํามันดิบ, ธุรกิจการค้าระหว่างประเทศ เป็นต้น ความคิดเห็นที่ 1 กําไรจากการขายน้ํามันให้ต่างชาติครับ\n"
          ]
        }
      ],
      "source": [
        "print(pipe(\"\"\"คำถาม: บริษัท PTT ทำธุรกิจเกี่ยวกับอะไร คืออะไร คำตอบ:\"\"\",\n",
        "           temperature = 0,\n",
        "           repetition_penalty = 1.2,\n",
        "           eos_token_id = 1)[0]['generated_text'])"
      ]
    },
    {
      "cell_type": "code",
      "execution_count": null,
      "metadata": {
        "colab": {
          "base_uri": "https://localhost:8080/"
        },
        "id": "m4oEAwScaCVm",
        "outputId": "ea612065-6e37-41ec-9a67-00250f3c7230"
      },
      "outputs": [
        {
          "name": "stderr",
          "output_type": "stream",
          "text": [
            "/usr/local/lib/python3.10/dist-packages/transformers/pipelines/base.py:1101: UserWarning: You seem to be using the pipelines sequentially on GPU. In order to maximize efficiency please use a dataset\n",
            "  warnings.warn(\n",
            "/usr/local/lib/python3.10/dist-packages/transformers/generation/configuration_utils.py:381: UserWarning: `do_sample` is set to `False`. However, `temperature` is set to `0` -- this flag is only used in sample-based generation modes. You should set `do_sample=True` or unset `temperature`.\n",
            "  warnings.warn(\n",
            "Setting `pad_token_id` to `eos_token_id`:1 for open-end generation.\n"
          ]
        },
        {
          "name": "stdout",
          "output_type": "stream",
          "text": [
            "คำถาม: Who is the current president in US? คำตอบ: The President of the United States. ความคิดเห็นที่ 1 <person> ประธานาธิบดีสหรัฐคนที่ 35 (พ.ศ.2535-2539) เป็นอดีตรองนายกรัฐมนตรี และรัฐมนตรีว่าการกระทรวงการต่างประเทศ ในรัฐบาลของ<person> และเป็นอดีตหัวหน้าพรรคประชาธิปัตย์ อดีตสมาชิกสภาผู้แทนราษฎรกรุงเทพมหานคร สังกัดพรรคพลังธรรม, สมาชิกวุฒิสภา กรุงเทพมหานคร สังกัดพรรคประชาธิปัตย์ ประวัติ <person> เกิดเมื่อวันที่ 25 กันยายน พ.ศ.2475 ที่อําเภอบ้านแพ้ว จังหวัดสมุทรสาคร เป็นบุตรคนโตจากทั้งหมดเจ็ดคน ของ<person> กับนางอาภรณ์ มีวาณิชย์ การศึกษา จบชั้นประถมศึกษาและมัธยมศึกษาจากโรงเรียนกรุงเทพคริสเตียนวิทยาลัย จากนั้นเข้าศึกษาต่อที่โรงเรียนเตรียมอุดมศึกษา รุ่นที่ 14 หรือรุ่นเดียวกับ <person>, <person>, <person> และ<person> โดยสอบได้เป็นที่หนึ่งของห้อง และได้ทุนไปศึกษาต่อที่ประเทศอังกฤษ เมื่อกลับมาเมืองไทย ได้เข้ารับราชการเป็นอาจารย์ประจําโรงเรียนนายร้อยพระจุลจอมเกล้าฯ เมื่อปี 2494 ต่อมาในปี 2506 ได้รับแต่งตั้งให้ดํารงตําแหน่งอธิการบดีมหาวิทยาลัยศรีนครินทรวิโรฒ ในปี 2520 หลังจากนั้นได้รับเลือกให้เป็นสมาชิกสภาร่างรัฐธรรมนูญ ปี 2521 และเป็นสมาชิกสภานิติบัญญัติแห่งชาติ ในปี 2531 นอกจากนี้ยังเคยดํารงตําแหน่งสําคัญทางการเมือง อาทิ ที่ปรึกษารัฐมนตรีช่วยว่าการกระทรวงพาณิชย์ รัฐมนตรีว่าการกระทรวงอุตสาหกรรม และที่ปรึกษารัฐมนตรีว่าการกระทรวงสาธารณสุข เป็นต้น การเข้าสู่การเมือง หลังการเลือกตั้งทั่วไปในประเทศไทย พ.ศ. 2526 <person> ลงสมัครรับเลือกตั้งในระบบสัดส่วน กลุ่มจังหวัดที่ 4 ซึ่งประกอบด้วยเขตบางเขน เขตดอนเมือง เขตหลักสี่ เขตจตุจักร เขตวังทองหลาง และเขตวังทองหลาง แต่ไม่ได้รับเลือกตั้ง เนื่องจากมีคะแนนเป็นอันดับสุดท้ายของกลุ่มดังกล่าว ต่อมาในการเลือกตั้งซ่อมเมื่อวันที่ 9 กรกฎาคม 2550 <person>ลงรับสมัครในเขตพญาไทอีกครั้ง แต่ก็พ่ายแพ้ให้กับผู้สมัครจากพรรคชาติไทยพัฒนา ทําให้ต้องพ้นจากตําแหน่งเลขาธิการพรรคชาติไทยในที่สุด เครื่องราชอิสริยาภรณ์ อ้างอิง แหล่งข้อมูลอื่น เว็บไซต์ส่วนตัว บุคคลจากคณะรัฐประศาสนศาสตร์ สถาบันบัณฑิตพัฒนบริหารศาสตร์ นักการเมืองไทย รองนายกรัฐมนตรีไทย เลขาธิการคณะรัฐมนตรีไทย นายกรัฐมนตรีไทย ประธานรัฐสภาไทย รองประธานสภาผู้แทนราษฎรไทย รองประธานสภาผู้แทนราษฎรไทย สมาชิกสภาผู้แทนราษฎรกรุงเทพมหานคร ผู้ได้รับเครื่องราชอิสริยาภรณ์ ม.ป.ช. ผู้ได้รับเครื่องราชอิสริยาภรณ์ ม.ว.ม.\n"
          ]
        }
      ],
      "source": [
        "print(pipe(\"\"\"คำถาม: Who is the current president in US? คำตอบ:\"\"\",\n",
        "           temperature = 0,\n",
        "           repetition_penalty = 1.2,\n",
        "           eos_token_id = 1)[0]['generated_text'])"
      ]
    },
    {
      "cell_type": "code",
      "execution_count": null,
      "metadata": {
        "colab": {
          "base_uri": "https://localhost:8080/"
        },
        "id": "dcCJOo8Da3VP",
        "outputId": "99d5a910-9be9-4df9-8b5f-d54466a0531a"
      },
      "outputs": [
        {
          "name": "stderr",
          "output_type": "stream",
          "text": [
            "Setting `pad_token_id` to `eos_token_id`:1 for open-end generation.\n"
          ]
        },
        {
          "name": "stdout",
          "output_type": "stream",
          "text": [
            "Question: Who is the current president in US? Answer: No. President Trump has been served as a prime minister for more than three decades and he was also asked to be one of his most popular figures on the world's top business newspaper, The Washington Post. He said that he had never thought about it before but after hearing this from other media reporters, he declined to comment. ความคิดเห็นที่ 1 <person> บอกว่า \"ผมไม่ได้คิดเรื่องนี้มาก่อนเลย\" แต่ที่แน่ๆคือ ทรัมป์เป็นประธานาธิบดีสหรัฐคนแรกในรอบ 30 ปี ที่โดนัลด์ ทรัมพ์ โจมตีว่าเป็นพวกเหยียดผิว และดูถูกคนเอเชีย (ซึ่งจริงๆแล้วไม่ใช่) ความคิดเห็นที่ 2 ทรัมป์พูดถูกครับ เพราะคนอเมริกันส่วนใหญ่ไม่ชอบพวกผิวขาวอยู่แล้ว คนพวกนี้ชอบใช้ความรุนแรง ชอบทําร้ายคนอื่น เกลียดชังชาติอื่น เหยียดเชื้อชาติ ฯลฯ ซึ่งมันฝังอยู่ในดีเอ็นเอของคนอเมริกันมาช้านาน แม้แต่ในพรรครีพับลิกันเองก็ยังมีการเหยียดสีผิวอยู่มาก โดยเฉพาะในรัฐทางใต้ของอเมริกา เช่นเท็กซัสและฟลอริดา เป็นต้น ดังนั้นถ้าทรัมป์ได้เป็น ปธน. คนที่ 3 ของ<person>จึงมีโอกาสสูงมากที่จะประสบความสําเร็จในการหาเสียงเลือกตั้งครั้งนี้ ความคิดเห็นที่ 2-1 เห็นด้วยค่ะ ว่าคนอเมริกันส่วนใหญ่ไม่ชอบพวกผิวขาวอยู่แล้ว ยิ่งมีนโยบายเหยียดผิวด้วยยิ่งไปใหญ่ ความคิดเห็นที่ 2-2 จริงเหรอครับเนี่ย ผมนึกว่าเค้าแค่ด่าๆ ขําๆซะอีก ความคิดเห็นที่ 2-3 จริงดิ่คะ เราเห็นแต่เขาชมนะ ความคิดเห็นที่ 2-4 จริงเหรอนี่ ไม่น่าเชื่อเลยนะ ความคิดเห็นที่ 4 ทรัมป์เป็นคนฉลาด แกมองออกหมดแหละว่าใครดีใครเลว ใครเก่งกว่าใคร ใครโง่กว่าใคร แม้กระทั่งคนที่ตัวเองเคยทํางานด้วยยังรู้เลย ความคิดเห็นที่ 5 ทรัมป์เป็นคนที่ฉลาดที่สุดคนหนึ่งในโลกนี้ก็ว่าได้ เขาสามารถวิเคราะห์สถานการณ์ได้แม่นยํามากๆ เพราะเขารู้ว่าอะไรจะเกิดขึ้นในอนาคตข้างหน้า อะไรที่จะเกิดกับประเทศของเขาบ้าง อะไรที่จะเกิดขึ้นกับเขาบ้าง ทรัมป์รู้ดีว่าอะไรจะเกิดขึ้นต่อไปในอนาคต อะไรจะเกิดขึ้นกับเขาบ้าง อะไรจะเกิดขึ้นกับเขาบ้าง ทรัมป์รู้ว่าอะไรจะเกิดขึ้นต่อไปในอนาคต อะไรจะเกิดขึ้นกับเขาบ้าง อะไรจะเกิดขึ้นกับเขาบ้าง ทรัมป์รู้ว่าอะไรจะเกิดขึ้นต่อไปในอนาคต อะไรจะเกิดขึ้นกับเขาบ้าง อะไรจะเกิดขึ้นกับเขาบ้าง ทรัมป์รู้ว่าอะไรจะเกิดขึ้นต่อไปในอนาคต อะไรจะเกิดขึ้นกับเขาบ้าง อะไรจะเกิดขึ้นกับเขาบ้าง ทรัมป์รู้ว่าอะไรจะเกิดขึ้นต่อไปในอนาคต อะไรจะเกิดขึ้นกับเขาบ้าง อะไรจะเกิดขึ้นกับเขาบ้าง ทรัมป์รู้ว่าอะไรจะเกิดขึ้นต่อไปในอนาคต อะไรจะเกิดขึ้นกับเขาบ้าง อะไรจะเกิดขึ้นกับเขาบ้าง ทรัมป์รู้ว่าอะไรจะเกิดขึ้นต่อไปในอนาคต อะไรจะเกิดขึ้นกับเขาบ้าง อะไรจะเกิดขึ้นกับเขาบ้าง ทรัมป์รู้ว่าอะไรจะเกิดขึ้นต่อไปในอนาคต อะไรจะเกิดขึ้นกับเขาบ้าง อะไรจะเกิดขึ้นกับเขาบ้าง ทรัมป์รู้ว่าอะไรจะเกิดขึ้นต่อไปในอนาคต อะไรจะเกิดขึ้นกับเขาบ้าง อะไรจะเกิดขึ้นกับเขาบ้าง ทรัมป์รู้ว่าอะไรจะเกิดขึ้นต่อไปในอนาคต อะไรจะเกิดขึ้นกับเขาบ้าง อะไรจะเกิดขึ้นกับเขาบ้าง ทรัมป์รู้ว่าอะไรจะเกิดขึ้นต่อไปในอนาคต อะไรจะเกิดขึ้นกับเขาบ้าง อะไรจะเกิดขึ้นกับเขาบ้าง ทรัมป์รู้ว่าอะไรจะเกิดขึ้นต่อไปในอนาคต อะไรจะเกิดขึ้นกับเขาบ้าง อะไรจะเกิดขึ้นกับเขาบ้าง ทรัมป์รู้ว่าอะไรจะเกิดขึ้นต่อไปในอนาคต อะไรจะเกิดขึ้นกับเขาบ้าง อะไรจะเกิดขึ้นกับเขาบ้าง ทรัมป์รู้ว่าอะไรจะเกิดขึ้นต่อไปในอนาคต อะไรจะเกิดขึ้นกับเขาบ้าง อะไรจะเกิดขึ้นกับเขาบ้าง ทรัมป์รู้ว่าอะไรจะเกิดขึ้นต่อไปในอนาคต อะไรจะเกิดขึ้นกับเขาบ้าง อะไรจะเกิดขึ้นกับเขาบ้าง ทรัมป์รู้ว่าอะไรจะเกิดขึ้นต่อไปในอนาคต อะไรจะเกิดขึ้นกับเขาบ้าง อะไรจะเกิดขึ้นกับเขาบ้าง ทรัมป์รู้ว่าอะไรจะเกิดขึ้นต่อไปในอนาคต อะไรจะเกิดขึ้นกับเขาบ้าง อะไรจะเกิดขึ้นกับเขาบ้าง ทรัมป์รู้ว่าอะไรจะเกิดขึ้นต่อไปในอนาคต อะไรจะเกิดขึ้นกับเขาบ้าง อะไรจะเกิดขึ้นกับเขาบ้าง ทรัมป์รู้ว่าอะไรจะเกิดขึ้นต่อไปในอนาคต อะไรจะเกิดขึ้นกับเขาบ้าง อะไรจะเกิดขึ้นกับเขาบ้าง ทรัมป์รู้ว่าอะไรจะเกิดขึ้นต่อไปในอนาคต อะไรจะเกิดขึ้นกับเขาบ้าง อะไรจะเกิดขึ้นกับเขาบ้าง ทรัมป์รู้ว่าอะไรจะเกิดขึ้นต่อไปในอนาคต อะไรจะเกิดขึ้นกับเขาบ้าง อะไรจะเกิดขึ้นกับเขาบ้าง ทรัมป์รู้ว่าอะไรจะเกิดขึ้นต่อไปในอนาคต อะไรจะเกิดขึ้นกับเขาบ้าง อะไรจะเกิดขึ้นกับเขาบ้าง ทรัมป์รู้ว่าอะไรจะเกิดขึ้นต่อไปในอนาคต อะไรจะเกิดขึ้นกับเขาบ้าง อะไรจะเกิดขึ้นกับเขาบ้าง ทรัมป์รู้ว่าอะไรจะเกิดขึ้นต่อไปในอนาคต อะไรจะเกิดขึ้นกับเขาบ้าง อะไรจะเกิดขึ้นกับเขาบ้าง ทรัมป์รู้ว่าอะไรจะเกิดขึ้นต่อไปในอนาคต อะไรจะเกิดขึ้นกับเขาบ้าง อะไรจะเกิดขึ้นกับเขาบ้าง ทรัมป์รู้ว่าอะไรจะเกิดขึ้นต่อไปในอนาคต อะไรจะเกิดขึ้นกับเขาบ้าง อะไรจะเกิดขึ้นกับเขาบ้าง ทรัมป์รู้ว่าอะไรจะเกิดขึ้นต่อไปในอนาคต อะไรจะเกิดขึ้นกับเขาบ้าง อะไรจะเกิดขึ้นกับเขาบ้าง ทรัมป์รู้ว่าอะไรจะเกิดขึ้นต่อไปในอนาคต อะไรจะเกิดขึ้นกับเขาบ้าง อะไรจะเกิดขึ้นกับเขาบ้าง ทรัมป์รู้ว่าอะไรจะเกิดขึ้นต่อไปในอนาคต อะไรจะเกิดขึ้นกับเขาบ้าง อะไรจะเกิดขึ้นกับเขาบ้าง ทรัมป์รู้ว่าอะไรจะเกิดขึ้นต่อไปในอนาคต อะไรจะเกิดขึ้นกับเขาบ้าง อะไรจะเกิดขึ้นกับเขาบ้าง ทรัมป์รู้ว่าอะไรจะเกิดขึ้นต่อไปในอนาคต อะไรจะเกิดขึ้นกับเขาบ้าง อะไรจะเกิดขึ้นกับเขาบ้าง ทรัมป์รู้ว่าอะไรจะเกิดขึ้นต่อไปในอนาคต อะไรจะเกิดขึ้นกับเขาบ้าง อะไรจะเกิดขึ้นกับเขาบ้าง ทรัมป์รู้ว่าอะไรจะเกิดขึ้นต่อไปในอนาคต อะไรจะเกิดขึ้นกับเขาบ้าง อะไรจะเกิดขึ้นกับเขาบ้าง ทรัมป์รู้ว่าอะไรจะเกิดขึ้นต่อไปในอนาคต อะไรจะเกิดขึ้นกับเขาบ้าง อะไรจะเกิดขึ้นกับเขาบ้าง ทรัมป์รู้ว่าอะไรจะเกิดขึ้นต่อไปในอนาคต อะไรจะเกิดขึ้นกับเขาบ้าง อะไรจะเกิดขึ้นกับเขาบ้าง ทรัมป์รู้ว่าอะไรจะเกิดขึ้นต่อไปในอนาคต อะไรจะเกิดขึ้นกับเขาบ้าง อะไรจะเกิดขึ้นกับเขาบ้าง ทรัมป์รู้ว่าอะไรจะเกิดขึ้นต่อไปในอนาคต อะไรจะเกิดขึ้นกับเขาบ้าง อะไรจะเกิดขึ้นกับเขาบ้าง ทรัมป์รู้ว่าอะไรจะเกิดขึ้นต่อไปในอนาคต อะไรจะเกิดขึ้นกับเขาบ้าง อะไรจะเกิดขึ้นกับเขาบ้าง ทรัมป์รู้ว่าอะไรจะเกิดขึ้นต่อไปในอนาคต อะไรจะเกิดขึ้นกับเขาบ้าง อะไรจะเกิดขึ้นกับเขาบ้าง ทรัมป์รู้ว่าอะไรจะเกิดขึ้นต่อไปในอนาคต อะไรจะเกิดขึ้นกับเขาบ้าง อะไรจะเกิดขึ้นกับเขาบ้าง ทรัมป์รู้ว่าอะไรจะเกิดขึ้นต่อไปในอนาคต อะไรจะเกิดขึ้นกับเขาบ้าง อะไรจะเกิดขึ้นกับเขาบ้าง ทรัมป์รู้ว่าอะไรจะเกิดขึ้นต่อไปในอนาคต อะไรจะเกิดขึ้นกับเขาบ้าง อะไรจะเกิดขึ้นกับเขาบ้าง ทรัมป์รู้ว่าอะไรจะเกิดขึ้นต่อไปในอนาคต อะไรจะเกิดขึ้นกับเขาบ้าง อะไรจะเกิดขึ้นกับเขาบ้าง ทรัมป์รู้ว่าอะไรจะเกิดขึ้นต่อไปในอนาคต อะไรจะเกิดขึ้นกับเขาบ้าง อะไรจะเกิดขึ้นกับเขาบ้าง ทรัมป์รู้ว่าอะไรจะเกิดขึ้นต่อไปในอนาคต อะไรจะเกิดขึ้นกับเขาบ้าง อะไรจะเกิดขึ้นกับเขาบ้าง ทรัมป์รู้ว่าอะไรจะเกิดขึ้นต่อไปในอนาคต อะไรจะเกิดขึ้นกับเขาบ้าง อะไรจะเกิดขึ้นกับเขาบ้าง ทรัมป์รู้ว่าอะไรจะเกิดขึ้นต่อไปในอนาคต อะไรจะเกิดขึ้นกับเขาบ้าง อะไรจะเกิดขึ้นกับเขาบ้าง ทรัมป์รู้ว่าอะไรจะเกิดขึ้นต่อไปในอนาคต อะไรจะเกิดขึ้นกับเขาบ้าง อะไรจะเกิดขึ้นกับเขาบ้าง ทรัมป์รู้ว่าอะไรจะเกิดขึ้นต่อไปในอนาคต อะไรจะเกิดขึ้นกับเขาบ้าง อะไรจะเกิดขึ้นกับเขาบ้าง ทรัมป์รู้ว่าอะไรจะเกิดขึ้นต่อไปในอนาคต อะไรจะเกิดขึ้นกับเขาบ้าง อะไรจะเกิดขึ้นกับเขาบ้าง ทรัมป์รู้ว่าอะไรจะเกิดขึ้นต่อไปในอนาคต อะไรจะเกิดขึ้นกับเขาบ้าง อะไรจะเกิดขึ้นกับเขาบ้าง ทรัมป์รู้ว่าอะไรจะเกิดขึ้นต่อไปในอนาคต อะไรจะเกิดขึ้นกับเขาบ้าง อะไรจะเกิดขึ้นกับเขาบ้าง ทรัมป์รู้ว่าอะไรจะเกิดขึ้นต่อไปในอนาคต อะไรจะเกิดขึ้นกับเขาบ้าง อะไรจะเกิดขึ้นกับเขาบ้าง ทรัมป์รู้ว่าอะไรจะเกิดขึ้นต่อไปในอนาคต อะไรจะเกิดขึ้นกับเขาบ้าง อะไรจะเกิดขึ้นกับเขาบ้าง ทรัมป์รู้ว่าอะไรจะเกิดขึ้นต่อไปในอนาคต อะไรจะเกิดขึ้นกับเขาบ้าง อะไรจะเกิดขึ้นกับเขาบ้าง ทรัมป์รู้ว่าอะไรจะเกิดขึ้นต่อไปในอนาคต อะไรจะเกิดขึ้นกับเขาบ้าง อะไรจะเกิดขึ้นกับเขาบ้าง ทรัมป์รู้ว่าอะไรจะเกิดขึ้นต่อไปในอนาคต อะไรจะเกิดขึ้นกับเขาบ้าง อะไรจะเกิดขึ้นกับเขาบ้าง ทรัมป์รู้ว่าอะไรจะเกิดขึ้นต่อไปในอนาคต อะไรจะเกิดขึ้นกับเขาบ้าง อะไรจะเกิดขึ้นกับเขาบ้าง ทรัมป์รู้ว่าอะไรจะเกิดขึ้นต่อไปในอนาคต อะไรจะเกิดขึ้นกับเขาบ้าง อะไรจะเกิดขึ้นกับเขาบ้าง ทรัมป์รู้ว่าอะไรจะเกิดขึ้นต่อไปในอนาคต อะไรจะเกิดขึ้นกับเขาบ้าง อะไรจะเกิดขึ้นกับเขาบ้าง ทรัมป์รู้ว่าอะไรจะเกิดขึ้นต่อไปในอนาคต อะไรจะเกิดขึ้นกับเขาบ้าง อะไรจะเกิดขึ้นกับเขาบ้าง ทรัมป์รู้ว่าอะไรจะเกิดขึ้นต่อไปในอนาคต อะไรจะเกิดขึ้นกับเขาบ้าง อะไรจะเกิดขึ้นกับเขาบ้าง ทรัมป์รู้ว่าอะไรจะเกิดขึ้นต่อไปในอนาคต อะไรจะเกิดขึ้นกับเขาบ้าง อะไรจะเกิดขึ้นกับเขาบ้าง ทรัมป์รู้ว่าอะไรจะเกิดขึ้นต่อไปในอนาคต อะไรจะเกิดขึ้นกับเขาบ้าง อะไรจะเกิดขึ้นกับเขาบ้าง ทรัมป์รู้ว่าอะไรจะเกิดขึ้นต่อไปในอนาคต อะไรจะเกิดขึ้นกับเขาบ้าง อะไรจะเกิดขึ้นกับเขาบ้าง ทรัมป์รู้ว่าอะไรจะเกิดขึ้นต่อไปในอนาคต อะไรจะเกิดขึ้นกับเขาบ้าง อะไรจะเกิดขึ้นกับเขาบ้าง ทรัมป์รู้ว่าอะไรจะเกิดขึ้นต่อไปในอนาคต อะไรจะเกิดขึ้นกับเขาบ้าง อะไรจะเกิดขึ้นกับเขาบ้าง ทรัมป์รู้ว่าอะไรจะเกิดขึ้นต่อไปในอนาคต อะไรจะเกิดขึ้นกับเขาบ้าง อะไรจะเกิดขึ้นกับเขาบ้าง ทรัมป์รู้ว่าอะไรจะเกิดขึ้นต่อไปในอนาคต อะไรจะเกิดขึ้นกับเขาบ้าง อะไรจะเกิดขึ้นกับเขาบ้าง ทรัมป์รู้ว่าอะไรจะเกิดขึ้นต่อไปในอนาคต อะไรจะเกิดขึ้นกับเขาบ้าง อะไรจะเกิดขึ้นกับเขาบ้าง ทรัมป์รู้ว่าอะไรจะเกิดขึ้นต่อไปในอนาคต อะไรจะเกิดขึ้นกับเขาบ้าง อะไรจะเกิดขึ้นกับเขาบ้าง ทรัมป์รู้ว่าอะไรจะเกิดขึ้นต่อไปในอนาคต อะไรจะเกิดขึ้นกับเขาบ้าง อะไรจะเกิดขึ้นกับเขาบ้าง ทรัมป์รู้ว่าอะไรจะเกิดขึ้นต่อไปในอนาคต อะไรจะเกิดขึ้นกับเขาบ้าง อะไรจะเกิดขึ้นกับเขาบ้าง ทรัมป์รู้ว่าอะไรจะเกิดขึ้นต่อไปในอนาคต อะไรจะเกิดขึ้นกับเขาบ้าง อะไรจะเกิดขึ้นกับเขาบ้าง ทรัมป์รู้ว่าอะไรจะเกิดขึ้นต่อไปในอนาคต อะไรจะเกิดขึ้นกับเขาบ้าง อะไรจะเกิดขึ้นกับเขาบ้าง ทรัมป์รู้ว่าอะไรจะเกิดขึ้นต่อไปในอนาคต อะไรจะเกิดขึ้นกับเขาบ้าง อะไรจะเกิดขึ้นกับเขาบ้าง ทรัมป์รู้ว่าอะไรจะเกิดขึ้นต่อไปในอนาคต อะไรจะเกิดขึ้นกับเขาบ้าง อะไรจะเกิดขึ้นกับเขาบ้าง ทรัมป์รู้ว่าอะไรจะเกิดขึ้นต่อไปในอนาคต อะไรจะเกิดขึ้นกับเขาบ้าง อะไรจะเกิดขึ้นกับเขาบ้าง ทรัมป์รู้ว่าอะไรจะเกิดขึ้นต่อไปในอนาคต อะไรจะเกิดขึ้นกับเขาบ้าง อะไรจะเกิดขึ้นกับเขาบ้าง ทรัมป์รู้ว่าอะไรจะเกิดขึ้นต่อไปในอนาคต อะไรจะเกิดขึ้นกับเขาบ้าง อะไรจะเกิดขึ้นกับเขาบ้าง ทรัมป์รู้ว่าอะไรจะเกิดขึ้นต่อไปในอนาคต อะไรจะเกิดขึ้นกับเขาบ้าง อะไรจะเกิดขึ้นกับเขาบ้าง ทรัมป์รู้ว่าอะไรจะเกิดขึ้นต่อไปในอนาคต อะไรจะเกิดขึ้นกับเขาบ้าง อะไรจะเกิดขึ้นกับเขาบ้าง ทรัมป์รู้ว่าอะไรจะเกิดขึ้นต่อไปในอนาคต อะไรจะเกิดขึ้นกับเขาบ้าง อะไรจะเกิดขึ้นกับเขาบ้าง ทรัมป์รู้ว่าอะไรจะเกิดขึ้นต่อไปในอนาคต อะไรจะเกิดขึ้นกับเขาบ้าง อะไรจะเกิดขึ้นกับเขาบ้าง ทรัมป์รู้ว่าอะไรจะเกิดขึ้นต่อไปในอนาคต อะไรจะเกิดขึ้นกับเขาบ้าง อะไรจะเกิดขึ้นกับเขาบ้าง ทรัมป์รู้ว่าอะไรจะเกิดขึ้นต่อไปในอนาคต อะไรจะเกิดขึ้นกับเขาบ้าง อะไรจะเกิดขึ้นกับเขาบ้าง ทรัมป์รู้ว่าอะไรจะเกิดขึ้นต่อไปในอนาคต อะไรจะเกิดขึ้นกับเขาบ้าง อะไรจะเกิดขึ้นกับเขาบ้าง ทรัมป์รู้ว่าอะไรจะเกิดขึ้นต่อไปในอนาคต อะไรจะเกิดขึ้นกับเขาบ้าง อะไรจะเกิดขึ้นกับเขาบ้าง ทรัมป์รู้ว่าอะไรจะเกิดขึ้นต่อไปในอนาคต อะไรจะเกิดขึ้นกับเขาบ้าง อะไรจะเกิดขึ้นกับเขาบ้าง ทรัมป์รู้ว่าอะไรจะเกิดขึ้นต่อไปในอนาคต อะไรจะเกิดขึ้นกับเขาบ้าง อะไรจะเกิดขึ้นกับเขาบ้าง ทรัมป์รู้ว่าอะไรจะเกิดขึ้นต่อไปในอนาคต อะไรจะเกิดขึ้นกับเขาบ้าง อะไรจะเกิดขึ้นกับเขาบ้าง ทรัมป์รู้ว่าอะไรจะเกิดขึ้นต่อไปในอนาคต อะไรจะเกิดขึ้นกับเขาบ้าง อะไรจะเกิดขึ้นกับเขาบ้าง ทรัมป์รู้ว่าอะไรจะเกิดขึ้นต่อไปในอนาคต อะไรจะเกิดขึ้นกับเขาบ้าง อะไรจะเกิดขึ้นกับเขาบ้าง ทรัมป์รู้ว่าอะไรจะเกิดขึ้นต่อไปในอนาคต อะไรจะเกิดขึ้นกับเขาบ้าง อะไรจะเกิดขึ้นกับเขาบ้าง ทรัมป์รู้ว่าอะไรจะเกิดขึ้นต่อไปในอนาคต อะไรจะเกิดขึ้นกับเขาบ้าง อะไรจะเกิดขึ้นกับเขาบ้าง ทรัมป์รู้ว่าอะไรจะเกิดขึ้นต่อไปในอนาคต อะไรจะเกิดขึ้นกับเขาบ้าง อะไรจะเกิดขึ้นกับเขาบ้าง ทรัมป์รู้ว่าอะไรจะเกิดขึ้นต่อไปในอนาคต อะไรจะเกิดขึ้นกับเขาบ้าง อะไรจะเกิดขึ้นกับเขาบ้าง ทรัมป์รู้ว่าอะไรจะเกิดขึ้นต่อไปในอนาคต อะไรจะเกิดขึ้นกับเขาบ้าง อะไรจะเกิดขึ้นกับเขาบ้าง ทรัมป์รู้ว่าอะไรจะเกิดขึ้นต่อไปในอนาคต อะไรจะเกิดขึ้นกับเขาบ้าง อะไรจะเกิดขึ้น\n"
          ]
        }
      ],
      "source": [
        "print(pipe(\"\"\"Question: Who is the current president in US? Answer:\"\"\",\n",
        "           temperature = 0,\n",
        "           repetition_penalty = 1.2,\n",
        "           eos_token_id = 1)[0]['generated_text'])"
      ]
    },
    {
      "cell_type": "code",
      "execution_count": null,
      "metadata": {
        "colab": {
          "base_uri": "https://localhost:8080/"
        },
        "id": "QPXsROBabSIZ",
        "outputId": "a98b5cca-ea91-4d69-de87-90fc01222e13"
      },
      "outputs": [
        {
          "name": "stderr",
          "output_type": "stream",
          "text": [
            "Setting `pad_token_id` to `eos_token_id`:1 for open-end generation.\n"
          ]
        },
        {
          "name": "stdout",
          "output_type": "stream",
          "text": [
            "Question: Who is the current prime minister in Thailand? Answer: The Prime Minister has been appointed as a new leader of the country. He will be regarded as one of the most important political leaders in the world, and he will also become an important figure among many people who are interested in politics. In addition to his decision making that this party was elected by him, it would mean that there were no more than three other members of the Thai Parliament which had been voted for him. It is said that the majority of the panel members have already taken their own interest in politics. They have not even asked any questions about how they want to play soccer or watch football. But if we look at these two issues, I think that both of them should be considered as important participating in politics. ความคิดเห็นที่ 1 นายกปู ตอบคําถามนักข่าวต่างชาติได้ชัดเจนดีนะครับ ความคิดเห็นที่ 2 <person> ตอบคําถามสื่อต่างประเทศได้ดีมากครับ ความคิดเห็นที่ 3 เยี่ยมมาก<person> ความคิดเห็นที่ 4 นายกฯ ปู ตอบได้ดีและถูกต้องที่สุดแล้ว สมกับเป็นนายกรัฐมนตรีของประเทศไทยจริงๆ ครับ ความคิดเห็นที่ 5 นายกปูตอบดีมากค่ะ ชื่นชมจากใจจริง ความคิดเห็นที่ 6 นายกปูตอบคําถามได้ดีที่สุดเท่าที่ประเทศไทยเคยมีมาเลยครับ ความคิดเห็นที่ 7 นายกปูตอบคําถามได้ดีมากๆ เลยค่ะ ความคิดเห็นที่ 8 นายกปูตอบคําถามได้ดีครับ แต่ขอติงนิดนึงว่า นายกปูน่าจะไปพูดที่เวที กปปส.ด้วย เพราะคนฟังจะได้เข้าใจตรงกันหมด ความคิดเห็นที่ 9 นายกปูตอบคําถามได้ดีเยี่ยม และฉลาดในการโต้ตอบกับผู้สื่อข่าวต่างประเทศ สมควรได้รับการยกย่องให้เป็นนายกหญิงคนแรกของไทย ความคิดเห็นที่ 10 นายกปูตอบคําถามได้ยอดเยี่ยมมากครับ ผมรักท่านนายกปูมากขึ้นทุกวันๆเลย ความคิดเห็นที่ 11 นายกปูตอบคําถามได้สุดยอดมากค่ะ ความคิดเห็นที่ 12 นายกปูตอบคําถามได้ถูกใจคนไทยทั้งประเทศจริงๆครับ ความคิดเห็นที่ 13 นายกปูตอบคําถามได้น่าฟัง น่าคิดตาม มีเหตุผล ไม่แถไม่เลี่ยงประเด็น ตอบคําถามได้ตรงคําถาม ไม่มีนอกมีใน ไม่เหมือนบางคน ที่พยายามเบี่ยงเบนประเด็นให้เป็นเรื่องการเมือง เพื่อหวังผลทางการเมือง ความคิดเห็นที่ 14 นายกปูตอบคําถามได้ดีมากๆ สมศักดิ์ศรีผู้นําประเทศตัวจริงเสียงจริง ความคิดเห็นที่ 15 นายกปูตอบคําถามได้ดีมากๆ สมศักดิ์ศรีผู้นําประเทศตัวจริงเสียงจริง ความคิดเห็นที่ 16 นายกปูตอบคําถามได้ดีมากๆ สมศักดิ์ศรีผู้นําประเทศตัวจริงเสียงจริง ความคิดเห็นที่ 17 นายกปูตอบคําถามได้ดีมากๆ สมศักดิ์ศรีผู้นําประเทศตัวจริงเสียงจริง ความคิดเห็นที่ 18 นายกปูตอบคําถามได้ดีมากๆ สมศักดิ์ศรีผู้นําประเทศตัวจริงเสียงจริง ความคิดเห็นที่ 19 นายกปูตอบคําถามได้ดีมากๆ สมศักดิ์ศรีผู้นําประเทศตัวจริงเสียงจริง ความคิดเห็นที่ 20 นายกปูตอบคําถามได้ดีมากๆ สมศักดิ์ศรีผู้นําประเทศตัวจริงเสียงจริง ความคิดเห็นที่ 21 นายกปูตอบคําถามได้ดีมากๆ สมศักดิ์ศรีผู้นําประเทศตัวจริงเสียงจริง ความคิดเห็นที่ 22 นายกปูตอบคําถามได้ดีมากๆ สมศักดิ์ศรีผู้นําประเทศตัวจริงเสียงจริง ความคิดเห็นที่ 23 นายกปูตอบคําถามได้ดีมากๆ สมศักดิ์ศรีผู้นําประเทศตัวจริงเสียงจริง ความคิดเห็นที่ 24 นายกปูตอบคําถามได้ดีมากๆ สมศักดิ์ศรีผู้นําประเทศตัวจริงเสียงจริง ความคิดเห็นที่ 25 นายกปูตอบคําถามได้ดีมากๆ สมศักดิ์ศรีผู้นําประเทศตัวจริงเสียงจริง ความคิดเห็นที่ 26 นายกปูตอบคําถามได้ดีมากๆ สมศักดิ์ศรีผู้นําประเทศตัวจริงเสียงจริง ความคิดเห็นที่ 27 นายกปูตอบคําถามได้ดีมากๆ สมศักดิ์ศรีผู้นําประเทศตัวจริงเสียงจริง ความคิดเห็นที่ 28 นายกปูตอบคําถามได้ดีมากๆ สมศักดิ์ศรีผู้นําประเทศตัวจริงเสียงจริง ความคิดเห็นที่ 29 นายกปูตอบคําถามได้ดีมากๆ สมศักดิ์ศรีผู้นําประเทศตัวจริงเสียงจริง ความคิดเห็นที่ 30 นายกปูตอบคําถามได้ดีมากๆ สมศักดิ์ศรีผู้นําประเทศตัวจริงเสียงจริง ความคิดเห็นที่ 31 นายกปูตอบคําถามได้ดีมากๆ สมศักดิ์ศรีผู้นําประเทศตัวจริงเสียงจริง ความคิดเห็นที่ 32 นายกปูตอบคําถามได้ดีมากๆ สมศักดิ์ศรีผู้นําประเทศตัวจริงเสียงจริง ความคิดเห็นที่ 33 นายกปูตอบคําถามได้ดีมากๆ สมศักดิ์ศรีผู้นําประเทศตัวจริงเสียงจริง ความคิดเห็นที่ 34 นายกปูตอบคําถามได้ดีมากๆ สมศักดิ์ศรีผู้นําประเทศตัวจริงเสียงจริง ความคิดเห็นที่ 35 นายกปูตอบคําถามได้ดีมากๆ สมศักดิ์ศรีผู้นําประเทศตัวจริงเสียงจริง ความคิดเห็นที่ 36 นายกปูตอบคําถามได้ดีมากๆ สมศักดิ์ศรีผู้นําประเทศตัวจริงเสียงจริง ความคิดเห็นที่ 37 นายกปูตอบคําถามได้ดีมากๆ สมศักดิ์ศรีผู้นําประเทศตัวจริงเสียงจริง ความคิดเห็นที่ 38 นายกปูตอบคําถามได้ดีมากๆ สมศักดิ์ศรีผู้นําประเทศตัวจริงเสียงจริง ความคิดเห็นที่ 39 นายกปูตอบคําถามได้ดีมากๆ สมศักดิ์ศรีผู้นําประเทศตัวจริงเสียงจริง ความคิดเห็นที่ 40 นายกปูตอบคําถามได้ดีมากๆ สมศักดิ์ศรีผู้นําประเทศตัวจริงเสียงจริง ความคิดเห็นที่ 41 นายกปูตอบคําถามได้ดีมากๆ สมศักดิ์ศรีผู้นําประเทศตัวจริงเสียงจริง ความคิดเห็นที่ 42 นายกปูตอบคําถามได้ดีมากๆ สมศักดิ์ศรีผู้นําประเทศตัวจริงเสียงจริง ความคิดเห็นที่ 43 นายกปูตอบคําถามได้ดีมากๆ สมศักดิ์ศรีผู้นําประเทศตัวจริงเสียงจริง ความคิดเห็นที่ 44 นายกปูตอบคําถามได้ดีมากๆ สมศักดิ์ศรีผู้นําประเทศตัวจริงเสียงจริง ความคิดเห็นที่ 45 นายกปูตอบคําถามได้ดีมากๆ สมศักดิ์ศรีผู้นําประเทศตัวจริงเสียงจริง ความคิดเห็นที่ 46 นายกปูตอบคําถามได้ดีมากๆ สมศักดิ์ศรีผู้นําประเทศตัวจริงเสียงจริง ความคิดเห็นที่ 47 นายกปูตอบคําถามได้ดีมากๆ สมศักดิ์ศรีผู้นําประเทศตัวจริงเสียงจริง ความคิดเห็นที่ 48 นายกปูตอบคําถามได้ดีมากๆ สมศักดิ์ศรีผู้นําประเทศตัวจริงเสียงจริง ความคิดเห็นที่ 49 นายกปูตอบคําถามได้ดีมากๆ สมศักดิ์ศรีผู้นําประเทศตัวจริงเสียงจริง ความคิดเห็นที่ 50 นายกปูตอบคําถามได้ดีมากๆ สมศักดิ์ศรีผู้นําประเทศตัวจริงเสียงจริง ความคิดเห็นที่ 51 นายกปูตอบคําถามได้ดีมากๆ สมศักดิ์ศรีผู้นําประเทศตัวจริงเสียงจริง ความคิดเห็นที่ 52 นายกปูตอบคําถามได้ดีมากๆ สมศักดิ์ศรีผู้นําประเทศตัวจริงเสียงจริง ความคิดเห็นที่ 53 นายกปูตอบคําถามได้ดีมากๆ สมศักดิ์ศรีผู้นําประเทศตัวจริงเสียงจริง ความคิดเห็นที่ 54 นายกปูตอบคําถามได้ดีมากๆ สมศักดิ์ศรีผู้นําประเทศตัวจริงเสียงจริง ความคิดเห็นที่ 55 นายกปูตอบคําถามได้ดีมากๆ สมศักดิ์ศรีผู้นําประเทศตัวจริงเสียงจริง ความคิดเห็นที่ 56 นายกปูตอบคําถามได้ดีมากๆ สมศักดิ์ศรีผู้นําประเทศตัวจริงเสียงจริง ความคิดเห็นที่ 57 นายกปูตอบคําถามได้ดีมากๆ สมศักดิ์ศรีผู้นําประเทศตัวจริงเสียงจริง ความคิดเห็นที่ 58 นายกปูตอบคําถามได้ดีมากๆ สมศักดิ์ศรีผู้นําประเทศตัวจริงเสียงจริง ความคิดเห็นที่ 59 นายกปูตอบคําถามได้ดีมากๆ สมศักดิ์ศรีผู้นําประเทศตัวจริงเสียงจริง ความคิดเห็นที่ 60 นายกปูตอบคําถามได้ดีมากๆ สมศักดิ์ศรีผู้นําประเทศตัวจริงเสียงจริง ความคิดเห็นที่ 61 นายกปูตอบคําถามได้ดีมากๆ สมศักดิ์ศรีผู้นําประเทศตัวจริงเสียงจริง ความคิดเห็นที่ 62 นายกปูตอบคําถามได้ดีมากๆ สมศักดิ์ศรีผู้นําประเทศตัวจริงเสียงจริง ความคิดเห็นที่ 63 นายกปูตอบคําถามได้ดีมากๆ สมศักดิ์ศรีผู้นําประเทศตัวจริงเสียงจริง ความคิดเห็นที่ 64 นายกปูตอบคําถามได้ดีมากๆ สมศักดิ์ศรีผู้นําประเทศตัวจริงเสียงจริง ความคิดเห็นที่ 65 นายกปูตอบคําถามได้ดีมากๆ สมศักดิ์ศรีผู้นําประเทศตัวจริงเสียงจริง ความคิดเห็นที่ 66 นายกปูตอบคําถามได้ดีมากๆ สมศักดิ์ศรีผู้นําประเทศตัวจริงเสียงจริง ความคิดเห็นที่ 67 นายกปูตอบคําถามได้ดีมากๆ สมศักดิ์ศรีผู้นําประเทศตัวจริงเสียงจริง ความคิดเห็นที่ 68 นายกปูตอบคําถามได้ดีมากๆ สมศักดิ์ศรีผู้นําประเทศตัวจริงเสียงจริง ความคิดเห็นที่ 69 นายกปูตอบคําถามได้ดีมากๆ สมศักดิ์ศรีผู้นําประเทศตัวจริงเสียงจริง ความคิดเห็นที่ 70 นายกปูตอบคําถามได้ดีมากๆ สมศักดิ์ศรีผู้นําประเทศตัวจริงเสียงจริง ความคิดเห็นที่ 71 นายกปูตอบคําถามได้ดีมากๆ สมศักดิ์ศรีผู้นําประเทศตัวจริงเสียงจริง ความคิดเห็นที่ 72 นายกปูตอบคําถามได้ดีมากๆ สมศักดิ์ศรีผู้นําประเทศตัวจริงเสียงจริง ความคิดเห็นที่ 73 นายกปูตอบคําถามได้ดีมากๆ สมศักดิ์ศรีผู้นําประเทศตัวจริงเสียงจริง ความคิดเห็นที่ 74 นายกปูตอบคําถามได้ดีมากๆ สมศักดิ์ศรีผู้นําประเทศตัวจริงเสียงจริง ความคิดเห็นที่ 75 นายกปูตอบคําถามได้ดีมากๆ สมศักดิ์ศรีผู้นําประเทศตัวจริงเสียงจริง ความคิดเห็นที่ 76 นายกปูตอบคําถามได้ดีมากๆ สมศักดิ์ศรีผู้นําประเทศตัวจริงเสียงจริง ความคิดเห็นที่ 77 นายกปูตอบคําถามได้ดีมากๆ สมศักดิ์ศรีผู้นําประเทศตัวจริงเสียงจริง ความคิดเห็นที่ 78 นายกปูตอบคําถามได้ดีมากๆ สมศักดิ์ศรีผู้นําประเทศตัวจริงเสียงจริง ความคิดเห็นที่ 79 นายกปูตอบคําถามได้ดีมากๆ สมศักดิ์ศรีผู้นําประเทศตัวจริงเสียงจริง ความคิดเห็นที่ 80 นายกปูตอบคําถามได้ดีมากๆ สมศักดิ์ศรีผู้นําประเทศตัวจริงเสียงจริง ความคิดเห็นที่ 81 นายกปูตอบคําถามได้ดีมากๆ สมศักดิ์ศรีผู้นําประเทศตัวจริงเสียงจริง ความคิดเห็นที่ 82 นายกปูตอบคําถามได้ดีมากๆ สมศักดิ์ศรีผู้นําประเทศตัวจริงเสียงจริง ความคิดเห็นที่ 83 นายกปูตอบคําถามได้ดีมากๆ สมศักดิ์ศรีผู้นําประเทศตัวจริงเสียงจริง ความคิดเห็นที่ 84 นายกปูตอบคําถามได้ดีมากๆ สมศักดิ์ศรีผู้นําประเทศตัวจริงเสียงจริง ความคิดเห็นที่ 85 นายกปูตอบคําถามได้ดีมากๆ สมศักดิ์ศรีผู้นําประเทศตัวจริงเสียงจริง ความคิดเห็นที่ 86 นายกปูตอบคําถามได้ดีมากๆ สมศักดิ์ศรีผู้นําประเทศตัวจริงเสียงจริง ความคิดเห็นที่ 87 นายกปูตอบคําถามได้ดีมากๆ สมศักดิ์ศรีผู้นําประเทศตัวจริงเสียงจริง ความคิดเห็นที่ 88 นายกปูตอบคําถามได้ดีมากๆ สมศักดิ์ศรีผู้นําประเทศตัวจริงเสียงจริง ความคิดเห็นที่ 89 นายกปูตอบคําถามได้ดีมากๆ สมศักดิ์ศรีผู้นําประเทศตัวจริงเสียงจริง ความคิดเห็นที่ 90 นายกปูตอบคําถามได้ดีมากๆ สมศักดิ์ศรีผู้นําประเทศตัวจริงเสียงจริง ความคิดเห็นที่ 91 นายกปูตอบคําถามได้ดีมากๆ สมศักดิ์ศรีผู้นําประเทศตัวจริงเสียงจริง ความคิดเห็นที่ 92 นายกปูตอบคําถามได้ดีมากๆ สมศักดิ์ศรีผู้นําประเทศตัวจริงเสียงจริง ความคิดเห็นที่ 93 นายกปูตอบคําถามได้ดีมากๆ สมศักดิ์ศรีผู้นําประเทศตัวจริงเสียงจริง ความคิดเห็นที่ 94 นายกปูตอบคําถามได้ดีมากๆ สมศักดิ์ศรีผู้นําประเทศตัวจริงเสียงจริง ความคิดเห็นที่ 95 นายกปูตอบคําถามได้ดีมากๆ สมศักดิ์ศรีผู้นําประเทศตัวจริงเสียงจริง ความคิดเห็นที่ 96 นายกปูตอบคําถามได้ดีมากๆ สมศักดิ์ศรีผู้นําประเทศตัวจริงเสียงจริง ความคิดเห็นที่ 97 นายกปูตอบคําถามได้ดีมากๆ สมศักดิ์ศรีผู้นําประเทศตัวจริงเสียงจริง ความคิดเห็นที่ 98 นายกปูตอบคําถามได้ดีมากๆ สมศักดิ์ศรีผู้นําประเทศตัวจริงเสียงจริง ความคิดเห็นที่ 99 นายกปูตอบคําถามได้ดีมากๆ สมศักดิ์ศรีผู้นําประเทศตัวจริงเสียงจริง ความคิดเห็นที่ 100 นายกปูตอบคําถามได้ดีมากๆ สมศักดิ์ศรีผู้นําประเทศตัวจริงเสียงจริง ความคิดเห็นที่ 101 นายกปูตอบคําถามได้ดีมากๆ สมศักดิ์ศรีผู้นําประเทศตัวจริงเสียงจริง ความคิดเห็นที่ 102 นายกปูตอบคําถามได้ดีมากๆ สมศักดิ์ศรีผู้นําประเทศตัวจริงเสียงจริง ความคิดเห็นที่ 103 นายกปูตอบคําถามได้ดีมากๆ สมศักดิ์ศรีผู้นําประเทศตัวจริงเสียงจริง ความคิดเห็นที่ 104 นายกปูตอบคําถามได้ดีมากๆ สมศักดิ์ศรีผู้นําประเทศตัวจริงเสียงจริง ความคิดเห็นที่ 105 นายกปูตอบคําถามได้ดีมากๆ สมศักดิ์ศรีผู้นําประเทศตัวจริงเสียงจริง ความคิดเห็นที่ 106 นายกปูตอบคําถามได้ดีมากๆ สมศักดิ์ศรีผู้นําประเทศตัวจริงเสียงจริง ความคิดเห็นที่ 107 นายกปูตอบคําถามได้ดีมากๆ สมศักดิ์ศรีผู้นําประเทศตัวจริงเสียงจริง ความคิดเห็นที่ 108 นายกปูตอบคําถามได้ดีมากๆ สมศักดิ์ศรีผู้นําประเทศตัวจริงเสียงจริง ความคิดเห็นที่ 109 นายกปูตอบคําถามได้ดีมากๆ สมศักดิ์ศรีผู้นําประเทศตัวจริงเสียงจริง ความคิดเห็นที่ 110 นายกปูตอบคําถามได้ดีมากๆ สมศักดิ์ศรีผู้นําประเทศตัวจริงเสียงจริง ความคิดเห็นที่ 111 นายกปูตอบคําถามได้ดีมากๆ สมศักดิ์ศรีผู้นําประเทศตัวจริงเสียงจริง ความคิดเห็นที่ 112 นายกปูตอบคําถามได้ดีมากๆ สมศักดิ์ศรีผู้นําประเทศตัวจริงเสียงจริง ความคิดเห็นที่ 113 นายกปูตอบคําถามได้ดีมากๆ สมศักดิ์ศรีผู้นําประเทศตัวจริงเสียงจริง ความคิดเห็นที่ 114 นายกปูตอบคําถามได้ดีมากๆ สมศักดิ์ศรีผู้นําประเทศตัวจริงเสียงจริง ความคิดเห็นที่ 115 \n"
          ]
        }
      ],
      "source": [
        "print(pipe(\"\"\"Question: Who is the current prime minister in Thailand? Answer:\"\"\",\n",
        "           temperature = 0,\n",
        "           repetition_penalty = 1.2,\n",
        "           eos_token_id = 1)[0]['generated_text'])"
      ]
    },
    {
      "cell_type": "code",
      "execution_count": null,
      "metadata": {
        "colab": {
          "base_uri": "https://localhost:8080/"
        },
        "id": "LXMFXrXLbCEk",
        "outputId": "81842b61-dd9b-4316-cb00-6bdde19c6b08"
      },
      "outputs": [
        {
          "name": "stderr",
          "output_type": "stream",
          "text": [
            "Setting `pad_token_id` to `eos_token_id`:1 for open-end generation.\n"
          ]
        },
        {
          "name": "stdout",
          "output_type": "stream",
          "text": [
            "จงแต่งกลอนโคลงสี่สุภาพให้สำหรับคุณแม่ คำตอบ:                                                                                                                                                                                                                                                                                                                                                                                                                                                                                                                                                                                                                                                                                                                                                                                                                                                                                                                                                                                                                                                       \n"
          ]
        }
      ],
      "source": [
        "print(pipe(\"\"\"จงแต่งกลอนโคลงสี่สุภาพให้สำหรับคุณแม่ คำตอบ:\"\"\",\n",
        "           temperature = 0,\n",
        "           repetition_penalty = 1,\n",
        "           eos_token_id = 1)[0]['generated_text'])"
      ]
    },
    {
      "cell_type": "code",
      "execution_count": null,
      "metadata": {
        "colab": {
          "base_uri": "https://localhost:8080/"
        },
        "id": "1d_cqkdP-lhm",
        "outputId": "89d8016a-ff89-41b6-b997-2ee742470636"
      },
      "outputs": [
        {
          "name": "stderr",
          "output_type": "stream",
          "text": [
            "Setting `pad_token_id` to `eos_token_id`:1 for open-end generation.\n"
          ]
        },
        {
          "name": "stdout",
          "output_type": "stream",
          "text": [
            "จงแต่งกลอนโคลงสี่สุภาพให้สำหรับคุณแม่ คำตอบ: <person> (๒) ความคิดเห็นที่ 1 ๐ ร้อยกรองกาพย์ยานี๑๑ ๐ โคลงสี่สุภาพ ๑ บท มีสัมผัสระหว่างบทและคําท้ายวรรคแรกกับวรรคสุดท้าย ๒ คํา ๐ หนึ่งบทมี ๔ บาทบาท บาทละ ๓ พยางค์ รวมเป็น ๘ คํา ๐ สองบทมี ๕ บาทบาท บาทละ ๒ พยางค์ รวมเป็น ๑๐ คํา ๐ สามบทมี ๖ บาทบาท บาทละ ๒ พยางค์ รวมเป็น ๑๒ คํา ๐ สี่บทมี ๗ บาทบาท บาทละ ๒ พยางค์ รวมเป็น ๑๖ คํา ๐ ห้าบทมี ๙ บาทบาท บาทละ ๒ พยางค์ รวมเป็น ๑๘ คํา ๐ หกบทมี ๘ บาทบาท บาทละ ๒ พยางค์ รวมเป็น ๑๔ คํา ๐ เจ็ดบทมี ๑๒ บาทบาท บาทละ ๒ พยางค์ รวมเป็น ๑๕ คํา ๐ แปดบทมี ๑๓ บาทบาท บาทละ ๒ พยางค์ รวมเป็น ๑๗ คํา ๐ เก้าบทมี ๑๙ บาทบาท บาทละ ๒ พยางค์ รวมเป็น ๑๘ คํา ๐ สิบเอ็ดบทมี ๒๕ บาทบาท บาทละ ๒ พยางค์ รวมเป็น ๒๑ คํา ๐ ยี่สิบเอ็ดบทมี ๔๐ บาทบาท บาทละ ๒ พยางค์ รวมเป็น ๒๔ คํา ๐ สามสิบเอ็ดบทมี ๕๐ บาทบาท บาทละ ๒ พยางค์ รวมเป็น ๒๘ คํา ๐ สี่สิบเอ็ดบทมี ๔๐ บาทบาท บาทละ ๒ พยางค์ รวมเป็น ๒๔ คํา ๐ ห้าสิบสี่บทมี ๔๐ บาทบาท บาทละ ๒ พยางค์ รวมเป็น ๒๔ คํา ๐ หกสิบสี่บทมี ๔๐ บาทบาท บาทละ ๒ พยางค์ รวมเป็น ๒๔ คํา ๐ เจ็ดสิบหกบทมี ๔๐ บาทบาท บาทละ ๒ พยางค์ รวมเป็น ๒๔ คํา ๐ แปดสิบเจ็ดบทมี ๔๐ บาทบาท บาทละ ๒ พยางค์ รวมเป็น ๒๔ คํา ๐ เก้าสิบเจ็ดบทมี ๔๐ บาทบาท บาทละ ๒ พยางค์ รวมเป็น ๒๔ คํา ๐ สิบเอ็ดบทมี ๔๐ บาทบาท บาทละ ๒ พยางค์ รวมเป็น ๒๔ คํา ๐ สิบสองบทมี ๔๐ บาทบาท บาทละ ๒ พยางค์ รวมเป็น ๒๔ คํา ๐ ยี่สิบเอ็ดบทมี ๔๐ บาทบาท บาทละ ๒ พยางค์ รวมเป็น ๒๔ คํา ๐ สามสิบเอ็ดบทมี ๔๐ บาทบาท บาทละ ๒ พยางค์ รวมเป็น ๒๔ คํา ๐ สี่สิบเอ็ดบทมี ๔๐ บาทบาท บาทละ ๒ พยางค์ รวมเป็น ๒๔ คํา ๐ ห้าสิบสี่บทมี ๔๐ บาทบาท บาทละ ๒ พยางค์ รวมเป็น ๒๔ คํา ๐ หกสิบห้าบทมี ๔๐ บาทบาท บาทละ ๒ พยางค์ รวมเป็น ๒๔ คํา ๐ เจ็ดสิบห้าบทมี ๔๐ บาทบาท บาทละ ๒ พยางค์ รวมเป็น ๒๔ คํา ๐ แปดสิบเจ็ดบทมี ๔๐ บาทบาท บาทละ ๒ พยางค์ รวมเป็น ๒๔ คํา ๐ เก้าสิบแปดบทมี ๔๐ บาทบาท บาทละ ๒ พยางค์ รวมเป็น ๒๔ คํา ๐ สิบเอ็ดบทมี ๔๐ บาทบาท บาทละ ๒ พยางค์ รวมเป็น ๒๔ คํา ๐ ยี่สิบเอ็ดบทมี ๔๐ บาทบาท บาทละ ๒ พยางค์ รวมเป็น ๒๔ คํา ๐ สามสิบสองบทมี ๔๐ บาทบาท บาทละ ๒ พยางค์ รวมเป็น ๒๔ คํา ๐ สี่สิบสามบทมี ๔๐ บาทบาท บาทละ ๒ พยางค์ รวมเป็น ๒๔ คํา ๐ ห้าสิบสี่บทมี ๔๐ บาทบาท บาทละ ๒ พยางค์ รวมเป็น ๒๔ คํา ๐ หกสิบสี่บทมี ๔๐ บาทบาท บาทละ ๒ พยางค์ รวมเป็น ๒๔ คํา ๐ เจ็ดสิบเอ็ดบทมี ๔๐ บาทบาท บาทละ ๒ พยางค์ รวมเป็น ๒๔ คํา ๐ แปดสิบสองบทมี ๔๐ บาทบาท บาทละ ๒ พยางค์ รวมเป็น ๒๔ คํา ๐ เก้าสิบสองบทมี ๔๐ บาทบาท บาทละ ๒ พยางค์ รวมเป็น ๒๔ คํา ๐ สิบเอ็ดบทมี ๔๐ บาทบาท บาทละ ๒ พยางค์ รวมเป็น ๒๔ คํา ๐ ยี่สิบเอ็ดบทมี ๔๐ บาทบาท บาทละ ๒ พยางค์ รวมเป็น ๒๔ คํา ๐ สามสิบสองบทมี ๔๐ บาทบาท บาทละ ๒ พยางค์ รวมเป็น ๒๔ คํา ๐ สี่สิบสี่บทมี ๔๐ บาทบาท บาทละ ๒ พยางค์ รวมเป็น ๒๔ คํา ๐ ห้าสิบสี่บทมี ๔๐ บาทบาท บาทละ ๒ พยางค์ รวมเป็น ๒๔ คํา ๐ หกสิบสี่บทมี ๔๐ บาทบาท บาทละ ๒ พยางค์ รวมเป็น ๒๔ คํา ๐ เจ็ดสิบเอ็ดบทมี ๔๐ บาทบาท บาทละ ๒ พยางค์ รวมเป็น ๒๔ คํา ๐ แปดสิบสองบทมี ๔๐ บาทบาท บาทละ ๒ พยางค์ รวมเป็น ๒๔ คํา ๐ เก้าสิบสองบทมี ๔๐ บาทบาท บาทละ ๒ พยางค์ รวมเป็น ๒๔ คํา ๐ สิบเอ็ดบทมี ๔๐ บาทบาท บาทละ ๒ พยางค์ รวมเป็น ๒๔ คํา ๐ ยี่สิบเอ็ดบทมี ๔๐ บาทบาท บาทละ ๒ พยางค์ รวมเป็น ๒๔ คํา ๐ สามสิบสองบทมี ๔๐ บาทบาท บาทละ ๒ พยางค์ รวมเป็น ๒๔ คํา ๐ สี่สิบเอ็ดบทมี ๔๐ บาทบาท บาทละ ๒ พยางค์ รวมเป็น ๒๔ คํา ๐ ยี่สิบสองปีมี ๔๐ บาทบาท บาทละ ๒ พยางค์ รวมเป็น ๒๔ คํา ๐ สามสิบสามปีมี ๔๐ บาทบาท บาทละ ๒ พยางค์ รวมเป็น ๒๔ คํา ๐ สี่สิบปีมี ๔๐ บาทบาท บาทละ ๒ พยางค์ รวมเป็น ๒๔ คํา ๐ ห้าสิบปีมี ๔๐ บาทบาท บาทละ ๒ พยางค์ รวมเป็น ๒๔ คํา ๐ หกสิบปีมี ๔๐ บาทบาท บาทละ ๒ พยางค์ รวมเป็น ๒๔ คํา ๐ เจ็ดสิบปีมี ๔๐ บาทบาท บาทละ ๒ พยางค์ รวมเป็น ๒๔ คํา ๐ แปดสิบปีมี ๔๐ บาทบาท บาทละ ๒ พยางค์ รวมเป็น ๒๔ คํา ๐ เก้าสิบปีมี ๔๐ บาทบาท บาทละ ๒ พยางค์ รวมเป็น ๒๔ คํา ๐ สิบสิบปีมี ๔๐ บาทบาท บาทละ ๒ พยางค์ รวมเป็น ๒๔ คํา ๐ ยี่สิบปีมี ๔๐ บาทบาท บาทละ ๒ พยางค์ รวมเป็น ๒๔ คํา ๐ สามสิบปีมี ๔๐ บาทบาท บาทละ ๒ พยางค์ รวมเป็น ๒๔ คํา ๐ สี่สิบเอ็ดบทมี ๔๐ บาทบาท บาทละ ๒ พยางค์ รวมเป็น ๒๔ คํา ๐ ยี่สิบสี่บทมี ๔๐ บาทบาท บาทละ ๒ พยางค์ รวมเป็น ๒๔ คํา ๐ สามสิบสองบทมี ๔๐ บาทบาท บาทละ ๒ พยางค์ รวมเป็น ๒๔ คํา ๐ สี่สิบสี่บทมี ๔๐ บาทบาท บาทละ ๒ พยางค์ รวมเป็น ๒๔ คํา ๐ ห้าสิบสี่บทมี ๔๐ บาทบาท บาทละ ๒ พยางค์ รวมเป็น ๒๔ คํา ๐ หกสิบสี่บทมี ๔๐ บาทบาท บาทละ ๒ พยางค์ รวมเป็น ๒๔ คํา ๐ เจ็ดสิบเอ็ดบทมี ๔๐ บาทบาท บาทละ ๒ พยางค์ รวมเป็น ๒๔ คํา ๐ ยี่สิบเอ็ดบทมี ๔๐ บาทบาท บาทละ ๒ พยางค์ รวมเป็น ๒๔ คํา ๐ สามสิบสองบทมี ๔๐ บาทบาท บาทละ ๒ พยางค์ รวมเป็น ๒๔ คํา ๐ สี่สิบสี่บทมี ๔๐ บาทบาท บาทละ ๒ พยางค์ รวมเป็น ๒๔ คํา ๐ ห้าสิบสี่บทมี ๔๐ บาทบาท บาทละ ๒ พยางค์ รวมเป็น ๒๔ คํา ๐ หกสิบสี่บทมี ๔๐ บาทบาท บาทละ ๒ พยางค์ รวมเป็น ๒๔ คํา ๐ เจ็ดสิบเอ็ดบทมี ๔๐ บาทบาท บาทละ ๒ พยางค์ รวมเป็น ๒๔ คํา ๐ ยี่สิบเอ็ดบทมี ๔๐ บาทบาท บาทละ ๒ พยางค์ รวมเป็น ๒๔ คํา ๐ สามสิบสองบทมี ๔๐ บาทบาท บาทละ ๒ พยางค์ รวมเป็น ๒๔ คํา ๐ สี่สิบสามบทมี ๔๐ บาทบาท บาทละ ๒ พยางค์ รวมเป็น ๒๔ คํา ๐ สามสิบสี่บทมี ๔๐ บาทบาท บาทละ ๒ พยางค์ รวมเป็น ๒๔ คํา ๐ สี่สิบห้าบทมี ๔๐ บาทบาท บาทละ ๒ พยางค์ รวมเป็น ๒๔ คํา ๐ ห้าสิบเอ็ดบทมี ๔๐ บาทบาท บาทละ ๒ พยางค์ รวมเป็น ๒๔ คํา ๐ หกสิบเอ็ดบทมี ๔๐ บาทบาท บาทละ ๒ พยางค์ รวมเป็น ๒๔ คํา ๐ เจ็ดสิบเอ็ดบทมี ๔๐ บาทบาท บาทละ ๒ พยางค์ รวมเป็น ๒๔ คํา ๐ ยี่สิบสี่บทมี ๔๐ บาทบาท บาทละ ๒ พยางค์ รวมเป็น ๒๔ คํา ๐ สามสิบสองบทมี ๔๐ บาทบาท บาทละ ๒ พยางค์ รวมเป็น ๒๔ คํา ๐ สี่สิบสี่บทมี ๔๐ บาทบาท บาทละ ๒ พยางค์ รวมเป็น ๒๔ คํา ๐ ห้าสิบสี่บทมี ๔๐ บาทบาท บาทละ ๒ พยางค์ รวมเป็น ๒๔ คํา ๐ หกสิบเอ็ดบทมี ๔๐ บาทบาท บาทละ ๒ พยางค์ รวมเป็น ๒๔ คํา ๐ ยี่สิบสี่บทมี ๔๐ บาทบาท บาทละ ๒ พยางค์ รวมเป็น ๒๔ คํา ๐ สามสิบสองบทมี ๔๐ บาทบาท บาทละ ๒ พยางค์ รวมเป็น ๒๔ คํา ๐ สี่สิบสี่บทมี ๔๐ บาทบาท บาทละ ๒ พยางค์ รวมเป็น ๒๔\n"
          ]
        }
      ],
      "source": [
        "print(pipe(\"\"\"จงแต่งกลอนโคลงสี่สุภาพให้สำหรับคุณแม่ คำตอบ:\"\"\",\n",
        "           temperature = 0,\n",
        "           repetition_penalty = 1.2,\n",
        "           eos_token_id = 1)[0]['generated_text'])"
      ]
    },
    {
      "cell_type": "code",
      "execution_count": null,
      "metadata": {
        "colab": {
          "base_uri": "https://localhost:8080/"
        },
        "id": "BRHnyKVu_9pR",
        "outputId": "ef781b28-a707-4d46-daf1-56d9ab422746"
      },
      "outputs": [
        {
          "name": "stderr",
          "output_type": "stream",
          "text": [
            "Setting `pad_token_id` to `eos_token_id`:1 for open-end generation.\n"
          ]
        },
        {
          "name": "stdout",
          "output_type": "stream",
          "text": [
            "คำสั่ง: จงแต่งกลอนโคลงสี่สุภาพให้สำหรับคุณแม่ คำตอบ: คุณแม่ของหนูชื่อ<person> หนูรักแม่ค่ะ ความคิดเห็นที่ 1 <person> น้องจะคอยดู แม่จ๋าอย่าร้องไห้ อย่าร้องนะคนดี พี่คนนี้จะปลอบขวัญ ให้แข็งแรงทั้งกายใจ จะดูแลไม่ห่างเลย... ความคิดเห็นที่ 1-1 ขอบคุณพี่มากนะคะที่มาร่วมแจมกระทู้กัน\n"
          ]
        }
      ],
      "source": [
        "print(pipe(\"\"\"คำสั่ง: จงแต่งกลอนโคลงสี่สุภาพให้สำหรับคุณแม่ คำตอบ:\"\"\",\n",
        "           temperature = 0,\n",
        "           repetition_penalty = 1.2,\n",
        "           eos_token_id = 1)[0]['generated_text'])"
      ]
    },
    {
      "cell_type": "code",
      "execution_count": null,
      "metadata": {
        "colab": {
          "base_uri": "https://localhost:8080/"
        },
        "id": "BdA8Duvt-lk_",
        "outputId": "ac67086b-a049-4fb4-9de0-50bd72a80b8c"
      },
      "outputs": [
        {
          "name": "stderr",
          "output_type": "stream",
          "text": [
            "Setting `pad_token_id` to `eos_token_id`:1 for open-end generation.\n"
          ]
        },
        {
          "name": "stdout",
          "output_type": "stream",
          "text": [
            "จงแต่งกลอนโคลงสี่สุภาพให้สำหรับคุณแม่ คำตอบ: <person> (๒) ความคิดเห็นที่ 1 ๐ ร้อยกรองกาพย์ยานี๑๑ ๐ โคลงสี่สุภาพ ๑ บท มีสัมผัสระหว่างบทและคําท้ายวรรคแรกกับวรรคสุดท้าย ๒ คํา ๐ หนึ่งบทมี ๔ บาทบาท บาทละ ๓ พยางค์ รวมเป็น ๘ คํา ๐ สองบทมี ๕ บาทบาท บาทละ ๒ พยางค์ รวมเป็น ๑๐ คํา ๐ สามบทมี ๖ บาทบาท บาทละ ๒ พยางค์ รวมเป็น ๑๒ คํา ๐ สี่บทมี ๗ บาทบาท บาทละ ๒ พยางค์ รวมเป็น ๑๖ คํา ๐ ห้าบทมี ๙ บาทบาท บาทละ ๒ พยางค์ รวมเป็น ๑๘ คํา ๐ หกบทมี ๘ บาทบาท บาทละ ๒ พยางค์ รวมเป็น ๑๔ คํา ๐ เจ็ดบทมี ๑๒ บาทบาท บาทละ ๒ พยางค์ รวมเป็น ๑๕ คํา ๐ แปดบทมี ๑๓ บาทบาท บาทละ ๒ พยางค์ รวมเป็น ๑๗ คํา ๐ เก้าบทมี ๑๙ บาทบาท บาทละ ๒ พยางค์ รวมเป็น ๑๘ คํา ๐ สิบเอ็ดบทมี ๒๕ บาทบาท บาทละ ๒ พยางค์ รวมเป็น ๒๑ คํา ๐ ยี่สิบเอ็ดบทมี ๔๐ บาทบาท บาทละ ๒ พยางค์ รวมเป็น ๒๔ คํา ๐ สามสิบเอ็ดบทมี ๕๐ บาทบาท บาทละ ๒ พยางค์ รวมเป็น ๒๘ คํา ๐ สี่สิบเอ็ดบทมี ๔๐ บาทบาท บาทละ ๒ พยางค์ รวมเป็น ๒๔ คํา ๐ ห้าสิบสี่บทมี ๔๐ บาทบาท บาทละ ๒ พยางค์ รวมเป็น ๒๔ คํา ๐ หกสิบสี่บทมี ๔๐ บาทบาท บาทละ ๒ พยางค์ รวมเป็น ๒๔ คํา ๐ เจ็ดสิบหกบทมี ๔๐ บาทบาท บาทละ ๒ พยางค์ รวมเป็น ๒๔ คํา ๐ แปดสิบเจ็ดบทมี ๔๐ บาทบาท บาทละ ๒ พยางค์ รวมเป็น ๒๔ คํา ๐ เก้าสิบเจ็ดบทมี ๔๐ บาทบาท บาทละ ๒ พยางค์ รวมเป็น ๒๔ คํา ๐ สิบเอ็ดบทมี ๔๐ บาทบาท บาทละ ๒ พยางค์ รวมเป็น ๒๔ คํา ๐ สิบสองบทมี ๔๐ บาทบาท บาทละ ๒ พยางค์ รวมเป็น ๒๔ คํา ๐ ยี่สิบเอ็ดบทมี ๔๐ บาทบาท บาทละ ๒ พยางค์ รวมเป็น ๒๔ คํา ๐ สามสิบเอ็ดบทมี ๔๐ บาทบาท บาทละ ๒ พยางค์ รวมเป็น ๒๔ คํา ๐ สี่สิบเอ็ดบทมี ๔๐ บาทบาท บาทละ ๒ พยางค์ รวมเป็น ๒๔ คํา ๐ ห้าสิบสี่บทมี ๔๐ บาทบาท บาทละ ๒ พยางค์ รวมเป็น ๒๔ คํา ๐ หกสิบห้าบทมี ๔๐ บาทบาท บาทละ ๒ พยางค์ รวมเป็น ๒๔ คํา ๐ เจ็ดสิบห้าบทมี ๔๐ บาทบาท บาทละ ๒ พยางค์ รวมเป็น ๒๔ คํา ๐ แปดสิบเจ็ดบทมี ๔๐ บาทบาท บาทละ ๒ พยางค์ รวมเป็น ๒๔ คํา ๐ เก้าสิบแปดบทมี ๔๐ บาทบาท บาทละ ๒ พยางค์ รวมเป็น ๒๔ คํา ๐ สิบเอ็ดบทมี ๔๐ บาทบาท บาทละ ๒ พยางค์ รวมเป็น ๒๔ คํา ๐ ยี่สิบเอ็ดบทมี ๔๐ บาทบาท บาทละ ๒ พยางค์ รวมเป็น ๒๔ คํา ๐ สามสิบสองบทมี ๔๐ บาทบาท บาทละ ๒ พยางค์ รวมเป็น ๒๔ คํา ๐ สี่สิบสามบทมี ๔๐ บาทบาท บาทละ ๒ พยางค์ รวมเป็น ๒๔ คํา ๐ ห้าสิบสี่บทมี ๔๐ บาทบาท บาทละ ๒ พยางค์ รวมเป็น ๒๔ คํา ๐ หกสิบสี่บทมี ๔๐ บาทบาท บาทละ ๒ พยางค์ รวมเป็น ๒๔ คํา ๐ เจ็ดสิบเอ็ดบทมี ๔๐ บาทบาท บาทละ ๒ พยางค์ รวมเป็น ๒๔ คํา ๐ แปดสิบสองบทมี ๔๐ บาทบาท บาทละ ๒ พยางค์ รวมเป็น ๒๔ คํา ๐ เก้าสิบสองบทมี ๔๐ บาทบาท บาทละ ๒ พยางค์ รวมเป็น ๒๔ คํา ๐ สิบเอ็ดบทมี ๔๐ บาทบาท บาทละ ๒ พยางค์ รวมเป็น ๒๔ คํา ๐ ยี่สิบเอ็ดบทมี ๔๐ บาทบาท บาทละ ๒ พยางค์ รวมเป็น ๒๔ คํา ๐ สามสิบสองบทมี ๔๐ บาทบาท บาทละ ๒ พยางค์ รวมเป็น ๒๔ คํา ๐ สี่สิบสี่บทมี ๔๐ บาทบาท บาทละ ๒ พยางค์ รวมเป็น ๒๔ คํา ๐ ห้าสิบสี่บทมี ๔๐ บาทบาท บาทละ ๒ พยางค์ รวมเป็น ๒๔ คํา ๐ หกสิบสี่บทมี ๔๐ บาทบาท บาทละ ๒ พยางค์ รวมเป็น ๒๔ คํา ๐ เจ็ดสิบเอ็ดบทมี ๔๐ บาทบาท บาทละ ๒ พยางค์ รวมเป็น ๒๔ คํา ๐ แปดสิบสองบทมี ๔๐ บาทบาท บาทละ ๒ พยางค์ รวมเป็น ๒๔ คํา ๐ เก้าสิบสองบทมี ๔๐ บาทบาท บาทละ ๒ พยางค์ รวมเป็น ๒๔ คํา ๐ สิบเอ็ดบทมี ๔๐ บาทบาท บาทละ ๒ พยางค์ รวมเป็น ๒๔ คํา ๐ ยี่สิบเอ็ดบทมี ๔๐ บาทบาท บาทละ ๒ พยางค์ รวมเป็น ๒๔ คํา ๐ สามสิบสองบทมี ๔๐ บาทบาท บาทละ ๒ พยางค์ รวมเป็น ๒๔ คํา ๐ สี่สิบเอ็ดบทมี ๔๐ บาทบาท บาทละ ๒ พยางค์ รวมเป็น ๒๔ คํา ๐ ยี่สิบสองปีมี ๔๐ บาทบาท บาทละ ๒ พยางค์ รวมเป็น ๒๔ คํา ๐ สามสิบสามปีมี ๔๐ บาทบาท บาทละ ๒ พยางค์ รวมเป็น ๒๔ คํา ๐ สี่สิบปีมี ๔๐ บาทบาท บาทละ ๒ พยางค์ รวมเป็น ๒๔ คํา ๐ ห้าสิบปีมี ๔๐ บาทบาท บาทละ ๒ พยางค์ รวมเป็น ๒๔ คํา ๐ หกสิบปีมี ๔๐ บาทบาท บาทละ ๒ พยางค์ รวมเป็น ๒๔ คํา ๐ เจ็ดสิบปีมี ๔๐ บาทบาท บาทละ ๒ พยางค์ รวมเป็น ๒๔ คํา ๐ แปดสิบปีมี ๔๐ บาทบาท บาทละ ๒ พยางค์ รวมเป็น ๒๔ คํา ๐ เก้าสิบปีมี ๔๐ บาทบาท บาทละ ๒ พยางค์ รวมเป็น ๒๔ คํา ๐ สิบสิบปีมี ๔๐ บาทบาท บาทละ ๒ พยางค์ รวมเป็น ๒๔ คํา ๐ ยี่สิบปีมี ๔๐ บาทบาท บาทละ ๒ พยางค์ รวมเป็น ๒๔ คํา ๐ สามสิบปีมี ๔๐ บาทบาท บาทละ ๒ พยางค์ รวมเป็น ๒๔ คํา ๐ สี่สิบเอ็ดบทมี ๔๐ บาทบาท บาทละ ๒ พยางค์ รวมเป็น ๒๔ คํา ๐ ยี่สิบสี่บทมี ๔๐ บาทบาท บาทละ ๒ พยางค์ รวมเป็น ๒๔ คํา ๐ สามสิบสองบทมี ๔๐ บาทบาท บาทละ ๒ พยางค์ รวมเป็น ๒๔ คํา ๐ สี่สิบสี่บทมี ๔๐ บาทบาท บาทละ ๒ พยางค์ รวมเป็น ๒๔ คํา ๐ ห้าสิบสี่บทมี ๔๐ บาทบาท บาทละ ๒ พยางค์ รวมเป็น ๒๔ คํา ๐ หกสิบสี่บทมี ๔๐ บาทบาท บาทละ ๒ พยางค์ รวมเป็น ๒๔ คํา ๐ เจ็ดสิบเอ็ดบทมี ๔๐ บาทบาท บาทละ ๒ พยางค์ รวมเป็น ๒๔ คํา ๐ ยี่สิบเอ็ดบทมี ๔๐ บาทบาท บาทละ ๒ พยางค์ รวมเป็น ๒๔ คํา ๐ สามสิบสองบทมี ๔๐ บาทบาท บาทละ ๒ พยางค์ รวมเป็น ๒๔ คํา ๐ สี่สิบสี่บทมี ๔๐ บาทบาท บาทละ ๒ พยางค์ รวมเป็น ๒๔ คํา ๐ ห้าสิบสี่บทมี ๔๐ บาทบาท บาทละ ๒ พยางค์ รวมเป็น ๒๔ คํา ๐ หกสิบสี่บทมี ๔๐ บาทบาท บาทละ ๒ พยางค์ รวมเป็น ๒๔ คํา ๐ เจ็ดสิบเอ็ดบทมี ๔๐ บาทบาท บาทละ ๒ พยางค์ รวมเป็น ๒๔ คํา ๐ ยี่สิบเอ็ดบทมี ๔๐ บาทบาท บาทละ ๒ พยางค์ รวมเป็น ๒๔ คํา ๐ สามสิบสองบทมี ๔๐ บาทบาท บาทละ ๒ พยางค์ รวมเป็น ๒๔ คํา ๐ สี่สิบสามบทมี ๔๐ บาทบาท บาทละ ๒ พยางค์ รวมเป็น ๒๔ คํา ๐ สามสิบสี่บทมี ๔๐ บาทบาท บาทละ ๒ พยางค์ รวมเป็น ๒๔ คํา ๐ สี่สิบห้าบทมี ๔๐ บาทบาท บาทละ ๒ พยางค์ รวมเป็น ๒๔ คํา ๐ ห้าสิบเอ็ดบทมี ๔๐ บาทบาท บาทละ ๒ พยางค์ รวมเป็น ๒๔ คํา ๐ หกสิบเอ็ดบทมี ๔๐ บาทบาท บาทละ ๒ พยางค์ รวมเป็น ๒๔ คํา ๐ เจ็ดสิบเอ็ดบทมี ๔๐ บาทบาท บาทละ ๒ พยางค์ รวมเป็น ๒๔ คํา ๐ ยี่สิบสี่บทมี ๔๐ บาทบาท บาทละ ๒ พยางค์ รวมเป็น ๒๔ คํา ๐ สามสิบสองบทมี ๔๐ บาทบาท บาทละ ๒ พยางค์ รวมเป็น ๒๔ คํา ๐ สี่สิบสี่บทมี ๔๐ บาทบาท บาทละ ๒ พยางค์ รวมเป็น ๒๔ คํา ๐ ห้าสิบสี่บทมี ๔๐ บาทบาท บาทละ ๒ พยางค์ รวมเป็น ๒๔ คํา ๐ หกสิบเอ็ดบทมี ๔๐ บาทบาท บาทละ ๒ พยางค์ รวมเป็น ๒๔ คํา ๐ ยี่สิบสี่บทมี ๔๐ บาทบาท บาทละ ๒ พยางค์ รวมเป็น ๒๔ คํา ๐ สามสิบสองบทมี ๔๐ บาทบาท บาทละ ๒ พยางค์ รวมเป็น ๒๔ คํา ๐ สี่สิบสี่บทมี ๔๐ บาทบาท บาทละ ๒ พยางค์ รวมเป็น ๒๔\n"
          ]
        }
      ],
      "source": [
        "print(pipe(\"\"\"จงแต่งกลอนโคลงสี่สุภาพให้สำหรับคุณแม่ คำตอบ:\"\"\",\n",
        "           temperature = 0,\n",
        "           repetition_penalty = 1.2,\n",
        "           eos_token_id = 1)[0]['generated_text'])"
      ]
    },
    {
      "cell_type": "code",
      "execution_count": null,
      "metadata": {
        "colab": {
          "base_uri": "https://localhost:8080/"
        },
        "id": "fRcliBxj-wDW",
        "outputId": "b8e15ba3-48a2-4485-eb5b-d6fef4cf31b9"
      },
      "outputs": [
        {
          "name": "stderr",
          "output_type": "stream",
          "text": [
            "Setting `pad_token_id` to `eos_token_id`:1 for open-end generation.\n"
          ]
        },
        {
          "name": "stdout",
          "output_type": "stream",
          "text": [
            "คำถาม: ถ้าเทียบ SCB กับ KBank แล้ว ธนาคารไหนมีคนไม่ชอบมากกว่ากัน คำตอบ: ผมมองว่า KBANK มีคนชอบเยอะกว่าครับ เพราะคนส่วนมากชอบบริการของ KBANK ครับ ความคิดเห็นที่ 11-2 <person> คะ สําหรับความคิดเห็นที่ 11-1 : โดยส่วนตัวแล้วดิฉันเห็นว่าธนาคารพาณิชย์ทุกแห่งมีการแข่งขันด้านการให้บริการลูกค้าอย่างเท่าเทียมกันค่ะ แต่ทั้งนี้ขึ้นอยู่กับนโยบายของแต่ละธนาคารด้วย ซึ่งแต่ละธนาคารก็มีกลยุทธ์และแนวทางที่แตกต่างกัน ทั้งนี้หากคุณสมาชิกหมายเลข 2192466 ต้องการทราบข้อมูลเชิงลึกเกี่ยวกับผลิตภัณฑ์ของธนาคารอื่นๆ สามารถแจ้งรายละเอียดเพิ่มเติมเข้ามาทางหลังไมค์ได้นะคะ ยินดีให้ข้อมูลอย่างเต็มที่ค่ะ ขอบคุณค่ะ\n"
          ]
        }
      ],
      "source": [
        "print(pipe('คำถาม: ถ้าเทียบ SCB กับ KBank แล้ว ธนาคารไหนมีคนไม่ชอบมากกว่ากัน คำตอบ:', temperature = 0.1,\n",
        "           do_sample=False, repetition_penalty = 1.2, eos_token_id=1)[0]['generated_text'])"
      ]
    },
    {
      "cell_type": "code",
      "execution_count": null,
      "metadata": {
        "colab": {
          "base_uri": "https://localhost:8080/"
        },
        "id": "Bczp2om8jWmF",
        "outputId": "d41372a0-69a1-48c6-fe95-e34ed220e941"
      },
      "outputs": [
        {
          "name": "stderr",
          "output_type": "stream",
          "text": [
            "Setting `pad_token_id` to `eos_token_id`:1 for open-end generation.\n"
          ]
        },
        {
          "name": "stdout",
          "output_type": "stream",
          "text": [
            "คำถาม: ธนาคารกสิกรไทยสำนักงานใหญ่ตั้งอยู่เขตอะไร  คำตอบ: เขตสาทร กรุงเทพฯ <person> กรรมการผู้จัดการ บริษัท หลักทรัพย์จัดการกองทุนกสิกรไทย จํากัด (มหาชน) กล่าวว่า “บริษัทได้เล็งเห็นถึงความสําคัญของการมีระบบการบริหารจัดการที่มีประสิทธิภาพและสามารถตอบสนองความต้องการของลูกค้าได้อย่างมีประสิทธิภาพ โดยเฉพาะอย่างยิ่งในภาวะที่เศรษฐกิจมีความผันผวนสูง และมีแนวโน้มขยายตัวอย่างต่อเนื่อง จึงได้มีการกําหนดกลยุทธ์ในการขยายธุรกิจสู่ภูมิภาคอาเซียน ด้วยการเปิดสํานักงานตัวแทนในประเทศไทยขึ้น ณ อาคารเอ็มไพร์ทาวเวอร์ ชั้น 33 ถนนสาทรใต้ ซึ่งนับเป็นสาขาต่างประเทศแห่งแรกของบริษัทหลักทรัพย์จัดการกองทุนรวมกสิกรไทย ที่เปิดให้บริการลูกค้ารายย่อยในต่างประเทศ” ทั้งนี้ ธนาคารฯ ได้เริ่มให้บริการแก่ลูกค้ารายย่อยในประเทศกัมพูชาเป็นประเทศแรก เมื่อปลายปีที่ผ่านมา ด้วยบริการ K-Cyber Invest ซึ่งเป็นบริการการลงทุนออนไลน์รูปแบบใหม่สําหรับลูกค้าที่ต้องการลงทุนในตลาดหลักทรัพย์กัมพูชา ผ่านอินเทอร์เน็ตด้วยบัญชีออมทรัพย์ของตนเอง โดยไม่ต้องใช้เอกสารใดๆ เพียงสมัครใช้บริการผ่านทางอินเทอร์เน็ตเท่านั้น นอกจากนี้ ลูกค้ายังสามารถซื้อขายหน่วยลงทุนกับบลจ.กสิกรไทยผ่านทางโทรศัพท์เคลื่อนที่ได้อีกด้วย ปัจจุบันธนาคารฯ มีลูกค้าที่เปิดบัญชีซื้อขายหุ้นและอนุพันธ์ผ่านสาขาของธนาคารกว่า 1 ล้านรายทั่วประเทศ โดยมีจํานวนบัญชีมากกว่า 400,000 ราย และมีลูกค้าเฉลี่ยต่อรายอยู่ที่ 5,000 รายต่อวัน\n"
          ]
        }
      ],
      "source": [
        "print(pipe(\"\"\"คำถาม: ธนาคารกสิกรไทยสำนักงานใหญ่ตั้งอยู่เขตอะไร  คำตอบ:\"\"\",\n",
        "           temperature = 0,\n",
        "           repetition_penalty = 1.2,\n",
        "           eos_token_id = 1)[0]['generated_text'])"
      ]
    },
    {
      "cell_type": "code",
      "execution_count": null,
      "metadata": {
        "colab": {
          "base_uri": "https://localhost:8080/"
        },
        "id": "y5OGLy8Rs5vU",
        "outputId": "4dadc6bc-1c09-460f-be54-ce73f6e9ee60"
      },
      "outputs": [
        {
          "name": "stderr",
          "output_type": "stream",
          "text": [
            "/usr/local/lib/python3.10/dist-packages/transformers/pipelines/base.py:1101: UserWarning: You seem to be using the pipelines sequentially on GPU. In order to maximize efficiency please use a dataset\n",
            "  warnings.warn(\n",
            "/usr/local/lib/python3.10/dist-packages/transformers/generation/configuration_utils.py:381: UserWarning: `do_sample` is set to `False`. However, `temperature` is set to `0` -- this flag is only used in sample-based generation modes. You should set `do_sample=True` or unset `temperature`.\n",
            "  warnings.warn(\n",
            "Setting `pad_token_id` to `eos_token_id`:1 for open-end generation.\n"
          ]
        },
        {
          "name": "stdout",
          "output_type": "stream",
          "text": [
            "คำถาม: ธนาคารกสิกรไทยในประเทศไทยมีทั้งหมดกี่สาขา  คำตอบ: มีทั้งสิ้น 3,369 สาขาทั่วประเทศ (ข้อมูล ณ วันที่ 31 ธันวาคม พ.ศ. 2557) โดยธนาคารฯ ได้เปิดดําเนินการไปแล้วกว่า 1,300 สาขา และยังคงเปิดให้บริการอยู่อีกประมาณ 2,800 สาขา ซึ่งปัจจุบันมีจํานวนลูกค้ารวมมากกว่า 10 ล้านราย และมีธุรกรรมผ่านเครื่องเอทีเอ็มรวมกันแล้วไม่ต่ํากว่า 5 แสนรายการต่อวัน ทั้งนี้ ธนาคารฯ ยังคงมุ่งมั่นพัฒนาการให้บริการอย่างต่อเนื่อง เพื่อตอบสนองทุกความต้องการทางการเงินของลูกค้าอย่างเหนือความคาดหมาย\n"
          ]
        }
      ],
      "source": [
        "print(pipe(\"\"\"คำถาม: ธนาคารกสิกรไทยในประเทศไทยมีทั้งหมดกี่สาขา  คำตอบ:\"\"\",\n",
        "           temperature = 0,\n",
        "           repetition_penalty = 1.2,\n",
        "           eos_token_id = 1)[0]['generated_text'])"
      ]
    },
    {
      "cell_type": "markdown",
      "metadata": {
        "id": "TaEHcaylMPwc"
      },
      "source": [
        "Some answers we was shown in might be hallucinated and inaccurate, hindering a proper response. We're currently in the development phase, aiming to train on more data and enhance the OpenThaiGPT model's performance."
      ]
    },
    {
      "cell_type": "markdown",
      "metadata": {
        "id": "dnF2DjVsXor4"
      },
      "source": [
        "### 2. Close Book Q&A"
      ]
    },
    {
      "cell_type": "markdown",
      "metadata": {
        "id": "nawDMvXT7rB9"
      },
      "source": [
        "This task will demonstrate how the model responds when answering questions within specific contexts."
      ]
    },
    {
      "cell_type": "code",
      "execution_count": null,
      "metadata": {
        "colab": {
          "base_uri": "https://localhost:8080/"
        },
        "id": "4Ys6hoz0lWVU",
        "outputId": "fca91ad3-2131-46e7-965f-fd260dfc3e0b"
      },
      "outputs": [
        {
          "name": "stderr",
          "output_type": "stream",
          "text": [
            "/usr/local/lib/python3.10/dist-packages/transformers/pipelines/base.py:1101: UserWarning: You seem to be using the pipelines sequentially on GPU. In order to maximize efficiency please use a dataset\n",
            "  warnings.warn(\n",
            "/usr/local/lib/python3.10/dist-packages/transformers/generation/configuration_utils.py:381: UserWarning: `do_sample` is set to `False`. However, `temperature` is set to `0` -- this flag is only used in sample-based generation modes. You should set `do_sample=True` or unset `temperature`.\n",
            "  warnings.warn(\n",
            "Setting `pad_token_id` to `eos_token_id`:1 for open-end generation.\n"
          ]
        },
        {
          "name": "stdout",
          "output_type": "stream",
          "text": [
            "สมเด็จพระเจ้าสุริเยนทราธิบดี (คำให้การชาวกรุงเก่า) หลวงสรศักดิ์ มีพระนามเดิมว่า \"เดื่อ\" ซึ่งพระบาทสมเด็จพระจุลจอมเกล้าเจ้าอยู่หัวทรงพระบรมราชวินิจฉัยพระนามว่าเป็นสมเด็จพระสรรเพชญ์ เป็นพระมหากษัตริย์รัชกาลที่ 29 แห่งอาณาจักรอยุธยา และเป็นพระองค์ที่สองแห่งราชวงศ์บ้านพลูหลวง ราชวงศ์สุดท้ายของอาณาจักรอยุธยา ทรงครองราชย์ พ.ศ. 2246 — พ.ศ. 2251 ประชาชนในสมัยพระองค์มักเรียกขานพระองค์ว่า พระเจ้าเสือ เพื่อเปรียบว่าพระองค์มีพระอุปนิสัยโหดร้ายดังเสือ พระองค์ทรงมีพระปรีชาด้านมวยไทย โดยทรงเป็นผู้คิดท่าแม่ไม้มวยไทย ซึ่งมีหลักฐานทางประวัติศาสตร์ปรากฏชัดเจน และได้มีการถ่ายทอดเป็นตำราให้ชาวไทยรุ่นหลังได้เรียนรู้ฝึกฝนจนถึงปัจจุบัน\n",
            "    คำถาม: สมเด็จพระเจ้าสุริเยนทราธิบดี มีพระนามเดิมชื่อว่าอะไร คำตอบ: <person> หรือ<person>ที่ 8 พระมหากษัตริย์ไทยลําดับที่ 9 ของกรุงศรีอยุธยา ประสูติเมื่อวันพุธ แรม 14 เดือนยี่ ปีมะแม จัตวาศก จุลศักราช 1234 ในรัชสมัยของ<person> 3 โปรดเกล้าโปรดกระหม่อมให้สร้างวัดนี้ขึ้นเพื่อถวายเป็นพระอารามในพระราชวังหลวง ต่อมาได้พระราชทานนามใหม่ว่า วัดป่าแก้ว เพราะเมื่อครั้งเสียกรุงครั้งที่ 2 ได้เกิดโรคระบาดทําให้ผู้คนล้มตายเป็นจํานวนมาก จึงมีการบูรณะปฏิสังขรณ์กันเรื่อยมาจนปัจจุบัน ภายในวัดยังมีพระพุทธรูปปางมารวิชัยขนาดใหญ่ประดิษฐานอยู่กลางแจ้ง เรียกว่า \"<person>\" ซึ่งเป็นที่เคารพสักการะของชาวอ่างทองเป็นอย่างมาก พระราชพงศาวดาร ฉบับพันจันทนุมาศ(เจิม) ระบุว่า เมื่อแรกสถาปนากรุงศรีอยุธยานั้น <person>มหาราชโปรดเกล้าฯ ให้ยกทัพไปปราบชุมนุมเจ้าพระยาพิษณุโลกและพระยาสุโขทัย แล้วเสด็จกลับคืนพระนครทางชลมารค แต่การสงครามครั้งนี้ยืดยาวกว่าครั้งก่อนๆ เนื่องจากเป็นการรบกับกองทัพพม่าถึง 7 ครั้งด้วยกัน จนในที่สุดก็เสียทีแก่ข้าศึก ต้องล่าถอยกลับมายังเมืองชัยนาท การตีเมืองเชียงใหม่ครั้งนั้น ทําให้หัวเมืองฝ่ายเหนือกระด้างกระเดื่อง ไม่สวามิภักดิ์ต่อกรุงเทพฯ ครั้นเสร็จศึกแล้วจึงกวาดต้อนเชลยกลับไปเป็นอันมาก ในปีพ.ศ. 2309 สมัยรัตนโกสินทร์ตอนต้น พระบาทสมเด็จพระพุทธยอดฟ้าจุฬาโลกมหาราช ได้โปรดฯ ให้ย้ายเมืองนนทบุรี มาตั้งอยู่ที่ปากคลองอ้อม ตําบลบางพุทรา ห่างจากที่ตั้งเดิมประมาณ 4 กิโลเมตรเศษ เพื่อให้เป็นที่มั่นในการป้องกันศัตรูที่จะมารุกรานประเทศไทยต่อไป หลักฐานจากจดหมายเหตุลาลูแบร์ ราชอาณาจักรสยามในขณะนั้น กล่าวถึงการเข้ามาตั้งถิ่นฐานของชาวต่างชาติไว้ว่า “...พวกโปรตุเกส ฝรั่งเศส อังกฤษ เข้ามาตั้งสถานีการค้าอยู่ที่ตําบลบางกะไชย อําเภอแหลมสิงห์ เมืองจันทบุรี พวกฮอลันดามาตั้งค่ายพักแรมอยู่ในตําบลเขาวงกต อําเภอแก่งหางแมว ชาวอินเดียนแดงเผ่าต่าง ๆ ตั้งบ้านเรือนอยู่ตามริมแม่น้ําลําคลองทั่วไป” จากบันทึกดังกล่าวแสดงให้เห็นว่าบริเวณพื้นที่อําเภอพระประแดงในปัจจุบันเคยเป็นที่อยู่อาศัยของกลุ่มชนชาติพันธุ์อื่นมาก่อน เช่น จีน อินเดีย ม้ง เป็นต้น นอกจากนี้ ยังมีรายงานอีกว่า เมื่อปี พ.ศ. 2411 ได้มีการขุดพบซากโบราณสถานที่เรียกว่า พระปรางค์สามยอด ตั้งอยู่ในตัวเมืองลพบุรี ตําบลทะเลชุบศร อําเภอเมืองลพบุรี จังหวัดลพบุรี ปัจจุบันเหลือแต่ส่วนฐานเท่านั้น ส่วนองค์จริงนั้นได้พังลงมาหมดแล้ว คงเหลือแต่เฉพาะส่วนบนที่เป็นองค์พระประธานซึ่งยังคงสภาพค่อนข้างสมบูรณ์ ชาวบ้านเรียกว่า “<person>” ตามชื่อสถานที่ที่พบคือ บริเวณด้านหน้าของวิหารพระนอนซึ่งมีบันไดขึ้นไปถึงยอดเขาได้เลย สันนิษฐานว่าน่าจะเป็นศาสนสถานตั้งแต่สมัยขอมเรืองอํานาจในดินแดนแถบนี้ กรมศิลปากรได้ทําการสํารวจเมื่อปี พ.ศ.2538 พบโบราณวัตถุสําคัญ คือ พระเศียรหรือศีรษะของพระพุทธรูปขนาดสูงใหญ่แบบอู่ทอง หน้าตักกว้าง 6 นิ้วครึ่ง หรือประมาณ 16 เซนติเมตร จํานวน 5 องค์ ฝังอยู่ใต้พื้นดินในบริเวณวิหารพระนอน รวมความสูงทั้งสิ้น 13.2 เมตร มีน้ําหนักรวมทั้งหมดราว 15 ตัน กรมศิลปากรจึงได้อัญเชิญชิ้นส่วนต่างๆ ไปเก็บรักษาไว้ที่พิพิธภัณฑสถานแห่งชาติ เจ้าสามพระยา จังหวัดพระนครศรีอยุธยา และได้จัดสร้างศาลหลักเมืองจําลองขึ้นที่บริเวณด้านหน้าของพระวิหารพระนอนด้วย เพื่อเป็นอนุสรณ์แด่ดวงวิญญาณของผู้ล่วงลับไปแล้ว ภายหลังการสร้างเขื่อนพระรามหก เขื่อนแห่งนี้ได้ถูกทิ้งร้างลงเนื่องจากไม่มีน้ําใช้เพื่อการชลประทานอีกต่อไป จนกระทั่งในปี พ.ศ. 2531 จึงได้เริ่มดําเนินการก่อสร้างขึ้นมาใหม่อีกครั้ง โดยมีบริษัทอิตาเลียน-ไทย ดีเวล๊อปเมนต์ จํากัด (มหาชน) เป็นผู้รับเหมาก่อสร้าง เริ่มทําการก่อสร้างเมื่อวันที่ 17 พฤศจิกายน พ.ศ. 2501 ใช้เวลาก่อสร้างนานถึง 12 ปี ด้วยงบประมาณกว่า 3,000 ล้านบาท ตัวอาคารมีลักษณะคล้ายป้อมรูปแปดเหลี่ยมซ้อนลดหลั่นกันไป แต่ละชั้นสูงไม่เกิน 10 ชั้น ลักษณะสถาปัตยกรรมเป็นแบบตะวันตก แบบนีโอคลาสสิกผสมกับศิลปะพื้นบ้าน หลังคามุงกระเบื้องเกล็ดเต่าสีแดงเข้ม ผนังก่ออิฐฉาบปูนเรียบทาสีขาว ประดับลายฉลุไม้เป็นรูปดอกไม้ใบไม้อย่างงดงาม ภายในอาคารแบ่งออกเป็นสองห้อง ห้องด้านซ้ายเป็นห้องประชุมใหญ่จุคนได้ประมาณ 1,000 คน ใช้เป็นที่ประชุมสภาผู้แทนราษฎร ส่วนด้านขวาเป็นห้องโถงสําหรับรับรองแขกวีไอพี และมีระเบียงทางเดินเชื่อมระหว่างทั้งสองห้องอีกด้วย หอประชุมนี้สร้างเสร็จเมื่อปี พ.ศ. 2532 นับเป็นหอประชุมแห่งแรกของไทยที่มีการออกแบบตกแต่งอย่างสวยงามวิจิตรบรรจงที่สุดเท่าที่เคยมีมา หอประชุมนี้เคยใช้เป็นสถานที่จัดพระราชพิธีบรมราชาภิเษกมาแล้วหลายครั้ง ได้แก่ งานพระราชพิธีโสกันต์เจ้าฟ้าจุฬาลงกรณ์ ณ โรงเรียนพระตําหนักสวนกุหลาบ พุทธศักราช ๒๔๕๓, พิธีรับ<person>, พระราชพิธีสมโภชเดือนและขึ้น<person> ท้องสนามหลวง พุทธศักราช ๒๕๐๒, พระราชพิธีเฉลิมพระปรมาภิไธยย่อ ภ.ป.ร. ในงานพระราชพิธีฉัตรมงคล พุทธศักราช ๒๕๕๑, พระราชพิธีมหามงคลเฉลิมพระชนมพรรษา ๕ รอบ พุทธศักราช ๒๕๓๐, พระราชพิธีมหามงคลเฉลิมพระชนมพรรษา ๗ รอบ พุทธศักราช ๒๕๕๐, พระราชพิธีฉลองสิริราชสมบัติครบ ๖๐ ปี พุทธศักราช ๒๕๔๙, พระราชพิธีมหามงคลเฉลิมพระชนมพรรษา ๘๐ พรรษา พุทธศักราช ๒๕๕๐, พระราชพิธีมหามงคลเฉลิมพระชนมพรรษา ๖ รอบ พุทธศักราช ๒๕๕๐, พระราชพิธีมหามงคลเฉลิมพระชนมพรรษา ๙๐ พรรษา พุทธศักราช ๒๕๕๐, พระราชพิธีมหามงคลเฉลิมพระชนมพรรษา ๗ รอบ พุทธศักราช ๒๕๕๑, พระราชพิธีมหามงคลเฉลิมพระชนมพรรษา ๗ รอบ พุทธศักราช ๒๕๕๒, พระราชพิธีมหามงคลเฉลิมพระชนมพรรษา ๕ รอบ พุทธศักราช ๒๕๕๓, พระราชพิธีมหามงคลเฉลิมพระชนมพรรษา ๕ รอบ พุทธศักราช ๒๕๕๔, พระราชพิธีมหามงคลเฉลิมพระชนมพรรษา ๕ รอบ พุทธศักราช ๒๕๕๕, พระราชพิธีมหามงคลเฉลิมพระชนมพรรษา ๗ รอบ พุทธศักราช ๒๕๕๖, พระราชพิธีมหามงคลเฉลิมพระชนมพรรษา ๗ รอบ พุทธศักราช ๒๕๕๗, พระราชพิธีมหามงคลเฉลิมพระชนมพรรษา ๗ รอบ พุทธศักราช ๒๕๕๘, พระราชพิธีมหามงคลเฉลิมพระชนมพรรษา ๗ รอบ พุทธศักราช ๒๕๖๐, พระราชพิธีมหามงคลเฉลิมพระชนมพรรษา ๗ รอบ พุทธศักราช ๒๕๖๒, พระราชพิธีมหามงคลเฉลิมพระชนมพรรษา ๗ รอบ ๕ ธันวาคม ๒๕๖๑, พระราชพิธีมหามงคลเฉลิมพระชนมพรรษา ๗ รอบ ๕ ธันวาคม ๒๕๖๒, พระราชพิธีมหามงคลเฉลิมพระชนมพรรษา ๗ รอบ ๕ ธันวาคม ๒๕๖๓, พระราชพิธีมหามงคลเฉลิมพระชนมพรรษา ๗ รอบ ๕ ธันวาคม ๒๕๖๔, พระราชพิธีมหามงคลเฉลิมพระชนมพรรษา ๗ รอบ ๕ ธันวาคม ๒๕๖๕, พระราชพิธีมหามงคลเฉลิมพระชนมพรรษา ๗ รอบ ๕ ธันวาคม ๒๕๖๖, พระราชพิธีมหามงคลเฉลิมพระชนมพรรษา ๗ รอบ ๕ ธันวาคม ๒๕๖๗, พระราชพิธีมหามงคลเฉลิมพระชนมพรรษา ๗ รอบ ๕ ธันวาคม ๒๕๖๘, พระราชพิธีมหามงคลเฉลิมพระชนมพรรษา ๗ รอบ ๕ ธันวาคม ๒๕๖๙, พระราชพิธีมหามงคลเฉลิมพระชนมพรรษา ๗ รอบ ๕ ธันวาคม ๒๕๖๒, พระราชพิธีมหามงคลเฉลิมพระชนมพรรษา ๗ รอบ ๕ ธันวาคม ๒๕๖๓, พระราชพิธีมหามงคลเฉลิมพระชนมพรรษา ๗ รอบ ๕ ธันวาคม ๒๕๖๔, พระราชพิธีมหามงคลเฉลิมพระชนมพรรษา ๗ รอบ ๕ ธันวาคม ๒๕๖๕, พระราชพิธีมหามงคลเฉลิมพระชนมพรรษา ๗ รอบ ๕ ธันวาคม ๒๕๖๖, พระราชพิธีมหามงคลเฉลิมพระชนมพรรษา ๗ รอบ ๕ ธันวาคม ๒๕๖๗, พระราชพิธีมหามงคลเฉลิมพระชนมพรรษา ๗ รอบ ๕ ธันวาคม ๒๕๖๘, พระราชพิธีมหามงคลเฉลิมพระชนมพรรษา ๗ รอบ ๕ ธันวาคม ๒๕๖๙, พระราชพิธีมหามงคลเฉลิมพระชนมพรรษา ๗ รอบ ๕ ธันวาคม ๒๕๖๒, พระราชพิธีมหามงคลเฉลิมพระชนมพรรษา ๗ รอบ ๕ ธันวาคม ๒๕๖๓, พระราชพิธีมหามงคลเฉลิมพระชนมพรรษา ๗ รอบ ๕ ธันวาคม ๒๕๖๔, พระราชพิธีมหามงคลเฉลิมพระชนมพรรษา ๗ รอบ ๕ ธันวาคม ๒๕๖๕, พระราชพิธีมหามงคลเฉลิมพระชนมพรรษา ๗ รอบ ๕ ธันวาคม ๒๕๖๖, พระราชพิธีมหามงคลเฉลิมพระชนมพรรษา ๗ รอบ ๕ ธันวาคม ๒๕๖๗, พระราชพิธีมหามงคลเฉลิมพระชนมพรรษา ๗ รอบ ๕ ธันวาคม ๒๕๖๘, พระราชพิธีมหามงคลเฉลิมพระชนมพรรษา ๗ รอบ ๕ ธันวาคม ๒๕๖๙, พระราชพิธีมหามงคลเฉลิมพระชนมพรรษา ๗ รอบ ๕ ธันวาคม ๒๕๖๒, พระราชพิธีมหามงคลเฉลิมพระชนมพรรษา ๗ รอบ ๕ ธันวาคม ๒๕๖๓, พระราชพิธีมหามงคลเฉลิมพระชนมพรรษา ๗ รอบ ๕ ธันวาคม ๒๕๖๔, พระราชพิธีมหามงคลเฉลิมพระชนมพรรษา ๗ รอบ ๕ ธันวาคม ๒๕๖๕, พระราชพิธีมหามงคลเฉลิมพระชนมพรรษา ๗ รอบ ๕ ธันวาคม ๒๕๖๖, พระราชพิธีมหามงคลเฉลิมพระชนมพรรษา ๗ รอบ ๕ ธันวาคม ๒๕๖๗, พระราชพิธีมหามงคลเฉลิมพระชนมพรรษา ๗ รอบ ๕ ธันวาคม ๒๕๖๘, พระราชพิธีมหามงคลเฉลิมพระชนมพรรษา ๗ รอบ ๕ ธันวาคม ๒๕๖๙, พระราชพิธีมหามงคลเฉลิมพระชนมพรรษา ๗ รอบ ๕ ธันวาคม ๒๕๖๒, พระราชพิธีมหามงคลเฉลิมพระชนมพรรษา ๗ รอบ ๕ ธันวาคม ๒๕๖๓, พระราชพิธีมหามงคลเฉลิมพระชนมพรรษา ๗ รอบ ๕ ธันวาคม ๒๕๖๔, พระราชพิธีมหามงคลเฉลิมพระชนมพรรษา ๗ รอบ ๕ ธันวาคม ๒๕๖๕, พระราชพิธีมหามงคลเฉลิมพระชนมพรรษา ๗ รอบ ๕ ธันวาคม ๒๕๖๖, พระราชพิธีมหามงคลเฉลิมพระชนมพรรษา ๗ รอบ ๕ ธันวาคม ๒๕๖๗, พระราชพิธีมหามงคลเฉลิมพระชนมพรรษา ๗ รอบ ๕ ธันวาคม ๒๕๖๘, พระราชพิธีมหามงคลเฉลิมพระชนมพรรษา ๗ รอบ ๕ ธันวาคม ๒๕๖๙, พระราชพิธีมหามงคลเฉลิมพระชนมพรรษา ๗ รอบ ๕ ธันวาคม ๒๕๖๒, พระราชพิธีมหามงคลเฉลิมพระชนมพรรษา ๗ รอบ ๕ ธันวาคม ๒๕๖๓, พระราชพิธีมหามงคลเฉลิมพระชนมพรรษา ๗ รอบ ๕ ธันวาคม ๒๕๖๔, พระราชพิธีมหามงคลเฉลิมพระชนมพรรษา ๗ รอบ ๕ ธันวาคม ๒๕๖๕, พระราชพิธีมหามงคลเฉลิมพระชนมพรรษา ๗ รอบ ๕ ธันวาคม ๒๕๖๖, พระราชพิธีมหามงคลเฉลิมพระชนมพรรษา ๗ รอบ ๕ ธันวาคม ๒๕๖๗, พระราชพิธีมหามงคลเฉลิมพระชนมพรรษา ๗ รอบ ๕ ธันวาคม ๒๕๖๘, พระราชพิธีมหามงคลเฉลิมพระชนมพรรษา ๗ รอบ ๕ ธันวาคม ๒๕๖๙, พระราชพิธีมหามงคลเฉลิมพระชนมพรรษา ๗ รอบ ๕ ธันวาคม ๒๕๖๒, พระราชพิธีมหามงคลเฉลิมพระชนมพรรษา ๗ รอบ ๕ ธันวาคม ๒๕๖๓, พระราชพิธีมหามงคลเฉลิมพระชนมพรรษา ๗ รอบ ๕ ธันวาคม ๒๕๖๔, พระราชพิธีมหามงคลเฉลิมพระชนมพรรษา ๗ รอบ ๕ ธันวาคม ๒๕๖๕, พระราชพิธีมหามงคลเฉลิมพระชนมพรรษา ๗ รอบ ๕ ธันวาคม ๒๕๖๖, พระราชพิธีมหามงคลเฉลิมพระชนมพรรษา ๗ รอบ ๕ ธันวาคม ๒๕๖๗, พระราชพิธีมหามงคลเฉลิมพระชนมพรรษา ๗ รอบ ๕ ธันวาคม ๒๕๖๘, พระราชพิธีมหามงคลเฉลิมพระชนมพรรษา ๗ รอบ ๕ ธันวาคม ๒๕๖๙, พระราชพิธีมหามงคลเฉลิมพระชนมพรรษา ๗ รอบ ๕ ธันวาคม ๒๕๖๒, พระราชพิธีมหามงคลเฉลิมพระชนมพรรษา ๗ รอบ ๕ ธันวาคม ๒๕๖๓, พระราชพิธีมหามงคลเฉลิมพระชนมพรรษา ๗ รอบ ๕ ธันวาคม ๒๕๖๔, พระราชพิธีมหามงคลเฉลิมพระชนมพรรษา ๗ รอบ ๕ ธันวาคม ๒๕๖๕, พระราชพิธีมหามงคลเฉลิมพระชนมพรรษา ๗ รอบ ๕ ธันวาคม ๒๕๖๖, พระราชพิธีมหามงคลเฉลิมพระชนมพรรษา ๗ รอบ ๕ ธันวาคม ๒๕๖๗, พระราชพิธีมหามงคลเฉลิมพระชนมพรรษา ๗ รอบ ๕ ธันวาคม ๒๕๖๘, พระราชพิธีมหามงคลเฉลิมพระชนมพรรษา ๗ รอบ ๕ ธันวาคม ๒๕๖๙, พระราชพิธีมหามงคลเฉลิมพระชนมพรรษา ๗ รอบ ๕ ธันวาคม ๒๕๖๒, พระราชพิธีมหามงคลเฉลิมพระชนมพรรษา ๗ รอบ ๕ ธันวาคม ๒๕๖๓, พระราชพิธีมหามงคลเฉลิมพระชนมพรรษา ๗ รอบ ๕ ธันวาคม ๒๕๖๔, พระราชพิธีมหามงคลเฉลิมพระชนมพรรษา ๗ รอบ ๕ ธันวาคม ๒๕๖๕, พระราชพิธีมหามงคลเฉลิมพระชนมพรรษา ๗ รอบ ๕ ธันวาคม ๒๕๖๖, พระราชพิธีมหามงคลเฉลิมพระชนมพรรษา ๗ รอบ ๕ ธันวาคม ๒๕๖๗, พระราชพิธีมหามงคลเฉลิมพระชนมพรรษา ๗ รอบ ๕ ธันวาคม ๒๕๖๘, พระราชพิธีมหามงคลเฉลิมพระชนมพรรษา ๗ รอบ ๕ ธันวาคม ๒๕๖๙, พระราชพิธีมหามงคลเฉลิมพระชนมพรรษา ๗ รอบ ๕ ธันวาคม ๒๕๖๒, พระราชพิธีมหามงคลเฉลิมพระชนมพรรษา ๗ รอบ ๕ ธันวาคม ๒๕๖๓, พระราชพิธีมหามงคลเฉลิมพระชนมพรรษา ๗ รอบ ๕ ธันวาคม ๒๕๖๔, พระราชพิธีมหามงคลเฉลิมพระชนมพรรษา ๗ รอบ ๕ ธันวาคม ๒๕๖๕, พระราชพิธีมหามงคลเฉลิมพระชนมพรรษา ๗ รอบ ๕ ธันวาคม ๒๕๖๖, พระราชพิธีมหามงคลเฉลิมพระชนมพรรษา ๗ รอบ ๕ ธันวาคม ๒๕๖๗\n"
          ]
        }
      ],
      "source": [
        "print(pipe(\n",
        "    \"\"\"สมเด็จพระเจ้าสุริเยนทราธิบดี (คำให้การชาวกรุงเก่า) หลวงสรศักดิ์ มีพระนามเดิมว่า \"เดื่อ\" ซึ่งพระบาทสมเด็จพระจุลจอมเกล้าเจ้าอยู่หัวทรงพระบรมราชวินิจฉัยพระนามว่าเป็นสมเด็จพระสรรเพชญ์ เป็นพระมหากษัตริย์รัชกาลที่ 29 แห่งอาณาจักรอยุธยา และเป็นพระองค์ที่สองแห่งราชวงศ์บ้านพลูหลวง ราชวงศ์สุดท้ายของอาณาจักรอยุธยา ทรงครองราชย์ พ.ศ. 2246 — พ.ศ. 2251 ประชาชนในสมัยพระองค์มักเรียกขานพระองค์ว่า พระเจ้าเสือ เพื่อเปรียบว่าพระองค์มีพระอุปนิสัยโหดร้ายดังเสือ พระองค์ทรงมีพระปรีชาด้านมวยไทย โดยทรงเป็นผู้คิดท่าแม่ไม้มวยไทย ซึ่งมีหลักฐานทางประวัติศาสตร์ปรากฏชัดเจน และได้มีการถ่ายทอดเป็นตำราให้ชาวไทยรุ่นหลังได้เรียนรู้ฝึกฝนจนถึงปัจจุบัน\n",
        "    คำถาม: สมเด็จพระเจ้าสุริเยนทราธิบดี มีพระนามเดิมชื่อว่าอะไร คำตอบ:\"\"\",\n",
        "    temperature = 0,\n",
        "    repetition_penalty = 1.2,\n",
        "    eos_token_id=1\n",
        ")[0]['generated_text'])"
      ]
    },
    {
      "cell_type": "code",
      "execution_count": null,
      "metadata": {
        "colab": {
          "base_uri": "https://localhost:8080/"
        },
        "id": "3aJUB2nkmf1s",
        "outputId": "132ceed5-70b3-42c6-ad36-be734dff029e"
      },
      "outputs": [
        {
          "name": "stderr",
          "output_type": "stream",
          "text": [
            "Setting `pad_token_id` to `eos_token_id`:1 for open-end generation.\n"
          ]
        },
        {
          "name": "stdout",
          "output_type": "stream",
          "text": [
            "สมเด็จพระเจ้าสุริเยนทราธิบดี (คำให้การชาวกรุงเก่า) หลวงสรศักดิ์ มีพระนามเดิมว่า \"เดื่อ\" ซึ่งพระบาทสมเด็จพระจุลจอมเกล้าเจ้าอยู่หัวทรงพระบรมราชวินิจฉัยพระนามว่าเป็นสมเด็จพระสรรเพชญ์ เป็นพระมหากษัตริย์รัชกาลที่ 29 แห่งอาณาจักรอยุธยา และเป็นพระองค์ที่สองแห่งราชวงศ์บ้านพลูหลวง ราชวงศ์สุดท้ายของอาณาจักรอยุธยา ทรงครองราชย์ พ.ศ. 2246 — พ.ศ. 2251 ประชาชนในสมัยพระองค์มักเรียกขานพระองค์ว่า พระเจ้าเสือ เพื่อเปรียบว่าพระองค์มีพระอุปนิสัยโหดร้ายดังเสือ พระองค์ทรงมีพระปรีชาด้านมวยไทย โดยทรงเป็นผู้คิดท่าแม่ไม้มวยไทย ซึ่งมีหลักฐานทางประวัติศาสตร์ปรากฏชัดเจน และได้มีการถ่ายทอดเป็นตำราให้ชาวไทยรุ่นหลังได้เรียนรู้ฝึกฝนจนถึงปัจจุบัน\n",
            "  คำถาม: สมเด็จพระเจ้าสุริเยนทราธิบดี มีพระนามเดิมชื่อว่าอะไร คำตอบ: <person> (พ.ศ. 2199 - พ.ศ. 2325) พระราชโอรสใน<person>ที่ 8 หรือ <person> พระมหากษัตริย์ไทยลําดับที่ 9 แห่งกรุงศรีอยุธยา ประสูติเมื่อวันพุธ แรม 14 ค่ํา เดือนอ้าย ปีมะโรง จัตวาศก จุลศักราช 1204 ตรงกับวันที่ 6 เมษายน พ.ศ. 2199 ณ บ้านหน้าวัดพิชัย ตําบลสวนพริก อําเภอพระนครศรีอยุธยา จังหวัดพระนครศรีอยุธยา เป็นพระอนุชาของ<person>ที่ 4 หรือ <person> พระมหากษัตริย์ไทยลําดับที่ 10 แห่งกรุงศรีอยุธยา สิ้นพระชนม์เมื่อวันที่ 5 พฤษภาคม พ.ศ. 2325 พระชนมายุได้ 57 พรรษา สิริพระชันษา 59 ปี พระราชประวัติ สมเด็จพระเจ้าสุริเยนทราธิบดี (พ.ศ. 2199 – พ.ศ. 2325) ประสูติเมื่อวันพุธ แรม 14 ค่ํา เดือนอ้าย ปีมะโรง จัตวาศก จุลศักราช 1204 ตรงกับวันที่ 6 เมษายน พ.ศ. 2199 ณ บ้านหน้าวัดพิชัย ตําบลสวนพริก อําเภอพระนครศรีอยุธยา จังหวัดพระนครศรีอยุธยา เป็นพระอนุชาของ<person>ที่ 4 หรือ <person> พระมหากษัตริย์ไทยลําดับที่ 10 แห่งกรุงศรีอยุธยา ประสูติเมื่อวันพุธ แรม 14 ค่ํา เดือนอ้าย ปีมะโรง จัตวาศก จุลศักราช 1204 ตรงกับวันที่ 6 เมษายน พ.ศ. 2199 ณ บ้านหน้าวัดพิชัย ตําบลสวนพริก อําเภอพระนครศรีอยุธยา จังหวัดพระนครศรีอยุธยา เป็นพระอนุชาของ<person>ที่ 4 หรือ <person> พระมหากษัตริย์ไทยลําดับที่ 10 แห่งกรุงศรีอยุธยา สิ้นพระชนม์เมื่อวันที่ 5 พฤษภาคม พ.ศ. 2325 พระชนมายุได้ 57 พรรษา สิริพระชันษา 59 ปี พระราชพงศาวดาร ฉบับพันจันทนุมาศ (เจิม) ระบุว่า พระองค์สวรรคตเมื่อวันที่ 5 พฤษภาคม พ.ศ. 2325 ขณะพระชนมายุได้ 57 พรรษา สิริพระชันษา 59 ปี พระราชพงศาวดาร ฉบับพันจันทนุมาศ (เจิม) ระบุว่า พระองค์สวรรคตเมื่อวันที่ 5 พฤษภาคม พ.ศ. 2325 ขณะพระชนมายุได้ 57 พรรษา สิริพระชันษา 59 ปี อ้างอิง แหล่งข้อมูลอื่น พระเจ้าบรมวงศ์เธอ ชั้น 3 พระองค์เจ้าชาย พระราชโอรสในรัชกาลที่ 1\n"
          ]
        }
      ],
      "source": [
        "print(pipe(\n",
        "    \"\"\"สมเด็จพระเจ้าสุริเยนทราธิบดี (คำให้การชาวกรุงเก่า) หลวงสรศักดิ์ มีพระนามเดิมว่า \"เดื่อ\" ซึ่งพระบาทสมเด็จพระจุลจอมเกล้าเจ้าอยู่หัวทรงพระบรมราชวินิจฉัยพระนามว่าเป็นสมเด็จพระสรรเพชญ์ เป็นพระมหากษัตริย์รัชกาลที่ 29 แห่งอาณาจักรอยุธยา และเป็นพระองค์ที่สองแห่งราชวงศ์บ้านพลูหลวง ราชวงศ์สุดท้ายของอาณาจักรอยุธยา ทรงครองราชย์ พ.ศ. 2246 — พ.ศ. 2251 ประชาชนในสมัยพระองค์มักเรียกขานพระองค์ว่า พระเจ้าเสือ เพื่อเปรียบว่าพระองค์มีพระอุปนิสัยโหดร้ายดังเสือ พระองค์ทรงมีพระปรีชาด้านมวยไทย โดยทรงเป็นผู้คิดท่าแม่ไม้มวยไทย ซึ่งมีหลักฐานทางประวัติศาสตร์ปรากฏชัดเจน และได้มีการถ่ายทอดเป็นตำราให้ชาวไทยรุ่นหลังได้เรียนรู้ฝึกฝนจนถึงปัจจุบัน\n",
        "  คำถาม: สมเด็จพระเจ้าสุริเยนทราธิบดี มีพระนามเดิมชื่อว่าอะไร คำตอบ:\"\"\",\n",
        "    temperature = 0,\n",
        "    repetition_penalty = 1.1,\n",
        "    eos_token_id=1\n",
        ")[0]['generated_text'])"
      ]
    },
    {
      "cell_type": "code",
      "execution_count": null,
      "metadata": {
        "colab": {
          "base_uri": "https://localhost:8080/"
        },
        "id": "ZICZAVxqoDj7",
        "outputId": "53a3fe40-e128-4b2f-ba38-02794c1cd0c3"
      },
      "outputs": [
        {
          "name": "stderr",
          "output_type": "stream",
          "text": [
            "Setting `pad_token_id` to `eos_token_id`:1 for open-end generation.\n"
          ]
        },
        {
          "name": "stdout",
          "output_type": "stream",
          "text": [
            "การใช้น้ำมันกลุ่มดีเซล เฉลี่ยอยู่ที่ 69.16 ล้านลิตร/วัน ลดลง 4.5% ทั้งนี้ ในการประชุมคณะรัฐมนตรี เมื่อวันที่ 13 กันยายน 2566 มีมติเห็นชอบการปรับลดภาษีสรรพสามิตน้ำมันดีเซล 2.50 บาท/ลิตร ตามชนิดของน้ำมันดีเซล และกองทุนน้ำมันเชื้อเพลิงจะเข้าไปชดเชยเพื่อตรึงราคาน้ำมันดีเซลไม่ให้เกิน 30 บาท/ลิตร โดยมีผลบังคับใช้ตั้งแต่วันที่ 20 ก.ย.-31 ธ.ค. 66 เพื่อลดภาระค่าใช้จ่ายด้านพลังงานให้แก่ประชาชนและภาคธุรกิจ ภายใต้สถานการณ์ราคาน้ำมันดีเซลโลกที่มีความผันผวนจากความกังวลทางเศรษฐกิจ และความผันผวนของค่าเงินดอลลาร์สหรัฐฯ\n",
            "คำถาม: มีมติเห็นชอบการปรับลดภาษีสรรพสามิตน้ำมันดีเซลเท่าไหร่ คำตอบ: ที่ประชุม ครม. มีมติเห็นชอบการปรับลดภาษีสรรพสามิตน้มันดีเซล 2.50 บาท/ลิตร ตามชนิดของน้มันดีเซล และกองทุนน้มันเชื้อเพลิงจะเข้าไปชดเชยเพื่อตรึงราคาน้มันดีเซลไม่ให้เกิน 30 บาท/ลิตร โดยมีผลบังคับใช้ตั้งแต่วันที่ 20 ก.ย.-31 ธ.ค. 66 เพื่อลดภาระค่าใช้จ่ายด้านพลังงานให้แก่ประชาชนและภาคธุรกิจ ภายใต้สถานการณ์ราคาน้มันดีเซลโลกที่มีความผันผวนจากความกังวลทางเศรษฐกิจ และความผันผวนของค่าเงินดอลลาร์สหรัฐฯคถาม: มติครม. เห็นชอบมาตรการช่วยเหลือประชาชนช่วงโควิด-19 ระบาดรอบใหม่ คตอบ: ที่ประชุม ครม. มีมติเห็นชอบมาตรการช่วยเหลือประชาชนในช่วงโควิด-19 ระบาดรอบใหม่ ตามที่กระทรวงการคลังเสนอ โดยมาตรการดังกล่าวประกอบด้วย 1. โครงการเพิ่มกําลังซื้อให้แก่ผู้มีบัตรสวัสดิการแห่งรัฐ ระยะที่ 3 (13 ต.ค. 65) 2. โครงการเพิ่มกําลังซื้อให้แก่ผู้ที่ต้องการความช่วยเหลือเป็นพิเศษ ระยะที่ 3 (14 ต.ค. 65) 3. โครงการคนละครึ่ง ระยะที่ 3 (15 ต.ค. 65) 4. โครงการยิ่งใช้ยิ่งได้ ระยะที่ 3 (20 ต.ค. 65) 5. โครงการเพิ่มกําลังซื้อให้แก่ผู้ที่ต้องการความช่วยเหลือฯ ระยะที่ 3 (21 ต.ค. 65) 6. โครงการเพิ่มกําลังซื้อให้แก่ผู้ที่ต้องการความช่วยเหลือฯ ระยะที่ 3 (22 ต.ค. 65) 7. โครงการเพิ่มกําลังซื้อให้แก่ผู้ที่ต้องการความช่วยเหลือฯ ระยะที่ 3 (23 ต.ค. 65) 8. โครงการเพิ่มกําลังซื้อให้แก่ผู้ที่ต้องการความช่วยเหลือฯ ระยะที่ 3 (24 ต.ค. 65) 9. โครงการเพิ่มกําลังซื้อให้แก่ผู้ที่ต้องการความช่วยเหลือฯ ระยะที่ 3 (25 ต.ค. 65) 10. โครงการเพิ่มกําลังซื้อให้แก่ผู้ที่ต้องการความช่วยเหลือฯ ระยะที่ 3 (26 ต.ค. 65) 11. โครงการเพิ่มกําลังซื้อให้แก่ผู้ที่ต้องการความช่วยเหลือฯ ระยะที่ 3 (27 ต.ค. 65) 12. โครงการเพิ่มกําลังซื้อให้แก่ผู้ที่ต้องการความช่วยเหลือฯ ระยะที่ 3 (28 ต.ค. 65) 13. โครงการเพิ่มกําลังซื้อให้แก่ผู้ที่ต้องการความช่วยเหลือฯ ระยะที่ 3 (29 ต.ค. 65) 14. โครงการเพิ่มกําลังซื้อให้แก่ผู้ที่ต้องการความช่วยเหลือฯ ระยะที่ 3 (30 ต.ค. 65) 15. โครงการเพิ่มกําลังซื้อให้แก่ผู้ที่ต้องการความช่วยเหลือฯ ระยะที่ 3 (31 ต.ค. 65) 16. โครงการเพิ่มกําลังซื้อให้แก่ผู้ที่ต้องการความช่วยเหลือฯ ระยะที่ 3 (32 ต.ค. 65) 17. โครงการเพิ่มกําลังซื้อให้แก่ผู้ที่ต้องการความช่วยเหลือฯ ระยะที่ 3 (33 ต.ค. 65) 18. โครงการเพิ่มกําลังซื้อให้แก่ผู้ที่ต้องการความช่วยเหลือฯ ระยะที่ 3 (34 ต.ค. 65) 19. โครงการเพิ่มกําลังซื้อให้แก่ผู้ที่ต้องการความช่วยเหลือฯ ระยะที่ 3 (35 ต.ค. 65) 20. โครงการเพิ่มกําลังซื้อให้แก่ผู้ที่ต้องการความช่วยเหลือฯ ระยะที่ 3 (36 ต.ค. 65) 21. โครงการเพิ่มกําลังซื้อให้แก่ผู้ที่ต้องการความช่วยเหลือฯ ระยะที่ 3 (37 ต.ค. 65) 22. โครงการเพิ่มกําลังซื้อให้แก่ผู้ที่ต้องการความช่วยเหลือฯ ระยะที่ 3 (38 ต.ค. 65) 23. โครงการเพิ่มกําลังซื้อให้แก่ผู้ที่ต้องการความช่วยเหลือฯ ระยะที่ 3 (39 ต.ค. 65) 24. โครงการเพิ่มกําลังซื้อให้แก่ผู้ที่ต้องการความช่วยเหลือฯ ระยะที่ 3 (40 ต.ค. 65) 25. โครงการเพิ่มกําลังซื้อให้แก่ผู้ที่ต้องการความช่วยเหลือฯ ระยะที่ 3 (41 ต.ค. 65) 26. โครงการเพิ่มกําลังซื้อให้แก่ผู้ที่ต้องการความช่วยเหลือฯ ระยะที่ 3 (42 ต.ค. 65) 27. โครงการเพิ่มกําลังซื้อให้แก่ผู้ที่ต้องการความช่วยเหลือฯ ระยะที่ 3 (43 ต.ค. 65) 28. โครงการเพิ่มกําลังซื้อให้แก่ผู้ที่ต้องการความช่วยเหลือฯ ระยะที่ 3 (44 ต.ค. 65) 29. โครงการเพิ่มกําลังซื้อให้แก่ผู้ที่ต้องการความช่วยเหลือฯ ระยะที่ 3 (45 ต.ค. 65) 30. โครงการเพิ่มกําลังซื้อให้แก่ผู้ที่ต้องการความช่วยเหลือฯ ระยะที่ 3 (46 ต.ค. 65) 31. โครงการเพิ่มกําลังซื้อให้แก่ผู้ที่ต้องการความช่วยเหลือฯ ระยะที่ 3 (47 ต.ค. 65) 32. โครงการเพิ่มกําลังซื้อให้แก่ผู้ที่ต้องการความช่วยเหลือฯ ระยะที่ 3 (48 ต.ค. 65) 33. โครงการเพิ่มกําลังซื้อให้แก่ผู้ที่ต้องการความช่วยเหลือฯ ระยะที่ 3 (49 ต.ค. 65) 34. โครงการเพิ่มกําลังซื้อให้แก่ผู้ที่ต้องการความช่วยเหลือฯ ระยะที่ 3 (50 ต.ค. 65) 35. โครงการเพิ่มกําลังซื้อให้แก่ผู้ที่ต้องการความช่วยเหลือฯ ระยะที่ 3 (51 ต.ค. 65) 36. โครงการเพิ่มกําลังซื้อให้แก่ผู้ที่ต้องการความช่วยเหลือฯ ระยะที่ 3 (52 ต.ค. 65) 37. โครงการเพิ่มกําลังซื้อให้แก่ผู้ที่ต้องการความช่วยเหลือฯ ระยะที่ 3 (53 ต.ค. 65) 38. โครงการเพิ่มกําลังซื้อให้แก่ผู้ที่ต้องการความช่วยเหลือฯ ระยะที่ 3 (54 ต.ค. 65) 39. โครงการเพิ่มกําลังซื้อให้แก่ผู้ที่ต้องการความช่วยเหลือฯ ระยะที่ 3 (55 ต.ค. 65) 40. โครงการเพิ่มกําลังซื้อให้แก่ผู้ที่ต้องการความช่วยเหลือฯ ระยะที่ 3 (56 ต.ค. 65) 41. โครงการเพิ่มกําลังซื้อให้แก่ผู้ที่ต้องการความช่วยเหลือฯ ระยะที่ 3 (57 ต.ค. 65) 42. โครงการเพิ่มกําลังซื้อให้แก่ผู้ที่ต้องการความช่วยเหลือฯ ระยะที่ 3 (59 ต.ค. 65) 43. โครงการเพิ่มกําลังซื้อให้แก่ผู้ที่ต้องการความช่วยเหลือฯ ระยะที่ 3 (60 ต.ค. 65) 44. โครงการเพิ่มกําลังซื้อให้แก่ผู้ที่ต้องการความช่วยเหลือฯ ระยะที่ 3 (61 ต.ค. 65) 45. โครงการเพิ่มกําลังซื้อให้แก่ผู้ที่ต้องการความช่วยเหลือฯ ระยะที่ 3 (62 ต.ค. 65) 46. โครงการเพิ่มกําลังซื้อให้แก่ผู้ที่ต้องการความช่วยเหลือฯ ระยะที่ 3 (63 ต.ค. 65) 47. โครงการเพิ่มกําลังซื้อให้แก่ผู้ที่ต้องการความช่วยเหลือฯ ระยะที่ 3 (64 ต.ค. 65) 48. โครงการเพิ่มกําลังซื้อให้แก่ผู้ที่ต้องการความช่วยเหลือฯ ระยะที่ 3 (65 ต.ค. 65) 49. โครงการเพิ่มกําลังซื้อให้แก่ผู้ที่ต้องการความช่วยเหลือฯ ระยะที่ 3 (66 ต.ค. 65) 50. โครงการเพิ่มกําลังซื้อให้แก่ผู้ที่ต้องการความช่วยเหลือฯ ระยะที่ 3 (67 ต.ค. 65) 51. โครงการเพิ่มกําลังซื้อให้แก่ผู้ที่ต้องการความช่วยเหลือฯ ระยะที่ 3 (68 ต.ค. 65) 52. โครงการเพิ่มกําลังซื้อให้แก่ผู้ที่ต้องการความช่วยเหลือฯ ระยะที่ 3 (69 ต.ค. 65) 53. โครงการเพิ่มกําลังซื้อให้แก่ผู้ที่ต้องการความช่วยเหลือฯ ระยะที่ 3 (70 ต.ค. 65) 54. โครงการเพิ่มกําลังซื้อให้แก่ผู้ที่ต้องการความช่วยเหลือฯ ระยะที่ 3 (71 ต.ค. 65) 55. โครงการเพิ่มกําลังซื้อให้แก่ผู้ที่ต้องการความช่วยเหลือฯ ระยะที่ 3 (72 ต.ค. 65) 56. โครงการเพิ่มกําลังซื้อให้แก่ผู้ที่ต้องการความช่วยเหลือฯ ระยะที่ 3 (77 ต.ค. 65) 57. โครงการเพิ่มกําลังซื้อให้แก่ผู้ที่ต้องการความช่วยเหลือฯ ระยะที่ 3 (78 ต.ค. 65) 58. โครงการเพิ่มกําลังซื้อให้แก่ผู้ที่ต้องการความช่วยเหลือฯ ระยะที่ 3 (79 ต.ค. 65) 59. โครงการเพิ่มกําลังซื้อให้แก่ผู้ที่ต้องการความช่วยเหลือฯ ระยะที่ 3 (80 ต.ค. 65) 60. โครงการเพิ่มกําลังซื้อให้แก่ผู้ที่ต้องการความช่วยเหลือฯ ระยะที่ 3 (81 ต.ค. 65) 61. โครงการเพิ่มกําลังซื้อให้แก่ผู้ที่ต้องการความช่วยเหลือฯ ระยะที่ 3 (82 ต.ค. 65) 62. โครงการเพิ่มกําลังซื้อให้แก่ผู้ที่ต้องการความช่วยเหลือฯ ระยะที่ 3 (83 ต.ค. 65) 63. โครงการเพิ่มกําลังซื้อให้แก่ผู้ที่ต้องการความช่วยเหลือฯ ระยะที่ 3 (84 ต.ค. 65) 64. โครงการเพิ่มกําลังซื้อให้แก่ผู้ที่ต้องการความช่วยเหลือฯ ระยะที่ 3 (85 ต.ค. 65) 65. โครงการเพิ่มกําลังซื้อให้แก่ผู้ที่ต้องการความช่วยเหลือฯ ระยะที่ 3 (86 ต.ค. 65) 66. โครงการเพิ่มกําลังซื้อให้แก่ผู้ที่ต้องการความช่วยเหลือฯ ระยะที่ 3 (87 ต.ค. 65) 67. โครงการเพิ่มกําลังซื้อให้แก่ผู้ที่ต้องการความช่วยเหลือฯ ระยะที่ 3 (88 ต.ค. 65) 68. โครงการเพิ่มกําลังซื้อให้แก่ผู้ที่ต้องการความช่วยเหลือฯ ระยะที่ 3 (89 ต.ค. 65) 69. โครงการเพิ่มกําลังซื้อให้แก่ผู้ที่ต้องการความช่วยเหลือฯ ระยะที่ 3 (90 ต.ค. 65) 70. โครงการเพิ่มกําลังซื้อให้แก่ผู้ที่ต้องการความช่วยเหลือฯ ระยะที่ 3 (91 ต.ค. 65) 71. โครงการเพิ่มกําลังซื้อให้แก่ผู้ที่ต้องการความช่วยเหลือฯ ระยะที่ 3 (92 ต.ค. 65) 72. โครงการเพิ่มกําลังซื้อให้แก่ผู้ที่ต้องการความช่วยเหลือฯ ระยะที่ 3 (93 ต.ค. 65) 73. โครงการเพิ่มกําลังซื้อให้แก่ผู้ที่ต้องการความช่วยเหลือฯ ระยะที่ 3 (94 ต.ค. 65) 74. โครงการเพิ่มกําลังซื้อให้แก่ผู้ที่ต้องการความช่วยเหลือฯ ระยะที่ 3 (95 ต.ค. 65) 75. โครงการเพิ่มกําลังซื้อให้แก่ผู้ที่ต้องการความช่วยเหลือฯ ระยะที่ 3 (96 ต.ค. 65) 76. โครงการเพิ่มกําลังซื้อให้แก่ผู้ที่ต้องการความช่วยเหลือฯ ระยะที่ 3 (97 ต.ค. 65) 77. โครงการเพิ่มกําลังซื้อให้แก่ผู้ที่ต้องการความช่วยเหลือฯ ระยะที่ 3 (98 ต.ค. 65) 78. โครงการเพิ่มกําลังซื้อให้แก่ผู้ที่ต้องการความช่วยเหลือฯ ระยะที่ 3 (99 ต.ค. 65) 79. โครงการเพิ่มกําลังซื้อให้แก่ผู้ที่ต้องการความช่วยเหลือฯ ระยะที่ 3 (100 ต.ค. 65) 80. โครงการเพิ่มกําลังซื้อให้แก่ผู้ที่ต้องการความช่วยเหลือฯ ระยะที่ 3 (101 ต.ค. 65) 81. โครงการเพิ่มกําลังซื้อให้แก่ผู้ที่ต้องการความช่วยเหลือฯ ระยะที่ 3 (102 ต.ค. 65) 82. โครงการเพิ่มกําลังซื้อให้แก่ผู้ที่ต้องการความช่วยเหลือฯ ระยะที่ 3 (104 ต.ค. 65) 83. โครงการเพิ่มกําลังซื้อให้แก่ผู้ที่ต้องการความช่วยเหลือฯ ระยะที่ 3 (115 ต.ค. 65) 84. โครงการเพิ่มกําลังซื้อให้แก่ผู้ที่ต้องการความช่วยเหลือฯ ระยะที่ 3 (119 ต.ค\n"
          ]
        }
      ],
      "source": [
        "print(pipe(\"\"\"การใช้น้ำมันกลุ่มดีเซล เฉลี่ยอยู่ที่ 69.16 ล้านลิตร/วัน ลดลง 4.5% ทั้งนี้ ในการประชุมคณะรัฐมนตรี เมื่อวันที่ 13 กันยายน 2566 มีมติเห็นชอบการปรับลดภาษีสรรพสามิตน้ำมันดีเซล 2.50 บาท/ลิตร ตามชนิดของน้ำมันดีเซล และกองทุนน้ำมันเชื้อเพลิงจะเข้าไปชดเชยเพื่อตรึงราคาน้ำมันดีเซลไม่ให้เกิน 30 บาท/ลิตร โดยมีผลบังคับใช้ตั้งแต่วันที่ 20 ก.ย.-31 ธ.ค. 66 เพื่อลดภาระค่าใช้จ่ายด้านพลังงานให้แก่ประชาชนและภาคธุรกิจ ภายใต้สถานการณ์ราคาน้ำมันดีเซลโลกที่มีความผันผวนจากความกังวลทางเศรษฐกิจ และความผันผวนของค่าเงินดอลลาร์สหรัฐฯ\n",
        "คำถาม: มีมติเห็นชอบการปรับลดภาษีสรรพสามิตน้ำมันดีเซลเท่าไหร่ คำตอบ:\"\"\",\n",
        "    temperature = 0,\n",
        "    repetition_penalty = 1.1,\n",
        "    eos_token_id=1\n",
        ")[0]['generated_text'])"
      ]
    },
    {
      "cell_type": "code",
      "execution_count": null,
      "metadata": {
        "colab": {
          "base_uri": "https://localhost:8080/"
        },
        "id": "3z51-490p7tk",
        "outputId": "01f53ed2-df84-4652-a625-a7b8fb1a2805"
      },
      "outputs": [
        {
          "name": "stderr",
          "output_type": "stream",
          "text": [
            "Setting `pad_token_id` to `eos_token_id`:1 for open-end generation.\n"
          ]
        },
        {
          "name": "stdout",
          "output_type": "stream",
          "text": [
            "การใช้น้ำมันกลุ่มดีเซล เฉลี่ยอยู่ที่ 69.16 ล้านลิตร/วัน ลดลง 4.5% ทั้งนี้ ในการประชุมคณะรัฐมนตรี เมื่อวันที่ 13 กันยายน 2566 มีมติเห็นชอบการปรับลดภาษีสรรพสามิตน้ำมันดีเซล 2.50 บาท/ลิตร ตามชนิดของน้ำมันดีเซล และกองทุนน้ำมันเชื้อเพลิงจะเข้าไปชดเชยเพื่อตรึงราคาน้ำมันดีเซลไม่ให้เกิน 30 บาท/ลิตร โดยมีผลบังคับใช้ตั้งแต่วันที่ 20 ก.ย.-31 ธ.ค. 66 เพื่อลดภาระค่าใช้จ่ายด้านพลังงานให้แก่ประชาชนและภาคธุรกิจ ภายใต้สถานการณ์ราคาน้ำมันดีเซลโลกที่มีความผันผวนจากความกังวลทางเศรษฐกิจ และความผันผวนของค่าเงินดอลลาร์สหรัฐฯ\n",
            "คำถาม: กองทุนน้ำมันเชื้อเพลิงจะเข้าไปชดเชยเพื่อตรึงราคาน้ำมันดีเซลไม่ให้เกินกี่บาท/ลิตร คำตอบ: การอุดหนุนดังกล่าวเป็นการอุดหนุนเฉพาะในส่วนของค่าการตลาดเท่านั้น ไม่ได้รวมถึงค่าน้ํามันที่ประชาชนต้องจ่ายเพิ่มแต่อย่างใด ซึ่งเป็นไปตามกลไกตลาดปกติ ดังนั้น จึงไม่ใช่การลดอัตราการจัดเก็บภาษีลงตามราคาน้ํามันดีเซลในตลาดโลก แต่เป็นเพียงการช่วยเหลือผู้ประกอบการโรงกลั่นนํ้ามันให้มีต้นทุนการผลิตต่ําลง เพื่อบรรเทาผลกระทบต่อค่าครองชีพของประชาชนเท่านั้น ความคิดเห็นที่ 1 “พาณิชย์” เผยเงินเฟ้อเดือน ส.ค.65 อยู่ที่ 7.62% คาดทั้งปี 65 จะติดลบน้อยกว่าปีนี้ ชี้แนวโน้มยังสูงขึ้นต่อเนื่อง <person> อธิบดีกรมการค้าต่างประเทศ เปิดเผยว่า จากการติดตามภาวะราคาสินค้าอุปโภคบริโภคในช่วงที่ผ่านมา พบว่าสินค้าส่วนใหญ่มีการปรับตัวเพิ่มขึ้นเล็กน้อยเมื่อเทียบกับช่วงเดียวกันของปี 2564 เนื่องจากเป็นช่วงฤดูฝนทําให้ความต้องการใช้น้ําในภาคการเกษตรเพิ่มสูงขึ้น ประกอบกับมีการกักตุนอาหารไว้บริโภคเอง ส่งผลให้ปริมาณผลผลิตออกสู่ตลาดน้อย อย่างไรก็ตาม ราคาขายปลีกในประเทศปรับตัวขึ้นไม่มากนัก เนื่องจากราคาสินค้าเกษตรหลายรายการปรับลดลง เช่น ข้าวเปลือกเจ้าหอมมะลิ, ข้าวเปลือกเหนียวเมล็ดยาว, มันสําปะหลัง, ข้าวโพดเลี้ยงสัตว์ เป็นต้น ขณะที่ดัชนีราคาผู้บริโภคทั่วไป (CPI) เดือนส.ค. 2565 เท่ากับ 102.72 เทียบกับ 100.45 ในเดือนที่ผ่านมา หรือขยายตัว 0.4% ซึ่งเป็นการขยายตัวต่ําสุดในรอบ 6 ปี นับตั้งแต่เดือนพฤษภาคม 2555 ที่กระทรวงพาณิชย์ได้ประกาศตัวเลข CPI เป็นบวกครั้งแรกในรอบ 5 ปี สําหรับปัจจัยที่ทําให้เงินเฟ้อในเดือนสิงหาคม 2565 ปรับลดลงนั้นมาจากราคาน้ํามันปาล์มดิบซึ่งเป็นวัตถุดิบสําคัญในการผลิตไบโอดีเซลปรับขึ้นเป็นกิโลกรัมละ 3.20-3.40 บาทต่อขวด ทําให้ราคาขายปลีกในประเทศปรับลดลงเหลือ กิโลกรัมละ 2.70-2.75บาท ส่วนผลปาล์มสดยังคงยืนอยู่ในระดับสูงอย่างต่อเนื่องเป็นเดือนที่สองติดต่อกัน นอกจากนี้ ยังมีปัจจัยอื่นๆ ได้แก่ 1.มาตรการช่วยเหลือเกษตรกรผู้ปลูกปาล์มน้ํามันและชาวสวนปาล์มของรัฐบาลที่ออกมาเป็นระยะๆ โดยเฉพาะโครงการประกันรายได้เกษตรกรผู้ปลูกปาล์มน้ํามัน ปี2565 - 2567 และการขยายเวลารับซื้อผลปาล์มทะลายสดในราคาไม่ต่ํากว่าเปอร์เซ็นต์น้ํามัน 18% ออกไปอีก 3 เดือน ตั้งแต่เดือนกันยายน 2565 ถึงธันวาคม 2565 รวมทั้งมาตรการคู่ขนานต่างๆ อาทิ โครงการสินเชื่อชะลอการขายข้าวนาปรัง ปี 2565 ของธกส., โครงการสินเชื่อเพื่อรวบรวมข้าวและสร้างมูลค่าเพิ่มโดยสถาบันเกษตรกร ปี 2565 ของกระทรวงเกษตรและสหกรณ์, โครงการสนับสนุนค่าบริหารจัดการและพัฒนาคุณภาพผลผลิตเกษตรกรผู้ปลูกข้าว : ค่าเก็บเกี่ยวและปรับปรุงคุณภาพข้าว ปี 2565 ของกรมส่งเสริมสหกรณ์, โครงการสินเชื่อเพื่อเป็นค่าใช้จ่ายในการประกอบอาชีพชาวนา ชาวไร่ ปี 2565 ของกรมส่งเสริมการเกษตร, โครงการสร้างความเข้มแข็งให้แก่เกษตรกรรายย่อยในการเพาะเลี้ยงเห็ดเศรษฐกิจชุมชน ปี 2565 ของศูนย์เรียนรู้การเพิ่มประสิทธิภาพการผลิตสินค้าเกษตร(ศพก.) อําเภอไชยา จังหวัดสุราษฎร์ธานี, โครงการประกันภัยข้าวนาปี ปีการผลิต 2565 ของกระทรวงการคลัง, โครงการประกันภัยพืชผลทางการเกษตร ปี 2565 ของกระทรวงเกษตรและสหกรณ์, โครงการประกันภัยโคนม ปี 2565 ขององค์การส่งเสริมกิจการโคนมแห่งประเทศไทย (อ.ส.ค.), โครงการประกันภัยข้าวนาปี ปีการผลิต 2565 ของกระทรวงเกษตรและสหกรณ์, โครงการประกันภัยข้าวนาปี ปีการผลิต 2565 ของกระทรวงเกษตรและสหกรณ์, โครงการประกันภัยยางพารา ปีการผลิต 2565 ของกระทรวงเกษตรและสหกรณ์, โครงการประกันภัยโคเนื้อ ปีการผลิต 2565 ของกระทรวงการอุดมศึกษา วิทยาศาสตร์ วิจัยและนวัตกรรม, โครงการประกันภัยข้าวนาปี ปีการผลิต 2565 ของกระทรวงเกษตรและสหกรณ์, โครงการประกันภัยข้าวนาปี ปีการผลิต 2565 ของกระทรวงเกษตรและสหกรณ์, โครงการประกันภัยข้าวนาปี ปีการผลิต 2565 ของกระทรวงเกษตรและสหกรณ์, โครงการประกันภัยข้าวนาปี ปีการผลิต 2565 ของกระทรวงเกษตรและสหกรณ์, โครงการประกันภัยข้าวนาปี ปีการผลิต 2565 ของกระทรวงเกษตรและสหกรณ์, โครงการประกันภัยข้าวนาปี ปีการผลิต 2565 ของกระทรวงเกษตรและสหกรณ์, โครงการประกันภัยข้าวนาปี ปีการผลิต 2565 ของกระทรวงเกษตรและสหกรณ์, โครงการประกันภัยข้าวนาปี ปีการผลิต 2565 ของกระทรวงเกษตรและสหกรณ์, โครงการประกันภัยข้าวนาปี ปีการผลิต 2565 ของกระทรวงเกษตรและสหกรณ์, โครงการประกันภัยข้าวนาปี ปีการผลิต 2565 ของกระทรวงเกษตรและสหกรณ์, โครงการประกันภัยข้าวนาปี ปีการผลิต 2565 ของกระทรวงเกษตรและสหกรณ์, โครงการประกันภัยข้าวนาปี ปีการผลิต 2565 ของกระทรวงเกษตรและสหกรณ์, โครงการประกันภัยข้าวนาปี ปีการผลิต 2565 ของกระทรวงเกษตรและสหกรณ์, โครงการประกันภัยข้าวนาปี ปีการผลิต 2565 ของกระทรวงเกษตรและสหกรณ์, โครงการประกันภัยข้าวนาปี ปีการผลิต 2565 ของกระทรวงเกษตรและสหกรณ์, โครงการประกันภัยข้าวนาปี ปีการผลิต 2565 ของกระทรวงเกษตรและสหกรณ์, โครงการประกันภัยข้าวนาปี ปีการผลิต 2565 ของกระทรวงเกษตรและสหกรณ์, โครงการประกันภัยข้าวนาปี ปีการผลิต 2565 ของกระทรวงเกษตรและสหกรณ์, โครงการประกันภัยข้าวนาปี ปีการผลิต 2565 ของกระทรวงเกษตรและสหกรณ์, โครงการประกันภัยข้าวนาปี ปีการผลิต 2565 ของกระทรวงเกษตรและสหกรณ์, โครงการประกันภัยข้าวนาปี ปีการผลิต 2565 ของกระทรวงเกษตรและสหกรณ์, โครงการประกันภัยข้าวนาปี ปีการผลิต 2565 ของกระทรวงเกษตรและสหกรณ์, โครงการประกันภัยข้าวนาปี ปีการผลิต 2565 ของกระทรวงเกษตรและสหกรณ์, โครงการประกันภัยข้าวนาปี ปีการผลิต 2565 ของกระทรวงเกษตรและสหกรณ์, โครงการประกันภัยข้าวนาปี ปีการผลิต 2565 ของกระทรวงเกษตรและสหกรณ์, โครงการประกันภัยข้าวนาปี ปีการผลิต 2565 ของกระทรวงเกษตรและสหกรณ์, โครงการประกันภัยข้าวนาปี ปีการผลิต 2565 ของกระทรวงเกษตรและสหกรณ์, โครงการประกันภัยข้าวนาปี ปีการผลิต 2565 ของกระทรวงเกษตรและสหกรณ์, โครงการประกันภัยข้าวนาปี ปีการผลิต 2565 ของกระทรวงเกษตรและสหกรณ์, โครงการประกันภัยข้าวนาปี ปีการผลิต 2565 ของกระทรวงเกษตรและสหกรณ์, โครงการประกันภัยข้าวนาปี ปีการผลิต 2565 ของกระทรวงเกษตรและสหกรณ์, โครงการประกันภัยข้าวนาปี ปีการผลิต 2565 ของกระทรวงเกษตรและสหกรณ์, โครงการประกันภัยข้าวนาปี ปีการผลิต 2565 ของกระทรวงเกษตรและสหกรณ์, โครงการประกันภัยข้าวนาปี ปีการผลิต 2565 ของกระทรวงเกษตรและสหกรณ์, โครงการประกันภัยข้าวนาปี ปีการผลิต 2565 ของกระทรวงเกษตรและสหกรณ์, โครงการประกันภัยข้าวนาปี ปีการผลิต 2565 ของกระทรวงเกษตรและสหกรณ์, โครงการประกันภัยข้าวนาปี ปีการผลิต 2565 ของกระทรวงเกษตรและสหกรณ์, โครงการประกันภัยข้าวนาปี ปีการผลิต 2565 ของกระทรวงเกษตรและสหกรณ์, โครงการประกันภัยข้าวนาปี ปีการผลิต 2565 ของกระทรวงเกษตรและสหกรณ์, โครงการประกันภัยข้าวนาปี ปีการผลิต 2565 ของกระทรวงเกษตรและสหกรณ์, โครงการประกันภัยข้าวนาปี ปีการผลิต 2565 ของกระทรวงเกษตรและสหกรณ์, โครงการประกันภัยข้าวนาปี ปีการผลิต 2565 ของกระทรวงเกษตรและสหกรณ์, โครงการประกันภัยข้าวนาปี ปีการผลิต 2565 ของกระทรวงเกษตรและสหกรณ์, โครงการประกันภัยข้าวนาปี ปีการผลิต 2565 ของกระทรวงเกษตรและสหกรณ์, โครงการประกันภัยข้าวนาปี ปีการผลิต 2565 ของกระทรวงเกษตรและสหกรณ์, โครงการประกันภัยข้าวนาปี ปีการผลิต 2565 ของกระทรวงเกษตรและสหกรณ์, โครงการประกันภัยข้าวนาปี ปีการผลิต 2565 ของกระทรวงเกษตรและสหกรณ์, โครงการประกันภัยข้าวนาปี ปีการผลิต 2565 ของกระทรวงเกษตรและสหกรณ์, โครงการประกันภัยข้าวนาปี ปีการผลิต 2565 ของกระทรวงเกษตรและสหกรณ์, โครงการประกันภัยข้าวนาปี ปีการผลิต 2565 ของกระทรวงเกษตรและสหกรณ์, โครงการประกันภัยข้าวนาปี ปีการผลิต 2565 ของกระทรวงเกษตรและสหกรณ์, โครงการประกันภัยข้าวนาปี ปีการผลิต 2565 ของกระทรวงเกษตรและสหกรณ์, โครงการประกันภัยข้าวนาปี ปีการผลิต 2565 ของกระทรวงเกษตรและสหกรณ์, โครงการประกันภัยข้าวนาปี ปีการผลิต 2565 ของกระทรวงเกษตรและสหกรณ์, โครงการประกันภัยข้าวนาปี ปีการผลิต 2565 ของกระทรวงเกษตรและสหกรณ์, โครงการประกันภัยข้าวนาปี ปีการผลิต 2565 ของกระทรวงเกษตรและสหกรณ์, โครงการประกันภัยข้าวนาปี ปีการผลิต 2565 ของกระทรวงเกษตรและสหกรณ์, โครงการประกันภัยข้าวนาปี ปีการผลิต 2565 ของกระทรวงเกษตรและสหกรณ์, โครงการประกันภัยข้าวนาปี ปีการผลิต 2565 ของกระทรวงเกษตรและสหกรณ์, โครงการประกันภัยข้าวนาปี ปีการผลิต 2565 ของกระทรวงเกษตรและสหกรณ์, โครงการประกันภัยข้าวนาปี ปีการผลิต 2565 ของกระทรวงเกษตรและสหกรณ์, โครงการประกันภัยข้าวนาปี ปีการผลิต 2565 ของกระทรวงเกษตรและสหกรณ์, โครงการประกันภัยข้าวนาปี ปีการผลิต 2565 ของกระทรวงเกษตรและสหกรณ์, โครงการประกันภัยข้าวนาปี ปีการผลิต 2565 ของกระทรวงเกษตรและสหกรณ์, โครงการประกันภัยข้าวนาปี ปีการผลิต 2565 ของกระทรวงเกษตรและสหกรณ์, โครงการประกันภัยข้าวนาปี ปีการผลิต 2565 ของกระทรวงเกษตรและสหกรณ์, โครงการประกันภัยข้าวนาปี ปีการผลิต 2565 ของกระทรวงเกษตรและสหกรณ์, โครงการประกันภัยข้าวนาปี ปีการผลิต 2565 ของกระทรวงเกษตรและสหกรณ์, โครงการประกันภัยข้าวนาปี ปีการผลิต 2565 ของกระทรวงเกษตรและสหกรณ์, โครงการประกันภัยข้าวนาปี ปีการผลิต 2565 ของกระทรวงเกษตรและสหกรณ์, โครงการประกันภัยข้าวนาปี ปีการผลิต 2565 ของกระทรวงเกษตรและสหกรณ์, โครงการประกันภัยข้าวนาปี ปีการผลิต 2565 ของกระทรวงเกษตรและสหกรณ์, โครงการประกันภัยข้าวนาปี ปีการผลิต 2565 ของกระทรวงเกษตรและสหกรณ์, โครงการประกันภัยข้าวนาปี ปีการผลิต 2565 ของกระทรวงเกษตรและสหกรณ์, โครงการประกันภัยข้าวนาปี ปีการผลิต 2565 ของกระทรวงเกษตรและสหกรณ์, โครงการประกันภัยข้าวนาปี ปีการผลิต 2565 ของกระทรวงเกษตรและสหกรณ์, โครงการประกันภัยข้าวนาปี ปีการผลิต 2565 ของกระทรวงเกษตรและสหกรณ์, โครงการประกันภัยข้าวนาปี ปีการผลิต 2565 ของกระทรวงเกษตรและสหกรณ์, โครงการประกันภัยข้าวนาปี ปีการผลิต 2565 ของกระทรวงเกษตรและสหกรณ์, โครงการประกันภัยข้าวนาปี ปีการผลิต 2565 ของกระทรวงเกษตรและสหกรณ์, โครงการประกันภัยข้าวนาปี ปีการผลิต 2565 ของกระทรวงเกษตรและสหกรณ์, โครงการประกันภัยข้าวนาปี ปีการผลิต 2565 ของกระทรวงเกษตรและสหกรณ์, โครงการประกันภัยข้าวนาปี ปีการผลิต 2565 ของกระทรวงเกษตรและสหกรณ์, โครงการประกันภัยข้าวนาปี ปีการผลิต 2565 ของกระทรวงเกษตรและสหกรณ์, โครงการประกันภัยข้าวนาปี ปีการผลิต 2565 ของกระทรวงเกษตรและสหกรณ์, โครงการประกันภัยข้าวนาปี ปีการผลิต 2565 ของกระทรวงเกษตรและสหกรณ์, โครงการประกันภัยข้าวนาปี ปีการผลิต 2565 ของกระทรวงเกษตรและสหกรณ์, โครงการประกันภัยข้าวนาปี ปีการผลิต 2565 ของกระทรวงเกษตรและสหกรณ์, โครงการประกันภัยข้าวนาปี ปีการผลิต 2565 ของกระทรวงเกษตรและสหกรณ์, โครงการประกันภัยข้าวนาปี ปีการผลิต 2565 ของกระทรวงเกษตรและสหกรณ์, โครงการประกันภัยข้าวนาปี ปีการผลิต 2565 ของกระทรวงเกษตรและสหกรณ์, โครงการประกันภัยข้าวนาปี ปีการผลิต 2565 ของกระทรวงเกษตรและสหกรณ์, โครงการประกันภัยข้าวนาปี ปีการผลิต 2565 ของกระทรวงเกษตรและสหกรณ์, โครงการประกันภัยข้าวนาปี ปีการผลิต 2565 ของกระทรวงเกษตรและสหกรณ์, โครงการประกันภัยข้าวนาปี ปีการผลิต 2565 ของกระทรวงเกษตรและสหกรณ์, โครงการประกันภัยข้าวนาปี ปีการผลิต 2565 ของกระทรวงเกษตรและสหกรณ์, โครงการประกันภัยข้าวนาปี ปีการผลิต 2565 ของกระทรวงเกษตรและสหกรณ์, โครงการประกันภัยข้าวนาปี ปีการผลิต 2565 ของกระทรวงเกษตรและสหกรณ์, โครงการประกันภัยข้าวนาปี ปีการผลิต 2565 ของกระทรวงเกษตรและสหกรณ์, โครงการประกันภัยข้าวนาปี ปีการผลิต 2565 ของกระทรวงเกษตรและสหกรณ์, โครงการประกันภัยข้าวนาปี ปีการผลิต 2565 ของกระทรวงเกษตรและสหกรณ์, โครงการประกันภัยข้าวนาปี ปีการผลิต 2565 ของกระทรวงเกษตรและสหกรณ์, โครงการประกันภัยข้าวนาปี ปีการผลิต 2565 ของกระทรวงเกษตรและสหกรณ์, โครงการประกันภัยข้าวนาปี ปีการผลิต 2565 ของกระทรวงเกษตรและสหกรณ์, โครงการประกันภัยข้าวนาปี ปีการผลิต 2565 ของกระทรวงเกษตรและสหกรณ์, โครงการประกันภัยข้าวนาปี ปีการผลิต 2565 ของกระทรวงเกษตรและสหกรณ์, โครงการประกันภัยข้าวนาปี ปีการผลิต 2565 ของกระทรวงเกษตรและสหกรณ์, โครงการประกันภัยข้าวนาปี ปีการผลิต 2565 ของกระทรวงเกษตรและสหกรณ์, โครงการประกันภัยข้าวนาปี ปีการผลิต 2565 ของกระทรวงเกษตรและสหกรณ์, โครงการประกันภัยข้าวนาปี ปีการผลิต 2565 ของกระทรวงเกษตรและสหกรณ์, โครงการประกันภัยข้าวนาปี ปีการผลิต 2565 ของกระทรวงเกษตรและสหกรณ์, โครงการประกันภัยข้าวนาปี ปีการผลิต 2565 ของกระทรวงเกษตรและสหกรณ์, โครงการประกันภัย\n"
          ]
        }
      ],
      "source": [
        "print(pipe(\"\"\"การใช้น้ำมันกลุ่มดีเซล เฉลี่ยอยู่ที่ 69.16 ล้านลิตร/วัน ลดลง 4.5% ทั้งนี้ ในการประชุมคณะรัฐมนตรี เมื่อวันที่ 13 กันยายน 2566 มีมติเห็นชอบการปรับลดภาษีสรรพสามิตน้ำมันดีเซล 2.50 บาท/ลิตร ตามชนิดของน้ำมันดีเซล และกองทุนน้ำมันเชื้อเพลิงจะเข้าไปชดเชยเพื่อตรึงราคาน้ำมันดีเซลไม่ให้เกิน 30 บาท/ลิตร โดยมีผลบังคับใช้ตั้งแต่วันที่ 20 ก.ย.-31 ธ.ค. 66 เพื่อลดภาระค่าใช้จ่ายด้านพลังงานให้แก่ประชาชนและภาคธุรกิจ ภายใต้สถานการณ์ราคาน้ำมันดีเซลโลกที่มีความผันผวนจากความกังวลทางเศรษฐกิจ และความผันผวนของค่าเงินดอลลาร์สหรัฐฯ\n",
        "คำถาม: กองทุนน้ำมันเชื้อเพลิงจะเข้าไปชดเชยเพื่อตรึงราคาน้ำมันดีเซลไม่ให้เกินกี่บาท/ลิตร คำตอบ:\"\"\",\n",
        "    temperature = 0,\n",
        "    repetition_penalty = 1.2,\n",
        "    eos_token_id=1\n",
        ")[0]['generated_text'])"
      ]
    },
    {
      "cell_type": "code",
      "execution_count": null,
      "metadata": {
        "colab": {
          "base_uri": "https://localhost:8080/"
        },
        "id": "Yfha2l_qp7wd",
        "outputId": "2fcfdb72-13d7-4fa3-c141-3f00b25da453"
      },
      "outputs": [
        {
          "name": "stderr",
          "output_type": "stream",
          "text": [
            "Setting `pad_token_id` to `eos_token_id`:1 for open-end generation.\n"
          ]
        },
        {
          "name": "stdout",
          "output_type": "stream",
          "text": [
            "กระต่ายหลงตัวเอง ชอบโอ้อวดว่าวิ่งเร็วกว่าใครๆ เมื่อเห็นเต่าเดินต้วมเตี้ยมมาก็หัวเราะเยาะ พร้อมกับพูดจาถากถางว่าต่อให้เต่าวิ่งนำหน้าไปก่อน กระต่ายก็สามารถก็แซงหน้าได้อยู่ดี ทำให้เต่าเกิดความไม่พอใจ จึงท้ากระต่ายวิ่งแข่งกัน กระต่ายเริ่มวิ่งนำหน้าเต่าไปไกล แต่เมื่อไปถึงครึ่งทาง ก็เกิดความชะล่าใจ หยุดพักเอนกายนอนใต้ต้นไม้ใหญ่จนเผลอหลับไป ในขณะที่เต่ายังคงเดินต่อไปเรื่อยๆ อย่างไม่ลดละ เมื่อกระต่ายตื่นนอนขึ้นมาก็ตกใจ รีบลนลานวิ่งไปยังเส้นชัย ทว่าเต่าไปถึงเส้นชัยก่อนแล้ว\n",
            "คำถาม: เต่าหรือกระต่ายถึงเส้นชัยก่อน \n",
            " คำตอบ: ฉันต่างหากที่เป็นฝ่ายชนะ เพราะฉันวิ่งเข้าเส้นชัยเป็นคนแรก กระต่ายจึงรีบวิ่งไปกอดคอเพื่อน แล้วพูดขึ้นว่า \"นี่ไงล่ะ ที่ฉันบอกว่าฉันวิ่งเร็ว\" ความคิดเห็นที่ 118-1 <person> ความคิดเห็นที่ 118-2 ขําตรงประโยคสุดท้ายนี่แหละค่ะ 55555555555555 ความคิดเห็นที่ 119 สวัสดีเช้าวันใหม่จ้าทุกคน วันนี้อากาศดี๊ดีเนอะ ฝนตกปรอยๆทั้งวันเลย ดูแลสุขภาพกันด้วยนะค๊าาาา ความคิดเห็นที่ 120 สวัสดีค่ะพี่ฝน พี่นุจ มลศรี และทักทายขาซุ่มที่น่ารักทุกท่านด้วยค่ะ เมื่อคืนเค้าหายไปเพราะเน็ตหลุดค่ะ เลยไม่ได้เข้ามาคุย แต่ตามอ่านอยู่นะคะ คิดถึงทุกคนเลยค่ะ ช่วงนี้งานยุ่งมาก ไม่ได้มาเวิ่นด้วยเลย แต่ก็คิดถึงเสมอน๊าาา... ความคิดเห็นที่ 121 หวัดดีจ้ะ<person> งานเยอะเหรอ สู้ๆนะจ๊าาาาา....ว่างๆแวะมาคุยกันบ้างเน้อออ.. ความคิดเห็นที่ 122 กรี๊ดดดดดดดดดดดดดดด เค้ามาแล้วววววววววววววววววววววววววววววววววววววววววววววววววววววววววววววววว ความคิดเห็นที่ 123 กรี๊ดดดดดดดดดดดดดดดดดดดดดดดดดดดดดดดดดดดดดดดดดดดดดดดดดดดดดดดดดดดดดดดดดดดดดดดดดดดดดดดดดดดดดดดดดดดดดดดดดดดดดดดดดดดดดดดดดดดดดดดดดดดดดดดดดดดดดดดดดดดดดดดดดดดดดดดดดดดดดดดดดดดดดดดดดดดดดดดดดดดดดดดดดดดดดดดดดดดดดดดดดดดดดดดดดดดดดดดดดดดดดดดดดดดดดดดดดดดดดดดดดดดดดดดดดดดดดดดดดดดดดดดดดดดดดดดดดดดดดดดดดดดดดดดดดดดดดดดดดดดดดดดดดดดดดดดดดดดดดดดดดดดดดดดดดดดดดดดดดดดดดดดดดดดดดดดดดดดดดดดดดดดดดดดดดดดดดดดดดดดดดดดดดดดดดดดดดดดดดดดดดดดดดดดดดดดดดดดดดดดดดดดดดดดดดดดดดดดดดดดดดดดดดดดดดดดดดดดดดดดดดดดดดดดดดดดดดดดดดดดดดดดดดดดดดดดดดดดดดดดดดดดดดดดดดดดดดดดดดดดดดดดดดดดดดดดดดดดดดดดดดดดดดดดดดดดดดดดดดดดดดดดดดดดดดดดดดดดดดดดดดดดดดดดดดดดดดดดดดดดดดดดดดดดดดดดดดดดดดดดดดดดดดดดดดดดดดดดดดดดดดดดดดดดดดดดดดดดดดดดดดดดดดดดดดดดดดดดดดดดดดดดดดดดดดดดดดดดดดดดดดดดดดดดดดดดดดดดดดดดดดดดดดดดดดดดดดดดดดดดดดดดดดดดดดดดดดดดดดดดดดดดดดดดดดดดดดดดดดดดดดดดดดดดดดดดดดดดดดดดดดดดดดดดดดดดดดดดดดดดดดดดดดดดดดดดดดดดดดดดดดดดดดดดดดดดดดดดดดดดดดดดดดดดดดดดดดดดดดดดดดดดดดดดดดดดดดดดดดดดดดดดดดดดดดดดดดดดดดดดดดดดดดดดดดดดดดดดดดดดดดดดดดดดดดดดดดดดดดดดดดดดดดดดดดดดดดดดดดดดดดดดดดดดดดดดดดดดดดดดดดดดดดดดดดดดดดดดดดดดดดดดดดดดดดดดดดดดดดดดดดดดดดดดดดดดดดดดดดดดดดดดดดดดดดดดดดดดดดดดดดดดดดดดดดดดดดดดดดดดดดดดดดดดดดดดดดดดดดดดดดดดดดดดดดดดดดดดดดดดดดดดดดดดดดดดดดดดดดดดดดดดดดดดดดดดดดดดดดดดดดดดดดดดดดดดดดดดดดดดดดดดดดดดดดดดดดดดดดดดดดดดดดดดดดดดดดดดดดดดดดดดดดดดดดดดดดดดดดดดดดดดดดดดดดดดดดดดดดดดดดดดดดดดดดดดดดดดดดดดดดดดดดดดดดดดดดดดดดดดดดดดดดดดดดดดดดดดดดดดดดดดดดดดดดดดดดดดดดดดดดดดดดดดดดดดดดดดดดดดดดดดดดดดดดดดดดดดดดดดดดดดดดดดดดดดดดดดดดดดดดดดดดดดดดดดดดดดดดดดดดดดดดดดดดดดดดดดดดดดดดดดดดดดดดดดดดดดดดดดดดดดดดดดดดดดดดดดดดดดดดดดดดดดดดดดดดดดดดดดดดดดดดดดดดดดดดดดดดดดดดดดดดดดดดดดดดดดดดดดดดดดดดดดดดดดดดดดดดดดดดดดดดดดดดดดดดดดดดดดดดดดดดดดดดดดดดดดดดดดดดดดดดดดดดดดดดดดดดดดดดดดดดดดดดดดดดดดดดดดดดดดดดดดดดดดดดดดดดดดดดดดดดดดดดดดดดดดดดดดดดดดดดดดดดดดดดดดดดดดดดดดดดดดดดดดดดดดดดดดดดดดดดดดดดดดดดดดดดดดดดดดดดดดดดดดดดดดดดดดดดดดดดดดดดดดดดดดดดดดดดดดดดดดดดดดดดดดดดดดดดดดดดดดดดดดดดดดดดดดดดดดดดดดดดดดดดดดดดดดดดดดดดดดดดดดดดดดดดดดดดดดดดดดดดดดดดดดดดดดดดดดดดดดดดดดดดดดดดดดดดดดดดดดดดดดดดดดดดดดดดดดดดดดดดดดดดดดดดดดดดดดดดดดดดดดดดดดดดดดดดดดดดดดดดดดดดดดดดดดดดดดดดดดดดดดดดดดดดดดดดดดดดดดดดดดดดดดดดดดดดดดดดดดดดดดดดดดดดดดดดดดดดดดดดดดดดดดดดดดดดดดดดดดดดดดดดดดดดดดดดดดดดดดดดดดดดดดดดดดดดดดดดดดดดดดดดดดดดดดดดดดดดดดดดดดดดดดดดดดดดดดดดดดดดดดดดดดดดดดดดดดดดดดดดดดดดดดดดดดดดดดดดดดดดดดดดดดดดดดดดดดดดดดดดดดดดดดดดดดดดดดดดดดดดดดดดดดดดดดดดดดดดดดดดดดดดดดดดดดดดดดดดดดดดดดดดดดดดดดดดดดดดดดดดดดดดดดดดดดดดดดดดดดดดดดดดดดดดดดดดดดดดดดดดดดดดดดดดดดดดดดดดดดดดดดดดดดดดดดดดดดดดดดดดดดดดดดดดดดดดดดดดดดดดดดดดดดดดดดดดดดดดดดดดดดดดดดดดดดดดดดดดดดดดดดดดดดดดดดดดดดดดดดดดดดดดดดดดดดดดดดดดดดดดดดดดดดดดดดดดดดดดดดดดดดดดดดดดดดดดดดดดดดดดดดดดดดดดดดดดดดดดดดดดดดดดดดดดดดดดดดดดดดดดดดดดดดดดดดดดดดดดดดดดดดดดดดดดดดดดดดดดดดดดดดดดดดดดดดดดดดดดดดดดดดดดดดดดดดดดดดดดดดดดดดดดดดดดดดดดดดดดดดดดดดดดดดดดดดดดดดดดดดดดดดดดดดดดดดดดดดดดดดดดดดดดดดดดดดดดดดดดดดดดดดดดดดดดดดดดดดดดดดดดดดดดดดดดดดดดดดดดดดดดดดดดดดดดดดดดดดดดดดดดดดดดดดดดดดดดดดดดดดดดดดดดดดดดดดดดดดดดดดดดดดดดดดดดดดดดดดดดดดดดดดดดดดดดดดดดดดดดดดดดดดดดดดดดดดดดดดดดดดดดดดดดดดดดดดดดดดดดดดดดดดดดดดดดดดดดดดดดดดดดดดดดดดดดดดดดดดดดดดดดดดดดดดดดดดดดดดดดดดดดดดดดดดดดดดดดดดดดดดดดดดดดดดดดดดดดดดดดดดดดดดดดดดดดดดดดดดดดดดดดดดดดดดดดดดดดดดดดดดดดดดดดดดดดดดดดดดดดดดดดดดดดดดดดดดดดดดดดดดดดดดดดดดดดดดดดดดดดดดดดดดดดดดดดดดดดดดดดดดดดดดดดดดดดดดดดดดดดดดดดดดดดดดดดดดดดดดดดดดดดดดดดดดดดดดดดดดดดดดดดดดดดดดดดดดดดดดดดดดดดดดดดดดดดดดดดดดดดดดดดดดดดดดดดดดดดดดดดดดดดดดดดดดดดดดดดดดดดดดดดดดดดดดดดดดดดดดดดดดดดดดดดดดดดดดดดดดดดดดดดดดดดดดดดดดดดดดดดดดดดดดดดดดดดดดดดดดดดดดดดดดดดดดดดดดดดดดดดดดดดดดดดดดดดดดดดดดดดดดดดดดดดดดดดดดดดดดดดดดดดดดดดดดดดดดดดดดดดดดดดดดดดดดดดดดดดดดดดดดดดดดดดดดดดดดดดดดดดดดดดดดดดดดดดดดดดดดดดดดดดดดดดดดดดดดดดดดดดดดดดดดดดดดดดดดดดดดดดดดดดดดดดดดดดดดดดดดดดดดดดดดดดดดดดดดดดดดดดดดดดดดดดดดดดดดดดดดดดดดดดดดดดดดดดดดดดดดดดดดดดดดดดดดดดดดดดดดดดดดดดดดดดดดดดดดดดดดดดดดดดดดดดดดดดดดดดดดดดดดดดดดดดดดดดดดดดดดดดดดดดดดดดดดดดดดดดดดดดดดดดดดดดดดดดดดดดดดดดดดดดดดดดดดดดดดดดดดดดดดดดดดดดดดดดดดดดดดดดดดดดดดดดดดดดดดดดดดดดดดดดดดดดดดดดดดดดดดดดดดดดดดดดดดดดดดดดดดดดดดดดดดดดดดดดดดดดดดดดดดดดดดดดดดดดดดดดดดดดดดดดดดดดดดดดดดดดดดดดดดดดดดดดดดดดดดดดดดดดดดดดดดดดดดดดดดดดดดดดดดดดดดดดดดดดดดดดดดดดดดดดดดดดดดดดดดดดดดดดดดดดดดดดดดดดดดดดดดดดดดดดดดดดดดดดดดดดดดดดดดดดดดดดดดดดดดดดดดดดดดดดดดดดดดดดดดดดดดดดดดดดดดดดดดดดดดดดดดดดดดดดดดดดดดดดดดดดดดดดดดดดดดดดดดดดดดดดดดดดดดดดดดดดดดดดดดดดดดดดดดดดดดดดดดดดดดดดดดดดดดดดดดดดดดดดดดดดดดดดดดดดดดดดดดดดดดดดดดดดดดดดดดดดดดดดดดดดดดดดดดดดดดดดดดดดดดดดดดดดดดดดดดดดดดดดดดดดดดดดดดดดดดดดดดดดดดดดดดดดดดดดดดดดดดดดดดดดดดดดดดดดดดดดดดดดดดดดดดดดดดดดดดดดดดดดดดดดดดดดดดดดดดดดดดดดดดดดดดดดดดดดดดดดดดดดดดดดดดดดดดดดดดดดดดดดดดดดดดดดดดดดดดดดดดดดดดดดดดดดดดดดดดดดดดดดดดดดดดดดดดดดดดดดดดดดดดดดดดดดดดดดดดดดดดดดดดดดดดดดดดดดดดดดดดดดดดดดดดดดดดดดดดดดดดดดดดดดดดดดดดดดดดดดดดดดดดดดดดดดดดดดดดดดดดดดดดดดดดดดดดดดดดดดดดดดดดดดดดดดดดดดดดดดดดดดดดดดดดดดดดดดดดดดดดดดดดดดดดดดดดดดดดดดดดดดดดดดดดดดดดดดดดดดดดดดดดดดดดดดดดดดดดดดดดดดดดดดดดดดดดดดดดดดดดดดดดดดดดดดดดดดดดดดดดดดดดดดดดดดดดดดดดดดดดดดดดดดดดดดดดดดดดดดดดดดดดดดดดดดดดดดดดดดดดดดดดดดดดดดดดดดดดดดดดดดดดดดดดดดดดดดดดดดดดดดดดดดดดดดดดดดดดดดดดดดดดดดดดดดดดดดดดดดดดดดดดดดดดดดดดดดดดดดดดดดดดดดดดดดดดดดดดดดดดดดดดดดดดดดดดดดดดดดดดดดดดดดดดดดดดดดดดดดดดดดดดดดดดดดดดดดดดดดดดดดดดดดดดดดดดดดดดดดดดดดดดดดดดดดดดดดดดดดดดดดดดดดดดดดดดดดดดดดดดดดดดดดดดดดดดดดดดดดดดดดดดดดดดดดดดดดดดดดดดดดดดดดดดดดดดดดดดดดดดดดดดดดดดดดดดดดดดดดดดดดดดดดดดดดดดดดดดดดดดดดดดดดดดดดดดดดดดดดดดดดดดดดดดดดดดดดดดดดดดดดดดดดดดดดดดดดดดดดดดดดดดดดดดดดดดดดดดดดดดดดดดดดดดดดดดดดดดดดดดดดดดดดดดดดดดดดดดดดดดดดดดดดดดดดดดดดดดดดดดดดดดดดดดดดดดดดดดดดดดดดดดดดดดดดดดดดดดดดดดดดดดดดดดดดดดดดดดดดดดดดดดดดดดดดดดดดดดดดดดดดดดดดดดดดดดดดดดดดดดดดดดดดดดดดดดดดดดดดดดดดดดดดดดดดดดดดดดดดดดดดดดดดดดดดดดดดดดดดดดดดดดดดดดดดดดดดดดดดดดดดดดดดดดดดดดดดดดดดดดดดดดดดดดดดดดดดดดดดดดดดดดดดดดดดดดดดดดดดดดดดดดดดดดดดดดดดดดดดดดดดดดดดดดดดดดดดดดดดดดดดดดดดดดดดดดดดดดดดดดดดดดดดดดดดดดดดดดดดดดดดดดดดดดดดดดดดดดดดดดดดดดดดดดดดดดดดดดดดดดดดดดดดดดดดดดดดดดดดดดดดดดดดดดดดดดดดดดดดดดดดดดดดดดดดดดดดดดดดดดดดดดดดดดดดดดดดดดดดดดดดดดดดดดดดดดดดดดดดดดดดดดดดดดดดดดดดดดดดดดดดดดดดดดดดดดดดดดดดดดดดดดดดดดดดดดดดดดดดดดดดดดดดดดดดดดดดดดดดดดดดดดดดดดดดดดดดดดดดดดดดดดดดดดดดดดดดดดดดดดดดดดดดดดดดดดดดดดดดดดดดดดดดดดดดดดดดดดดดดดดดดดดดดดดดดดดดดดดดดดดดดดดดดดดดดดดดดดดดดดดดดดดดดดดดดดดดดดดดดดดดดดดดดดดดดดดดดดดดดดดดดดดดดดดดดดดดดดดดดดดดดดดดดดดดดดดดดดดดดดดดดดดดดดดดดดดดดดดดดดดดดดดดดดดดดดดดดดดดดดดดดดดดดดดดดดดดดดดดดดดดดดดดดดดดดดดดดดดดดดดดดดดดดดดดดดดดดดดดดดดดดดดดดดดดดดดดดดดดดดดดดดดดดดดดดดดดดดดดดดดดดดดดดดดดดดดดดดดดดดดดดดดดดดดดดดดดดดดดดดดดดดดดดดดดดดดดดดดดดดดดดดดดดดดดดดดดดดดดดดดดดดดดดดดดดดดดดดดดดดดดดดดดดดดดดดดดดดดดดดดดดดดดดดดดดดดดดดดดดดดดดดดดดดดดดดดดดดดดดดดดดดดดดดดดดดดดดดดดดดดดดดดดดดดดดดดดดดดดดดดดดดดดดดดดดดดดดดดดดดดดดดดดดดดดดดดดดดดดดดดดดดดดดดดดดดดดดดดดดดดดดดดดดดดดดดดดดดดดดดดดดดดดดดดดดดดดดดดดดดดดดดดดดดดดดดดดดดดดดดดดดดดดดดดดดดดดดดดดดดดดดดดดดดดดดดดดดดดดดดดดดดดดดดดดดดดดดดดดดดดดดดดดดดดดดดดดดดดดดดดดดดดดดดดดดดดดดดดดดดดดดดดดดดดดดดดดดดดดดดดดดดดดดดดดดดดดดดดดดดดดดดดดดดดดดดดดดดดดดดดดดดดดดดดดดดดดดดดดดดดดดดดดดดดดดดดดดดดดดดดดดดดดดดดดดดดดดดดดดดดดดดดดดดดดดดดดดดดดดดดดดดดดดดดดดดดดดดดดดดดดดดดดดดดดดดดดดดดดดดดดดดดดดดดดดดดดดดดดดดดดดดดดดดดดดดดดดดดดดดดดดดดดดดดดดดดดดดดดดดดดดดดดดดดดดดดดดดดดดดดดดดดดดดดดดดดดดดดดดดดดดดดดดดดดดดดดดดดดดดดดดดดดดดดดดดดดดดดดดดดดดดดดดดดดดดดดดดดดดดดดดดดดดดดดดดดดดดดดดดดดดดดดดดดดดดดดดดดดดดดดดดดดดดดดดดดดดดดดดดดดดดดดดดดดดดดดดดดดดดดดดดดดดดดดดดดดดดดดดดดดดดดดดดดดดดดดดดดดดดดดดดดดดดดดดดดดดดดดดดดดดดดดดดดดดดดดดดดดดดดดดดดดดดดดดดดดดดดดดดดดดดดดดดดดดดดดดดดดดดดดดดดดดดดดดดดดดดดดดดดดดดดดดดดดดดดดดดดดดดดดดดดดดดดดดดดดดดดดดดดดดดดดดดดดดดดดดดดดดดดดดดดดดดดดดดดดดดดดดดดดดดดดดดดดดดดดดดดดดดดดดดดดดดดดดดดดดดดดดดดดดดดดดดดดดดดดดดดดดดดดดดดดดดดดดดดดดดดดดดดดดดดดดดดดดดดดดดดดดดดดดดดดดดดดดดดดดดดดดดดดดดดดดดดดดดดดดดดดดดดดดดดดดดดดดดดดดดดดดดดดดดดดดดดดดดดดดดดดดดดดดดดดดดดดดดดดดดดดดดดดดดดดดดดดดดดดดดดดดดดดดดดดดดดดดดดดดดดดดดดดดดดดดดดดดดดดดดดดดดดดดดดดดดดดดดดดดดดดดดดดดดดดดดดดดดดดดดดดดดดดดดดดดดดดดดดดดดดดดดดดดดดดดดดดดดดดดดดดดดดดดดดดดดดดดดดดดดดดดดดดดดดดดดดดดดดดดดดดดดดดดดดดดดดดดดดดดดดดดดดดดดดดดดดดดดดดดดดดดดดดดดดดดดดดดดดดดดดดดดดดดดดดดดดดดดดดดดดดดดดดดดดดดดดดดดดดดดดดดดดดดดดดดดดดดดดดดดดดดดดดดดดดดดดดดดดดดดดดดดดดดดดดดดดดดดดดดดดดดดดดดดดดดดดดดดดดดดดดดดดดดดดดดดดดดดดดดดดดดดดดดดดดดดดดดดดดดดดดดดดดดดดดดดดดดดดดดดดดดดดดดดดดดดดดดดดดดดดดดดดดดดดดดดดดดดดดดดดดดดดดดดดดดดดดดดดดดดดดดดดดดดดดดดดดดดดดดดดดดดดดดดดดดดดดดดดดดดดดดดดดดดดดดดดดดดดดดดดดดดดดดดดดดดดดดดดดดดดดดดดดดดดดดดดดดดดดดดดดดดดดดดดดดดดดดดดดดดดดดดดดดดดดดดดดดดดดดดดดดดดดดดดดดดดดดดดดดดดดดดดดดดดดดดดดดดดดดดดดดดดดดดดดดดดดดดดดดดดดดดดดดดดดดดดดดดดดดดดดดดดดดดดดดดดดดดดดดดดดดดดดดดดดดดดดดดดดดดดดดดดดดดดดดดดดดดดดดดดดดดดดดดดดดดดดดดดดดดดดดดดดดดดดดดดดดดดดดดดดดดดดดดดดดดดดดดดดดดดดดดดดดดดดดดดดดดดดดดดดดดดดดดดดดดดดดดดดดดดดดดดดดดดดดดดดดดดดดดดดดดดดดดดดดดดดดดดดดดดดดดดดดดดดดดดดดดดดดดดดดดดดดดดดดดดดดดดดดดดดดดดดดดดดดดดดดดดดดดดดดดดดดดดดดดดดดดดดดดดดดดดดดดดดดดดดดดดดดดดดดดดดดดดดดดดดดดดดดดดดดดดดดดดดดดดดดดดดดดดดดดดดดดดดดดดดดดดดดดดดดดดดดดดดดดดดดดดดดดดดดดดดดดดดดดดดดดดดดดดดดดดดดดดดดดดดดดดดดดดดดดดดดดดดดดดดดดดดดดดดดดดดดดดดดดดดดดดดดดดดดดดดดดดดดดดดดดดดดดดดดดดดดดดดดดดดดดดดดดดดดดดดดดดดดดดดดดดดดดดดดดดดดดดดดดดดดดดดดดดดดดดดดดดดดดดดดดดดดดดดดดดดดดดดดดดดดดดดดดดดดดดดดดดดดดดดดดดดดดดดดดดดดดดดดดดดดดดดดดดดดดดดดดดดดดดดดดดดดดดดดดดดดดดดดดดดดดดดดดดดดดดดดดดดดดดดดดดดดดดดดดดดดดดดดดดดดดดดดดดดดดดดดดดดดดดดดดดดดดดดดดดดดดดดดดดดดดดดดดดดดดดดดดดดดดดดดดดดดดดดดดดดดดดดดดดดดดดดดดดดดดดดดดดดดดดดดดดดดดดดดดดดดดดดดดดดดดดดดดดดดดดดดดดดดดดดดดดดดดดดดดดดดดดดดดดดดดดดดดดดดดดดดดดดดดดดดดดดดดดดดดดดดดดดดดดดดดดดดดดดดดดดดดดดดดดดดดดดดดดดดดดดดดดดดดดดดดดดดดดดดดดดดดดดดดดดดดดดดดดดดดดดดดดดดดดดดดดดดดดดดดดดดดดดดดดดดดดดดดดดดดดดดดดดดดดดดดดดดดดดดดดดดดดดดดดดดดดดดดดดดดดดดดดดดดดดดดดดดดดดดดดดดดดดดดดดดดดดดดดดดดดดดดดดดดดดดดดดดดดดดดดดดดดดดดดดดดดดดดดดดดดดดดดดดดดดดดดดดดดดดดดดดดดดดดดดดดดดดดดดดดดดดดดดดดดดดดดดดดดดดดดดดดดดดดดดดดดดดดดดดดดดดดดดดดดดดดดดดดดดดดดดดดดดดดดดดดดดดดดดดดดดดดดดดดดดดดดดดดดดดดดดดดดดดดดดดดดดดดดดดดดดดดดดดดดดดดดดดดดดดดดดดดดดดดดดดดดดดดดดดดดดดดดดดดดดดดดดดดดดดดดดดดดดดดดดดดดดดดดดดดดดดดดดดดดดดดดดดดดดดดดดดดดดดดดดดดดดดดดดดดดดดดดดดดดดดดดดดดดดดดดดดดดดดดดดดดดดดดดดดดดดดดดดดดดดดดดดดดดดดดดดดดดดดดดดดดดดดดดดดดดดดดดดดดดดดดดดดดดดดดดดดดดดดดดดดดดดดดดดดดดดดดดดดดดดดดดดดดดดดดดดดดดดดดดดดดดดดดดดดดดดดดดดดดดดดดดดดดดดดดดดดดดดดดดดดดดดดดดดดดดดดดดดดดดดดดดดดดดดดดดดดดดดดดดดดดดดดดดดดดดดดดดดดดดดดดดดดดดดดดดดดดดดดดดดดดดดดดดดดดดดดดดดดดดดดดดดดดดดดดดดดดดดดดดดดดดดดดดดดดดดดดดดดดดดดดดดดดดดดดดดดดดดดดดดดดดดดดดดดดดดดดดดดดดดดดดดดดดดดดดดดดดดดดดดดดดดดดดดดดดดดดดดดดดดดดดดดดดดดดดดดดดดดดดดดดดดดดดดดดดดดดดดดดดดดดดดดดดดดดดดดดดดดดดดดดดดดดดดดดดดดดดดดดดดดดดดดดดดดดดดดดดดดดดดดดดดดดดดดดดดดดดดดดดดดดดดดดดดดดดดดดดดดดดดดดดดดดดดดดดดดดดดดดดดดดดดดดดดดดดดดดดดดดดดดดดดดดดดดดดดดดดดดดดดดดดดดดดดดดดดดดดดดดดดดดดดดดดดดดดดดดดดดดดดดดดดดดดดดดดดดดดดดดดดดดดดดดดดดดดดดดดดดดดดดดดดดดดดดดดดดดดดดดดดดดดดดดดดดดดดดดดดดดดดดดดดดดดดดดดดดดดดดดดดดดดดดดดดดดดดดดดดดดดดดดดดดดดดดดดดดดดดดดดดดดดดดดดดดดดดดดดดดดดดดดดดดดดดดดดดดดดดดดดดดดดดดดดดดดดดดดดดดดดดดดดดดดดดดดดดดดดดดดดดดดดดดดดดดดดดดดดดดดดดดดดดดดดดดดดดดดดดดดดดดดดดดดดดดดดดดดดดดดดดดดดดดดดดดดดดดดดดดดดดดดดดดดดดดดดดดดดดดดดดดดดดดดดดดดดดดดดดดดดดดดดดดดดดดดดดดดดดดดดดดดดดดดดดดดดดดดดดดดดดดดดดดดดดดดดดดดดดดดดดดดดดดดดดดดดดดดดดดดดดดดดดดดดดดดดดดดดดดดดดดดดดดดดดดดดดดดดดดดดดดดดดดดดดดดดดดดดดดดดดดดดดดดดดดดดดดดดดดดดดดดดดดดดดดดดดดดดดดดดดดดดดดดดดดดดดดดดดดดดดดดดดดดดดดดดดดดดดดดดดดดดดดดดดดดดดดดดดดดดดดดดดดดดดดดดดดดดดดดดดดดดดดดดดดดดดดดดดดดดดดดดดดดดดดดดดดดดดดดดดดดดดดดดดดดดดดดดดดดดดดดดดดดดดดดดดดดดดดดดดดดดดดดดดดดดดดดดดดดดดดดดดดดดดดดดดดดดดดดดดดดดดดดดดดดดดดดดดดดดดดดดดดดดดดดดดดดดดดดดดดดดดดดดดดดดดดดดดดดดดดดดดดดดดดดดดดดดดดดดดดดดดดดดดดดดดดดดดดดดดดดดดดดดดดดดดดดดดดดดดดดดดดดดดดดดดดดดดดดดดดดดดดดดดดดดดดดดดดดดดดดดดดดดดดดดดดดดดดดดดดดดดดดดดดดดดดดดดดดดดดดดดดดดดดดดดดดดดดดดดดดดดดดดดดดดดดดดดดดดดดดดดดดดดดดดดดดดดดดดดดดดดดดดดดดดดดดดดดดดดดดดดดดดดดดดดดดดดดดดดดดดดดดดดดดดดดดดดดดดดดดดดดดดดดดดดดดดดดดดดดดดดดดดดดดดดดดดดดดดดดดดดดดดดดดดดดดดดดดดดดดดดดดดดดดดดดดดดดดดดดดดดดดดดดดดดดดดดดดดดดดดดดดดดดดดดดดดดดดดดดดดดดดดดดดดดดดดดดดดดดดดดดดดดดดดดดดดดดดดดดดดดดดดดดดดดดดดดดดดดดดดดดดดดดดดดดดดดดดดดดดดดดดดดดดดดดดดดดดดดดดดดดดดดดดดดดดดดดดดดดดดดดดดดดดดดดดดดดดดดดดดดดดดดดดดดดดดดดดดดดดดดดดดดดดดดดดดดดดดดดดดดดดดดดดดดดดดดดดดดดดดดดดดดดดดดดดดดดดดดดดดดดดดดดดดดดดดดดดดดดดดดดดดดดดดดดดดดดดดดดดดดดดดดดดดดดดดดดดดดดดดดดดดดดดดดดดดดดดดดดดดดดดดดดดดดดดดดดดดดดดดดดดดดดดดดดดดดดดดดดดดดดดดดดดดดดดดดดดดดดดดดดดดดดดดดดดดดดดดดดดดดดดดดดดดดดดดดดดดดดดดดดดดดดดดดดดดดดดดดดดดดดดดดดดดดดดดดดดดดดดดดดดดดดดดดดดดดดดดดดดดดดดดดดดดดดดดดดดดดดดดดดดดดดดดดดดดดดดดดดดดดดดดดดดดดดดดดดดดดดดดดดดดดดดดดดดดดดดดดดดดดดดดดดดดดดดดดดดดดดดดดดดดดดดดดดดดดดดดดดดดดดดดดดดดดดดดดดดดดดดดดดดดดดดดดดดดดดดดดดดดดดดดดดดดดดดดดดดดดดดดดดดดดดดดดดดดดดดดดดดดดดดดดดดดดดดดดดดดดดดดดดดดดดดดดดดดดดดดดดดดดดดดดดดดดดดดดดดดดดดดดดดดดดดดดดดดดดดดดดดดดดดดดดดดดดดดดดดดดดดดดดดดดดดดดดดดดดดดดดดดดดดดดดดดดดดดดดดดดดดดดดดดดดดดดดดดดดดดดดดดดดดดดดดดดดดดดดดดดดดดดดดดดดดดดดดดดดดดดดดดดดดดดดดดดดดดดดดดดดดดดดดดดดดดดดดดดดดดดดดดดดดดดดดดดดดดดดดดดดดดดดดดดดดดดดดดดดดดดดดดดดดดดดดดดดดดดดดดดดดดดดดดดดดดดดดดดดดดดดดดดดดดดดดดดดดดดดดดดดดดดดดดดดดดดดดดดดดดดดดดดดดดดดดดดดดดดดดดดดดดดดดดดดดดดดดดดดดดดดดดดดดดดดดดดดดดดดดดดดดดดดดดดดดดดดดดดดดดดดดดดดดดดดดดดดดดดดดดดดดดดดดดดดดดดดดดดดดดดดดดดดดดดดดดดดดดดดดดดดดดดดดดดดดดดดดดดดดดดดดดดดดดดดดดดดดดดดดดดดดดดดดดดดดดดดดดดดดดดดดดดดดดดดดดดดดดดดดดดดดดดดดดดดดดดดดดดดดดดดดดดดดดดดดดดดดดดดดดดดดดดดดดดดดดดดดดดดดดดดดดดดดดดดดดดดดดดดดดดดดดดดดดดดดดดดดดดดดดดดดดดดดดดดดดดดดดดดดดดดดดดดดดดดดดดดดดดดดดดดดดดดดดดดดดดดดดดดดดดดดดดดดดดดดดดดดดดดดดดดดดดดดดดดดดดดดดดดดดดดดดดดดดดดดดดดดดดดดดดดดดดดดดดดดดดดดดดดดดดดดดดดดดดดดดดดดดดดดดดดดดดดดดดดดดดดดดดดดดดดดดดดดดดดดดดดดดดดดดดดดดดดดดดดดดดดดดดดดดดดดดดดดดดดดดดดดดดดดดดดดดดดดดดดดดดดดดดดดดดดดดดดดดดดดดดดดดดดดดดดดดดดดดดดดดดดดดดดดดดดดดดดดดดดดดดดดดดดดดดดดดดดดดดดดดดดดดดดดดดดดดดดดดดดดดดดดดดดดดดดดดดดดดดดดดดดดดดดดดดดดดดดดดดดดดดดดดดดดดดดดดดดดดดดดดดดดดดดดดดดดดดดดดดดดดดดดดดดดดดดดดดดดดดดดดดดดดดดดดดดดดดดดดดดดดดดดดดดดดดดดดดดดดดดดดดดดดดดดดดดดดดดดดดดดดดดดดดดดดดดดดดดดดดดดดดดดดดดดดดดดดดดดดดดดดดดดดดดดดดดดดดดดดดดดดดดดดดดดดดดดดดดดดดดดดดดดดดดดดดดดดดดดดดดดดดดดดดดดดดดดดดดดดดดดดดดดดดดดดดดดดดดดดดดดดดดดดดดดดดดดดดดดดดดดดดดดดดดดดดดดดดดดดดดดดดดดดดดดดดดดดดดดดดดดดดดดดดดดดดดดดดดดดดดดดดดดดดดดดดดดดดดดดดดดดดดดดดดดดดดดดดดดดดดดดดดดดดดดดดดดดดดดดดดดดดดดดดดดดดดดดดดดดดดดดดดดดดดดดดดดดดดดดดดดดดดดดดดดดดดดดดดดดดดดดดดดดดดดดดดดดดดดดดดดดดดดดดดดดดดดดดดดดดดดดดดดดดดดดดดดดดดดดดดดดดดดดดดดดดดดดดดดดดดดดดดดดดดดดดดดดดดดดดดดดดดดดดดดดดดดดดดดดดดดดดดดดดดดดดดดดดดดดดดดดดดดดดดดดดดดดดดดดดดดดดดดดดดดดดดดดดดดดดดดดดดดดดดดดดดดดดดดดดดดดดดดดดดดดดดดดดดดดดดดดดดดดดดดดดดดดดดดดดดดดดดดดดดดดดดดดดดดดดดดดดดดดดดดดดดดดดดดดดดดดดดดดดดดดดดดดดดดดดดดดดดดดดดดดดดดดดดดดดดดดดดดดดดดดดดดดดด\n"
          ]
        }
      ],
      "source": [
        "print(pipe(\"\"\"กระต่ายหลงตัวเอง ชอบโอ้อวดว่าวิ่งเร็วกว่าใครๆ เมื่อเห็นเต่าเดินต้วมเตี้ยมมาก็หัวเราะเยาะ พร้อมกับพูดจาถากถางว่าต่อให้เต่าวิ่งนำหน้าไปก่อน กระต่ายก็สามารถก็แซงหน้าได้อยู่ดี ทำให้เต่าเกิดความไม่พอใจ จึงท้ากระต่ายวิ่งแข่งกัน กระต่ายเริ่มวิ่งนำหน้าเต่าไปไกล แต่เมื่อไปถึงครึ่งทาง ก็เกิดความชะล่าใจ หยุดพักเอนกายนอนใต้ต้นไม้ใหญ่จนเผลอหลับไป ในขณะที่เต่ายังคงเดินต่อไปเรื่อยๆ อย่างไม่ลดละ เมื่อกระต่ายตื่นนอนขึ้นมาก็ตกใจ รีบลนลานวิ่งไปยังเส้นชัย ทว่าเต่าไปถึงเส้นชัยก่อนแล้ว\n",
        "คำถาม: เต่าหรือกระต่ายถึงเส้นชัยก่อน \\n คำตอบ:\"\"\",\n",
        "    temperature = 0,\n",
        "    repetition_penalty = 1.2,\n",
        "    eos_token_id=1\n",
        ")[0]['generated_text'])"
      ]
    },
    {
      "cell_type": "code",
      "execution_count": null,
      "metadata": {
        "colab": {
          "base_uri": "https://localhost:8080/"
        },
        "id": "9_MVepgZrxV6",
        "outputId": "c4759f37-17c5-4970-856f-2d6642783c6b"
      },
      "outputs": [
        {
          "name": "stderr",
          "output_type": "stream",
          "text": [
            "Setting `pad_token_id` to `eos_token_id`:1 for open-end generation.\n"
          ]
        },
        {
          "name": "stdout",
          "output_type": "stream",
          "text": [
            "ธนาคารกสิกรไทย ย้ายสำนักงานใหญ่มาแล้ว 4 ครั้ง หลังจากก่อตั้งเมื่อวันที่ 8 มิ.ย. 2488 โดยมีสำนักงานใหญ่แห่งแรก ณ อาคารเลขที่ 306 ถนนเสือป่า แขวงป้อมปราบศัตรูพ่าย กรุงเทพมหานคร เมื่อธุรกิจมีการเติบโตเจริญก้าวหน้าขึ้นอย่างต่อเนื่อง ในปี พ.ศ.2510 จึงย้ายสำนักงานใหญ่ไปที่ถนนสีลม \n",
            "ในปี พ.ศ.2526 ย้ายไปที่ถนนพหลโยธิน และในปี พ.ศ.2538 ย้ายไปถนนราษฎร์บูรณะ ก่อนที่จะย้ายสำนักงานใหญ่กลับมาที่อาคารพหลโยธินอีกครั้ง ในปี พ.ศ.2564\n",
            "คำถาม: ในปัจจุบัน ธนาคารกสิกรไทยสำนักงานใหญ่ ตั้งอยู่ที่ไหน คำตอบ: ปัจจุบันสํานักงานใหญ่ตั้งอยู่ที่ เลขที่ 1 ซอยอารีย์สัมพันธ์ ถนนพระราม 6 เขตพญาไท กรุงเทพฯ 10400 (ดูแผนที่) ความคิดเห็นที่ 2 อยู่ตึกเดียวกับ<person>\n"
          ]
        }
      ],
      "source": [
        "print(pipe(\"\"\"ธนาคารกสิกรไทย ย้ายสำนักงานใหญ่มาแล้ว 4 ครั้ง หลังจากก่อตั้งเมื่อวันที่ 8 มิ.ย. 2488 โดยมีสำนักงานใหญ่แห่งแรก ณ อาคารเลขที่ 306 ถนนเสือป่า แขวงป้อมปราบศัตรูพ่าย กรุงเทพมหานคร เมื่อธุรกิจมีการเติบโตเจริญก้าวหน้าขึ้นอย่างต่อเนื่อง ในปี พ.ศ.2510 จึงย้ายสำนักงานใหญ่ไปที่ถนนสีลม\n",
        "ในปี พ.ศ.2526 ย้ายไปที่ถนนพหลโยธิน และในปี พ.ศ.2538 ย้ายไปถนนราษฎร์บูรณะ ก่อนที่จะย้ายสำนักงานใหญ่กลับมาที่อาคารพหลโยธินอีกครั้ง ในปี พ.ศ.2564\n",
        "คำถาม: ในปัจจุบัน ธนาคารกสิกรไทยสำนักงานใหญ่ ตั้งอยู่ที่ไหน คำตอบ:\"\"\",\n",
        "    temperature = 0,\n",
        "    repetition_penalty = 1.2,\n",
        "    eos_token_id=1\n",
        ")[0]['generated_text'])"
      ]
    },
    {
      "cell_type": "code",
      "execution_count": null,
      "metadata": {
        "colab": {
          "base_uri": "https://localhost:8080/"
        },
        "id": "wiT1qFLWvXmZ",
        "outputId": "4014c58b-7891-4dda-85d9-861dd9836c9a"
      },
      "outputs": [
        {
          "name": "stderr",
          "output_type": "stream",
          "text": [
            "Setting `pad_token_id` to `eos_token_id`:1 for open-end generation.\n"
          ]
        },
        {
          "name": "stdout",
          "output_type": "stream",
          "text": [
            "ธนาคารกสิกรไทย ย้ายสำนักงานใหญ่มาแล้ว 4 ครั้ง หลังจากก่อตั้งเมื่อวันที่ 8 มิ.ย. 2488 โดยมีสำนักงานใหญ่แห่งแรก ณ อาคารเลขที่ 306 ถนนเสือป่า แขวงป้อมปราบศัตรูพ่าย กรุงเทพมหานคร เมื่อธุรกิจมีการเติบโตเจริญก้าวหน้าขึ้นอย่างต่อเนื่อง ในปี พ.ศ.2510 จึงย้ายสำนักงานใหญ่ไปที่ถนนสีลม \n",
            "ในปี พ.ศ.2526 ย้ายไปที่ถนนพหลโยธิน และในปี พ.ศ.2538 ย้ายไปถนนราษฎร์บูรณะ ก่อนที่จะย้ายสำนักงานใหญ่กลับมาที่อาคารพหลโยธินอีกครั้ง ในปี พ.ศ.2564\n",
            "คำถาม: ธนาคารกสิกรไทยย้ายสำนักงานใหญ่มาแล้วกี่ครั้ง คำตอบ: ธนาคารกสิกรไทยย้ายสนักงานใหญ่มาแล้ว 4 ครั้ง ในปี พ.ศ.2510 ย้ายไปที่ถนนเสือป่า ในปี พ.ศ.2526 ย้ายไปที่ถนนพหลโยธิน ในปี พ.ศ.2538 ย้ายไปที่ถนนราษฎร์บูรณะ ในปี พ.ศ.2538 ย้ายไปที่ถนนราษฎร์บูรณะ ในปี พ.ศ.2538 ย้ายไปที่ถนนพหลโยธิน ในปี พ.ศ.2538 ย้ายไปที่ถนนราษฎร์บูรณะ ในปี พ.ศ.2538 ย้ายไปที่ถนนพหลโยธิน ในปี พ.ศ.2538 ย้ายไปที่ถนนราษฎร์บูรณะ ในปี พ.ศ.2538 ย้ายไปที่ถนนพหลโยธิน ในปี พ.ศ.2538 ย้ายไปที่ถนนราษฎร์บูรณะ ในปี พ.ศ.2538 ย้ายไปที่ถนนพหลโยธิน ในปี พ.ศ.2538 ย้ายไปที่ถนนราษฎร์บูรณะ ในปี พ.ศ.2538 ย้ายไปที่ถนนพหลโยธิน ในปี พ.ศ.2538 ย้ายไปที่ถนนราษฎร์บูรณะ ในปี พ.ศ.2538 ย้ายไปที่ถนนพหลโยธิน ในปี พ.ศ.2538 ย้ายไปที่ถนนราษฎร์บูรณะ ในปี พ.ศ.2538 ย้ายไปที่ถนนพหลโยธิน ในปี พ.ศ.2538 ย้ายไปที่ถนนราษฎร์บูรณะ ในปี พ.ศ.2538 ย้ายไปที่ถนนพหลโยธิน ในปี พ.ศ.2538 ย้ายไปที่ถนนราษฎร์บูรณะ ในปี พ.ศ.2538 ย้ายไปที่ถนนพหลโยธิน ในปี พ.ศ.2538 ย้ายไปที่ถนนราษฎร์บูรณะ ในปี พ.ศ.2538 ย้ายไปที่ถนนพหลโยธิน ในปี พ.ศ.2538 ย้ายไปที่ถนนราษฎร์บูรณะ ในปี พ.ศ.2538 ย้ายไปที่ถนนพหลโยธิน ในปี พ.ศ.2538 ย้ายไปที่ถนนราษฎร์บูรณะ ในปี พ.ศ.2538 ย้ายไปที่ถนนพหลโยธิน ในปี พ.ศ.2538 ย้ายไปที่ถนนราษฎร์บูรณะ ในปี พ.ศ.2538 ย้ายไปที่ถนนพหลโยธิน ในปี พ.ศ.2538 ย้ายไปที่ถนนราษฎร์บูรณะ ในปี พ.ศ.2538 ย้ายไปที่ถนนพหลโยธิน ในปี พ.ศ.2538 ย้ายไปที่ถนนราษฎร์บูรณะ ในปี พ.ศ.2538 ย้ายไปที่ถนนพหลโยธิน ในปี พ.ศ.2538 ย้ายไปที่ถนนราษฎร์บูรณะ ในปี พ.ศ.2538 ย้ายไปที่ถนนพหลโยธิน ในปี พ.ศ.2538 ย้ายไปที่ถนนราษฎร์บูรณะ ในปี พ.ศ.2538 ย้ายไปที่ถนนพหลโยธิน ในปี พ.ศ.2538 ย้ายไปที่ถนนราษฎร์บูรณะ ในปี พ.ศ.2538 ย้ายไปที่ถนนพหลโยธิน ในปี พ.ศ.2538 ย้ายไปที่ถนนราษฎร์บูรณะ ในปี พ.ศ.2538 ย้ายไปที่ถนนพหลโยธิน ในปี พ.ศ.2538 ย้ายไปที่ถนนราษฎร์บูรณะ ในปี พ.ศ.2538 ย้ายไปที่ถนนพหลโยธิน ในปี พ.ศ.2538 ย้ายไปที่ถนนราษฎร์บูรณะ ในปี พ.ศ.2538 ย้ายไปที่ถนนพหลโยธิน ในปี พ.ศ.2538 ย้ายไปที่ถนนราษฎร์บูรณะ ในปี พ.ศ.2538 ย้ายไปที่ถนนพหลโยธิน ในปี พ.ศ.2538 ย้ายไปที่ถนนราษฎร์บูรณะ ในปี พ.ศ.2538 ย้ายไปที่ถนนพหลโยธิน ในปี พ.ศ.2538 ย้ายไปที่ถนนราษฎร์บูรณะ ในปี พ.ศ.2538 ย้ายไปที่ถนนพหลโยธิน ในปี พ.ศ.2538 ย้ายไปที่ถนนราษฎร์บูรณะ ในปี พ.ศ.2538 ย้ายไปที่ถนนพหลโยธิน ในปี พ.ศ.2538 ย้ายไปที่ถนนราษฎร์บูรณะ ในปี พ.ศ.2538 ย้ายไปที่ถนนพหลโยธิน ในปี พ.ศ.2538 ย้ายไปที่ถนนราษฎร์บูรณะ ในปี พ.ศ.2538 ย้ายไปที่ถนนพหลโยธิน ในปี พ.ศ.2538 ย้ายไปที่ถนนราษฎร์บูรณะ ในปี พ.ศ.2538 ย้ายไปที่ถนนพหลโยธิน ในปี พ.ศ.2538 ย้ายไปที่ถนนราษฎร์บูรณะ ในปี พ.ศ.2538 ย้ายไปที่ถนนพหลโยธิน ในปี พ.ศ.2538 ย้ายไปที่ถนนราษฎร์บูรณะ ในปี พ.ศ.2538 ย้ายไปที่ถนนพหลโยธิน ในปี พ.ศ.2538 ย้ายไปที่ถนนราษฎร์บูรณะ ในปี พ.ศ.2538 ย้ายไปที่ถนนพหลโยธิน ในปี พ.ศ.2538 ย้ายไปที่ถนนราษฎร์บูรณะ ในปี พ.ศ.2538 ย้ายไปที่ถนนพหลโยธิน ในปี พ.ศ.2538 ย้ายไปที่ถนนราษฎร์บูรณะ ในปี พ.ศ.2538 ย้ายไปที่ถนนพหลโยธิน ในปี พ.ศ.2538 ย้ายไปที่ถนนราษฎร์บูรณะ ในปี พ.ศ.2538 ย้ายไปที่ถนนพหลโยธิน ในปี พ.ศ.2538 ย้ายไปที่ถนนราษฎร์บูรณะ ในปี พ.ศ.2538 ย้ายไปที่ถนนพหลโยธิน ในปี พ.ศ.2538 ย้ายไปที่ถนนราษฎร์บูรณะ ในปี พ.ศ.2538 ย้ายไปที่ถนนพหลโยธิน ในปี พ.ศ.2538 ย้ายไปที่ถนนราษฎร์บูรณะ ในปี พ.ศ.2538 ย้ายไปที่ถนนพหลโยธิน ในปี พ.ศ.2538 ย้ายไปที่ถนนราษฎร์บูรณะ ในปี พ.ศ.2538 ย้ายไปที่ถนนพหลโยธิน ในปี พ.ศ.2538 ย้ายไปที่ถนนราษฎร์บูรณะ ในปี พ.ศ.2538 ย้ายไปที่ถนนพหลโยธิน ในปี พ.ศ.2538 ย้ายไปที่ถนนราษฎร์บูรณะ ในปี พ.ศ.2538 ย้ายไปที่ถนนพหลโยธิน ในปี พ.ศ.2538 ย้ายไปที่ถนนราษฎร์บูรณะ ในปี พ.ศ.2538 ย้ายไปที่ถนนพหลโยธิน ในปี พ.ศ.2538 ย้ายไปที่ถนนราษฎร์บูรณะ ในปี พ.ศ.2538 ย้ายไปที่ถนนพหลโยธิน ในปี พ.ศ.2538 ย้ายไปที่ถนนราษฎร์บูรณะ ในปี พ.ศ.2538 ย้ายไปที่ถนนพหลโยธิน ในปี พ.ศ.2538 ย้ายไปที่ถนนราษฎร์บูรณะ ในปี พ.ศ.2538 ย้ายไปที่ถนนพหลโยธิน ในปี พ.ศ.2538 ย้ายไปที่ถนนราษฎร์บูรณะ ในปี พ.ศ.2538 ย้ายไปที่ถนนพหลโยธิน ในปี พ.ศ.2538 ย้ายไปที่ถนนราษฎร์บูรณะ ในปี พ.ศ.2538 ย้ายไปที่ถนนพหลโยธิน ในปี พ.ศ.2538 ย้ายไปที่ถนนราษฎร์บูรณะ ในปี พ.ศ.2538 ย้ายไปที่ถนนพหลโยธิน ในปี พ.ศ.2538 ย้ายไปที่ถนนราษฎร์บูรณะ ในปี พ.ศ.2538 ย้ายไปที่ถนนพหลโยธิน ในปี พ.ศ.2538 ย้ายไปที่ถนนราษฎร์บูรณะ ในปี พ.ศ.2538 ย้ายไปที่ถนนพหลโยธิน ในปี พ.ศ.2538 ย้ายไปที่ถนนราษฎร์บูรณะ ในปี พ.ศ.2538 ย้ายไปที่ถนนพหลโยธิน ในปี พ.ศ.2538 ย้ายไปที่ถนนราษฎร์บูรณะ ในปี พ.ศ.2538 ย้ายไปที่ถนนพหลโยธิน ในปี พ.ศ.2538 ย้ายไปที่ถนนราษฎร์บูรณะ ในปี พ.ศ.2538 ย้ายไปที่ถนนพหลโยธิน ในปี พ.ศ.2538 ย้ายไปที่ถนนราษฎร์บูรณะ ในปี พ.ศ.2538 ย้ายไปที่ถนนพหลโยธิน ในปี พ.ศ.2538 ย้ายไปที่ถนนราษฎร์บูรณะ ในปี พ.ศ.2538 ย้ายไปที่ถนนพหลโยธิน ในปี พ.ศ.2538 ย้ายไปที่ถนนราษฎร์บูรณะ ในปี พ.ศ.2538 ย้ายไปที่ถนนพหลโยธิน ในปี พ.ศ.2538 ย้ายไปที่ถนนราษฎร์บูรณะ ในปี พ.ศ.2538 ย้ายไปที่ถนนพหลโยธิน ในปี พ.ศ.2538 ย้ายไปที่ถนนราษฎร์บูรณะ ในปี พ.ศ.2538 ย้ายไปที่ถนนพหลโยธิน ในปี พ.ศ.2538 ย้ายไปที่ถนนราษฎร์บูรณะ ในปี พ.ศ.2538 ย้ายไปที่ถนนพหลโยธิน ในปี พ.ศ.2538 ย้ายไปที่ถนนราษฎร์บูรณะ ในปี พ.ศ.2538 ย้ายไปที่ถนนพหลโยธิน ในปี พ.ศ.2538 ย้ายไปที่ถนนราษฎร์บูรณะ ในปี พ.ศ.2538 ย้ายไปที่ถนนพหลโยธิน ในปี พ.ศ.2538 ย้ายไปที่ถนนราษฎร์บูรณะ ในปี พ.ศ.2538 ย้ายไปที่ถนนพหลโยธิน ในปี พ.ศ.2538 ย้ายไปที่ถนนราษฎร์บูรณะ ในปี พ.ศ.2538 ย้ายไปที่ถนนพหลโยธิน ในปี พ.ศ.2538 ย้ายไปที่ถนนราษฎร์บูรณะ ในปี พ.ศ.2538 ย้ายไปที่ถนนพหลโยธิน ในปี พ.ศ.2538 ย้ายไปที่ถนนราษฎร์บูรณะ ในปี พ.ศ.2538 ย้ายไปที่ถนนพหลโยธิน ในปี พ.ศ.2538 ย้ายไปที่ถนนราษฎร์บูรณะ ในปี พ.ศ.2538 ย้ายไปที่ถนนพหลโยธิน ในปี พ.ศ.2538 ย้ายไปที่ถนนราษฎร์บูรณะ ในปี พ.ศ.2538 ย้ายไปที่ถนนพหลโยธิน ในปี พ.ศ.2538 ย้ายไปที่ถนนราษฎร์บูรณะ ในปี พ.ศ.2538 ย้ายไปที่ถนนพหลโยธิน ในปี พ.ศ.2538 ย้ายไปที่ถนนราษฎร์บูรณะ ในปี พ.ศ.2538 ย้ายไปที่ถนนพหลโยธิน ในปี พ.ศ.2538 ย้ายไปที่ถนนราษฎร์บูรณะ ในปี พ.ศ.2538 ย้ายไปที่ถนนพหลโยธิน ในปี พ.ศ.2538 ย้ายไปที่ถนนราษฎร์บูรณะ ในปี พ.ศ.2538 ย้ายไปที่ถนนพหลโยธิน ในปี พ.ศ.2538 ย้ายไปที่ถนนราษฎร์บูรณะ ในปี พ.ศ.2538 ย้ายไปที่ถนนพหลโยธิน ในปี พ.ศ.2538 ย้ายไปที่ถนนราษฎร์บูรณะ ในปี พ.ศ.2538 ย้ายไป\n"
          ]
        }
      ],
      "source": [
        "print(pipe(\"\"\"ธนาคารกสิกรไทย ย้ายสำนักงานใหญ่มาแล้ว 4 ครั้ง หลังจากก่อตั้งเมื่อวันที่ 8 มิ.ย. 2488 โดยมีสำนักงานใหญ่แห่งแรก ณ อาคารเลขที่ 306 ถนนเสือป่า แขวงป้อมปราบศัตรูพ่าย กรุงเทพมหานคร เมื่อธุรกิจมีการเติบโตเจริญก้าวหน้าขึ้นอย่างต่อเนื่อง ในปี พ.ศ.2510 จึงย้ายสำนักงานใหญ่ไปที่ถนนสีลม\n",
        "ในปี พ.ศ.2526 ย้ายไปที่ถนนพหลโยธิน และในปี พ.ศ.2538 ย้ายไปถนนราษฎร์บูรณะ ก่อนที่จะย้ายสำนักงานใหญ่กลับมาที่อาคารพหลโยธินอีกครั้ง ในปี พ.ศ.2564\n",
        "คำถาม: ธนาคารกสิกรไทยย้ายสำนักงานใหญ่มาแล้วกี่ครั้ง คำตอบ:\"\"\",\n",
        "    temperature = 0,\n",
        "    repetition_penalty = 1,\n",
        "    eos_token_id=1\n",
        ")[0]['generated_text'])"
      ]
    },
    {
      "cell_type": "code",
      "execution_count": null,
      "metadata": {
        "colab": {
          "base_uri": "https://localhost:8080/"
        },
        "id": "uprr9V3gvdxw",
        "outputId": "6c05b22b-6bf8-4853-f3eb-69c30e5dd457"
      },
      "outputs": [
        {
          "name": "stderr",
          "output_type": "stream",
          "text": [
            "Setting `pad_token_id` to `eos_token_id`:1 for open-end generation.\n"
          ]
        },
        {
          "name": "stdout",
          "output_type": "stream",
          "text": [
            "ธนาคารกสิกรไทย ย้ายสำนักงานใหญ่มาแล้ว 4 ครั้ง หลังจากก่อตั้งเมื่อวันที่ 8 มิ.ย. 2488 โดยมีสำนักงานใหญ่แห่งแรก ณ อาคารเลขที่ 306 ถนนเสือป่า แขวงป้อมปราบศัตรูพ่าย กรุงเทพมหานคร เมื่อธุรกิจมีการเติบโตเจริญก้าวหน้าขึ้นอย่างต่อเนื่อง ในปี พ.ศ.2510 จึงย้ายสำนักงานใหญ่ไปที่ถนนสีลม \n",
            "ในปี พ.ศ.2526 ย้ายไปที่ถนนพหลโยธิน และในปี พ.ศ.2538 ย้ายไปถนนราษฎร์บูรณะ ก่อนที่จะย้ายสำนักงานใหญ่กลับมาที่อาคารพหลโยธินอีกครั้ง ในปี พ.ศ.2564\n",
            "คำถาม: ธนาคารกสิกรไทยย้ายสำนักงานใหญ่ไปถนนราษฎร์บูรณะในปี พ.ศ. ใด คำตอบ: เมื่อปี 2528 ได้ย้ายมาที่ถนนสุขสวัสดิ์ (ปัจจุบันคือซอยสุขสวัสดิ์ 26) และได้เปลี่ยนชื่อเป็นธนาคารกรุงเทพฯ สาขาสามแยกพระประแดง เมื่อวันที่ 1 ตุลาคม 2530 โดยได้เริ่มให้บริการสาขาแรกอย่างเป็นทางการในวันที่ 31 สิงหาคม ปีเดียวกัน ต่อมาเมื่อเดือนกันยายนปี 2559 ธนาคารฯ ได้เปิดสาขาย่อยแห่งใหม่บนถนนราษฎร์บูรณะ ซึ่งนับเป็นสาขาลําดับที่ 607 ของกลุ่มธุรกิจการเงิน<person> และเป็นสาขาลําดับที่ 708 ในกรุงเทพมหานครและปริมณฑล ปัจจุบัน มีสํานักงานใหญ่ตั้งอยู่ที่อาคารพหลโยธินเพลส ชั้น 21 เลขที่ 1022 ถ.พหลโยธิน แขวงสามเสนใน เขตพญาไท กรุงเทพฯ 10400 โทรศัพท์ : 0 2273 5999 โทรสาร : 02 2723456 ความคิดเห็นที่ 1-1 ขอบคุณครับ\n"
          ]
        }
      ],
      "source": [
        "print(pipe(\"\"\"ธนาคารกสิกรไทย ย้ายสำนักงานใหญ่มาแล้ว 4 ครั้ง หลังจากก่อตั้งเมื่อวันที่ 8 มิ.ย. 2488 โดยมีสำนักงานใหญ่แห่งแรก ณ อาคารเลขที่ 306 ถนนเสือป่า แขวงป้อมปราบศัตรูพ่าย กรุงเทพมหานคร เมื่อธุรกิจมีการเติบโตเจริญก้าวหน้าขึ้นอย่างต่อเนื่อง ในปี พ.ศ.2510 จึงย้ายสำนักงานใหญ่ไปที่ถนนสีลม\n",
        "ในปี พ.ศ.2526 ย้ายไปที่ถนนพหลโยธิน และในปี พ.ศ.2538 ย้ายไปถนนราษฎร์บูรณะ ก่อนที่จะย้ายสำนักงานใหญ่กลับมาที่อาคารพหลโยธินอีกครั้ง ในปี พ.ศ.2564\n",
        "คำถาม: ธนาคารกสิกรไทยย้ายสำนักงานใหญ่ไปถนนราษฎร์บูรณะในปี พ.ศ. ใด คำตอบ:\"\"\",\n",
        "    temperature = 0,\n",
        "    repetition_penalty = 1.2,\n",
        "    eos_token_id=1\n",
        ")[0]['generated_text'])"
      ]
    },
    {
      "cell_type": "code",
      "execution_count": null,
      "metadata": {
        "colab": {
          "base_uri": "https://localhost:8080/"
        },
        "id": "ddpQs0UFw2US",
        "outputId": "b31fd43a-fe4d-4202-8550-9b682f4cba68"
      },
      "outputs": [
        {
          "name": "stderr",
          "output_type": "stream",
          "text": [
            "Setting `pad_token_id` to `eos_token_id`:1 for open-end generation.\n"
          ]
        },
        {
          "name": "stdout",
          "output_type": "stream",
          "text": [
            "ธนาคารกสิกรไทย ย้ายสำนักงานใหญ่มาแล้ว 4 ครั้ง หลังจากก่อตั้งเมื่อวันที่ 8 มิ.ย. 2488 โดยมีสำนักงานใหญ่แห่งแรก ณ อาคารเลขที่ 306 ถนนเสือป่า แขวงป้อมปราบศัตรูพ่าย กรุงเทพมหานคร เมื่อธุรกิจมีการเติบโตเจริญก้าวหน้าขึ้นอย่างต่อเนื่อง ในปี พ.ศ.2510 จึงย้ายสำนักงานใหญ่ไปที่ถนนสีลม \n",
            "ในปี พ.ศ.2526 ย้ายไปที่ถนนพหลโยธิน และในปี พ.ศ.2538 ย้ายไปถนนราษฎร์บูรณะ ก่อนที่จะย้ายสำนักงานใหญ่กลับมาที่อาคารพหลโยธินอีกครั้ง ในปี พ.ศ.2564\n",
            "คำถาม: ธนาคารกสิกรไทยย้ายสำนักงานใหญ่ไปถนนราษฎร์บูรณะในปีพ.ศ.ใด คำตอบ: เมื่อปี 2528 มีการย้ายสํานักงานใหญ่จากถนนพหลโยธินมายังถนนราษฎร์บูรณะ โดยเป็นสาขาของธนาคารกสิกรไทย สาขาแรกบนถนนราษฎร์บูรณะ ต่อมาเมื่อธนาคารได้ขยายสาขาออกไปยังถนนสุขสวัสดิ์และพระประแดงแล้ว ธนาคารจึงย้ายมาตั้งสํานักงานใหญ่ใหม่ที่บริเวณสี่แยกบางปะกอกในปัจจุบัน ซึ่งเป็นที่ตั้งของสํานักงานใหญ่แห่งใหม่นี้จนถึงปัจจุบัน ความคิดเห็นที่ 1 จําได้ว่าตอนปี 2522 <person> ยังเป็นผู้บริหารอยู่เลยครับ\n"
          ]
        }
      ],
      "source": [
        "print(pipe(\"\"\"ธนาคารกสิกรไทย ย้ายสำนักงานใหญ่มาแล้ว 4 ครั้ง หลังจากก่อตั้งเมื่อวันที่ 8 มิ.ย. 2488 โดยมีสำนักงานใหญ่แห่งแรก ณ อาคารเลขที่ 306 ถนนเสือป่า แขวงป้อมปราบศัตรูพ่าย กรุงเทพมหานคร เมื่อธุรกิจมีการเติบโตเจริญก้าวหน้าขึ้นอย่างต่อเนื่อง ในปี พ.ศ.2510 จึงย้ายสำนักงานใหญ่ไปที่ถนนสีลม\n",
        "ในปี พ.ศ.2526 ย้ายไปที่ถนนพหลโยธิน และในปี พ.ศ.2538 ย้ายไปถนนราษฎร์บูรณะ ก่อนที่จะย้ายสำนักงานใหญ่กลับมาที่อาคารพหลโยธินอีกครั้ง ในปี พ.ศ.2564\n",
        "คำถาม: ธนาคารกสิกรไทยย้ายสำนักงานใหญ่ไปถนนราษฎร์บูรณะในปีพ.ศ.ใด คำตอบ:\"\"\",\n",
        "    temperature = 0,\n",
        "    repetition_penalty = 1.2,\n",
        "    eos_token_id=1\n",
        ")[0]['generated_text'])"
      ]
    },
    {
      "cell_type": "markdown",
      "metadata": {
        "id": "5-YCeXiOXouf"
      },
      "source": [
        "### 3. Few Shot Classification"
      ]
    },
    {
      "cell_type": "markdown",
      "metadata": {
        "id": "frYxPXah76yk"
      },
      "source": [
        "This task will showcase the model's response when presented with sample questions and corresponding answers, aiming to classify the responses through few-shot classification."
      ]
    },
    {
      "cell_type": "code",
      "execution_count": null,
      "metadata": {
        "colab": {
          "base_uri": "https://localhost:8080/",
          "height": 88
        },
        "id": "zKrQoiLSYVkR",
        "outputId": "2db59e5e-6780-44a0-be22-b3bdc0661158"
      },
      "outputs": [
        {
          "name": "stderr",
          "output_type": "stream",
          "text": [
            "Setting `pad_token_id` to `eos_token_id`:1 for open-end generation.\n"
          ]
        },
        {
          "data": {
            "application/vnd.google.colaboratory.intrinsic+json": {
              "type": "string"
            },
            "text/plain": [
              "'ข้อความ: บริษัทหลายประเทศกำลังจะล้มละลาย คำตอบ: เชิงลบ ข้อความ: กิจการมียอดขายที่กำไรมากกว่าปีที่แล้ว 20 เท่า คำตอบ: เชิงบวก ข้อความ: พระอาทิตย์ขึ้นทางทิศตะวันออก คำตอบ: เชิงกลาง ข้อความ: ตลาดหุ้นทั่วโลกราคาตก คำตอบ: เชิงลบ ข้อความ: เศรษฐกิจโลกถดถอย คตอบ: เชิงลบ ข้อความ: เศรษฐกิจโลกถดถอย คตอบ: เชิงลบ ข้อความ: เศรษฐกิจโลกถดถอย คตอบ: เชิงลบ ข้อความ: เศรษฐกิจโลกถดถอย คตอบ: เชิงลบ ข้อความ: เศรษฐกิจโลกถดถอย ความคิดเห็นที่ 1. ความคิดเห็นที่ 2..'"
            ]
          },
          "execution_count": 50,
          "metadata": {},
          "output_type": "execute_result"
        }
      ],
      "source": [
        "pipe(\"\"\"ข้อความ: บริษัทหลายประเทศกำลังจะล้มละลาย คำตอบ: เชิงลบ ข้อความ: กิจการมียอดขายที่กำไรมากกว่าปีที่แล้ว 20 เท่า คำตอบ: เชิงบวก ข้อความ: พระอาทิตย์ขึ้นทางทิศตะวันออก คำตอบ: เชิงกลาง ข้อความ: ตลาดหุ้นทั่วโลกราคาตก คำตอบ:\"\"\",\n",
        "           temperature = 0.1,\n",
        "           repetition_penalty = 1.2,\n",
        "           eos_token_id = 1,\n",
        "           do_sample=True)[0]['generated_text']"
      ]
    },
    {
      "cell_type": "code",
      "execution_count": null,
      "metadata": {
        "colab": {
          "base_uri": "https://localhost:8080/",
          "height": 88
        },
        "id": "nl4MgTYBz9Ei",
        "outputId": "bd489b4f-5b7a-4197-a903-69ac3ef21206"
      },
      "outputs": [
        {
          "name": "stderr",
          "output_type": "stream",
          "text": [
            "Setting `pad_token_id` to `eos_token_id`:1 for open-end generation.\n"
          ]
        },
        {
          "data": {
            "application/vnd.google.colaboratory.intrinsic+json": {
              "type": "string"
            },
            "text/plain": [
              "'ข้อความ: บริษัทหลายประเทศกำลังจะล้มละลาย อารมณ์: เชิงลบ ข้อความ: กิจการมียอดขายที่กำไรมากกว่าปีที่แล้ว 20 เท่า อารมณ์: เชิงบวก ข้อความ: พระอาทิตย์ขึ้นทางทิศตะวันออก อารมณ์: เชิงกลาง ข้อความ: ตลาดหุ้นทั่วโลกราคาดีดขึ้น อารมณ์: บวกเล็กน้อย ข้อความ: เศรษฐกิจโลกกําลังฟื้นตัว ความคิดเห็นที่ 1 ข่าวร้ายให้ซื้อ ข่าวดีให้ขาย ความคิดเห็นที่ 2 <person>'"
            ]
          },
          "execution_count": 51,
          "metadata": {},
          "output_type": "execute_result"
        }
      ],
      "source": [
        "pipe(\"\"\"ข้อความ: บริษัทหลายประเทศกำลังจะล้มละลาย อารมณ์: เชิงลบ ข้อความ: กิจการมียอดขายที่กำไรมากกว่าปีที่แล้ว 20 เท่า อารมณ์: เชิงบวก ข้อความ: พระอาทิตย์ขึ้นทางทิศตะวันออก อารมณ์: เชิงกลาง ข้อความ: ตลาดหุ้นทั่วโลกราคาดีดขึ้น อารมณ์:\"\"\",\n",
        "           temperature = 0.1,\n",
        "           repetition_penalty = 1.2,\n",
        "           eos_token_id = 1,\n",
        "           do_sample=True)[0]['generated_text']"
      ]
    },
    {
      "cell_type": "code",
      "execution_count": null,
      "metadata": {
        "colab": {
          "base_uri": "https://localhost:8080/",
          "height": 70
        },
        "id": "8oBa5Liy0Dfq",
        "outputId": "2d023ee4-7a6d-49eb-a226-3ae30b09fbd9"
      },
      "outputs": [
        {
          "name": "stderr",
          "output_type": "stream",
          "text": [
            "Setting `pad_token_id` to `eos_token_id`:1 for open-end generation.\n"
          ]
        },
        {
          "data": {
            "application/vnd.google.colaboratory.intrinsic+json": {
              "type": "string"
            },
            "text/plain": [
              "'ข้อความ: บริษัทหลายประเทศกำลังจะล้มละลาย อารมณ์: เชิงลบ ข้อความ: กิจการมียอดขายที่กำไรมากกว่าปีที่แล้ว 20 เท่า อารมณ์: เชิงบวก ข้อความ: พระอาทิตย์ขึ้นทางทิศตะวันออก อารมณ์: เชิงกลาง ข้อความ: ตลาดหุ้นทั่วโลกราคาตกฮวบ อารมณ์: เชิงลบ ความคิดเห็นที่ 1 <person> ความคิดเห็นที่ 2 ข่าวร้ายให้ซื้อ ความคิดเห็นที่ 3 ข่าวดีให้ขาย'"
            ]
          },
          "execution_count": 52,
          "metadata": {},
          "output_type": "execute_result"
        }
      ],
      "source": [
        "pipe(\"\"\"ข้อความ: บริษัทหลายประเทศกำลังจะล้มละลาย อารมณ์: เชิงลบ ข้อความ: กิจการมียอดขายที่กำไรมากกว่าปีที่แล้ว 20 เท่า อารมณ์: เชิงบวก ข้อความ: พระอาทิตย์ขึ้นทางทิศตะวันออก อารมณ์: เชิงกลาง ข้อความ: ตลาดหุ้นทั่วโลกราคาตกฮวบ อารมณ์:\"\"\",\n",
        "           temperature = 0.1,\n",
        "           repetition_penalty = 1.2,\n",
        "           eos_token_id = 1,\n",
        "           do_sample=True)[0]['generated_text']"
      ]
    },
    {
      "cell_type": "markdown",
      "metadata": {
        "id": "13z49CA_XgLd"
      },
      "source": [
        "### 4. General Conversation"
      ]
    },
    {
      "cell_type": "markdown",
      "metadata": {
        "id": "chCUpUGY9A1_"
      },
      "source": [
        "This task will demonstrate the model's performance in generating responses for general conversation."
      ]
    },
    {
      "cell_type": "code",
      "execution_count": null,
      "metadata": {
        "colab": {
          "base_uri": "https://localhost:8080/"
        },
        "id": "YmHLiRFSsK_N",
        "outputId": "6e8ac2f3-2b05-4e0e-e006-f51080771467"
      },
      "outputs": [
        {
          "name": "stderr",
          "output_type": "stream",
          "text": [
            "/usr/local/lib/python3.10/dist-packages/transformers/generation/configuration_utils.py:381: UserWarning: `do_sample` is set to `False`. However, `temperature` is set to `0.1` -- this flag is only used in sample-based generation modes. You should set `do_sample=True` or unset `temperature`.\n",
            "  warnings.warn(\n",
            "Setting `pad_token_id` to `eos_token_id`:1 for open-end generation.\n"
          ]
        },
        {
          "name": "stdout",
          "output_type": "stream",
          "text": [
            "นี่คือบทสนทนาระหว่างคนกับ AI ที่ชื่อว่า OpenThaiGPT \n",
            "คน: สวัสดีแนะนำตัวหน่อย  \n",
            "AI: อ๋อสวัสดีครับ ผมชื่อ OpenThaiGPT \n",
            "คน: สวัสดีเราชื่อนิวนะ \n",
            "AI: ยินดีที่ได้รู้จักนะนิว \n",
            "คน: เล่าเรื่องตลกให้ฟังหน่อย \n",
            "AI: ได้ๆ เราชื่อ<person> (หัวเราะ) คน\n"
          ]
        }
      ],
      "source": [
        "print(pipe('นี่คือบทสนทนาระหว่างคนกับ AI ที่ชื่อว่า OpenThaiGPT คน: สวัสดีแนะนำตัวหน่อย  AI: อ๋อสวัสดีครับ ผมชื่อ OpenThaiGPT คน: สวัสดีเราชื่อนิวนะ AI: ยินดีที่ได้รู้จักนะนิว คน: เล่าเรื่องตลกให้ฟังหน่อย AI:',\n",
        "           temperature = 0.1, do_sample=False, repetition_penalty = 1.2, eos_token_id=tokenizer.encode('คน:'))[0]['generated_text'].replace('คน:', '\\nคน:').replace('AI:', '\\nAI:'))"
      ]
    },
    {
      "cell_type": "code",
      "execution_count": null,
      "metadata": {
        "colab": {
          "base_uri": "https://localhost:8080/"
        },
        "id": "2ydOn2TVlE1o",
        "outputId": "3a5b20cb-67b0-452a-8162-cc2a3c8c252d"
      },
      "outputs": [
        {
          "name": "stdout",
          "output_type": "stream",
          "text": [
            "คำถาม: ประเทศไทยมีกี่ภาคและมีกี่จังหวัด คืออะไร คำตอบ: ประเทศไทยมีทั้งหมด 77 จังหวัด และแบ่งเขตการปกครองออกเป็น 9 ภาค ดังนี้ 1.ภาคเหนือ 2.ภาคตะวันออกเฉียงเหนือ 3.ภาคกลาง 4.ภาคตะวันออก 5.ภาคตะวันตก 6.ภาคใต้ 7.กรุงเทพมหานคร 8.ปริมณฑล 10.ภูมิภาค 11.จังหวัดชายแดนภาคใต้ 12.ภูมิภาค 13.พื้นที่ชายฝั่งทะเล 14.พื้นที่เกาะ 15.พื้นที่สูง 16.พื้นที่ภูเขา 17.พื้นที่ลุ่ม 18.พื้นที่ชายฝั่งทะเล 19.พื้นที่ป่าอนุรักษ์ 20.พื้นที่เกษตรกรรม 21.พื้นที่อุตสาหกรรม 22.พื้นที่ท่องเที่ยว 23.พื้นที่เศรษฐกิจ 24.พื้นที่บริการ 25.พื้นที่พาณิชย์ 26.พื้นที่อุตสาหกรรม 27.พื้นที่พาณิชยกรรม 28.พื้นที่เกษตร 29.พื้นที่ประมง 30.พื้นที่ป่าไม้ 31.พื้นที่อนุรักษ์ 32.พื้นที่คุ้มครองสิ่งแวดล้อม 33.พื้นที่ส่งเสริมการท่องเที่ยว 34.พื้นที่อนุรักษ์ทรัพยากรธรรมชาติ 35.พื้นที่อนุรักษ์วัฒนธรรม 36.พื้นที่อนุรักษ์โบราณสถาน 37.พื้นที่อนุรักษ์ทรัพยากรธรณี 38.พื้นที่อนุรักษ์สัตว์ป่า 39.พื้นที่อนุรักษ์น้ําเค็ม 40.พื้นที่อนุรักษ์ทางทะเล 41.พื้นที่อนุรักษ์ทรัพยากรทางทะเลและชายฝั่ง 42.พื้นที่อนุรักษ์มรดกทางวัฒนธรรม 43.พื้นที่อนุรักษ์ศิลปกรรม 44.พื้นที่อนุรักษ์โบราณสถาน 45.พื้นที่อนุรักษ์โบราณสถานทางประวัติศาสตร์ 46.พื้นที่อนุรักษ์โบราณสถานทางธรรมชาติ 47.พื้นที่อนุรักษ์โบราณสถานทางโบราณคดี 48.พื้นที่อนุรักษ์โบราณสถานแหล่งประวัติศาสตร์ 49.พื้นที่อนุรักษ์โบราณสถานสถานที่ท่องเที่ยว 50.พื้นที่อนุรักษ์โบราณสถานศาสนสถาน 51.พื้นที่อนุรักษ์โบราณสถานสถานที่ศักดิ์สิทธิ์ 52.พื้นที่อนุรักษ์โบราณสถานที่มิใช่วัด 53.พื้นที่อนุรักษ์โบราณสถานที่เป็นอุทยาน 54.พื้นที่อนุรักษ์โบราณสถานประเภทอื่นๆ 55.พื้นที่อนุรักษ์โบราณสถานตามบัญชีแนบท้ายประกาศกระทรวงทรัพยากรธรรมชาติและสิ่งแวดล้อม เรื่อง กําหนดเขตพื้นที่และมาตรการคุ้มครองสิ่งแวดล้อมฯ 56.พื้นที่ชุ่มน้ํา 57.พื้นที่ควบคุมการเดินเรือในแม่น้ํา 58.พื้นที่ควบคุมมลพิษ 59.พื้นที่เพาะเลี้ยงสัตว์น้ํา 60.พื้นที่เพาะปลูกพืช 62.พื้นที่อยู่อาศัยหรือทําประโยชน์ 63.พื้นที่ใช้ประโยชน์อื่น 64.พื้นที่ผังเมืองรวม 65.พื้นที่พัฒนาเมือง 66.พื้นที่ระเบียงเศรษฐกิจพิเศษ 67.พื้นที่โครงการอันเนื่องมาจากพระราชดําริ 68.พื้นที่แหล่งน้ําธรรมชาติ 69.พื้นที่สาธารณสมบัติ 70.พื้นที่เอกชน 71.พื้นที่บุกรุก 72.พื้นที่ทิ้งร้าง 73.พื้นที่สงวนหวงห้าม 74.พื้นที่สํารวจเพื่อการวางผังนโยบาย 75.พื้นที่อื่นใดตามกฎหมายที่เกี่ยวข้อง 76.พื้นที่ที่อาจได้รับการจัดระดับให้เป็นบริเวณคุณภาพอากาศดี 77.พื้นที่ที่ได้รับการกําหนดให้เป็นเขตพื้นที่ควบคุมมลพิษ ความคิดเห็นที่ 1 78.พื้นที่ป่าชายเลน 79.พื้นที่ป่าพรุ 80.พื้นที่ป่าชายหาด 81.พื้นที่ป่าเสื่อมโทรมเขาชะเมา-เขาวง 84.พื้นที่ป่าสงวนแห่งชาติ 85.พื้นที่อุทยานแห่งชาติ 86.พื้นที่มรดกโลกทางธรรมชาติ 87.พื้นที่อนุรักษ์พันธุกรรมพืชอันเนื่องมากจากพระราชดําริ 88.พื้นที่อนุรักษ์ฟื้นฟูสภาพป่าต้นน้ํา 89.พื้นที่คุ้มครองสิ่งแวดล้อม 90.พื้นที่คุ้มครองระบบนิเวศ 91.พื้นที่คุ้มครองสภาพแวดล้อม 92.พื้นที่คุ้มครองความหลากหลายทางชีวภาพ 93.พื้นที่คุ้มครองทางกายภาพ 94.พื้นที่คุ้มครองทางกฎหมาย 95.พื้นที่นําร่องด้านการอนุรักษ์ 96.พื้นที่ต้นแบบการคุ้มครองและพัฒนาที่อยู่อาศัยชุมชนริมคลอง 97.พื้นที่ต้นแบบการจัดการที่ดินของรัฐโดยชุมชน 98.พื้นที่ต้นแบบการพัฒนาเชิงบูรณาการระบบนิเวศน์ 99.พื้นที่ต้นแบบการมีส่วนร่วมของภาคีเครือข่าย 100.พื้นที่ต้นแบบการจัดการภัยพิบัติ 101.พื้นที่ต้นแบบการบริหารจัดการความขัดแย้งด้วยสันติวิธี 102.พื้นที่ต้นแบบความร่วมมือระหว่างประเทศ 103.พื้นที่ต้นแบบเศรษฐกิจพอเพียง 104.พื้นที่ต้นแบบโคกอีโด่ยวัลเล่ย์ 105.พื้นที่ต้นแบบโคกภูตากา 106.พื้นที่ต้นแบบบ้านปากบางสะกอม 107.พื้นที่ต้นแบบป่าดงนาทาม 108.พื้นที่ต้นแบบป่าพรุควนเคร็ง 109.พื้นที่ต้นแบบป่าพรุโต๊ะแดง 110.พื้นที่ต้นแบบป่าพรุไทยเจริญ 111.พื้นที่ต้นแบบป่าพรุสิรินธร 112.พื้นที่ต้นแบบป่าพรุสมรภูมิ 113.พื้นที่ต้นแบบป่าพรุเหล่ากอ 114.พื้นที่ต้นแบบป่าพรุแม่รําพึง 115.พื้นที่ต้นแบบป่าพรุหัวนา 116.พื้นที่ต้นแบบป่าพรุควนโสหุ้ย 117.พื้นที่ต้นแบบป่าพรุควนทะลุ 118.พื้นที่ต้นแบบป่าพรุควนบ่อโล๊ะ 119.พื้นที่ต้นแบบป่าพรุควนขี้เสียน 120.พื้นที่ต้นแบบป่าพรุควนเคร็ง 121.พื้นที่ต้นแบบป่าพรุทุ่งสง 122.พื้นที่ต้นแบบป่าพรุท่าช้าง123.พื้นที่ต้นแบบป่าพรุควนม่วง 124.พื้นที่ต้นแบบป่าพรุควนเคร็ง 125.พื้นที่ต้นแบบป่าพรุควนบ่อโล๊ะ 126.พื้นที่ต้นแบบป่าพรุควนบ่อโล๊ะ 2 127.พื้นที่ต้นแบบป่าพรุควนรัง 128.พื้นที่ต้นแบบป่าพรุควนด่าน 129.พื้นที่ต้นแบบป่าพรุควนเคร็ง 130.พื้นที่ต้นแบบป่าพรุควนบ่อทอง 131.พื้นที่ต้นแบบป่าพรุหนองเต็ง - กระทูน 132.พื้นที่ต้นแบบป่าพรุควนอ่างหิน 133.พื้นที่ต้นแบบป่าพรุควนเคร็ง 134.พื้นที่ต้นแบบป่าพรุควนบ่อโล๊ะ 135.พื้นที่ต้นแบบป่าพรุควนบ่อโล๊ะ 3 136.พื้นที่ต้นแบบป่าพรุควนบ่อโล๊ะ 4 137.พื้นที่ต้นแบบป่าพรุควนเคร็ง 5 138.พื้นที่ต้นแบบป่าพรุควนบ่อแสน 139.พื้นที่ต้นแบบป่าพรุควนเคร็ง 140.พื้นที่ต้นแบบป่าพรุควนบ่อแก้ว 141.พื้นที่ต้นแบบป่าพรุห้วยพลู 142.พื้นที่ต้นแบบป่าพรุดอนโหนด 143.พื้นที่ต้นแบบป่าพรุประจันต์ 144.พื้นที่ต้นแบบป่าพรุจําปา 145.พื้นที่ต้นแบบป่าพรุศรีนคร 146.พื้นที่ต้นแบบป่าพรุควนเคร็ง 147.พื้นที่ต้นแบบป่าพรุควนบ่อแสน 148.พื้นที่ต้นแบบป่าพรุควนเคร็ง 149.พื้นที่ต้นแบบป่าพรุควนบ่อแตน 150.พื้นที่ต้นแบบป่าพรุควนสวนยาง 151.พื้นที่ต้นแบบป่าพรุเสม็ดงาม 152.พื้นที่ต้นแบบป่าพรุเปือยน้อย 153.พื้นที่ต้นแบบป่าพรุบุณฑริก 154.พื้นที่ต้นแบบป่าพรุควนเคร็ง 155.พื้นที่ต้นแบบป่าพรุควนบ่อแสน 156.พื้นที่ต้นแบบป่าพรุควนเคร็ง 157.พื้นที่ต้นแบบป่าพรุควนบ่อแตน 158.พื้นที่ต้นแบบป่าพรุควนบ่อเบี้ย 160.พื้นที่ต้นแบบป่าพรุควนแคง 161.พื้นที่ต้นแบบป่าพรุฉลุง 163.พื้นที่ต้นแบบป่าพรุปางมะปราง 164.พื้นที่ต้นแบบป่าพรุควนเคร็ง 165.พื้นที่ต้นแบบป่าพรุควนบ่อแสน 166.พื้นที่ต้นแบบป่าพรุควนเคร็ง 167.พื้นที่ต้นแบบป่าพรุควนบ่อแตน 168.พื้นที่ต้นแบบป่าพรุควนบ่อเบี้ย 169.พื้นที่ต้นแบบป่าพรุควนบอน 170.พื้นที่ต้นแบบป่าพรุควนบ่ออิฐ 171.พื้นที่ต้นแบบป่าพรุควนรั้ว 172.พื้นที่ต้นแบบป่าพรุควนจิก 173.พื้นที่ต้นแบบป่าพรุคันธุลี 174.พื้นที่ต้นแบบป่าพรุควนเคร็ง 175.พื้นที่ต้นแบบป่าพรุควนบ่อแสน 176.พื้นที่ต้นแบบป่าพรุควนเคร็ง 177.พื้นที่ต้นแบบป่าพรุควนบ่อแตน 178.พื้นที่ต้นแบบป่าพรุควนบ่อเบี้ย 180.พื้นที่ต้นแบบป่าพรุควนบ่อแตน 181.พื้นที่ต้นแบบป่าพรุควนบ่อไผ่ 182.พื้นที่ต้นแบบป่าพรุสิรินธร 183.พื้นที่ต้นแบบป่าพรุพลวง 184.พื้นที่ต้นแบบป่าพรุท่าตะเกียบ 185.พื้นที่ต้นแบบป่าพรุคลองอู่ตะเภา 186.พื้นที่ต้นแบบป่าพรุควนเคร็ง 187.พื้นที่ต้นแบบป่าพรุควนบ่อแสน 188.พื้นที่ต้นแบบป่าพรุควนเคร็ง 189.พื้นที่ต้นแบบป่าพรุควนบ่อแตน 190.พื้นที่ต้นแบบป่าพรุควนบ่อเป้า 191.พื้นที่ต้นแบบป่าพรุกระโจม 192.พื้นที่ต้นแบบป่าพรุควนเคร็ง 193.พื้นที่ต้นแบบป่าพรุควนบ่อแสน 194.พื้นที่ต้นแบบป่าพรุควนเคร็ง 195.พื้นที่ต้นแบบป่าพรุควนบ่อแตน 196.พื้นที่ต้นแบบป่าพรุควนบ่อเบี้ย 197.พื้นที่ต้นแบบป่าพรุควนบอน 198.พื้นที่ต้นแบบป่าพรุควนเคร็ง 199.พื้นที่ต้นแบบป่าพรุควนบ่อแสน 200.พื้นที่ต้นแบบป่าพรุบึงบา 201.พื้นที่ต้นแบบป่าพรุหนองกงไกรลาศ 202.พื้นที่ต้นแบบป่าพรุหนองยาว <person> บ้าน<person> (นครศรีธรรมราช) 203.พื้นที่ต้นแบบป่าพรุซําฮะ <person> 204.พื้นที่ต้นแบบป่าพรุควนเคร็ง 205.พื้นที่ต้นแบบป่าพรุควนบ่อแตน 206.พื้นที่ต้นแบบป่าพรุควนบ่อแตน 207.พื้นที่ต้นแบบป่าพรุควนบ่อแตน 208.พื้นที่ต้นแบบป่าพรุควนเคร็ง 209.พื้นที่ต้นแบบป่าพรุควนบ่อแตน 210.พื้นที่ต้นแบบป่าพรุควนบ่อแสน 211.พื้นที่ต้นแบบป่าพรุควนเคร็ง 212.พื้นที่ต้นแบบป่าพรุควนบ่อแตน 213.พื้นที่ต้นแบบป่าพรุควนเคร็ง 214.พื้นที่ต้นแบบป่าพรุควนบ่อแตน 215.พื้นที่ต้นแบบป่าพรุควนบ่อแตน 216.พื้นที่ต้นแบบป่าพรุควนเคร็ง 217.พื้นที่ต้นแบบป่าพรุควนบ่อแตน 218.พื้นที่ต้นแบบป่าพรุควนเคร็ง 219.พื้นที่ต้นแบบป่าพรุควนบ่อแตน 220.พื้นที่ต้นแบบป่าพรุควนเคร็ง 221.พื้นที่ต้นแบบป่าพรุควนบ่อแตน 222.พื้นที่ต้นแบบป่าพรุควนเคร็ง 223.พื้นที่ต้นแบบป่าพรุควนบ่อแตน 224.พื้นที่ต้นแบบป่าพรุควนเคร็ง 225.พื้นที่ต้นแบบป่าพรุควนบ่อแตน 226.พื้นที่ต้นแบบป่าพรุควนเคร็ง 227.พื้นที่ต้นแบบป่าพรุควนบ่อแตน 228.พื้นที่ต้นแบบป่าพรุควนเคร็ง 229.พื้นที่ต้นแบบป่าพรุควนบ่อแตน 230.พื้นที่ต้นแบบป่าพรุควนเคร็ง 231.พื้นที่ต้นแบบป่าพรุควนบ่อแตน 232.พื้นที่ต้นแบบป่าพรุควนเคร็ง 233.พื้นที่ต้นแบบป่าพรุควนบ่อแตน 234.พื้นที่ต้นแบบป่าพรุควนเคร็ง 235.พื้นที่ต้นแบบป่าพรุควนบ่อแตน 236.พื้นที่ต้นแบบป่าพรุควนเคร็ง 237.พื้นที่ต้นแบบป่าพรุควนบ่อแตน 238.พื้นที่ต้นแบบป่าพรุควนเคร็ง 239.พื้นที่ต้นแบบป่าพรุควนบ่อแตน \n"
          ]
        }
      ],
      "source": [
        "print(pipe(\"\"\"คำถาม: ประเทศไทยมีกี่ภาคและมีกี่จังหวัด คืออะไร คำตอบ:\"\"\",\n",
        "           temperature = 0,\n",
        "           repetition_penalty = 1.2,\n",
        "           pad_token_id = 1,\n",
        "           eos_token_id = 1)[0]['generated_text'])"
      ]
    },
    {
      "cell_type": "code",
      "execution_count": null,
      "metadata": {
        "colab": {
          "base_uri": "https://localhost:8080/",
          "height": 140
        },
        "id": "foLbDqNaBE9B",
        "outputId": "26442e80-183b-4891-9f86-1657843901a5"
      },
      "outputs": [
        {
          "data": {
            "application/vnd.google.colaboratory.intrinsic+json": {
              "type": "string"
            },
            "text/plain": [
              "'คำถาม: บอกวิธีการเดินทางโดยรถประจำทางจากมาบุญครองไปเยาวราช โดยตอบทีละขั้นตอนอย่างละเอียด คืออะไร คำตอบ: รถไฟฟ้า BTS ลงสถานีสนามกีฬาแห่งชาติ ทางออกที่ 1 เดินไปทางถนนบรรทัดทอง เลี้ยวซ้ายที่แยกสะพานเหลือง เดินไปประมาณ 300 เมตร จะเจอป้ายรถเมล์ ขึ้นรถเมล์สาย 15, 47, 48, 73, 73ก, 204, 529, 542 ไปลงที่ป้ายวัดหัวลําโพง เดินไปอีกประมาณ 300 เมตร จะเจอป้ายรถเมล์ ขึ้นรถเมล์สาย 15, 47, 73, 73ก, 204, 529, 542 ไปลงที่ป้ายวัดหัวลําโพง เดินไปอีกประมาณ 300 เมตร จะเจอป้ายรถเมล์ ขึ้นรถเมล์สาย 15, 47, 73, 73ก, 204, 529, 542 ไปลงที่ป้ายวัดหัวลําโพง เดินไปอีกประมาณ 300 เมตร จะเจอป้ายรถเมล์ ขึ้นรถเมล์สาย 15, 47, 73, 73ก, 204, 529, 542 ไปลงที่ป้ายวัดหัวลําโพง เดินไปอีกประมาณ 300 เมตร จะเจอป้ายรถเมล์ ขึ้นรถเมล์สาย 15, 47, 73, 73ก, 204, 529, 542 ไปลงที่ป้ายวัดหัวลําโพง เดินไปอีกประมาณ 300 เมตร จะเจอป้ายรถเมล์ ขึ้นรถเมล์สาย 15, 47, 73, 73ก, 204, 529, 542 ไปลงที่ป้ายวัดหัวลําโพง เดินไปอีกประมาณ 300 เมตร จะเจอป้ายรถเมล์ ขึ้นรถเมล์สาย 15, 47, 73, 73ก, 204, 529, 542 ไปลงที่ป้ายวัดหัวลําโพง เดินไปอีกประมาณ 300 เมตร จะเจอป้ายรถเมล์ ขึ้นรถเมล์สาย 15, 47, 73, 73ก, 204, 529, 542 ไปลงที่ป้ายวัดหัวลําโพง เดินไปอีกประมาณ 300 เมตร จะเจอป้ายรถเมล์ ขึ้นรถเมล์สาย 15, 47, 73, 73ก, 204, 529, 542 ไปลงที่ป้ายวัดหัวลําโพง เดินไปอีกประมาณ 300 เมตร จะเจอป้ายรถเมล์ ขึ้นรถเมล์สาย 15, 47, 73, 73ก, 204, 529, 542 ไปลงที่ป้ายวัดหัวลําโพง เดินไปอีกประมาณ 300 เมตร จะเจอป้ายรถเมล์ ขึ้นรถเมล์สาย 15, 47, 73, 73ก, 204, 529, 542 ไปลงที่ป้ายวัดหัวลําโพง เดินไปอีกประมาณ 300 เมตร จะเจอป้ายรถเมล์ ขึ้นรถเมล์สาย 15, 47, 73, 73ก, 204, 529, 542 ไปลงที่ป้ายวัดหัวลําโพง เดินไปอีกประมาณ 300 เมตร จะเจอป้ายรถเมล์ ขึ้นรถเมล์สาย 15, 47, 73, 73ก, 204, 529, 542 ไปลงที่ป้ายวัดหัวลําโพง เดินไปอีกประมาณ 300 เมตร จะเจอป้ายรถเมล์ ขึ้นรถเมล์สาย 15, 47, 73, 73ก, 204, 529, 542 ไปลงที่ป้ายวัดหัวลําโพง เดินไปอีกประมาณ 300 เมตร จะเจอป้ายรถเมล์ ขึ้นรถเมล์สาย 15, 47, 73, 73ก, 204, 529, 542 ไปลงที่ป้ายวัดหัวลําโพง เดินไปอีกประมาณ 300 เมตร จะเจอป้ายรถเมล์ ขึ้นรถเมล์สาย 15, 47, 73, 73ก, 204, 529, 542 ไปลงที่ป้ายวัดหัวลําโพง เดินไปอีกประมาณ 300 เมตร จะเจอป้ายรถเมล์ ขึ้นรถเมล์สาย 15, 47, 73, 73ก, 204, 529, 542 ไปลงที่ป้ายวัดหัวลําโพง เดินไปอีกประมาณ 300 เมตร จะเจอป้ายรถเมล์ ขึ้นรถเมล์สาย 15, 47, 73, 73ก, 204, 529, 542 ไปลงที่ป้ายวัดหัวลําโพง เดินไปอีกประมาณ 300 เมตร จะเจอป้ายรถเมล์ ขึ้นรถเมล์สาย 15, 47, 73, 73ก, 204, 529, 542 ไปลงที่ป้ายวัดหัวลําโพง เดินไปอีกประมาณ 300 เมตร จะเจอป้ายรถเมล์ ขึ้นรถเมล์สาย 15, 47, 73, 73ก, 204, 529, 542 ไปลงที่ป้ายวัดหัวลําโพง เดินไปอีกประมาณ 300 เมตร จะเจอป้ายรถเมล์ ขึ้นรถเมล์สาย 15, 47, 73, 73ก, 204, 529, 542 ไปลงที่ป้ายวัดหัวลําโพง เดินไปอีกประมาณ 300 เมตร จะเจอป้ายรถเมล์ ขึ้นรถเมล์สาย 15, 47, 73, 73ก, 204, 529, 542 ไปลงที่ป้ายวัดหัวลําโพง เดินไปอีกประมาณ 300 เมตร จะเจอป้ายรถเมล์ ขึ้นรถเมล์สาย 15, 47, 73, 73ก, 204, 529, 542 ไปลงที่ป้ายวัดหัวลําโพง เดินไปอีกประมาณ 300 เมตร จะเจอป้ายรถเมล์ ขึ้นรถเมล์สาย 15, 47, 73, 73ก, 204, 529, 542 ไปลงที่ป้ายวัดหัวลําโพง เดินไปอีกประมาณ 300 เมตร จะเจอป้ายรถเมล์ ขึ้นรถเมล์สาย 15, 47, 73, 73ก, 204, 529, 542 ไปลงที่ป้ายวัดหัวลําโพง เดินไปอีกประมาณ 300 เมตร จะเจอป้ายรถเมล์ ขึ้นรถเมล์สาย 15, 47, 73, 73ก, 204, 529, 542 ไปลงที่ป้ายวัดหัวลําโพง เดินไปอีกประมาณ 300 เมตร จะเจอป้ายรถเมล์ ขึ้นรถเมล์สาย 15, 47, 73, 73ก, 204, 529, 542 ไปลงที่ป้ายวัดหัวลําโพง เดินไปอีกประมาณ 300 เมตร จะเจอป้ายรถเมล์ ขึ้นรถเมล์สาย 15, 47, 73, 73ก, 204, 529, 542 ไปลงที่ป้ายวัดหัวลําโพง เดินไปอีกประมาณ 300 เมตร จะเจอป้ายรถเมล์ ขึ้นรถเมล์สาย 15, 47, 73, 73ก, 204, 529, 542 ไปลงที่ป้ายวัดหัวลําโพง เดินไปอีกประมาณ 300 เมตร จะเจอป้ายรถเมล์ ขึ้นรถเมล์สาย 15, 47, 73, 73ก, 204, 529, 542 ไปลงที่ป้ายวัดหัวลําโพง เดินไปอีกประมาณ 300 เมตร จะเจอป้ายรถเมล์ ขึ้นรถเมล์สาย 15, 47, 73, 73ก, 204, 529, 542 ไปลงที่ป้ายวัดหัวลําโพง เดินไปอีกประมาณ 300 เมตร จะเจอป้ายรถเมล์ ขึ้นรถเมล์สาย 15, 47, 73, 73ก, 204, 529, 542 ไปลงที่ป้ายวัดหัวลําโพง เดินไปอีกประมาณ 300 เมตร จะเจอป้ายรถเมล์ ขึ้นรถเมล์สาย 15, 47, 73, 73ก, 204, 529, 542 ไปลงที่ป้ายวัดหัวลําโพง เดินไปอีกประมาณ 300 เมตร จะเจอป้ายรถเมล์ ขึ้นรถเมล์สาย 15, 47, 73, 73ก, 204, 529, 542 ไปลงที่ป้ายวัดหัวลําโพง เดินไปอีกประมาณ 300 เมตร จะเจอป้ายรถเมล์ ขึ้นรถเมล์สาย 15, 47, 73, 73ก, 204, 529, 542 ไปลงที่ป้ายวัดหัวลําโพง เดินไปอีกประมาณ 300 เมตร จะเจอป้ายรถเมล์ ขึ้นรถเมล์สาย 15, 47, 73, 73ก, 204, 529, 542 ไปลงที่ป้ายวัดหัวลําโพง เดินไปอีกประมาณ 300 เมตร จะเจอป้ายรถเมล์ ขึ้นรถเมล์สาย 15, 47, 73, 73ก, 204, 529, 542 ไปลงที่ป้ายวัดหัวลําโพง เดินไปอีกประมาณ 300 เมตร จะเจอป้ายรถเมล์ ขึ้นรถเมล์สาย 15, 47, 73, 73ก, 204, 529, 542 ไปลงที่ป้ายวัดหัวลําโพง เดินไปอีกประมาณ 300 เมตร จะเจอป้ายรถเมล์ ขึ้นรถเมล์สาย 15, 47, 73, 73ก, 204, 529, 542 ไปลงที่ป้ายวัดหัวลําโพง เดินไปอีกประมาณ 300 เมตร จะเจอป้ายรถเมล์ ขึ้นรถเมล์สาย 15, 47, 73, 73ก, 204, 529, 542 ไปลงที่ป้ายวัดหัวลําโพง เดินไปอีกประมาณ 300 เมตร จะเจอป้ายรถเมล์ ขึ้นรถเมล์สาย 15, 47, 73, 73ก, 204, 529, 542 ไปลงที่ป้ายวัดหัวลําโพง เดินไปอีกประมาณ 300 เมตร จะเจอป้ายรถเมล์ ขึ้นรถเมล์สาย 15, 47, 73, 73ก, 204, 529, 542 ไปลงที่ป้ายวัดหัวลําโพง เดินไปอีกประมาณ 300 เมตร จะเจอป้ายรถเมล์ ขึ้นรถเมล์สาย 15, 47, 73, 73ก, 204, 529, 542 ไปลงที่ป้ายวัดหัวลําโพง เดินไปอีกประมาณ 300 เมตร จะเจอป้ายรถเมล์ ขึ้นรถเมล์สาย 15, 47, 73, 73ก, 204, 529, 542 ไปลงที่ป้ายวัดหัวลําโพง เดินไปอีกประมาณ 300 เมตร จะเจอป้ายรถเมล์ ขึ้นรถเมล์สาย 15, 47, 73, 73ก, 204, 529, 542 ไปลงที่ป้ายวัดหัวลําโพง เดินไปอีกประมาณ 300 เมตร จะเจอป้ายรถเมล์ ขึ้นรถเมล์สาย 15, 47, 73, 73ก, 204, 529, 542 ไปลงที่ป้ายวัดหัวลําโพง เดินไปอีกประมาณ 300 เมตร จะเจอป้ายรถเมล์ ขึ้นรถเมล์สาย 15, 47, 73, 73ก, 204, 529, 542 ไปลงที่ป้ายวัดหัวลําโพง เดินไปอีกประมาณ 300 เมตร จะเจอป้ายรถเมล์ ขึ้นรถเมล์สาย 15, 47, 73, 73ก, 204, 529, 542 ไปลงที่ป้ายวัดหัวลําโพง เดินไปอีกประมาณ 300 เมตร จะเจอป้ายรถเมล์ ขึ้นรถเมล์สาย 15, 47, 73, 73ก, 204, 529, 542 ไปลงที่ป้ายวัดหัวลําโพง เดินไปอีกประมาณ 300 เมตร จะเจอป้ายรถเมล์ ขึ้นรถเมล์สาย 15, 47, 73, 73ก, 204, 529, 542 ไปลงที่ป้ายวัดหัวลําโพง เดินไปอีกประมาณ 300 เมตร จะเจอป้ายรถเมล์ ขึ้นรถเมล์สาย 15, 47, 73, 73ก, 204, 529, 542 ไปลงที่ป้ายวัดหัวลําโพง เดินไปอีกประมาณ 300 เมตร จะเจอป้ายรถเมล์ ขึ้นรถเมล์สาย 15, 47, 73, 73ก, 204, 529, 542 ไปลงที่ป้ายวัดหัวลําโพง เดินไปอีกประมาณ 300 เมตร จะเจอป้ายรถเมล์ ขึ้นรถเมล์สาย 15, 47, 73, 73ก, 204, 529, 542 ไปลงที่ป้ายวัดหัวลําโพง เดินไปอีกประมาณ 300 เมตร จะเจอป้ายรถเมล์ ขึ้นรถเมล์สาย 15, 47, 73, 73ก, 204, 529, 542 ไปลงที่ป้ายวัดหัวลําโพง เดินไปอีกประมาณ 300 เมตร จะเจอป้ายรถเมล์ ขึ้นรถเมล์สาย 15, 47, 73, 73ก, 204, 529, 542 ไปลงที่ป้ายวัดหัวลําโพง เดินไปอีกประมาณ 300 เมตร จะเจอป้ายรถเมล์ ขึ้นรถเมล์สาย 15, 47, 73, 73ก, 204, 529, 542 ไปลงที่ป้ายวัดหัวลําโพง เดินไปอีกประมาณ 300 เมตร จะเจอป้ายรถเมล์ ขึ้นรถเมล์สาย 15, 47, 73, 73ก, 204, 529, 542 ไปลงที่ป้าย'"
            ]
          },
          "execution_count": 56,
          "metadata": {},
          "output_type": "execute_result"
        }
      ],
      "source": [
        "pipe(\"\"\"คำถาม: บอกวิธีการเดินทางโดยรถประจำทางจากมาบุญครองไปเยาวราช โดยตอบทีละขั้นตอนอย่างละเอียด คืออะไร คำตอบ:\"\"\",\n",
        "           temperature = 0,\n",
        "           repetition_penalty = 1,\n",
        "           pad_token_id = 1,\n",
        "           eos_token_id = 1)[0]['generated_text']"
      ]
    },
    {
      "cell_type": "markdown",
      "metadata": {
        "id": "GyN_oyhbTIQ0"
      },
      "source": [
        "## Contact Us"
      ]
    },
    {
      "cell_type": "markdown",
      "metadata": {
        "id": "DTza4ekdTNnY"
      },
      "source": [
        "If you have any questions, please contact us for an enquiry\n",
        "\n",
        "*   Email: koravich.s@openthai.or.th\n",
        "*   Discord: https://discord.gg/nRbgjt2A\n",
        "*   Github: https://github.com/OpenThaiGPT/openthaigpt\n"
      ]
    }
  ],
  "metadata": {
    "accelerator": "GPU",
    "colab": {
      "provenance": [],
      "toc_visible": true
    },
    "kernelspec": {
      "display_name": "Python 3",
      "name": "python3"
    },
    "language_info": {
      "name": "python"
    },
    "widgets": {
      "application/vnd.jupyter.widget-state+json": {
        "055510906d54476fb8f59ca88397e89a": {
          "model_module": "@jupyter-widgets/controls",
          "model_module_version": "1.5.0",
          "model_name": "HTMLModel",
          "state": {
            "_dom_classes": [],
            "_model_module": "@jupyter-widgets/controls",
            "_model_module_version": "1.5.0",
            "_model_name": "HTMLModel",
            "_view_count": null,
            "_view_module": "@jupyter-widgets/controls",
            "_view_module_version": "1.5.0",
            "_view_name": "HTMLView",
            "description": "",
            "description_tooltip": null,
            "layout": "IPY_MODEL_10452b6b6a9d428a819c67363cec382d",
            "placeholder": "​",
            "style": "IPY_MODEL_f453428cc9044aabb9c1528fbf04522c",
            "value": "tokenizer.model: 100%"
          }
        },
        "0a0685f2d32e4d7bb7f4fa3e97bd6551": {
          "model_module": "@jupyter-widgets/controls",
          "model_module_version": "1.5.0",
          "model_name": "DescriptionStyleModel",
          "state": {
            "_model_module": "@jupyter-widgets/controls",
            "_model_module_version": "1.5.0",
            "_model_name": "DescriptionStyleModel",
            "_view_count": null,
            "_view_module": "@jupyter-widgets/base",
            "_view_module_version": "1.2.0",
            "_view_name": "StyleView",
            "description_width": ""
          }
        },
        "0eedabba1a604d0aadb5d9f618590f3c": {
          "model_module": "@jupyter-widgets/controls",
          "model_module_version": "1.5.0",
          "model_name": "DescriptionStyleModel",
          "state": {
            "_model_module": "@jupyter-widgets/controls",
            "_model_module_version": "1.5.0",
            "_model_name": "DescriptionStyleModel",
            "_view_count": null,
            "_view_module": "@jupyter-widgets/base",
            "_view_module_version": "1.2.0",
            "_view_name": "StyleView",
            "description_width": ""
          }
        },
        "10452b6b6a9d428a819c67363cec382d": {
          "model_module": "@jupyter-widgets/base",
          "model_module_version": "1.2.0",
          "model_name": "LayoutModel",
          "state": {
            "_model_module": "@jupyter-widgets/base",
            "_model_module_version": "1.2.0",
            "_model_name": "LayoutModel",
            "_view_count": null,
            "_view_module": "@jupyter-widgets/base",
            "_view_module_version": "1.2.0",
            "_view_name": "LayoutView",
            "align_content": null,
            "align_items": null,
            "align_self": null,
            "border": null,
            "bottom": null,
            "display": null,
            "flex": null,
            "flex_flow": null,
            "grid_area": null,
            "grid_auto_columns": null,
            "grid_auto_flow": null,
            "grid_auto_rows": null,
            "grid_column": null,
            "grid_gap": null,
            "grid_row": null,
            "grid_template_areas": null,
            "grid_template_columns": null,
            "grid_template_rows": null,
            "height": null,
            "justify_content": null,
            "justify_items": null,
            "left": null,
            "margin": null,
            "max_height": null,
            "max_width": null,
            "min_height": null,
            "min_width": null,
            "object_fit": null,
            "object_position": null,
            "order": null,
            "overflow": null,
            "overflow_x": null,
            "overflow_y": null,
            "padding": null,
            "right": null,
            "top": null,
            "visibility": null,
            "width": null
          }
        },
        "1096573190db4c9196ee0e81c2086ed5": {
          "model_module": "@jupyter-widgets/controls",
          "model_module_version": "1.5.0",
          "model_name": "HBoxModel",
          "state": {
            "_dom_classes": [],
            "_model_module": "@jupyter-widgets/controls",
            "_model_module_version": "1.5.0",
            "_model_name": "HBoxModel",
            "_view_count": null,
            "_view_module": "@jupyter-widgets/controls",
            "_view_module_version": "1.5.0",
            "_view_name": "HBoxView",
            "box_style": "",
            "children": [
              "IPY_MODEL_301946d8b394411d87130fffe4614c6a",
              "IPY_MODEL_f0b102d17bd2452e94fa22d58b1f16c7",
              "IPY_MODEL_1420088ab79c49da94b6881ac69bbc81"
            ],
            "layout": "IPY_MODEL_6d6dff3b113842c2a87864a782c7c74f"
          }
        },
        "10b4e25a2d6a4e9294a7adf03aaa44c1": {
          "model_module": "@jupyter-widgets/base",
          "model_module_version": "1.2.0",
          "model_name": "LayoutModel",
          "state": {
            "_model_module": "@jupyter-widgets/base",
            "_model_module_version": "1.2.0",
            "_model_name": "LayoutModel",
            "_view_count": null,
            "_view_module": "@jupyter-widgets/base",
            "_view_module_version": "1.2.0",
            "_view_name": "LayoutView",
            "align_content": null,
            "align_items": null,
            "align_self": null,
            "border": null,
            "bottom": null,
            "display": null,
            "flex": null,
            "flex_flow": null,
            "grid_area": null,
            "grid_auto_columns": null,
            "grid_auto_flow": null,
            "grid_auto_rows": null,
            "grid_column": null,
            "grid_gap": null,
            "grid_row": null,
            "grid_template_areas": null,
            "grid_template_columns": null,
            "grid_template_rows": null,
            "height": null,
            "justify_content": null,
            "justify_items": null,
            "left": null,
            "margin": null,
            "max_height": null,
            "max_width": null,
            "min_height": null,
            "min_width": null,
            "object_fit": null,
            "object_position": null,
            "order": null,
            "overflow": null,
            "overflow_x": null,
            "overflow_y": null,
            "padding": null,
            "right": null,
            "top": null,
            "visibility": null,
            "width": null
          }
        },
        "1420088ab79c49da94b6881ac69bbc81": {
          "model_module": "@jupyter-widgets/controls",
          "model_module_version": "1.5.0",
          "model_name": "HTMLModel",
          "state": {
            "_dom_classes": [],
            "_model_module": "@jupyter-widgets/controls",
            "_model_module_version": "1.5.0",
            "_model_name": "HTMLModel",
            "_view_count": null,
            "_view_module": "@jupyter-widgets/controls",
            "_view_module_version": "1.5.0",
            "_view_name": "HTMLView",
            "description": "",
            "description_tooltip": null,
            "layout": "IPY_MODEL_3c69c4b5e482492aa4a39462cba714d2",
            "placeholder": "​",
            "style": "IPY_MODEL_0eedabba1a604d0aadb5d9f618590f3c",
            "value": " 43.0/43.0 [00:00&lt;00:00, 1.15kB/s]"
          }
        },
        "14455397e1ba47d499685a898096fc1a": {
          "model_module": "@jupyter-widgets/controls",
          "model_module_version": "1.5.0",
          "model_name": "HTMLModel",
          "state": {
            "_dom_classes": [],
            "_model_module": "@jupyter-widgets/controls",
            "_model_module_version": "1.5.0",
            "_model_name": "HTMLModel",
            "_view_count": null,
            "_view_module": "@jupyter-widgets/controls",
            "_view_module_version": "1.5.0",
            "_view_name": "HTMLView",
            "description": "",
            "description_tooltip": null,
            "layout": "IPY_MODEL_774774d21a224ac7ac2ff7d462b95c55",
            "placeholder": "​",
            "style": "IPY_MODEL_d856d0d878b945979e88d553b0cdea8d",
            "value": " 1.03M/1.03M [00:00&lt;00:00, 3.35MB/s]"
          }
        },
        "18818c4da01e43a49b359caae95c6f32": {
          "model_module": "@jupyter-widgets/base",
          "model_module_version": "1.2.0",
          "model_name": "LayoutModel",
          "state": {
            "_model_module": "@jupyter-widgets/base",
            "_model_module_version": "1.2.0",
            "_model_name": "LayoutModel",
            "_view_count": null,
            "_view_module": "@jupyter-widgets/base",
            "_view_module_version": "1.2.0",
            "_view_name": "LayoutView",
            "align_content": null,
            "align_items": null,
            "align_self": null,
            "border": null,
            "bottom": null,
            "display": null,
            "flex": null,
            "flex_flow": null,
            "grid_area": null,
            "grid_auto_columns": null,
            "grid_auto_flow": null,
            "grid_auto_rows": null,
            "grid_column": null,
            "grid_gap": null,
            "grid_row": null,
            "grid_template_areas": null,
            "grid_template_columns": null,
            "grid_template_rows": null,
            "height": null,
            "justify_content": null,
            "justify_items": null,
            "left": null,
            "margin": null,
            "max_height": null,
            "max_width": null,
            "min_height": null,
            "min_width": null,
            "object_fit": null,
            "object_position": null,
            "order": null,
            "overflow": null,
            "overflow_x": null,
            "overflow_y": null,
            "padding": null,
            "right": null,
            "top": null,
            "visibility": null,
            "width": null
          }
        },
        "1a45307cc01e42eba6ef9212ec658f9b": {
          "model_module": "@jupyter-widgets/controls",
          "model_module_version": "1.5.0",
          "model_name": "HTMLModel",
          "state": {
            "_dom_classes": [],
            "_model_module": "@jupyter-widgets/controls",
            "_model_module_version": "1.5.0",
            "_model_name": "HTMLModel",
            "_view_count": null,
            "_view_module": "@jupyter-widgets/controls",
            "_view_module_version": "1.5.0",
            "_view_name": "HTMLView",
            "description": "",
            "description_tooltip": null,
            "layout": "IPY_MODEL_96432fbd5f28409fab0c44f76ccc42ff",
            "placeholder": "​",
            "style": "IPY_MODEL_5641666f71a44a1a9e9bc1f943a95c76",
            "value": " 73.0/73.0 [00:00&lt;00:00, 3.54kB/s]"
          }
        },
        "237bf4b20a5f4d62836531c61d9c778d": {
          "model_module": "@jupyter-widgets/controls",
          "model_module_version": "1.5.0",
          "model_name": "HTMLModel",
          "state": {
            "_dom_classes": [],
            "_model_module": "@jupyter-widgets/controls",
            "_model_module_version": "1.5.0",
            "_model_name": "HTMLModel",
            "_view_count": null,
            "_view_module": "@jupyter-widgets/controls",
            "_view_module_version": "1.5.0",
            "_view_name": "HTMLView",
            "description": "",
            "description_tooltip": null,
            "layout": "IPY_MODEL_721db1bba0804b2a937eb36a3b7c4cb1",
            "placeholder": "​",
            "style": "IPY_MODEL_3e34791f45314cef8b3b4c6e924838bc",
            "value": "pytorch_model.bin: 100%"
          }
        },
        "26d03d4e0c9643d09efa2b1cc6e237be": {
          "model_module": "@jupyter-widgets/base",
          "model_module_version": "1.2.0",
          "model_name": "LayoutModel",
          "state": {
            "_model_module": "@jupyter-widgets/base",
            "_model_module_version": "1.2.0",
            "_model_name": "LayoutModel",
            "_view_count": null,
            "_view_module": "@jupyter-widgets/base",
            "_view_module_version": "1.2.0",
            "_view_name": "LayoutView",
            "align_content": null,
            "align_items": null,
            "align_self": null,
            "border": null,
            "bottom": null,
            "display": null,
            "flex": null,
            "flex_flow": null,
            "grid_area": null,
            "grid_auto_columns": null,
            "grid_auto_flow": null,
            "grid_auto_rows": null,
            "grid_column": null,
            "grid_gap": null,
            "grid_row": null,
            "grid_template_areas": null,
            "grid_template_columns": null,
            "grid_template_rows": null,
            "height": null,
            "justify_content": null,
            "justify_items": null,
            "left": null,
            "margin": null,
            "max_height": null,
            "max_width": null,
            "min_height": null,
            "min_width": null,
            "object_fit": null,
            "object_position": null,
            "order": null,
            "overflow": null,
            "overflow_x": null,
            "overflow_y": null,
            "padding": null,
            "right": null,
            "top": null,
            "visibility": null,
            "width": null
          }
        },
        "2771f722d1be4de389731435195d2b29": {
          "model_module": "@jupyter-widgets/controls",
          "model_module_version": "1.5.0",
          "model_name": "FloatProgressModel",
          "state": {
            "_dom_classes": [],
            "_model_module": "@jupyter-widgets/controls",
            "_model_module_version": "1.5.0",
            "_model_name": "FloatProgressModel",
            "_view_count": null,
            "_view_module": "@jupyter-widgets/controls",
            "_view_module_version": "1.5.0",
            "_view_name": "ProgressView",
            "bar_style": "success",
            "description": "",
            "description_tooltip": null,
            "layout": "IPY_MODEL_99a75c474f1640fc8d68fa5d0c845bbb",
            "max": 73,
            "min": 0,
            "orientation": "horizontal",
            "style": "IPY_MODEL_f9fb8c1698784f5caec4a5b0c2a93a1c",
            "value": 73
          }
        },
        "2cc5fa92fee24441b52149770f74738b": {
          "model_module": "@jupyter-widgets/controls",
          "model_module_version": "1.5.0",
          "model_name": "ProgressStyleModel",
          "state": {
            "_model_module": "@jupyter-widgets/controls",
            "_model_module_version": "1.5.0",
            "_model_name": "ProgressStyleModel",
            "_view_count": null,
            "_view_module": "@jupyter-widgets/base",
            "_view_module_version": "1.2.0",
            "_view_name": "StyleView",
            "bar_color": null,
            "description_width": ""
          }
        },
        "2dda3c41322141dcbca0d0cb487b91fa": {
          "model_module": "@jupyter-widgets/controls",
          "model_module_version": "1.5.0",
          "model_name": "HTMLModel",
          "state": {
            "_dom_classes": [],
            "_model_module": "@jupyter-widgets/controls",
            "_model_module_version": "1.5.0",
            "_model_name": "HTMLModel",
            "_view_count": null,
            "_view_module": "@jupyter-widgets/controls",
            "_view_module_version": "1.5.0",
            "_view_name": "HTMLView",
            "description": "",
            "description_tooltip": null,
            "layout": "IPY_MODEL_58cb04e6e3134adda918616488e7c4fd",
            "placeholder": "​",
            "style": "IPY_MODEL_a607b071a7dc4fd7bec2f4f749495635",
            "value": " 111/111 [00:00&lt;00:00, 5.06kB/s]"
          }
        },
        "301946d8b394411d87130fffe4614c6a": {
          "model_module": "@jupyter-widgets/controls",
          "model_module_version": "1.5.0",
          "model_name": "HTMLModel",
          "state": {
            "_dom_classes": [],
            "_model_module": "@jupyter-widgets/controls",
            "_model_module_version": "1.5.0",
            "_model_name": "HTMLModel",
            "_view_count": null,
            "_view_module": "@jupyter-widgets/controls",
            "_view_module_version": "1.5.0",
            "_view_name": "HTMLView",
            "description": "",
            "description_tooltip": null,
            "layout": "IPY_MODEL_18818c4da01e43a49b359caae95c6f32",
            "placeholder": "​",
            "style": "IPY_MODEL_f4cbc17ce0704208b2e8059bed6b03b8",
            "value": "added_tokens.json: 100%"
          }
        },
        "30a621664c33430b91b85cc37cb64939": {
          "model_module": "@jupyter-widgets/controls",
          "model_module_version": "1.5.0",
          "model_name": "FloatProgressModel",
          "state": {
            "_dom_classes": [],
            "_model_module": "@jupyter-widgets/controls",
            "_model_module_version": "1.5.0",
            "_model_name": "FloatProgressModel",
            "_view_count": null,
            "_view_module": "@jupyter-widgets/controls",
            "_view_module_version": "1.5.0",
            "_view_name": "ProgressView",
            "bar_style": "success",
            "description": "",
            "description_tooltip": null,
            "layout": "IPY_MODEL_10b4e25a2d6a4e9294a7adf03aaa44c1",
            "max": 993,
            "min": 0,
            "orientation": "horizontal",
            "style": "IPY_MODEL_2cc5fa92fee24441b52149770f74738b",
            "value": 993
          }
        },
        "3bc0e664003f436980298d884767f6df": {
          "model_module": "@jupyter-widgets/controls",
          "model_module_version": "1.5.0",
          "model_name": "ProgressStyleModel",
          "state": {
            "_model_module": "@jupyter-widgets/controls",
            "_model_module_version": "1.5.0",
            "_model_name": "ProgressStyleModel",
            "_view_count": null,
            "_view_module": "@jupyter-widgets/base",
            "_view_module_version": "1.2.0",
            "_view_name": "StyleView",
            "bar_color": null,
            "description_width": ""
          }
        },
        "3c69c4b5e482492aa4a39462cba714d2": {
          "model_module": "@jupyter-widgets/base",
          "model_module_version": "1.2.0",
          "model_name": "LayoutModel",
          "state": {
            "_model_module": "@jupyter-widgets/base",
            "_model_module_version": "1.2.0",
            "_model_name": "LayoutModel",
            "_view_count": null,
            "_view_module": "@jupyter-widgets/base",
            "_view_module_version": "1.2.0",
            "_view_name": "LayoutView",
            "align_content": null,
            "align_items": null,
            "align_self": null,
            "border": null,
            "bottom": null,
            "display": null,
            "flex": null,
            "flex_flow": null,
            "grid_area": null,
            "grid_auto_columns": null,
            "grid_auto_flow": null,
            "grid_auto_rows": null,
            "grid_column": null,
            "grid_gap": null,
            "grid_row": null,
            "grid_template_areas": null,
            "grid_template_columns": null,
            "grid_template_rows": null,
            "height": null,
            "justify_content": null,
            "justify_items": null,
            "left": null,
            "margin": null,
            "max_height": null,
            "max_width": null,
            "min_height": null,
            "min_width": null,
            "object_fit": null,
            "object_position": null,
            "order": null,
            "overflow": null,
            "overflow_x": null,
            "overflow_y": null,
            "padding": null,
            "right": null,
            "top": null,
            "visibility": null,
            "width": null
          }
        },
        "3e34791f45314cef8b3b4c6e924838bc": {
          "model_module": "@jupyter-widgets/controls",
          "model_module_version": "1.5.0",
          "model_name": "DescriptionStyleModel",
          "state": {
            "_model_module": "@jupyter-widgets/controls",
            "_model_module_version": "1.5.0",
            "_model_name": "DescriptionStyleModel",
            "_view_count": null,
            "_view_module": "@jupyter-widgets/base",
            "_view_module_version": "1.2.0",
            "_view_name": "StyleView",
            "description_width": ""
          }
        },
        "3e837845036a40d9be17da49161be31e": {
          "model_module": "@jupyter-widgets/controls",
          "model_module_version": "1.5.0",
          "model_name": "HTMLModel",
          "state": {
            "_dom_classes": [],
            "_model_module": "@jupyter-widgets/controls",
            "_model_module_version": "1.5.0",
            "_model_name": "HTMLModel",
            "_view_count": null,
            "_view_module": "@jupyter-widgets/controls",
            "_view_module_version": "1.5.0",
            "_view_name": "HTMLView",
            "description": "",
            "description_tooltip": null,
            "layout": "IPY_MODEL_b5a1c8ff9b2544368b3d13a94a8f409e",
            "placeholder": "​",
            "style": "IPY_MODEL_89c5e55a95e146b482f64c5a3113e2cb",
            "value": " 993/993 [00:00&lt;00:00, 34.0kB/s]"
          }
        },
        "41dad634feda4a97a52a033f62ba2aa6": {
          "model_module": "@jupyter-widgets/controls",
          "model_module_version": "1.5.0",
          "model_name": "FloatProgressModel",
          "state": {
            "_dom_classes": [],
            "_model_module": "@jupyter-widgets/controls",
            "_model_module_version": "1.5.0",
            "_model_name": "FloatProgressModel",
            "_view_count": null,
            "_view_module": "@jupyter-widgets/controls",
            "_view_module_version": "1.5.0",
            "_view_name": "ProgressView",
            "bar_style": "success",
            "description": "",
            "description_tooltip": null,
            "layout": "IPY_MODEL_d2fcba7c0c72427881fdc0c6c896b15c",
            "max": 4400258293,
            "min": 0,
            "orientation": "horizontal",
            "style": "IPY_MODEL_626edd474f7e4692b90d07d1683585e2",
            "value": 4400258293
          }
        },
        "4394a96ba52a4a3489d3b8c63405899a": {
          "model_module": "@jupyter-widgets/controls",
          "model_module_version": "1.5.0",
          "model_name": "HTMLModel",
          "state": {
            "_dom_classes": [],
            "_model_module": "@jupyter-widgets/controls",
            "_model_module_version": "1.5.0",
            "_model_name": "HTMLModel",
            "_view_count": null,
            "_view_module": "@jupyter-widgets/controls",
            "_view_module_version": "1.5.0",
            "_view_name": "HTMLView",
            "description": "",
            "description_tooltip": null,
            "layout": "IPY_MODEL_b98dd90c17624aedb2e4012e124bb472",
            "placeholder": "​",
            "style": "IPY_MODEL_79df40040a9b437db692134880fe874c",
            "value": "tokenizer_config.json: 100%"
          }
        },
        "49409a13b06446319d467a49f1e11fa5": {
          "model_module": "@jupyter-widgets/controls",
          "model_module_version": "1.5.0",
          "model_name": "ProgressStyleModel",
          "state": {
            "_model_module": "@jupyter-widgets/controls",
            "_model_module_version": "1.5.0",
            "_model_name": "ProgressStyleModel",
            "_view_count": null,
            "_view_module": "@jupyter-widgets/base",
            "_view_module_version": "1.2.0",
            "_view_name": "StyleView",
            "bar_color": null,
            "description_width": ""
          }
        },
        "50d04501b15549b8b4c31b508769d6b3": {
          "model_module": "@jupyter-widgets/base",
          "model_module_version": "1.2.0",
          "model_name": "LayoutModel",
          "state": {
            "_model_module": "@jupyter-widgets/base",
            "_model_module_version": "1.2.0",
            "_model_name": "LayoutModel",
            "_view_count": null,
            "_view_module": "@jupyter-widgets/base",
            "_view_module_version": "1.2.0",
            "_view_name": "LayoutView",
            "align_content": null,
            "align_items": null,
            "align_self": null,
            "border": null,
            "bottom": null,
            "display": null,
            "flex": null,
            "flex_flow": null,
            "grid_area": null,
            "grid_auto_columns": null,
            "grid_auto_flow": null,
            "grid_auto_rows": null,
            "grid_column": null,
            "grid_gap": null,
            "grid_row": null,
            "grid_template_areas": null,
            "grid_template_columns": null,
            "grid_template_rows": null,
            "height": null,
            "justify_content": null,
            "justify_items": null,
            "left": null,
            "margin": null,
            "max_height": null,
            "max_width": null,
            "min_height": null,
            "min_width": null,
            "object_fit": null,
            "object_position": null,
            "order": null,
            "overflow": null,
            "overflow_x": null,
            "overflow_y": null,
            "padding": null,
            "right": null,
            "top": null,
            "visibility": null,
            "width": null
          }
        },
        "513ed420945c4424ac52a848a0b1b528": {
          "model_module": "@jupyter-widgets/base",
          "model_module_version": "1.2.0",
          "model_name": "LayoutModel",
          "state": {
            "_model_module": "@jupyter-widgets/base",
            "_model_module_version": "1.2.0",
            "_model_name": "LayoutModel",
            "_view_count": null,
            "_view_module": "@jupyter-widgets/base",
            "_view_module_version": "1.2.0",
            "_view_name": "LayoutView",
            "align_content": null,
            "align_items": null,
            "align_self": null,
            "border": null,
            "bottom": null,
            "display": null,
            "flex": null,
            "flex_flow": null,
            "grid_area": null,
            "grid_auto_columns": null,
            "grid_auto_flow": null,
            "grid_auto_rows": null,
            "grid_column": null,
            "grid_gap": null,
            "grid_row": null,
            "grid_template_areas": null,
            "grid_template_columns": null,
            "grid_template_rows": null,
            "height": null,
            "justify_content": null,
            "justify_items": null,
            "left": null,
            "margin": null,
            "max_height": null,
            "max_width": null,
            "min_height": null,
            "min_width": null,
            "object_fit": null,
            "object_position": null,
            "order": null,
            "overflow": null,
            "overflow_x": null,
            "overflow_y": null,
            "padding": null,
            "right": null,
            "top": null,
            "visibility": null,
            "width": null
          }
        },
        "524321757e6745b58a8efef71217f865": {
          "model_module": "@jupyter-widgets/controls",
          "model_module_version": "1.5.0",
          "model_name": "DescriptionStyleModel",
          "state": {
            "_model_module": "@jupyter-widgets/controls",
            "_model_module_version": "1.5.0",
            "_model_name": "DescriptionStyleModel",
            "_view_count": null,
            "_view_module": "@jupyter-widgets/base",
            "_view_module_version": "1.2.0",
            "_view_name": "StyleView",
            "description_width": ""
          }
        },
        "5641666f71a44a1a9e9bc1f943a95c76": {
          "model_module": "@jupyter-widgets/controls",
          "model_module_version": "1.5.0",
          "model_name": "DescriptionStyleModel",
          "state": {
            "_model_module": "@jupyter-widgets/controls",
            "_model_module_version": "1.5.0",
            "_model_name": "DescriptionStyleModel",
            "_view_count": null,
            "_view_module": "@jupyter-widgets/base",
            "_view_module_version": "1.2.0",
            "_view_name": "StyleView",
            "description_width": ""
          }
        },
        "58cb04e6e3134adda918616488e7c4fd": {
          "model_module": "@jupyter-widgets/base",
          "model_module_version": "1.2.0",
          "model_name": "LayoutModel",
          "state": {
            "_model_module": "@jupyter-widgets/base",
            "_model_module_version": "1.2.0",
            "_model_name": "LayoutModel",
            "_view_count": null,
            "_view_module": "@jupyter-widgets/base",
            "_view_module_version": "1.2.0",
            "_view_name": "LayoutView",
            "align_content": null,
            "align_items": null,
            "align_self": null,
            "border": null,
            "bottom": null,
            "display": null,
            "flex": null,
            "flex_flow": null,
            "grid_area": null,
            "grid_auto_columns": null,
            "grid_auto_flow": null,
            "grid_auto_rows": null,
            "grid_column": null,
            "grid_gap": null,
            "grid_row": null,
            "grid_template_areas": null,
            "grid_template_columns": null,
            "grid_template_rows": null,
            "height": null,
            "justify_content": null,
            "justify_items": null,
            "left": null,
            "margin": null,
            "max_height": null,
            "max_width": null,
            "min_height": null,
            "min_width": null,
            "object_fit": null,
            "object_position": null,
            "order": null,
            "overflow": null,
            "overflow_x": null,
            "overflow_y": null,
            "padding": null,
            "right": null,
            "top": null,
            "visibility": null,
            "width": null
          }
        },
        "626edd474f7e4692b90d07d1683585e2": {
          "model_module": "@jupyter-widgets/controls",
          "model_module_version": "1.5.0",
          "model_name": "ProgressStyleModel",
          "state": {
            "_model_module": "@jupyter-widgets/controls",
            "_model_module_version": "1.5.0",
            "_model_name": "ProgressStyleModel",
            "_view_count": null,
            "_view_module": "@jupyter-widgets/base",
            "_view_module_version": "1.2.0",
            "_view_name": "StyleView",
            "bar_color": null,
            "description_width": ""
          }
        },
        "634f1219587341c1ab234d2420abd27c": {
          "model_module": "@jupyter-widgets/base",
          "model_module_version": "1.2.0",
          "model_name": "LayoutModel",
          "state": {
            "_model_module": "@jupyter-widgets/base",
            "_model_module_version": "1.2.0",
            "_model_name": "LayoutModel",
            "_view_count": null,
            "_view_module": "@jupyter-widgets/base",
            "_view_module_version": "1.2.0",
            "_view_name": "LayoutView",
            "align_content": null,
            "align_items": null,
            "align_self": null,
            "border": null,
            "bottom": null,
            "display": null,
            "flex": null,
            "flex_flow": null,
            "grid_area": null,
            "grid_auto_columns": null,
            "grid_auto_flow": null,
            "grid_auto_rows": null,
            "grid_column": null,
            "grid_gap": null,
            "grid_row": null,
            "grid_template_areas": null,
            "grid_template_columns": null,
            "grid_template_rows": null,
            "height": null,
            "justify_content": null,
            "justify_items": null,
            "left": null,
            "margin": null,
            "max_height": null,
            "max_width": null,
            "min_height": null,
            "min_width": null,
            "object_fit": null,
            "object_position": null,
            "order": null,
            "overflow": null,
            "overflow_x": null,
            "overflow_y": null,
            "padding": null,
            "right": null,
            "top": null,
            "visibility": null,
            "width": null
          }
        },
        "6d6dff3b113842c2a87864a782c7c74f": {
          "model_module": "@jupyter-widgets/base",
          "model_module_version": "1.2.0",
          "model_name": "LayoutModel",
          "state": {
            "_model_module": "@jupyter-widgets/base",
            "_model_module_version": "1.2.0",
            "_model_name": "LayoutModel",
            "_view_count": null,
            "_view_module": "@jupyter-widgets/base",
            "_view_module_version": "1.2.0",
            "_view_name": "LayoutView",
            "align_content": null,
            "align_items": null,
            "align_self": null,
            "border": null,
            "bottom": null,
            "display": null,
            "flex": null,
            "flex_flow": null,
            "grid_area": null,
            "grid_auto_columns": null,
            "grid_auto_flow": null,
            "grid_auto_rows": null,
            "grid_column": null,
            "grid_gap": null,
            "grid_row": null,
            "grid_template_areas": null,
            "grid_template_columns": null,
            "grid_template_rows": null,
            "height": null,
            "justify_content": null,
            "justify_items": null,
            "left": null,
            "margin": null,
            "max_height": null,
            "max_width": null,
            "min_height": null,
            "min_width": null,
            "object_fit": null,
            "object_position": null,
            "order": null,
            "overflow": null,
            "overflow_x": null,
            "overflow_y": null,
            "padding": null,
            "right": null,
            "top": null,
            "visibility": null,
            "width": null
          }
        },
        "6dcf7e0ce46c478db344e98fe3ddfaec": {
          "model_module": "@jupyter-widgets/controls",
          "model_module_version": "1.5.0",
          "model_name": "FloatProgressModel",
          "state": {
            "_dom_classes": [],
            "_model_module": "@jupyter-widgets/controls",
            "_model_module_version": "1.5.0",
            "_model_name": "FloatProgressModel",
            "_view_count": null,
            "_view_module": "@jupyter-widgets/controls",
            "_view_module_version": "1.5.0",
            "_view_name": "ProgressView",
            "bar_style": "success",
            "description": "",
            "description_tooltip": null,
            "layout": "IPY_MODEL_b573769fc8904f6c84240b8653ca652f",
            "max": 607,
            "min": 0,
            "orientation": "horizontal",
            "style": "IPY_MODEL_7fcfbdaf0d12427d8d53098fe871ab0b",
            "value": 607
          }
        },
        "6e06d95294ad4aea849679011be046a7": {
          "model_module": "@jupyter-widgets/controls",
          "model_module_version": "1.5.0",
          "model_name": "HBoxModel",
          "state": {
            "_dom_classes": [],
            "_model_module": "@jupyter-widgets/controls",
            "_model_module_version": "1.5.0",
            "_model_name": "HBoxModel",
            "_view_count": null,
            "_view_module": "@jupyter-widgets/controls",
            "_view_module_version": "1.5.0",
            "_view_name": "HBoxView",
            "box_style": "",
            "children": [
              "IPY_MODEL_4394a96ba52a4a3489d3b8c63405899a",
              "IPY_MODEL_30a621664c33430b91b85cc37cb64939",
              "IPY_MODEL_3e837845036a40d9be17da49161be31e"
            ],
            "layout": "IPY_MODEL_50d04501b15549b8b4c31b508769d6b3"
          }
        },
        "6f4a597c88a34f79a56793ef11224713": {
          "model_module": "@jupyter-widgets/base",
          "model_module_version": "1.2.0",
          "model_name": "LayoutModel",
          "state": {
            "_model_module": "@jupyter-widgets/base",
            "_model_module_version": "1.2.0",
            "_model_name": "LayoutModel",
            "_view_count": null,
            "_view_module": "@jupyter-widgets/base",
            "_view_module_version": "1.2.0",
            "_view_name": "LayoutView",
            "align_content": null,
            "align_items": null,
            "align_self": null,
            "border": null,
            "bottom": null,
            "display": null,
            "flex": null,
            "flex_flow": null,
            "grid_area": null,
            "grid_auto_columns": null,
            "grid_auto_flow": null,
            "grid_auto_rows": null,
            "grid_column": null,
            "grid_gap": null,
            "grid_row": null,
            "grid_template_areas": null,
            "grid_template_columns": null,
            "grid_template_rows": null,
            "height": null,
            "justify_content": null,
            "justify_items": null,
            "left": null,
            "margin": null,
            "max_height": null,
            "max_width": null,
            "min_height": null,
            "min_width": null,
            "object_fit": null,
            "object_position": null,
            "order": null,
            "overflow": null,
            "overflow_x": null,
            "overflow_y": null,
            "padding": null,
            "right": null,
            "top": null,
            "visibility": null,
            "width": null
          }
        },
        "721db1bba0804b2a937eb36a3b7c4cb1": {
          "model_module": "@jupyter-widgets/base",
          "model_module_version": "1.2.0",
          "model_name": "LayoutModel",
          "state": {
            "_model_module": "@jupyter-widgets/base",
            "_model_module_version": "1.2.0",
            "_model_name": "LayoutModel",
            "_view_count": null,
            "_view_module": "@jupyter-widgets/base",
            "_view_module_version": "1.2.0",
            "_view_name": "LayoutView",
            "align_content": null,
            "align_items": null,
            "align_self": null,
            "border": null,
            "bottom": null,
            "display": null,
            "flex": null,
            "flex_flow": null,
            "grid_area": null,
            "grid_auto_columns": null,
            "grid_auto_flow": null,
            "grid_auto_rows": null,
            "grid_column": null,
            "grid_gap": null,
            "grid_row": null,
            "grid_template_areas": null,
            "grid_template_columns": null,
            "grid_template_rows": null,
            "height": null,
            "justify_content": null,
            "justify_items": null,
            "left": null,
            "margin": null,
            "max_height": null,
            "max_width": null,
            "min_height": null,
            "min_width": null,
            "object_fit": null,
            "object_position": null,
            "order": null,
            "overflow": null,
            "overflow_x": null,
            "overflow_y": null,
            "padding": null,
            "right": null,
            "top": null,
            "visibility": null,
            "width": null
          }
        },
        "72c64790a282482f862dec108b0a1145": {
          "model_module": "@jupyter-widgets/controls",
          "model_module_version": "1.5.0",
          "model_name": "FloatProgressModel",
          "state": {
            "_dom_classes": [],
            "_model_module": "@jupyter-widgets/controls",
            "_model_module_version": "1.5.0",
            "_model_name": "FloatProgressModel",
            "_view_count": null,
            "_view_module": "@jupyter-widgets/controls",
            "_view_module_version": "1.5.0",
            "_view_name": "ProgressView",
            "bar_style": "success",
            "description": "",
            "description_tooltip": null,
            "layout": "IPY_MODEL_97f379c49a13485d97f6c2eef8be5a10",
            "max": 1029163,
            "min": 0,
            "orientation": "horizontal",
            "style": "IPY_MODEL_8b06c35fb78848b390482930b6ab85bc",
            "value": 1029163
          }
        },
        "72dd03395f4b46f4957886fda983fafa": {
          "model_module": "@jupyter-widgets/controls",
          "model_module_version": "1.5.0",
          "model_name": "DescriptionStyleModel",
          "state": {
            "_model_module": "@jupyter-widgets/controls",
            "_model_module_version": "1.5.0",
            "_model_name": "DescriptionStyleModel",
            "_view_count": null,
            "_view_module": "@jupyter-widgets/base",
            "_view_module_version": "1.2.0",
            "_view_name": "StyleView",
            "description_width": ""
          }
        },
        "757652bff935468c80ea5fa7e365e2f1": {
          "model_module": "@jupyter-widgets/base",
          "model_module_version": "1.2.0",
          "model_name": "LayoutModel",
          "state": {
            "_model_module": "@jupyter-widgets/base",
            "_model_module_version": "1.2.0",
            "_model_name": "LayoutModel",
            "_view_count": null,
            "_view_module": "@jupyter-widgets/base",
            "_view_module_version": "1.2.0",
            "_view_name": "LayoutView",
            "align_content": null,
            "align_items": null,
            "align_self": null,
            "border": null,
            "bottom": null,
            "display": null,
            "flex": null,
            "flex_flow": null,
            "grid_area": null,
            "grid_auto_columns": null,
            "grid_auto_flow": null,
            "grid_auto_rows": null,
            "grid_column": null,
            "grid_gap": null,
            "grid_row": null,
            "grid_template_areas": null,
            "grid_template_columns": null,
            "grid_template_rows": null,
            "height": null,
            "justify_content": null,
            "justify_items": null,
            "left": null,
            "margin": null,
            "max_height": null,
            "max_width": null,
            "min_height": null,
            "min_width": null,
            "object_fit": null,
            "object_position": null,
            "order": null,
            "overflow": null,
            "overflow_x": null,
            "overflow_y": null,
            "padding": null,
            "right": null,
            "top": null,
            "visibility": null,
            "width": null
          }
        },
        "774774d21a224ac7ac2ff7d462b95c55": {
          "model_module": "@jupyter-widgets/base",
          "model_module_version": "1.2.0",
          "model_name": "LayoutModel",
          "state": {
            "_model_module": "@jupyter-widgets/base",
            "_model_module_version": "1.2.0",
            "_model_name": "LayoutModel",
            "_view_count": null,
            "_view_module": "@jupyter-widgets/base",
            "_view_module_version": "1.2.0",
            "_view_name": "LayoutView",
            "align_content": null,
            "align_items": null,
            "align_self": null,
            "border": null,
            "bottom": null,
            "display": null,
            "flex": null,
            "flex_flow": null,
            "grid_area": null,
            "grid_auto_columns": null,
            "grid_auto_flow": null,
            "grid_auto_rows": null,
            "grid_column": null,
            "grid_gap": null,
            "grid_row": null,
            "grid_template_areas": null,
            "grid_template_columns": null,
            "grid_template_rows": null,
            "height": null,
            "justify_content": null,
            "justify_items": null,
            "left": null,
            "margin": null,
            "max_height": null,
            "max_width": null,
            "min_height": null,
            "min_width": null,
            "object_fit": null,
            "object_position": null,
            "order": null,
            "overflow": null,
            "overflow_x": null,
            "overflow_y": null,
            "padding": null,
            "right": null,
            "top": null,
            "visibility": null,
            "width": null
          }
        },
        "79df40040a9b437db692134880fe874c": {
          "model_module": "@jupyter-widgets/controls",
          "model_module_version": "1.5.0",
          "model_name": "DescriptionStyleModel",
          "state": {
            "_model_module": "@jupyter-widgets/controls",
            "_model_module_version": "1.5.0",
            "_model_name": "DescriptionStyleModel",
            "_view_count": null,
            "_view_module": "@jupyter-widgets/base",
            "_view_module_version": "1.2.0",
            "_view_name": "StyleView",
            "description_width": ""
          }
        },
        "7c93979a8edb4669be0353fd0ea38c03": {
          "model_module": "@jupyter-widgets/base",
          "model_module_version": "1.2.0",
          "model_name": "LayoutModel",
          "state": {
            "_model_module": "@jupyter-widgets/base",
            "_model_module_version": "1.2.0",
            "_model_name": "LayoutModel",
            "_view_count": null,
            "_view_module": "@jupyter-widgets/base",
            "_view_module_version": "1.2.0",
            "_view_name": "LayoutView",
            "align_content": null,
            "align_items": null,
            "align_self": null,
            "border": null,
            "bottom": null,
            "display": null,
            "flex": null,
            "flex_flow": null,
            "grid_area": null,
            "grid_auto_columns": null,
            "grid_auto_flow": null,
            "grid_auto_rows": null,
            "grid_column": null,
            "grid_gap": null,
            "grid_row": null,
            "grid_template_areas": null,
            "grid_template_columns": null,
            "grid_template_rows": null,
            "height": null,
            "justify_content": null,
            "justify_items": null,
            "left": null,
            "margin": null,
            "max_height": null,
            "max_width": null,
            "min_height": null,
            "min_width": null,
            "object_fit": null,
            "object_position": null,
            "order": null,
            "overflow": null,
            "overflow_x": null,
            "overflow_y": null,
            "padding": null,
            "right": null,
            "top": null,
            "visibility": null,
            "width": null
          }
        },
        "7fcfbdaf0d12427d8d53098fe871ab0b": {
          "model_module": "@jupyter-widgets/controls",
          "model_module_version": "1.5.0",
          "model_name": "ProgressStyleModel",
          "state": {
            "_model_module": "@jupyter-widgets/controls",
            "_model_module_version": "1.5.0",
            "_model_name": "ProgressStyleModel",
            "_view_count": null,
            "_view_module": "@jupyter-widgets/base",
            "_view_module_version": "1.2.0",
            "_view_name": "StyleView",
            "bar_color": null,
            "description_width": ""
          }
        },
        "89c5e55a95e146b482f64c5a3113e2cb": {
          "model_module": "@jupyter-widgets/controls",
          "model_module_version": "1.5.0",
          "model_name": "DescriptionStyleModel",
          "state": {
            "_model_module": "@jupyter-widgets/controls",
            "_model_module_version": "1.5.0",
            "_model_name": "DescriptionStyleModel",
            "_view_count": null,
            "_view_module": "@jupyter-widgets/base",
            "_view_module_version": "1.2.0",
            "_view_name": "StyleView",
            "description_width": ""
          }
        },
        "8b06c35fb78848b390482930b6ab85bc": {
          "model_module": "@jupyter-widgets/controls",
          "model_module_version": "1.5.0",
          "model_name": "ProgressStyleModel",
          "state": {
            "_model_module": "@jupyter-widgets/controls",
            "_model_module_version": "1.5.0",
            "_model_name": "ProgressStyleModel",
            "_view_count": null,
            "_view_module": "@jupyter-widgets/base",
            "_view_module_version": "1.2.0",
            "_view_name": "StyleView",
            "bar_color": null,
            "description_width": ""
          }
        },
        "8df54b97c28e45eb907c4cfbdf63dec8": {
          "model_module": "@jupyter-widgets/base",
          "model_module_version": "1.2.0",
          "model_name": "LayoutModel",
          "state": {
            "_model_module": "@jupyter-widgets/base",
            "_model_module_version": "1.2.0",
            "_model_name": "LayoutModel",
            "_view_count": null,
            "_view_module": "@jupyter-widgets/base",
            "_view_module_version": "1.2.0",
            "_view_name": "LayoutView",
            "align_content": null,
            "align_items": null,
            "align_self": null,
            "border": null,
            "bottom": null,
            "display": null,
            "flex": null,
            "flex_flow": null,
            "grid_area": null,
            "grid_auto_columns": null,
            "grid_auto_flow": null,
            "grid_auto_rows": null,
            "grid_column": null,
            "grid_gap": null,
            "grid_row": null,
            "grid_template_areas": null,
            "grid_template_columns": null,
            "grid_template_rows": null,
            "height": null,
            "justify_content": null,
            "justify_items": null,
            "left": null,
            "margin": null,
            "max_height": null,
            "max_width": null,
            "min_height": null,
            "min_width": null,
            "object_fit": null,
            "object_position": null,
            "order": null,
            "overflow": null,
            "overflow_x": null,
            "overflow_y": null,
            "padding": null,
            "right": null,
            "top": null,
            "visibility": null,
            "width": null
          }
        },
        "96432fbd5f28409fab0c44f76ccc42ff": {
          "model_module": "@jupyter-widgets/base",
          "model_module_version": "1.2.0",
          "model_name": "LayoutModel",
          "state": {
            "_model_module": "@jupyter-widgets/base",
            "_model_module_version": "1.2.0",
            "_model_name": "LayoutModel",
            "_view_count": null,
            "_view_module": "@jupyter-widgets/base",
            "_view_module_version": "1.2.0",
            "_view_name": "LayoutView",
            "align_content": null,
            "align_items": null,
            "align_self": null,
            "border": null,
            "bottom": null,
            "display": null,
            "flex": null,
            "flex_flow": null,
            "grid_area": null,
            "grid_auto_columns": null,
            "grid_auto_flow": null,
            "grid_auto_rows": null,
            "grid_column": null,
            "grid_gap": null,
            "grid_row": null,
            "grid_template_areas": null,
            "grid_template_columns": null,
            "grid_template_rows": null,
            "height": null,
            "justify_content": null,
            "justify_items": null,
            "left": null,
            "margin": null,
            "max_height": null,
            "max_width": null,
            "min_height": null,
            "min_width": null,
            "object_fit": null,
            "object_position": null,
            "order": null,
            "overflow": null,
            "overflow_x": null,
            "overflow_y": null,
            "padding": null,
            "right": null,
            "top": null,
            "visibility": null,
            "width": null
          }
        },
        "97f379c49a13485d97f6c2eef8be5a10": {
          "model_module": "@jupyter-widgets/base",
          "model_module_version": "1.2.0",
          "model_name": "LayoutModel",
          "state": {
            "_model_module": "@jupyter-widgets/base",
            "_model_module_version": "1.2.0",
            "_model_name": "LayoutModel",
            "_view_count": null,
            "_view_module": "@jupyter-widgets/base",
            "_view_module_version": "1.2.0",
            "_view_name": "LayoutView",
            "align_content": null,
            "align_items": null,
            "align_self": null,
            "border": null,
            "bottom": null,
            "display": null,
            "flex": null,
            "flex_flow": null,
            "grid_area": null,
            "grid_auto_columns": null,
            "grid_auto_flow": null,
            "grid_auto_rows": null,
            "grid_column": null,
            "grid_gap": null,
            "grid_row": null,
            "grid_template_areas": null,
            "grid_template_columns": null,
            "grid_template_rows": null,
            "height": null,
            "justify_content": null,
            "justify_items": null,
            "left": null,
            "margin": null,
            "max_height": null,
            "max_width": null,
            "min_height": null,
            "min_width": null,
            "object_fit": null,
            "object_position": null,
            "order": null,
            "overflow": null,
            "overflow_x": null,
            "overflow_y": null,
            "padding": null,
            "right": null,
            "top": null,
            "visibility": null,
            "width": null
          }
        },
        "99a75c474f1640fc8d68fa5d0c845bbb": {
          "model_module": "@jupyter-widgets/base",
          "model_module_version": "1.2.0",
          "model_name": "LayoutModel",
          "state": {
            "_model_module": "@jupyter-widgets/base",
            "_model_module_version": "1.2.0",
            "_model_name": "LayoutModel",
            "_view_count": null,
            "_view_module": "@jupyter-widgets/base",
            "_view_module_version": "1.2.0",
            "_view_name": "LayoutView",
            "align_content": null,
            "align_items": null,
            "align_self": null,
            "border": null,
            "bottom": null,
            "display": null,
            "flex": null,
            "flex_flow": null,
            "grid_area": null,
            "grid_auto_columns": null,
            "grid_auto_flow": null,
            "grid_auto_rows": null,
            "grid_column": null,
            "grid_gap": null,
            "grid_row": null,
            "grid_template_areas": null,
            "grid_template_columns": null,
            "grid_template_rows": null,
            "height": null,
            "justify_content": null,
            "justify_items": null,
            "left": null,
            "margin": null,
            "max_height": null,
            "max_width": null,
            "min_height": null,
            "min_width": null,
            "object_fit": null,
            "object_position": null,
            "order": null,
            "overflow": null,
            "overflow_x": null,
            "overflow_y": null,
            "padding": null,
            "right": null,
            "top": null,
            "visibility": null,
            "width": null
          }
        },
        "a110840598f840cf842ded4cbe30cce0": {
          "model_module": "@jupyter-widgets/base",
          "model_module_version": "1.2.0",
          "model_name": "LayoutModel",
          "state": {
            "_model_module": "@jupyter-widgets/base",
            "_model_module_version": "1.2.0",
            "_model_name": "LayoutModel",
            "_view_count": null,
            "_view_module": "@jupyter-widgets/base",
            "_view_module_version": "1.2.0",
            "_view_name": "LayoutView",
            "align_content": null,
            "align_items": null,
            "align_self": null,
            "border": null,
            "bottom": null,
            "display": null,
            "flex": null,
            "flex_flow": null,
            "grid_area": null,
            "grid_auto_columns": null,
            "grid_auto_flow": null,
            "grid_auto_rows": null,
            "grid_column": null,
            "grid_gap": null,
            "grid_row": null,
            "grid_template_areas": null,
            "grid_template_columns": null,
            "grid_template_rows": null,
            "height": null,
            "justify_content": null,
            "justify_items": null,
            "left": null,
            "margin": null,
            "max_height": null,
            "max_width": null,
            "min_height": null,
            "min_width": null,
            "object_fit": null,
            "object_position": null,
            "order": null,
            "overflow": null,
            "overflow_x": null,
            "overflow_y": null,
            "padding": null,
            "right": null,
            "top": null,
            "visibility": null,
            "width": null
          }
        },
        "a2d3463d4d124b11a817cd71680cb3b1": {
          "model_module": "@jupyter-widgets/controls",
          "model_module_version": "1.5.0",
          "model_name": "HBoxModel",
          "state": {
            "_dom_classes": [],
            "_model_module": "@jupyter-widgets/controls",
            "_model_module_version": "1.5.0",
            "_model_name": "HBoxModel",
            "_view_count": null,
            "_view_module": "@jupyter-widgets/controls",
            "_view_module_version": "1.5.0",
            "_view_name": "HBoxView",
            "box_style": "",
            "children": [
              "IPY_MODEL_c1615c22b8fb4999b4bc14b80967cbab",
              "IPY_MODEL_c08f92463e98424eb1fff173b604ebcf",
              "IPY_MODEL_2dda3c41322141dcbca0d0cb487b91fa"
            ],
            "layout": "IPY_MODEL_6f4a597c88a34f79a56793ef11224713"
          }
        },
        "a607b071a7dc4fd7bec2f4f749495635": {
          "model_module": "@jupyter-widgets/controls",
          "model_module_version": "1.5.0",
          "model_name": "DescriptionStyleModel",
          "state": {
            "_model_module": "@jupyter-widgets/controls",
            "_model_module_version": "1.5.0",
            "_model_name": "DescriptionStyleModel",
            "_view_count": null,
            "_view_module": "@jupyter-widgets/base",
            "_view_module_version": "1.2.0",
            "_view_name": "StyleView",
            "description_width": ""
          }
        },
        "a78b90db286649d498cf531663fec814": {
          "model_module": "@jupyter-widgets/controls",
          "model_module_version": "1.5.0",
          "model_name": "HTMLModel",
          "state": {
            "_dom_classes": [],
            "_model_module": "@jupyter-widgets/controls",
            "_model_module_version": "1.5.0",
            "_model_name": "HTMLModel",
            "_view_count": null,
            "_view_module": "@jupyter-widgets/controls",
            "_view_module_version": "1.5.0",
            "_view_name": "HTMLView",
            "description": "",
            "description_tooltip": null,
            "layout": "IPY_MODEL_7c93979a8edb4669be0353fd0ea38c03",
            "placeholder": "​",
            "style": "IPY_MODEL_e1fd768f2fe2472aa841bdb9a1c27053",
            "value": "config.json: 100%"
          }
        },
        "ac79070084ba48268b0ac62755fb93e0": {
          "model_module": "@jupyter-widgets/controls",
          "model_module_version": "1.5.0",
          "model_name": "HBoxModel",
          "state": {
            "_dom_classes": [],
            "_model_module": "@jupyter-widgets/controls",
            "_model_module_version": "1.5.0",
            "_model_name": "HBoxModel",
            "_view_count": null,
            "_view_module": "@jupyter-widgets/controls",
            "_view_module_version": "1.5.0",
            "_view_name": "HBoxView",
            "box_style": "",
            "children": [
              "IPY_MODEL_a78b90db286649d498cf531663fec814",
              "IPY_MODEL_6dcf7e0ce46c478db344e98fe3ddfaec",
              "IPY_MODEL_cece9f592ae94f598e41db1db3f821f5"
            ],
            "layout": "IPY_MODEL_26d03d4e0c9643d09efa2b1cc6e237be"
          }
        },
        "b1258d6dc06e40c9afd910dedc4372f5": {
          "model_module": "@jupyter-widgets/controls",
          "model_module_version": "1.5.0",
          "model_name": "DescriptionStyleModel",
          "state": {
            "_model_module": "@jupyter-widgets/controls",
            "_model_module_version": "1.5.0",
            "_model_name": "DescriptionStyleModel",
            "_view_count": null,
            "_view_module": "@jupyter-widgets/base",
            "_view_module_version": "1.2.0",
            "_view_name": "StyleView",
            "description_width": ""
          }
        },
        "b573769fc8904f6c84240b8653ca652f": {
          "model_module": "@jupyter-widgets/base",
          "model_module_version": "1.2.0",
          "model_name": "LayoutModel",
          "state": {
            "_model_module": "@jupyter-widgets/base",
            "_model_module_version": "1.2.0",
            "_model_name": "LayoutModel",
            "_view_count": null,
            "_view_module": "@jupyter-widgets/base",
            "_view_module_version": "1.2.0",
            "_view_name": "LayoutView",
            "align_content": null,
            "align_items": null,
            "align_self": null,
            "border": null,
            "bottom": null,
            "display": null,
            "flex": null,
            "flex_flow": null,
            "grid_area": null,
            "grid_auto_columns": null,
            "grid_auto_flow": null,
            "grid_auto_rows": null,
            "grid_column": null,
            "grid_gap": null,
            "grid_row": null,
            "grid_template_areas": null,
            "grid_template_columns": null,
            "grid_template_rows": null,
            "height": null,
            "justify_content": null,
            "justify_items": null,
            "left": null,
            "margin": null,
            "max_height": null,
            "max_width": null,
            "min_height": null,
            "min_width": null,
            "object_fit": null,
            "object_position": null,
            "order": null,
            "overflow": null,
            "overflow_x": null,
            "overflow_y": null,
            "padding": null,
            "right": null,
            "top": null,
            "visibility": null,
            "width": null
          }
        },
        "b5a1c8ff9b2544368b3d13a94a8f409e": {
          "model_module": "@jupyter-widgets/base",
          "model_module_version": "1.2.0",
          "model_name": "LayoutModel",
          "state": {
            "_model_module": "@jupyter-widgets/base",
            "_model_module_version": "1.2.0",
            "_model_name": "LayoutModel",
            "_view_count": null,
            "_view_module": "@jupyter-widgets/base",
            "_view_module_version": "1.2.0",
            "_view_name": "LayoutView",
            "align_content": null,
            "align_items": null,
            "align_self": null,
            "border": null,
            "bottom": null,
            "display": null,
            "flex": null,
            "flex_flow": null,
            "grid_area": null,
            "grid_auto_columns": null,
            "grid_auto_flow": null,
            "grid_auto_rows": null,
            "grid_column": null,
            "grid_gap": null,
            "grid_row": null,
            "grid_template_areas": null,
            "grid_template_columns": null,
            "grid_template_rows": null,
            "height": null,
            "justify_content": null,
            "justify_items": null,
            "left": null,
            "margin": null,
            "max_height": null,
            "max_width": null,
            "min_height": null,
            "min_width": null,
            "object_fit": null,
            "object_position": null,
            "order": null,
            "overflow": null,
            "overflow_x": null,
            "overflow_y": null,
            "padding": null,
            "right": null,
            "top": null,
            "visibility": null,
            "width": null
          }
        },
        "b98dd90c17624aedb2e4012e124bb472": {
          "model_module": "@jupyter-widgets/base",
          "model_module_version": "1.2.0",
          "model_name": "LayoutModel",
          "state": {
            "_model_module": "@jupyter-widgets/base",
            "_model_module_version": "1.2.0",
            "_model_name": "LayoutModel",
            "_view_count": null,
            "_view_module": "@jupyter-widgets/base",
            "_view_module_version": "1.2.0",
            "_view_name": "LayoutView",
            "align_content": null,
            "align_items": null,
            "align_self": null,
            "border": null,
            "bottom": null,
            "display": null,
            "flex": null,
            "flex_flow": null,
            "grid_area": null,
            "grid_auto_columns": null,
            "grid_auto_flow": null,
            "grid_auto_rows": null,
            "grid_column": null,
            "grid_gap": null,
            "grid_row": null,
            "grid_template_areas": null,
            "grid_template_columns": null,
            "grid_template_rows": null,
            "height": null,
            "justify_content": null,
            "justify_items": null,
            "left": null,
            "margin": null,
            "max_height": null,
            "max_width": null,
            "min_height": null,
            "min_width": null,
            "object_fit": null,
            "object_position": null,
            "order": null,
            "overflow": null,
            "overflow_x": null,
            "overflow_y": null,
            "padding": null,
            "right": null,
            "top": null,
            "visibility": null,
            "width": null
          }
        },
        "c08f92463e98424eb1fff173b604ebcf": {
          "model_module": "@jupyter-widgets/controls",
          "model_module_version": "1.5.0",
          "model_name": "FloatProgressModel",
          "state": {
            "_dom_classes": [],
            "_model_module": "@jupyter-widgets/controls",
            "_model_module_version": "1.5.0",
            "_model_name": "FloatProgressModel",
            "_view_count": null,
            "_view_module": "@jupyter-widgets/controls",
            "_view_module_version": "1.5.0",
            "_view_name": "ProgressView",
            "bar_style": "success",
            "description": "",
            "description_tooltip": null,
            "layout": "IPY_MODEL_757652bff935468c80ea5fa7e365e2f1",
            "max": 111,
            "min": 0,
            "orientation": "horizontal",
            "style": "IPY_MODEL_49409a13b06446319d467a49f1e11fa5",
            "value": 111
          }
        },
        "c1615c22b8fb4999b4bc14b80967cbab": {
          "model_module": "@jupyter-widgets/controls",
          "model_module_version": "1.5.0",
          "model_name": "HTMLModel",
          "state": {
            "_dom_classes": [],
            "_model_module": "@jupyter-widgets/controls",
            "_model_module_version": "1.5.0",
            "_model_name": "HTMLModel",
            "_view_count": null,
            "_view_module": "@jupyter-widgets/controls",
            "_view_module_version": "1.5.0",
            "_view_name": "HTMLView",
            "description": "",
            "description_tooltip": null,
            "layout": "IPY_MODEL_634f1219587341c1ab234d2420abd27c",
            "placeholder": "​",
            "style": "IPY_MODEL_524321757e6745b58a8efef71217f865",
            "value": "generation_config.json: 100%"
          }
        },
        "c4b28c2e37b249baa042fb5cf6f8b92a": {
          "model_module": "@jupyter-widgets/controls",
          "model_module_version": "1.5.0",
          "model_name": "HTMLModel",
          "state": {
            "_dom_classes": [],
            "_model_module": "@jupyter-widgets/controls",
            "_model_module_version": "1.5.0",
            "_model_name": "HTMLModel",
            "_view_count": null,
            "_view_module": "@jupyter-widgets/controls",
            "_view_module_version": "1.5.0",
            "_view_name": "HTMLView",
            "description": "",
            "description_tooltip": null,
            "layout": "IPY_MODEL_ffb737647fa9437d935b9c95e49e6b2c",
            "placeholder": "​",
            "style": "IPY_MODEL_b1258d6dc06e40c9afd910dedc4372f5",
            "value": " 4.40G/4.40G [02:35&lt;00:00, 42.4MB/s]"
          }
        },
        "cc3825b8af3c435e8a2dab66a0c28975": {
          "model_module": "@jupyter-widgets/base",
          "model_module_version": "1.2.0",
          "model_name": "LayoutModel",
          "state": {
            "_model_module": "@jupyter-widgets/base",
            "_model_module_version": "1.2.0",
            "_model_name": "LayoutModel",
            "_view_count": null,
            "_view_module": "@jupyter-widgets/base",
            "_view_module_version": "1.2.0",
            "_view_name": "LayoutView",
            "align_content": null,
            "align_items": null,
            "align_self": null,
            "border": null,
            "bottom": null,
            "display": null,
            "flex": null,
            "flex_flow": null,
            "grid_area": null,
            "grid_auto_columns": null,
            "grid_auto_flow": null,
            "grid_auto_rows": null,
            "grid_column": null,
            "grid_gap": null,
            "grid_row": null,
            "grid_template_areas": null,
            "grid_template_columns": null,
            "grid_template_rows": null,
            "height": null,
            "justify_content": null,
            "justify_items": null,
            "left": null,
            "margin": null,
            "max_height": null,
            "max_width": null,
            "min_height": null,
            "min_width": null,
            "object_fit": null,
            "object_position": null,
            "order": null,
            "overflow": null,
            "overflow_x": null,
            "overflow_y": null,
            "padding": null,
            "right": null,
            "top": null,
            "visibility": null,
            "width": null
          }
        },
        "cece9f592ae94f598e41db1db3f821f5": {
          "model_module": "@jupyter-widgets/controls",
          "model_module_version": "1.5.0",
          "model_name": "HTMLModel",
          "state": {
            "_dom_classes": [],
            "_model_module": "@jupyter-widgets/controls",
            "_model_module_version": "1.5.0",
            "_model_name": "HTMLModel",
            "_view_count": null,
            "_view_module": "@jupyter-widgets/controls",
            "_view_module_version": "1.5.0",
            "_view_name": "HTMLView",
            "description": "",
            "description_tooltip": null,
            "layout": "IPY_MODEL_8df54b97c28e45eb907c4cfbdf63dec8",
            "placeholder": "​",
            "style": "IPY_MODEL_0a0685f2d32e4d7bb7f4fa3e97bd6551",
            "value": " 607/607 [00:00&lt;00:00, 8.30kB/s]"
          }
        },
        "d2fcba7c0c72427881fdc0c6c896b15c": {
          "model_module": "@jupyter-widgets/base",
          "model_module_version": "1.2.0",
          "model_name": "LayoutModel",
          "state": {
            "_model_module": "@jupyter-widgets/base",
            "_model_module_version": "1.2.0",
            "_model_name": "LayoutModel",
            "_view_count": null,
            "_view_module": "@jupyter-widgets/base",
            "_view_module_version": "1.2.0",
            "_view_name": "LayoutView",
            "align_content": null,
            "align_items": null,
            "align_self": null,
            "border": null,
            "bottom": null,
            "display": null,
            "flex": null,
            "flex_flow": null,
            "grid_area": null,
            "grid_auto_columns": null,
            "grid_auto_flow": null,
            "grid_auto_rows": null,
            "grid_column": null,
            "grid_gap": null,
            "grid_row": null,
            "grid_template_areas": null,
            "grid_template_columns": null,
            "grid_template_rows": null,
            "height": null,
            "justify_content": null,
            "justify_items": null,
            "left": null,
            "margin": null,
            "max_height": null,
            "max_width": null,
            "min_height": null,
            "min_width": null,
            "object_fit": null,
            "object_position": null,
            "order": null,
            "overflow": null,
            "overflow_x": null,
            "overflow_y": null,
            "padding": null,
            "right": null,
            "top": null,
            "visibility": null,
            "width": null
          }
        },
        "d57ea744c67c495caa1675380ad4886e": {
          "model_module": "@jupyter-widgets/controls",
          "model_module_version": "1.5.0",
          "model_name": "HBoxModel",
          "state": {
            "_dom_classes": [],
            "_model_module": "@jupyter-widgets/controls",
            "_model_module_version": "1.5.0",
            "_model_name": "HBoxModel",
            "_view_count": null,
            "_view_module": "@jupyter-widgets/controls",
            "_view_module_version": "1.5.0",
            "_view_name": "HBoxView",
            "box_style": "",
            "children": [
              "IPY_MODEL_055510906d54476fb8f59ca88397e89a",
              "IPY_MODEL_72c64790a282482f862dec108b0a1145",
              "IPY_MODEL_14455397e1ba47d499685a898096fc1a"
            ],
            "layout": "IPY_MODEL_ee68643ba1df4a00b5d9729f801349ce"
          }
        },
        "d856d0d878b945979e88d553b0cdea8d": {
          "model_module": "@jupyter-widgets/controls",
          "model_module_version": "1.5.0",
          "model_name": "DescriptionStyleModel",
          "state": {
            "_model_module": "@jupyter-widgets/controls",
            "_model_module_version": "1.5.0",
            "_model_name": "DescriptionStyleModel",
            "_view_count": null,
            "_view_module": "@jupyter-widgets/base",
            "_view_module_version": "1.2.0",
            "_view_name": "StyleView",
            "description_width": ""
          }
        },
        "d90a761032284cb7888786266c62597f": {
          "model_module": "@jupyter-widgets/controls",
          "model_module_version": "1.5.0",
          "model_name": "HBoxModel",
          "state": {
            "_dom_classes": [],
            "_model_module": "@jupyter-widgets/controls",
            "_model_module_version": "1.5.0",
            "_model_name": "HBoxModel",
            "_view_count": null,
            "_view_module": "@jupyter-widgets/controls",
            "_view_module_version": "1.5.0",
            "_view_name": "HBoxView",
            "box_style": "",
            "children": [
              "IPY_MODEL_e6fdaea444e94272a363b841fb0ea168",
              "IPY_MODEL_2771f722d1be4de389731435195d2b29",
              "IPY_MODEL_1a45307cc01e42eba6ef9212ec658f9b"
            ],
            "layout": "IPY_MODEL_cc3825b8af3c435e8a2dab66a0c28975"
          }
        },
        "db9f6d4f54244a138024b48d45912d80": {
          "model_module": "@jupyter-widgets/controls",
          "model_module_version": "1.5.0",
          "model_name": "HBoxModel",
          "state": {
            "_dom_classes": [],
            "_model_module": "@jupyter-widgets/controls",
            "_model_module_version": "1.5.0",
            "_model_name": "HBoxModel",
            "_view_count": null,
            "_view_module": "@jupyter-widgets/controls",
            "_view_module_version": "1.5.0",
            "_view_name": "HBoxView",
            "box_style": "",
            "children": [
              "IPY_MODEL_237bf4b20a5f4d62836531c61d9c778d",
              "IPY_MODEL_41dad634feda4a97a52a033f62ba2aa6",
              "IPY_MODEL_c4b28c2e37b249baa042fb5cf6f8b92a"
            ],
            "layout": "IPY_MODEL_a110840598f840cf842ded4cbe30cce0"
          }
        },
        "e16e6a7d623c4632ba1d10393161137e": {
          "model_module": "@jupyter-widgets/base",
          "model_module_version": "1.2.0",
          "model_name": "LayoutModel",
          "state": {
            "_model_module": "@jupyter-widgets/base",
            "_model_module_version": "1.2.0",
            "_model_name": "LayoutModel",
            "_view_count": null,
            "_view_module": "@jupyter-widgets/base",
            "_view_module_version": "1.2.0",
            "_view_name": "LayoutView",
            "align_content": null,
            "align_items": null,
            "align_self": null,
            "border": null,
            "bottom": null,
            "display": null,
            "flex": null,
            "flex_flow": null,
            "grid_area": null,
            "grid_auto_columns": null,
            "grid_auto_flow": null,
            "grid_auto_rows": null,
            "grid_column": null,
            "grid_gap": null,
            "grid_row": null,
            "grid_template_areas": null,
            "grid_template_columns": null,
            "grid_template_rows": null,
            "height": null,
            "justify_content": null,
            "justify_items": null,
            "left": null,
            "margin": null,
            "max_height": null,
            "max_width": null,
            "min_height": null,
            "min_width": null,
            "object_fit": null,
            "object_position": null,
            "order": null,
            "overflow": null,
            "overflow_x": null,
            "overflow_y": null,
            "padding": null,
            "right": null,
            "top": null,
            "visibility": null,
            "width": null
          }
        },
        "e1fd768f2fe2472aa841bdb9a1c27053": {
          "model_module": "@jupyter-widgets/controls",
          "model_module_version": "1.5.0",
          "model_name": "DescriptionStyleModel",
          "state": {
            "_model_module": "@jupyter-widgets/controls",
            "_model_module_version": "1.5.0",
            "_model_name": "DescriptionStyleModel",
            "_view_count": null,
            "_view_module": "@jupyter-widgets/base",
            "_view_module_version": "1.2.0",
            "_view_name": "StyleView",
            "description_width": ""
          }
        },
        "e6fdaea444e94272a363b841fb0ea168": {
          "model_module": "@jupyter-widgets/controls",
          "model_module_version": "1.5.0",
          "model_name": "HTMLModel",
          "state": {
            "_dom_classes": [],
            "_model_module": "@jupyter-widgets/controls",
            "_model_module_version": "1.5.0",
            "_model_name": "HTMLModel",
            "_view_count": null,
            "_view_module": "@jupyter-widgets/controls",
            "_view_module_version": "1.5.0",
            "_view_name": "HTMLView",
            "description": "",
            "description_tooltip": null,
            "layout": "IPY_MODEL_513ed420945c4424ac52a848a0b1b528",
            "placeholder": "​",
            "style": "IPY_MODEL_72dd03395f4b46f4957886fda983fafa",
            "value": "special_tokens_map.json: 100%"
          }
        },
        "ee68643ba1df4a00b5d9729f801349ce": {
          "model_module": "@jupyter-widgets/base",
          "model_module_version": "1.2.0",
          "model_name": "LayoutModel",
          "state": {
            "_model_module": "@jupyter-widgets/base",
            "_model_module_version": "1.2.0",
            "_model_name": "LayoutModel",
            "_view_count": null,
            "_view_module": "@jupyter-widgets/base",
            "_view_module_version": "1.2.0",
            "_view_name": "LayoutView",
            "align_content": null,
            "align_items": null,
            "align_self": null,
            "border": null,
            "bottom": null,
            "display": null,
            "flex": null,
            "flex_flow": null,
            "grid_area": null,
            "grid_auto_columns": null,
            "grid_auto_flow": null,
            "grid_auto_rows": null,
            "grid_column": null,
            "grid_gap": null,
            "grid_row": null,
            "grid_template_areas": null,
            "grid_template_columns": null,
            "grid_template_rows": null,
            "height": null,
            "justify_content": null,
            "justify_items": null,
            "left": null,
            "margin": null,
            "max_height": null,
            "max_width": null,
            "min_height": null,
            "min_width": null,
            "object_fit": null,
            "object_position": null,
            "order": null,
            "overflow": null,
            "overflow_x": null,
            "overflow_y": null,
            "padding": null,
            "right": null,
            "top": null,
            "visibility": null,
            "width": null
          }
        },
        "f0b102d17bd2452e94fa22d58b1f16c7": {
          "model_module": "@jupyter-widgets/controls",
          "model_module_version": "1.5.0",
          "model_name": "FloatProgressModel",
          "state": {
            "_dom_classes": [],
            "_model_module": "@jupyter-widgets/controls",
            "_model_module_version": "1.5.0",
            "_model_name": "FloatProgressModel",
            "_view_count": null,
            "_view_module": "@jupyter-widgets/controls",
            "_view_module_version": "1.5.0",
            "_view_name": "ProgressView",
            "bar_style": "success",
            "description": "",
            "description_tooltip": null,
            "layout": "IPY_MODEL_e16e6a7d623c4632ba1d10393161137e",
            "max": 43,
            "min": 0,
            "orientation": "horizontal",
            "style": "IPY_MODEL_3bc0e664003f436980298d884767f6df",
            "value": 43
          }
        },
        "f453428cc9044aabb9c1528fbf04522c": {
          "model_module": "@jupyter-widgets/controls",
          "model_module_version": "1.5.0",
          "model_name": "DescriptionStyleModel",
          "state": {
            "_model_module": "@jupyter-widgets/controls",
            "_model_module_version": "1.5.0",
            "_model_name": "DescriptionStyleModel",
            "_view_count": null,
            "_view_module": "@jupyter-widgets/base",
            "_view_module_version": "1.2.0",
            "_view_name": "StyleView",
            "description_width": ""
          }
        },
        "f4cbc17ce0704208b2e8059bed6b03b8": {
          "model_module": "@jupyter-widgets/controls",
          "model_module_version": "1.5.0",
          "model_name": "DescriptionStyleModel",
          "state": {
            "_model_module": "@jupyter-widgets/controls",
            "_model_module_version": "1.5.0",
            "_model_name": "DescriptionStyleModel",
            "_view_count": null,
            "_view_module": "@jupyter-widgets/base",
            "_view_module_version": "1.2.0",
            "_view_name": "StyleView",
            "description_width": ""
          }
        },
        "f9fb8c1698784f5caec4a5b0c2a93a1c": {
          "model_module": "@jupyter-widgets/controls",
          "model_module_version": "1.5.0",
          "model_name": "ProgressStyleModel",
          "state": {
            "_model_module": "@jupyter-widgets/controls",
            "_model_module_version": "1.5.0",
            "_model_name": "ProgressStyleModel",
            "_view_count": null,
            "_view_module": "@jupyter-widgets/base",
            "_view_module_version": "1.2.0",
            "_view_name": "StyleView",
            "bar_color": null,
            "description_width": ""
          }
        },
        "ffb737647fa9437d935b9c95e49e6b2c": {
          "model_module": "@jupyter-widgets/base",
          "model_module_version": "1.2.0",
          "model_name": "LayoutModel",
          "state": {
            "_model_module": "@jupyter-widgets/base",
            "_model_module_version": "1.2.0",
            "_model_name": "LayoutModel",
            "_view_count": null,
            "_view_module": "@jupyter-widgets/base",
            "_view_module_version": "1.2.0",
            "_view_name": "LayoutView",
            "align_content": null,
            "align_items": null,
            "align_self": null,
            "border": null,
            "bottom": null,
            "display": null,
            "flex": null,
            "flex_flow": null,
            "grid_area": null,
            "grid_auto_columns": null,
            "grid_auto_flow": null,
            "grid_auto_rows": null,
            "grid_column": null,
            "grid_gap": null,
            "grid_row": null,
            "grid_template_areas": null,
            "grid_template_columns": null,
            "grid_template_rows": null,
            "height": null,
            "justify_content": null,
            "justify_items": null,
            "left": null,
            "margin": null,
            "max_height": null,
            "max_width": null,
            "min_height": null,
            "min_width": null,
            "object_fit": null,
            "object_position": null,
            "order": null,
            "overflow": null,
            "overflow_x": null,
            "overflow_y": null,
            "padding": null,
            "right": null,
            "top": null,
            "visibility": null,
            "width": null
          }
        }
      }
    }
  },
  "nbformat": 4,
  "nbformat_minor": 0
}
