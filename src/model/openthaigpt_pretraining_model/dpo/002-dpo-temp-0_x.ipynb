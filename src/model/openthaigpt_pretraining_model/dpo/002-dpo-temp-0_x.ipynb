{
 "cells": [
  {
   "cell_type": "markdown",
   "id": "ea02269f-749c-4022-9f8b-7d9c99c07405",
   "metadata": {
    "deletable": true,
    "editable": true,
    "frozen": false
   },
   "source": [
    "# Finetune with DPO with inference data with Temperature 0.0"
   ]
  },
  {
   "cell_type": "code",
   "execution_count": 3,
   "id": "cdafbcce-525d-464d-bbc9-da30a6e5041b",
   "metadata": {},
   "outputs": [],
   "source": [
    "# common\n",
    "\n",
    "# common imports\n",
    "import sys\n",
    "from pathlib import Path\n",
    "from typing import Any, Callable, Dict, Literal, Optional, Protocol, Tuple, List\n",
    "\n",
    "import json\n",
    "\n",
    "sys.path.insert(0, \"/workspace/code\")\n",
    "from otgpt_hft.data_model.serial.store import Store\n",
    "from otgpt_hft.data_model.serial.entry import SerializedEntry\n",
    "from otgpt_hft.data_model.source import OAnnoSource\n",
    "\n",
    "\n",
    "# common paths\n",
    "data_dir = Path(\"/workspace/data\")"
   ]
  },
  {
   "cell_type": "markdown",
   "id": "59d91024-052b-4f15-8f20-43feba1949fa",
   "metadata": {
    "deletable": true,
    "editable": true,
    "frozen": false
   },
   "source": [
    "## Train Data Prep"
   ]
  },
  {
   "cell_type": "code",
   "execution_count": 4,
   "id": "662de641-ebf5-4f69-aeb5-ac40d289e632",
   "metadata": {},
   "outputs": [],
   "source": [
    "# Load data store\n",
    "dataset_name = \"Thaweewat-oasst1_th\"\n",
    "split = \"train\"\n",
    "\n",
    "data_split_dir = data_dir / f\"store/{dataset_name}/{split}\"\n",
    "store = Store(SerializedEntry, data_split_dir)\n",
    "await store.load_chunks()"
   ]
  },
  {
   "cell_type": "code",
   "execution_count": 5,
   "id": "34afffe3-bf6f-47eb-a06f-cbf53fc3b304",
   "metadata": {},
   "outputs": [],
   "source": [
    "temp = 0.3\n",
    "temp_f = str(temp).replace(\".\", \"_\")"
   ]
  },
  {
   "cell_type": "code",
   "execution_count": 6,
   "id": "4a938eee-13c8-428b-9f28-aaf4591ff76e",
   "metadata": {},
   "outputs": [],
   "source": [
    "# temp = 0.9\n",
    "# temp_f = str(temp).replace(\".\", \"_\")"
   ]
  },
  {
   "cell_type": "code",
   "execution_count": 7,
   "id": "06577ef9-552a-4856-9166-faba03e5083e",
   "metadata": {},
   "outputs": [],
   "source": [
    "# Load inference\n",
    "raw_infer_path = data_dir/f\"inference/llama2-7b-finetune-hf/Thaweewat-oasst1_th/train/temp-{temp_f}.jsonl\"\n",
    "\n",
    "with open(raw_infer_path) as file:\n",
    "    raw_inference = [json.loads(e) for e in file.read().splitlines()]"
   ]
  },
  {
   "cell_type": "code",
   "execution_count": 9,
   "id": "121d46b2-dd2d-4352-9f58-4e58f13db0fc",
   "metadata": {},
   "outputs": [],
   "source": [
    "# inference output is after END_OF_INSTRUCT markup\n",
    "END_OF_INSTRUCT = \"[/INST]\"\n",
    "EOI_OFFSET = len(END_OF_INSTRUCT)\n",
    "\n",
    "def extract_model_output_after_instruct(infer_out: str):\n",
    "    assert infer_out.count(END_OF_INSTRUCT) == 1\n",
    "    infer_out_no_prompt = infer_out[infer_out.index(END_OF_INSTRUCT) + EOI_OFFSET:]\n",
    "    return infer_out_no_prompt\n",
    "    "
   ]
  },
  {
   "cell_type": "code",
   "execution_count": 10,
   "id": "5926f785-6e7f-4fa8-9bbb-605816de80dc",
   "metadata": {},
   "outputs": [],
   "source": [
    "# prep training data as dict\n",
    "training_entries: List[Dict[str,str]] = []\n",
    "\n",
    "for raw_infer in raw_inference:\n",
    "    entry_id = raw_infer[\"id\"]\n",
    "\n",
    "    # get inference\n",
    "    infer_out = raw_infer[\"out\"]\n",
    "    infer_out_no_prompt = extract_model_output_after_instruct(infer_out)\n",
    "    \n",
    "    # get relavent data entry in store\n",
    "    s_entry = store.get(entry_id)\n",
    "    \n",
    "    prompt = s_entry.prompt.get_utt()\n",
    "    \n",
    "    for utt in s_entry.utterance:\n",
    "        # SKIP `utt` NOT part of reference annotation\n",
    "        if not isinstance(utt.source, OAnnoSource):\n",
    "            continue\n",
    "\n",
    "        good = utt.get_utt()\n",
    "\n",
    "        train_entry = {\n",
    "            \"prompt\": prompt,\n",
    "            \"good\": good,\n",
    "            \"bad\": infer_out_no_prompt,\n",
    "        }\n",
    "        training_entries.append(train_entry)"
   ]
  },
  {
   "cell_type": "markdown",
   "id": "d1cae115-0db4-4c54-8aac-edbf7532301b",
   "metadata": {},
   "source": [
    "### Data Inspection"
   ]
  },
  {
   "cell_type": "code",
   "execution_count": 11,
   "id": "e2a44a24-894a-4abf-9dd9-1c5c9014bf8c",
   "metadata": {},
   "outputs": [
    {
     "data": {
      "image/png": "[encoded data removed]",
      "text/plain": [
       "<Figure size 640x480 with 1 Axes>"
      ]
     },
     "metadata": {},
     "output_type": "display_data"
    }
   ],
   "source": [
    "# check to see prompt length will fit?\n",
    "# [ANS] yes\n",
    "# Training context window in 2K tokens, prompt are at most 1.2K characters\n",
    "\n",
    "prompt_len = []\n",
    "for e in training_entries:\n",
    "    prompt_len.append(len(e[\"prompt\"]))\n",
    "\n",
    "import matplotlib.pyplot as plt\n",
    "import numpy as np\n",
    "\n",
    "# Generate random data for the histogram\n",
    "# data = np.random.randn(1000)\n",
    "\n",
    "# Plotting a basic histogram\n",
    "plt.hist(prompt_len, bins=50, color='skyblue', edgecolor='black')\n",
    "\n",
    "# Adding labels and title\n",
    "plt.xlabel('Chars')\n",
    "plt.ylabel('Frequency')\n",
    "\n",
    "# Display the plot\n",
    "plt.show()\n"
   ]
  },
  {
   "cell_type": "code",
   "execution_count": 12,
   "id": "ac056772-62a3-4e56-b777-4f0ea6a1afd0",
   "metadata": {},
   "outputs": [
    {
     "data": {
      "text/plain": [
       "984"
      ]
     },
     "execution_count": 12,
     "metadata": {},
     "output_type": "execute_result"
    }
   ],
   "source": [
    "len(training_entries)"
   ]
  },
  {
   "cell_type": "code",
   "execution_count": 13,
   "id": "c0cd2def-6121-4565-8002-0fc174895986",
   "metadata": {},
   "outputs": [],
   "source": [
    "output_path = data_dir / f\"training/temp-{temp_f}-v-all-ref.jsonl\""
   ]
  },
  {
   "cell_type": "code",
   "execution_count": 14,
   "id": "7419958b-56f5-4f08-8bb2-9ea784cd0822",
   "metadata": {},
   "outputs": [
    {
     "data": {
      "text/plain": [
       "PosixPath('/workspace/data/training/temp-0_9-v-all-ref.jsonl')"
      ]
     },
     "execution_count": 14,
     "metadata": {},
     "output_type": "execute_result"
    }
   ],
   "source": [
    "output_path"
   ]
  },
  {
   "cell_type": "code",
   "execution_count": 15,
   "id": "ca5045be-7d75-4044-9767-5a503762e60c",
   "metadata": {},
   "outputs": [],
   "source": [
    "# save data into training format\n",
    "\n",
    "with open(output_path, \"w\") as file:\n",
    "    for entry in training_entries:\n",
    "        file.write(json.dumps(entry, ensure_ascii=False))\n",
    "        file.write(\"\\n\")"
   ]
  },
  {
   "cell_type": "markdown",
   "id": "2b2f83e7-a6f1-4d0f-a9ff-a307a947e9f6",
   "metadata": {
    "editable": true,
    "frozen": false
   },
   "source": [
    "## Training \n",
    "\n",
    "Training notes"
   ]
  },
  {
   "cell_type": "markdown",
   "id": "4e3ab7b8-82d1-4bec-8679-c2ab967b0a2f",
   "metadata": {},
   "source": [
    "#### Temp 0.3"
   ]
  },
  {
   "cell_type": "markdown",
   "id": "ef848262-da36-4e25-9ddd-e26301604fbe",
   "metadata": {
    "editable": true,
    "frozen": false
   },
   "source": [
    "```\n",
    "source 002-001-dpo-temp-0_3-v-all-ref.sh\n",
    "```\n",
    "\n",
    "./wandb/offline-run-20240202_185047-emgq05qy/logs\n",
    "\n",
    "Bellow are evaluation at every 2 steps\n",
    "```\n",
    "{'eval_loss': 0.3782382905483246, 'eval_runtime': 22.7648, 'eval_samples_per_second': 4.349, 'eval_steps_per_second': 4.349, 'eval_rewards/chosen': 0.17204105854034424, 'eval_rewards/rejected': -5.762171745300293, 'eval_rewards/accuracies': 0.6565656661987305, 'eval_rewards/margins': 5.934212684631348, 'eval_logps/rejected': -212.18138122558594, 'eval_logps/chosen': -155.55233764648438, 'eval_logits{'eval_loss': 0.1804571896791458, 'eval_runtime': 22.8754, 'eval_samples_per_second': 4.328, 'eval_steps_per_second': 4.328, 'eval_rewards/chosen': 2.144317865371704, 'eval_rewards/rejected': -12.926628112792969, 'eval_rewards/accuracies': 0.7575757503509521, 'eval_rewards/margins': 15.07094669342041, 'eval_logps/rejected': -283.825927734375, 'eval_logps/chosen': -135.82958984375, 'eval_logits/rejected': -2.265436887741089, 'eval_logits/chosen': -2.2085320949554443, 'epoch': 1.73}\n",
    "{'eval_loss': 0.18257048726081848, 'eval_runtime': 22.8651, 'eval_samples_per_second': 4.33, 'eval_steps_per_second': 4.33, 'eval_rewards/chosen': 2.0242137908935547, 'eval_rewards/rejected': -13.299287796020508, 'eval_rewards/accuracies': 0.7575757503509521, 'eval_rewards/margins': 15.323501586914062, 'eval_logps/rejected': -287.55255126953125, 'eval_logps/chosen': -137.03062438964844, 'eval_logits/rejected': -2.281282901763916, 'eval_logits/chosen': -2.257986068725586, 'epoch': 2.02}\n",
    "{'eval_loss': 0.18308402597904205, 'eval_runtime': 22.8626, 'eval_samples_per_second': 4.33, 'eval_steps_per_second': 4.33, 'eval_rewards/chosen': 1.7377803325653076, 'eval_rewards/rejected': -13.790324211120605, 'eval_rewards/accuracies': 0.7676767706871033, 'eval_rewards/margins': 15.528104782104492, 'eval_logps/rejected': -292.462890625, 'eval_logps/chosen': -139.8949432373047, 'eval_logits/rejected': -2.2867624759674072, 'eval_logits/chosen': -2.2792067527770996, 'epoch': 2.31}\n",
    "{'eval_loss': 0.18331560492515564, 'eval_runtime': 22.8673, 'eval_samples_per_second': 4.329, 'eval_steps_per_second': 4.329, 'eval_rewards/chosen': 1.6265597343444824, 'eval_rewards/rejected': -13.981979370117188, 'eval_rewards/accuracies': 0.7676767706871033, 'eval_rewards/margins': 15.608540534973145, 'eval_logps/rejected': -294.37945556640625, 'eval_logps/chosen': -141.0071563720703, 'eval_logits/rejected': -2.265042304992676, 'eval_logits/chosen': -2.231825113296509, 'epoch': 2.59}\n",
    "{'loss': 0.1446, 'learning_rate': 5.000000000000003e-06, 'rewards/chosen': 2.9057955741882324, 'rewards/rejected': -14.417503356933594, 'rewards/accuracies': 0.7917187809944153, 'rewards/margins': 17.323299407958984, 'logps/rejected': -290.21917724609375, 'logps/chosen': -154.30982971191406, 'logits/rejected': -2.409827947616577, 'logits/chosen': -2.435296058654785, 'epoch': 2.88}\n",
    "{'eval_loss': 0.18342168629169464, 'eval_runtime': 22.8663, 'eval_samples_per_second': 4.33, 'eval_steps_per_second': 4.33, 'eval_rewards/chosen': 1.5728603601455688, 'eval_rewards/rejected': -14.05177116394043, 'eval_rewards/accuracies': 0.7575757503509521, 'eval_rewards/margins': 15.624629974365234, 'eval_logps/rejected': -295.0773620605469, 'eval_logps/chosen': -141.54415893554688, 'eval_logits/rejected': -2.2794528007507324, 'eval_logits/chosen': -2.270761251449585, 'epoch': 2.88}\n",
    "\n",
    "{'eval_loss': 0.1804571896791458, 'eval_runtime': 22.8754, 'eval_samples_per_second': 4.328, 'eval_steps_per_second': 4.328, 'eval_rewards/chosen': 2.144317865371704, 'eval_rewards/rejected': -12.926628112792969, 'eval_rewards/accuracies': 0.7575757503509521, 'eval_rewards/margins': 15.07094669342041, 'eval_logps/rejected': -283.825927734375, 'eval_logps/chosen': -135.82958984375, 'eval_logits/rejected': -2.265436887741089, 'eval_logits/chosen': -2.2085320949554443, 'epoch': 1.73}\n",
    "{'eval_loss': 0.18257048726081848, 'eval_runtime': 22.8651, 'eval_samples_per_second': 4.33, 'eval_steps_per_second': 4.33, 'eval_rewards/chosen': 2.0242137908935547, 'eval_rewards/rejected': -13.299287796020508, 'eval_rewards/accuracies': 0.7575757503509521, 'eval_rewards/margins': 15.323501586914062, 'eval_logps/rejected': -287.55255126953125, 'eval_logps/chosen': -137.03062438964844, 'eval_logits/rejected': -2.281282901763916, 'eval_logits/chosen': -2.257986068725586, 'epoch': 2.02}\n",
    "{'eval_loss': 0.18308402597904205, 'eval_runtime': 22.8626, 'eval_samples_per_second': 4.33, 'eval_steps_per_second': 4.33, 'eval_rewards/chosen': 1.7377803325653076, 'eval_rewards/rejected': -13.790324211120605, 'eval_rewards/accuracies': 0.7676767706871033, 'eval_rewards/margins': 15.528104782104492, 'eval_logps/rejected': -292.462890625, 'eval_logps/chosen': -139.8949432373047, 'eval_logits/rejected': -2.2867624759674072, 'eval_logits/chosen': -2.2792067527770996, 'epoch': 2.31}\n",
    "{'eval_loss': 0.18331560492515564, 'eval_runtime': 22.8673, 'eval_samples_per_second': 4.329, 'eval_steps_per_second': 4.329, 'eval_rewards/chosen': 1.6265597343444824, 'eval_rewards/rejected': -13.981979370117188, 'eval_rewards/accuracies': 0.7676767706871033, 'eval_rewards/margins': 15.608540534973145, 'eval_logps/rejected': -294.37945556640625, 'eval_logps/chosen': -141.0071563720703, 'eval_logits/rejected': -2.265042304992676, 'eval_logits/chosen': -2.231825113296509, 'epoch': 2.59}\n",
    "{'loss': 0.1446, 'learning_rate': 5.000000000000003e-06, 'rewards/chosen': 2.9057955741882324, 'rewards/rejected': -14.417503356933594, 'rewards/accuracies': 0.7917187809944153, 'rewards/margins': 17.323299407958984, 'logps/rejected': -290.21917724609375, 'logps/chosen': -154.30982971191406, 'logits/rejected': -2.409827947616577, 'logits/chosen': -2.435296058654785, 'epoch': 2.88}\n",
    "{'eval_loss': 0.18342168629169464, 'eval_runtime': 22.8663, 'eval_samples_per_second': 4.33, 'eval_steps_per_second': 4.33, 'eval_rewards/chosen': 1.5728603601455688, 'eval_rewards/rejected': -14.05177116394043, 'eval_rewards/accuracies': 0.7575757503509521, 'eval_rewards/margins': 15.624629974365234, 'eval_logps/rejected': -295.0773620605469, 'eval_logps/chosen': -141.54415893554688, 'eval_logits/rejected': -2.2794528007507324, 'eval_logits/chosen': -2.270761251449585, 'epoch': 2.88}\n",
    "{'eval_loss': 0.18257048726081848, 'eval_runtime': 22.8651, 'eval_samples_per_second': 4.33, 'eval_steps_per_second': 4.33, 'eval_rewards/chosen': 2.0242137908935547, 'eval_rewards/rejected': -13.299287796020508, 'eval_rewards/accuracies': 0.7575757503509521, 'eval_rewards/margins': 15.323501586914062, 'eval_logps/rejected': -287.55255126953125, 'eval_logps/chosen': -137.03062438964844, 'eval_logits/rejected': -2.281282901763916, 'eval_logits/chosen': -2.257986068725586, 'epoch': 2.02}\n",
    "{'eval_loss': 0.18308402597904205, 'eval_runtime': 22.8626, 'eval_samples_per_second': 4.33, 'eval_steps_per_second': 4.33, 'eval_rewards/chosen': 1.7377803325653076, 'eval_rewards/rejected': -13.790324211120605, 'eval_rewards/accuracies': 0.7676767706871033, 'eval_rewards/margins': 15.528104782104492, 'eval_logps/rejected': -292.462890625, 'eval_logps/chosen': -139.8949432373047, 'eval_logits/rejected': -2.2867624759674072, 'eval_logits/chosen': -2.2792067527770996, 'epoch': 2.31}\n",
    "{'eval_loss': 0.18331560492515564, 'eval_runtime': 22.8673, 'eval_samples_per_second': 4.329, 'eval_steps_per_second': 4.329, 'eval_rewards/chosen': 1.6265597343444824, 'eval_rewards/rejected': -13.981979370117188, 'eval_rewards/accuracies': 0.7676767706871033, 'eval_rewards/margins': 15.608540534973145, 'eval_logps/rejected': -294.37945556640625, 'eval_logps/chosen': -141.0071563720703, 'eval_logits/rejected': -2.265042304992676, 'eval_logits/chosen': -2.231825113296509, 'epoch': 2.59}\n",
    "{'loss': 0.1446, 'learning_rate': 5.000000000000003e-06, 'rewards/chosen': 2.9057955741882324, 'rewards/rejected': -14.417503356933594, 'rewards/accuracies': 0.7917187809944153, 'rewards/margins': 17.323299407958984, 'logps/rejected': -290.21917724609375, 'logps/chosen': -154.30982971191406, 'logits/rejected': -2.409827947616577, 'logits/chosen': -2.435296058654785, 'epoch': 2.88}\n",
    "{'eval_loss': 0.18342168629169464, 'eval_runtime': 22.8663, 'eval_samples_per_second': 4.33, 'eval_steps_per_second': 4.33, 'eval_rewards/chosen': 1.5728603601455688, 'eval_rewards/rejected': -14.05177116394043, 'eval_rewards/accuracies': 0.7575757503509521, 'eval_rewards/margins': 15.624629974365234, 'eval_logps/rejected': -295.0773620605469, 'eval_logps/chosen': -141.54415893554688, 'eval_logits/rejected': -2.2794528007507324, 'eval_logits/chosen': -2.270761251449585, 'epoch': 2.88}\n",
    "{'eval_loss': 0.18370915949344635, 'eval_runtime': 22.8707, 'eval_samples_per_second': 4.329, 'eval_steps_per_second': 4.329, 'eval_rewards/chosen': 1.5577466487884521, 'eval_rewards/rejected': -14.084894180297852, 'eval_rewards/accuracies': 0.7575757503509521, 'eval_rewards/margins': 15.642640113830566, 'eval_logps/rejected': -295.4085693359375, 'eval_logps/chosen': -141.69529724121094, 'eval_logit{'eval_loss': 0.18370915949344635, 'eval_runtime': 22.8707, 'eval_samples_per_second': 4.329, 'eval_steps_per_second': 4.329, 'eval_rewards/chosen': 1.5577466487884521, 'eval_rewards/rejected': -14.084894180297852, 'eval_rewards/accuracies': 0.7575757503509521, 'eval_rewards/margins': 15.642640113830566, 'eval_logps/rejected': -295.4085693359375, 'eval_logps/chosen': -141.69529724121094, 'eval_logits/rejected': -2.2741928100585938, 'eval_logits/chosen': -2.254714012145996, 'epoch': 3.17}\n",
    "{'eval_loss': 0.18353240191936493, 'eval_runtime': 22.8536, 'eval_samples_per_second': 4.332, 'eval_steps_per_second': 4.332, 'eval_rewards/chosen': 1.5713255405426025, 'eval_rewards/rejected': -14.084232330322266, 'eval_rewards/accuracies': 0.7575757503509521, 'eval_rewards/margins': 15.655559539794922, 'eval_logps/rejected': -295.4019775390625, 'eval_logps/chosen': -141.5594940185547, 'eval_logits/rejected': -2.2800614833831787, 'eval_logits/chosen': -2.269023895263672, 'epoch': 3.46}\n",
    "{'eval_loss': 0.18386158347129822, 'eval_runtime': 22.8511, 'eval_samples_per_second': 4.332, 'eval_steps_per_second': 4.332, 'eval_rewards/chosen': 1.562206506729126, 'eval_rewards/rejected': -14.094626426696777, 'eval_rewards/accuracies': 0.7575757503509521, 'eval_rewards/margins': 15.656834602355957, 'eval_logps/rejected': -295.5059509277344, 'eval_logps/chosen': -141.65069580078125, 'eval_logits/rejected': -2.275632381439209, 'eval_logits/chosen': -2.255336046218872, 'epoch': 3.75}\n",
    "{'eval_loss': 0.18382926285266876, 'eval_runtime': 22.829, 'eval_samples_per_second': 4.337, 'eval_steps_per_second': 4.337, 'eval_rewards/chosen': 1.5691990852355957, 'eval_rewards/rejected': -14.0812406539917, 'eval_rewards/accuracies': 0.7575757503509521, 'eval_rewards/margins': 15.65043830871582, 'eval_logps/rejected': -295.3720397949219, 'eval_logps/chosen': -141.58078002929688, 'eval_logits/rejected': -2.2705047130584717, 'eval_logits/chosen': -2.2465403079986572, 'epoch': 4.04}\n",
    "{'loss': 0.1495, 'learning_rate': 0.0, 'rewards/chosen': 2.5688283443450928, 'rewards/rejected': -15.60143756866455, 'rewards/accuracies': 0.784375011920929, 'rewards/margins': 18.170263290405273, 'logps/rejected': -306.6189880371094, 'logps/chosen': -159.20986938476562, 'logits/rejected': -2.418408155441284, 'logits/chosen': -2.4488136768341064, 'epoch': 4.32}\n",
    "{'eval_loss': 0.18365532159805298, 'eval_runtime': 22.8213, 'eval_samples_per_second': 4.338, 'eval_steps_per_second': 4.338, 'eval_rewards/chosen': 1.5621469020843506, 'eval_rewards/rejected': -14.078760147094727, 'eval_rewards/accuracies': 0.7575757503509521, 'eval_rewards/margins': 15.64090633392334, 'eval_logps/rejected': -295.3472595214844, 'eval_logps/chosen': -141.6512908935547, 'eval_logits/rejected': -2.277946710586548, 'eval_logits/chosen': -2.2629146575927734, 'epoch': 4.32}\n",
    "{'train_runtime': 3674.4337, 'train_samples_per_second': 1.204, 'train_steps_per_second': 0.008, 'train_loss': 0.21332887013753254, 'epoch': 4.32}\n",
    "\n",
    "wandb: \n",
    "wandb: Run history:\n",
    "wandb:             eval/logits/chosen ▆▃▁▂▄█▆▄▇▅▆▅▆▆▅\n",
    "wandb:           eval/logits/rejected █▄▁▂▃▅▄▄▅▄▅▄▅▅▅\n",
    "wandb:              eval/logps/chosen ▁▄▇█▇▇▆▆▅▅▅▅▅▅▅\n",
    "wandb:            eval/logps/rejected █▆▅▄▂▂▂▁▁▁▁▁▁▁▁\n",
    "wandb:                      eval/loss █▂▁▁▁▁▁▁▁▁▁▁▁▁▁\n",
    "wandb:        eval/rewards/accuracies ▁██▇█▇▇██▇▇▇▇▇▇\n",
    "wandb:            eval/rewards/chosen ▁▄▇█▇▇▆▆▅▅▅▅▅▅▅\n",
    "wandb:           eval/rewards/margins ▁▄▅▆▇██████████\n",
    "wandb:          eval/rewards/rejected █▆▅▄▂▂▂▁▁▁▁▁▁▁▁\n",
    "wandb:                   eval/runtime ▁▆▆▇▇█▇▇▇▇█▇▆▅▅\n",
    "wandb:        eval/samples_per_second █▃▂▂▂▁▂▂▁▂▁▂▂▄▄\n",
    "wandb:          eval/steps_per_second █▃▂▂▂▁▂▂▁▂▁▂▂▄▄\n",
    "wandb:                    train/epoch ▁▂▂▂▃▃▄▄▅▅▅▅▆▇▇████\n",
    "wandb:              train/global_step ▁▁▂▃▃▃▃▄▅▅▅▅▆▇▇▇███\n",
    "wandb:            train/learning_rate █▃▁\n",
    "wandb:            train/logits/chosen ▁█▆\n",
    "wandb:          train/logits/rejected ▁█▇\n",
    "wandb:             train/logps/chosen ▁█▅\n",
    "wandb:           train/logps/rejected █▂▁\n",
    "wandb:                     train/loss █▁▁\n",
    "wandb:       train/rewards/accuracies ▁█▇\n",
    "wandb:           train/rewards/chosen ▁█▅\n",
    "wandb:          train/rewards/margins ▁▇█\n",
    "wandb:         train/rewards/rejected █▂▁\n",
    "wandb:               train/total_flos ▁\n",
    "wandb:               train/train_loss ▁\n",
    "wandb:            train/train_runtime ▁\n",
    "wandb: train/train_samples_per_second ▁\n",
    "wandb:   train/train_steps_per_second ▁\n",
    "wandb: \n",
    "wandb: Run summary:\n",
    "wandb:             eval/logits/chosen -2.26291\n",
    "wandb:           eval/logits/rejected -2.27795\n",
    "wandb:              eval/logps/chosen -141.65129\n",
    "wandb:            eval/logps/rejected -295.34726\n",
    "wandb:                      eval/loss 0.18366\n",
    "wandb:        eval/rewards/accuracies 0.75758\n",
    "wandb:            eval/rewards/chosen 1.56215\n",
    "wandb:           eval/rewards/margins 15.64091\n",
    "wandb:          eval/rewards/rejected -14.07876\n",
    "wandb:                   eval/runtime 22.8213\n",
    "wandb:        eval/samples_per_second 4.338\n",
    "wandb:          eval/steps_per_second 4.338\n",
    "wandb:                    train/epoch 4.32\n",
    "wandb:              train/global_step 30\n",
    "wandb:            train/learning_rate 0.0\n",
    "wandb:            train/logits/chosen -2.44881\n",
    "wandb:          train/logits/rejected -2.41841\n",
    "wandb:             train/logps/chosen -159.20987\n",
    "wandb:           train/logps/rejected -306.61899\n",
    "wandb:                     train/loss 0.1495\n",
    "wandb:       train/rewards/accuracies 0.78438\n",
    "wandb:           train/rewards/chosen 2.56883\n",
    "wandb:          train/rewards/margins 18.17026\n",
    "wandb:         train/rewards/rejected -15.60144\n",
    "wandb:               train/total_flos 0.0\n",
    "wandb:               train/train_loss 0.21333\n",
    "wandb:            train/train_runtime 3674.4337\n",
    "wandb: train/train_samples_per_second 1.204\n",
    "wandb:   train/train_steps_per_second 0.008\n",
    "wandb: \n",
    "```\n",
    "output to `model/dpo/002-001-dpo-temp-0_3-v-all-ref`  \n",
    "wandb: offline-run-20240202_185047-emgq05qy\n",
    "\n",
    "\n",
    "Eval loss \n",
    "```\n",
    "0.3782382905483246  (02) <--keep\n",
    "0.1804571896791458  (04) <--keep, best\n",
    "0.18257048726081848 (06) <--keep\n",
    "0.18308402597904205\n",
    "0.18331560492515564\n",
    "0.18342168629169464\n",
    "0.18257048726081848 (14) <--keep\n",
    "0.18308402597904205\n",
    "0.18331560492515564\n",
    "0.18342168629169464\n",
    "0.18370915949344635\n",
    "0.18353240191936493\n",
    "0.18386158347129822 (26)\n",
    "0.18382926285266876 (28)\n",
    "0.18365532159805298 (30)\n",
    "```\n",
    "Most promising checkpoint is 04 `model/dpo/002-001-dpo-temp-0_3-v-all-ref/checkpoint-4`\n",
    "\n",
    "Checkpoints to keep 2, 4, 6, 14"
   ]
  },
  {
   "cell_type": "markdown",
   "id": "34edaba0-960f-4b70-a2a6-5a15a2ae73cc",
   "metadata": {},
   "source": [
    "#### Temp 0.9"
   ]
  },
  {
   "cell_type": "markdown",
   "id": "c15118c8-4d48-42bc-a40e-0adefefae041",
   "metadata": {},
   "source": [
    "```\n",
    "source 002-002-dpo-temp-0_9-v-all-ref.sh | tee 002-002-dpo-temp-0_9-v-all-ref.log\n",
    "```\n",
    "\n",
    "```\n",
    "0.5552696585655212  (02)\n",
    "0.4190722703933716  (04)\n",
    "0.34669235348701477 (06)\n",
    "0.32439282536506653 (08)\n",
    "0.3202556371688843  (10) <-- best\n",
    "0.3211551606655121  (12)\n",
    "```\n",
    "\n",
    "Most promising checkpoint is 10 `model/dpo/002-002-dpo-temp-0_9-v-all-ref/checkpoint-10`"
   ]
  },
  {
   "cell_type": "markdown",
   "id": "5990560d-8f08-4116-ae32-fbc1a1444bce",
   "metadata": {},
   "source": [
    "# EOF"
   ]
  },
  {
   "cell_type": "code",
   "execution_count": null,
   "id": "19f90897-115e-47f7-aef9-f8a722077dca",
   "metadata": {},
   "outputs": [],
   "source": []
  }
 ],
 "metadata": {
  "kernelspec": {
   "display_name": "Python 3 (ipykernel)",
   "language": "python",
   "name": "python3"
  },
  "language_info": {
   "codemirror_mode": {
    "name": "ipython",
    "version": 3
   },
   "file_extension": ".py",
   "mimetype": "text/x-python",
   "name": "python",
   "nbconvert_exporter": "python",
   "pygments_lexer": "ipython3",
   "version": "3.10.13"
  }
 },
 "nbformat": 4,
 "nbformat_minor": 5
}
