{
 "cells": [
  {
   "cell_type": "code",
   "execution_count": null,
   "metadata": {},
   "outputs": [],
   "source": [
    "from datasketch import MinHash, MinHashLSH\n",
    "\n",
    "# create minhash signature\n",
    "def generate_minhash_signature(text):\n",
    "    \"\"\" \n",
    "    \"\"\"\n",
    "    minhash = MinHash()\n",
    "    shingles = set(text[i:i+3] for i in range(len(text) - 2))\n",
    "    for shingle in shingles:\n",
    "        minhash.update(shingle.encode('utf-8'))\n",
    "    return minhash"
   ]
  }
 ],
 "metadata": {
  "language_info": {
   "name": "python"
  },
  "orig_nbformat": 4
 },
 "nbformat": 4,
 "nbformat_minor": 2
}
