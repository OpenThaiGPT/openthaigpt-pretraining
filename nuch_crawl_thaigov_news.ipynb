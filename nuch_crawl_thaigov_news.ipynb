{
 "cells": [
  {
   "cell_type": "code",
   "execution_count": 1,
   "metadata": {},
   "outputs": [],
   "source": [
    "from bs4 import BeautifulSoup\n",
    "import requests\n",
    "import lxml\n",
    "import html5lib\n",
    "import re\n",
    "import pandas as pd"
   ]
  },
  {
   "cell_type": "code",
   "execution_count": 7,
   "metadata": {},
   "outputs": [],
   "source": [
    "def get_soup_by_url(url,verify_boo):\n",
    "    res = requests.get(url , verify=verify_boo) ### requested url got untrusted SSL certificate, so have to ignore by verify-False\n",
    "    res.encoding = \"utf-8\"\n",
    "    print(res)\n",
    "    if res.status_code == 200:\n",
    "        # print(\"200 Success\")\n",
    "        return (True, BeautifulSoup(res.text, \"html.parser\"))\n",
    "    else:\n",
    "        print(res.status_code)\n",
    "        return (False, res.status_code)"
   ]
  },
  {
   "cell_type": "code",
   "execution_count": 19,
   "metadata": {},
   "outputs": [],
   "source": [
    "def get_soup_dict(soup_in):  #soup_in is soup in final url that contains detailed target (aka actual individual news)\n",
    "    ### Extract body contentx\n",
    "    soup_in_pbody = soup_in.find_all(\"div\",class_=\"panel-body\")\n",
    "    cur_pbody = soup_in_pbody[0] \n",
    "\n",
    "    ### Extract desired text\n",
    "    cur_head = cur_pbody.find(\"div\",class_=\"panel-heading clearfix Circular\")\n",
    "    cur_hidden = cur_pbody.find(\"p\",class_=\"col-xs-8 remove-xs color7\")\n",
    "    cur_date = cur_pbody.find(\"div\",class_=\"col-xs-12 col-sm-6 col-md-5 news-2 font_level3 text-right\")\n",
    "    if cur_date is not None:\n",
    "        clean_cur_date = cur_date.text.strip()[:cur_date.text.strip().find(\"\\n\")]\n",
    "    else:\n",
    "        clean_cur_date = None\n",
    "    clean_cur_date\n",
    "    cur_h3 = cur_pbody.h3\n",
    "    cur_title = cur_pbody.find(\"p\",class_=\"font_level2 Circular color3\")\n",
    "    cur_detail = cur_pbody.find(\"div\",class_=\"col-xs-12 padding-sm1 news-2 Circular\")\n",
    "\n",
    "    ### Create dict\n",
    "    cur_content = {'panel_heading': cur_head.text.strip(),\n",
    "               'hidden_date': cur_hidden.text.strip(),\n",
    "               'date': clean_cur_date,\n",
    "               'h3': cur_h3.text.strip(),\n",
    "               'title': cur_title.text.strip(),\n",
    "               'detail': cur_detail.text.strip()               \n",
    "               }\n",
    "    \n",
    "    return  cur_content"
   ]
  },
  {
   "cell_type": "code",
   "execution_count": 20,
   "metadata": {},
   "outputs": [],
   "source": [
    "url = \"https://www.thaigov.go.th/news/contents/index/1175\" ## หน้าข่าวทำเนียบรัฐบาล\n"
   ]
  },
  {
   "cell_type": "code",
   "execution_count": 21,
   "metadata": {},
   "outputs": [
    {
     "name": "stderr",
     "output_type": "stream",
     "text": [
      "/opt/homebrew/lib/python3.11/site-packages/urllib3/connectionpool.py:1095: InsecureRequestWarning: Unverified HTTPS request is being made to host 'www.thaigov.go.th'. Adding certificate verification is strongly advised. See: https://urllib3.readthedocs.io/en/latest/advanced-usage.html#tls-warnings\n",
      "  warnings.warn(\n"
     ]
    },
    {
     "name": "stdout",
     "output_type": "stream",
     "text": [
      "<Response [200]>\n"
     ]
    },
    {
     "name": "stderr",
     "output_type": "stream",
     "text": [
      "/opt/homebrew/lib/python3.11/site-packages/urllib3/connectionpool.py:1095: InsecureRequestWarning: Unverified HTTPS request is being made to host 'www.thaigov.go.th'. Adding certificate verification is strongly advised. See: https://urllib3.readthedocs.io/en/latest/advanced-usage.html#tls-warnings\n",
      "  warnings.warn(\n"
     ]
    },
    {
     "name": "stdout",
     "output_type": "stream",
     "text": [
      "<Response [200]>\n"
     ]
    },
    {
     "name": "stderr",
     "output_type": "stream",
     "text": [
      "/opt/homebrew/lib/python3.11/site-packages/urllib3/connectionpool.py:1095: InsecureRequestWarning: Unverified HTTPS request is being made to host 'www.thaigov.go.th'. Adding certificate verification is strongly advised. See: https://urllib3.readthedocs.io/en/latest/advanced-usage.html#tls-warnings\n",
      "  warnings.warn(\n"
     ]
    },
    {
     "name": "stdout",
     "output_type": "stream",
     "text": [
      "<Response [200]>\n"
     ]
    },
    {
     "name": "stderr",
     "output_type": "stream",
     "text": [
      "/opt/homebrew/lib/python3.11/site-packages/urllib3/connectionpool.py:1095: InsecureRequestWarning: Unverified HTTPS request is being made to host 'www.thaigov.go.th'. Adding certificate verification is strongly advised. See: https://urllib3.readthedocs.io/en/latest/advanced-usage.html#tls-warnings\n",
      "  warnings.warn(\n"
     ]
    },
    {
     "name": "stdout",
     "output_type": "stream",
     "text": [
      "<Response [200]>\n"
     ]
    },
    {
     "name": "stderr",
     "output_type": "stream",
     "text": [
      "/opt/homebrew/lib/python3.11/site-packages/urllib3/connectionpool.py:1095: InsecureRequestWarning: Unverified HTTPS request is being made to host 'www.thaigov.go.th'. Adding certificate verification is strongly advised. See: https://urllib3.readthedocs.io/en/latest/advanced-usage.html#tls-warnings\n",
      "  warnings.warn(\n"
     ]
    },
    {
     "name": "stdout",
     "output_type": "stream",
     "text": [
      "<Response [200]>\n"
     ]
    },
    {
     "name": "stderr",
     "output_type": "stream",
     "text": [
      "/opt/homebrew/lib/python3.11/site-packages/urllib3/connectionpool.py:1095: InsecureRequestWarning: Unverified HTTPS request is being made to host 'www.thaigov.go.th'. Adding certificate verification is strongly advised. See: https://urllib3.readthedocs.io/en/latest/advanced-usage.html#tls-warnings\n",
      "  warnings.warn(\n"
     ]
    },
    {
     "name": "stdout",
     "output_type": "stream",
     "text": [
      "<Response [200]>\n"
     ]
    },
    {
     "name": "stderr",
     "output_type": "stream",
     "text": [
      "/opt/homebrew/lib/python3.11/site-packages/urllib3/connectionpool.py:1095: InsecureRequestWarning: Unverified HTTPS request is being made to host 'www.thaigov.go.th'. Adding certificate verification is strongly advised. See: https://urllib3.readthedocs.io/en/latest/advanced-usage.html#tls-warnings\n",
      "  warnings.warn(\n"
     ]
    },
    {
     "name": "stdout",
     "output_type": "stream",
     "text": [
      "<Response [200]>\n"
     ]
    },
    {
     "name": "stderr",
     "output_type": "stream",
     "text": [
      "/opt/homebrew/lib/python3.11/site-packages/urllib3/connectionpool.py:1095: InsecureRequestWarning: Unverified HTTPS request is being made to host 'www.thaigov.go.th'. Adding certificate verification is strongly advised. See: https://urllib3.readthedocs.io/en/latest/advanced-usage.html#tls-warnings\n",
      "  warnings.warn(\n"
     ]
    },
    {
     "name": "stdout",
     "output_type": "stream",
     "text": [
      "<Response [200]>\n"
     ]
    },
    {
     "name": "stderr",
     "output_type": "stream",
     "text": [
      "/opt/homebrew/lib/python3.11/site-packages/urllib3/connectionpool.py:1095: InsecureRequestWarning: Unverified HTTPS request is being made to host 'www.thaigov.go.th'. Adding certificate verification is strongly advised. See: https://urllib3.readthedocs.io/en/latest/advanced-usage.html#tls-warnings\n",
      "  warnings.warn(\n"
     ]
    },
    {
     "name": "stdout",
     "output_type": "stream",
     "text": [
      "<Response [200]>\n"
     ]
    },
    {
     "name": "stderr",
     "output_type": "stream",
     "text": [
      "/opt/homebrew/lib/python3.11/site-packages/urllib3/connectionpool.py:1095: InsecureRequestWarning: Unverified HTTPS request is being made to host 'www.thaigov.go.th'. Adding certificate verification is strongly advised. See: https://urllib3.readthedocs.io/en/latest/advanced-usage.html#tls-warnings\n",
      "  warnings.warn(\n"
     ]
    },
    {
     "name": "stdout",
     "output_type": "stream",
     "text": [
      "<Response [200]>\n"
     ]
    },
    {
     "name": "stderr",
     "output_type": "stream",
     "text": [
      "/opt/homebrew/lib/python3.11/site-packages/urllib3/connectionpool.py:1095: InsecureRequestWarning: Unverified HTTPS request is being made to host 'www.thaigov.go.th'. Adding certificate verification is strongly advised. See: https://urllib3.readthedocs.io/en/latest/advanced-usage.html#tls-warnings\n",
      "  warnings.warn(\n"
     ]
    },
    {
     "name": "stdout",
     "output_type": "stream",
     "text": [
      "<Response [200]>\n"
     ]
    },
    {
     "name": "stderr",
     "output_type": "stream",
     "text": [
      "/opt/homebrew/lib/python3.11/site-packages/urllib3/connectionpool.py:1095: InsecureRequestWarning: Unverified HTTPS request is being made to host 'www.thaigov.go.th'. Adding certificate verification is strongly advised. See: https://urllib3.readthedocs.io/en/latest/advanced-usage.html#tls-warnings\n",
      "  warnings.warn(\n"
     ]
    },
    {
     "name": "stdout",
     "output_type": "stream",
     "text": [
      "<Response [200]>\n"
     ]
    },
    {
     "name": "stderr",
     "output_type": "stream",
     "text": [
      "/opt/homebrew/lib/python3.11/site-packages/urllib3/connectionpool.py:1095: InsecureRequestWarning: Unverified HTTPS request is being made to host 'www.thaigov.go.th'. Adding certificate verification is strongly advised. See: https://urllib3.readthedocs.io/en/latest/advanced-usage.html#tls-warnings\n",
      "  warnings.warn(\n"
     ]
    },
    {
     "name": "stdout",
     "output_type": "stream",
     "text": [
      "<Response [200]>\n"
     ]
    },
    {
     "name": "stderr",
     "output_type": "stream",
     "text": [
      "/opt/homebrew/lib/python3.11/site-packages/urllib3/connectionpool.py:1095: InsecureRequestWarning: Unverified HTTPS request is being made to host 'www.thaigov.go.th'. Adding certificate verification is strongly advised. See: https://urllib3.readthedocs.io/en/latest/advanced-usage.html#tls-warnings\n",
      "  warnings.warn(\n"
     ]
    },
    {
     "name": "stdout",
     "output_type": "stream",
     "text": [
      "<Response [200]>\n"
     ]
    },
    {
     "name": "stderr",
     "output_type": "stream",
     "text": [
      "/opt/homebrew/lib/python3.11/site-packages/urllib3/connectionpool.py:1095: InsecureRequestWarning: Unverified HTTPS request is being made to host 'www.thaigov.go.th'. Adding certificate verification is strongly advised. See: https://urllib3.readthedocs.io/en/latest/advanced-usage.html#tls-warnings\n",
      "  warnings.warn(\n"
     ]
    },
    {
     "name": "stdout",
     "output_type": "stream",
     "text": [
      "<Response [200]>\n"
     ]
    },
    {
     "name": "stderr",
     "output_type": "stream",
     "text": [
      "/opt/homebrew/lib/python3.11/site-packages/urllib3/connectionpool.py:1095: InsecureRequestWarning: Unverified HTTPS request is being made to host 'www.thaigov.go.th'. Adding certificate verification is strongly advised. See: https://urllib3.readthedocs.io/en/latest/advanced-usage.html#tls-warnings\n",
      "  warnings.warn(\n"
     ]
    },
    {
     "name": "stdout",
     "output_type": "stream",
     "text": [
      "<Response [200]>\n"
     ]
    },
    {
     "name": "stderr",
     "output_type": "stream",
     "text": [
      "/opt/homebrew/lib/python3.11/site-packages/urllib3/connectionpool.py:1095: InsecureRequestWarning: Unverified HTTPS request is being made to host 'www.thaigov.go.th'. Adding certificate verification is strongly advised. See: https://urllib3.readthedocs.io/en/latest/advanced-usage.html#tls-warnings\n",
      "  warnings.warn(\n"
     ]
    },
    {
     "name": "stdout",
     "output_type": "stream",
     "text": [
      "<Response [200]>\n"
     ]
    },
    {
     "name": "stderr",
     "output_type": "stream",
     "text": [
      "/opt/homebrew/lib/python3.11/site-packages/urllib3/connectionpool.py:1095: InsecureRequestWarning: Unverified HTTPS request is being made to host 'www.thaigov.go.th'. Adding certificate verification is strongly advised. See: https://urllib3.readthedocs.io/en/latest/advanced-usage.html#tls-warnings\n",
      "  warnings.warn(\n"
     ]
    },
    {
     "name": "stdout",
     "output_type": "stream",
     "text": [
      "<Response [200]>\n"
     ]
    },
    {
     "name": "stderr",
     "output_type": "stream",
     "text": [
      "/opt/homebrew/lib/python3.11/site-packages/urllib3/connectionpool.py:1095: InsecureRequestWarning: Unverified HTTPS request is being made to host 'www.thaigov.go.th'. Adding certificate verification is strongly advised. See: https://urllib3.readthedocs.io/en/latest/advanced-usage.html#tls-warnings\n",
      "  warnings.warn(\n"
     ]
    },
    {
     "name": "stdout",
     "output_type": "stream",
     "text": [
      "<Response [200]>\n"
     ]
    },
    {
     "name": "stderr",
     "output_type": "stream",
     "text": [
      "/opt/homebrew/lib/python3.11/site-packages/urllib3/connectionpool.py:1095: InsecureRequestWarning: Unverified HTTPS request is being made to host 'www.thaigov.go.th'. Adding certificate verification is strongly advised. See: https://urllib3.readthedocs.io/en/latest/advanced-usage.html#tls-warnings\n",
      "  warnings.warn(\n"
     ]
    },
    {
     "name": "stdout",
     "output_type": "stream",
     "text": [
      "<Response [200]>\n"
     ]
    },
    {
     "name": "stderr",
     "output_type": "stream",
     "text": [
      "/opt/homebrew/lib/python3.11/site-packages/urllib3/connectionpool.py:1095: InsecureRequestWarning: Unverified HTTPS request is being made to host 'www.thaigov.go.th'. Adding certificate verification is strongly advised. See: https://urllib3.readthedocs.io/en/latest/advanced-usage.html#tls-warnings\n",
      "  warnings.warn(\n"
     ]
    },
    {
     "name": "stdout",
     "output_type": "stream",
     "text": [
      "<Response [200]>\n"
     ]
    },
    {
     "name": "stderr",
     "output_type": "stream",
     "text": [
      "/opt/homebrew/lib/python3.11/site-packages/urllib3/connectionpool.py:1095: InsecureRequestWarning: Unverified HTTPS request is being made to host 'www.thaigov.go.th'. Adding certificate verification is strongly advised. See: https://urllib3.readthedocs.io/en/latest/advanced-usage.html#tls-warnings\n",
      "  warnings.warn(\n"
     ]
    },
    {
     "name": "stdout",
     "output_type": "stream",
     "text": [
      "<Response [200]>\n"
     ]
    },
    {
     "name": "stderr",
     "output_type": "stream",
     "text": [
      "/opt/homebrew/lib/python3.11/site-packages/urllib3/connectionpool.py:1095: InsecureRequestWarning: Unverified HTTPS request is being made to host 'www.thaigov.go.th'. Adding certificate verification is strongly advised. See: https://urllib3.readthedocs.io/en/latest/advanced-usage.html#tls-warnings\n",
      "  warnings.warn(\n"
     ]
    },
    {
     "name": "stdout",
     "output_type": "stream",
     "text": [
      "<Response [200]>\n"
     ]
    },
    {
     "name": "stderr",
     "output_type": "stream",
     "text": [
      "/opt/homebrew/lib/python3.11/site-packages/urllib3/connectionpool.py:1095: InsecureRequestWarning: Unverified HTTPS request is being made to host 'www.thaigov.go.th'. Adding certificate verification is strongly advised. See: https://urllib3.readthedocs.io/en/latest/advanced-usage.html#tls-warnings\n",
      "  warnings.warn(\n"
     ]
    },
    {
     "name": "stdout",
     "output_type": "stream",
     "text": [
      "<Response [200]>\n"
     ]
    },
    {
     "name": "stderr",
     "output_type": "stream",
     "text": [
      "/opt/homebrew/lib/python3.11/site-packages/urllib3/connectionpool.py:1095: InsecureRequestWarning: Unverified HTTPS request is being made to host 'www.thaigov.go.th'. Adding certificate verification is strongly advised. See: https://urllib3.readthedocs.io/en/latest/advanced-usage.html#tls-warnings\n",
      "  warnings.warn(\n"
     ]
    },
    {
     "name": "stdout",
     "output_type": "stream",
     "text": [
      "<Response [200]>\n"
     ]
    }
   ],
   "source": [
    "### Create df for receiving data\n",
    "content_news = pd.DataFrame({\"panel_heading\":[],\n",
    "                             \"url\":[],\n",
    "                             \"hidden_date\":[],\n",
    "                             \"date\":[],\n",
    "                             \"h3\":[],\n",
    "                             \"title\":[],\n",
    "                             \"detail\":[]\n",
    "                             })\n",
    "\n",
    "soup = get_soup_by_url(url,False)\n",
    "error_urls = []\n",
    "\n",
    "if soup[0] == True:\n",
    "    soup_pbody = soup[1].find_all(\"div\",class_=\"panel-body\")\n",
    "    soup_a = soup_pbody[0].find_all(\"a\") ### list all 10 url of news content on each per_page\n",
    "\n",
    "    ### get soup_dict of each url in page\n",
    "    for a in soup_a:\n",
    "        soup_in_url = a.get(\"href\")\n",
    "        soup_in = get_soup_by_url(soup_in_url,False)\n",
    "        if soup_in[0] == True:\n",
    "            cur_dict = get_soup_dict(soup_in[1])\n",
    "            cur_dict[\"url\"] = soup_in_url\n",
    "            # print(cur_dict)\n",
    "            content_news.loc[len(content_news)]=cur_dict\n",
    "        else:\n",
    "            error_urls.append(url,soup_in[1])\n",
    "    \n",
    "    ### get number of max page for page looping\n",
    "    soup_page = soup[1].find_all(\"ul\",class_=\"pagination color2\")\n",
    "    soup_page_li = soup_page[0].find_all(\"li\")\n",
    "    max_page = int(soup_page_li[-1].a['data-ci-pagination-page'])\n",
    "\n",
    "    ### Start looping next page\n",
    "    url_get_page = \"https://www.thaigov.go.th/news/contents/index/1175?per_page=\"\n",
    "\n",
    "    for i in range(169,max_page+1):\n",
    "        url_page = url_get_page+str(i*10) ##req per_page is to load 10 contents on each page\n",
    "        soup = get_soup_by_url(url_page,False)\n",
    "\n",
    "        if soup[0] == True:\n",
    "            soup_pbody = soup[1].find_all(\"div\",class_=\"panel-body\")\n",
    "            soup_a = soup_pbody[0].find_all(\"a\") ### list all 10 url of news content on each per_page\n",
    "\n",
    "            ### get soup_dict of each url in page\n",
    "            for a in soup_a:\n",
    "                soup_in_url = a.get(\"href\")\n",
    "                soup_in = get_soup_by_url(soup_in_url,False)\n",
    "                if soup_in[0] == True:\n",
    "                    cur_dict = get_soup_dict(soup_in[1])\n",
    "                    cur_dict[\"url\"] = soup_in_url\n",
    "                    # print(cur_dict)\n",
    "                    content_news.loc[len(content_news)]=cur_dict\n",
    "                else:\n",
    "                    error_urls.append(url,soup_in[1])\n",
    "        else:\n",
    "            # print(\"URL error: \"+url)\n",
    "            error_urls.append([url,soup[1]])\n",
    "\n",
    "    \n",
    "else:\n",
    "    # print(\"URL error: \"+url)\n",
    "    error_urls.append([url,soup[1]])\n"
   ]
  },
  {
   "cell_type": "code",
   "execution_count": 22,
   "metadata": {},
   "outputs": [
    {
     "data": {
      "text/html": [
       "<div>\n",
       "<style scoped>\n",
       "    .dataframe tbody tr th:only-of-type {\n",
       "        vertical-align: middle;\n",
       "    }\n",
       "\n",
       "    .dataframe tbody tr th {\n",
       "        vertical-align: top;\n",
       "    }\n",
       "\n",
       "    .dataframe thead th {\n",
       "        text-align: right;\n",
       "    }\n",
       "</style>\n",
       "<table border=\"1\" class=\"dataframe\">\n",
       "  <thead>\n",
       "    <tr style=\"text-align: right;\">\n",
       "      <th></th>\n",
       "      <th>panel_heading</th>\n",
       "      <th>url</th>\n",
       "      <th>hidden_date</th>\n",
       "      <th>date</th>\n",
       "      <th>h3</th>\n",
       "      <th>title</th>\n",
       "      <th>detail</th>\n",
       "    </tr>\n",
       "  </thead>\n",
       "  <tbody>\n",
       "    <tr>\n",
       "      <th>0</th>\n",
       "      <td>ข่าวทำเนียบรัฐบาล</td>\n",
       "      <td>https://www.thaigov.go.th/news/contents/detail...</td>\n",
       "      <td>วันอังคารที่ 18 เมษายน 2566</td>\n",
       "      <td>12/04/2566</td>\n",
       "      <td>เลขาธิการนายกรัฐมนตรี เป็นประธานพิธีทำบุญอาคาร...</td>\n",
       "      <td>เลขาธิการนายกรัฐมนตรี เป็นประธานพิธีทำบุญอาคาร...</td>\n",
       "      <td>วันนี้ (12 เมษายน 2566) เวลา 10.30 น. ณ บริเวณ...</td>\n",
       "    </tr>\n",
       "    <tr>\n",
       "      <th>1</th>\n",
       "      <td>ข่าวทำเนียบรัฐบาล</td>\n",
       "      <td>https://www.thaigov.go.th/news/contents/detail...</td>\n",
       "      <td>วันศุกร์ที่ 18 พฤศจิกายน 2565</td>\n",
       "      <td>18/11/2565</td>\n",
       "      <td>ภริยานายกรัฐมนตรีนำคณะคู่สมรสผู้นำเขตเศรษฐกิจเ...</td>\n",
       "      <td>ภริยานายกรัฐมนตรีนำคณะคู่สมรสผู้นำเขตเศรษฐกิจเ...</td>\n",
       "      <td>วันนี้ (18 พ.ย. 65) เวลา 9.30 น. รศ.นราพร จันท...</td>\n",
       "    </tr>\n",
       "    <tr>\n",
       "      <th>2</th>\n",
       "      <td>ข่าวทำเนียบรัฐบาล</td>\n",
       "      <td>https://www.thaigov.go.th/news/contents/detail...</td>\n",
       "      <td>วันเสาร์ที่ 16 กรกฎาคม 2565</td>\n",
       "      <td>16/07/2565</td>\n",
       "      <td>ชี้แจงประเด็นความต่อเนื่องของการประชุมคณะกรรมก...</td>\n",
       "      <td>ชี้แจงประเด็นความต่อเนื่องของการประชุมคณะกรรมก...</td>\n",
       "      <td>วันที่ 15 กรกฎาคม 2565 นายศุภฤกษ์ ภู่พงศ์ศักดิ...</td>\n",
       "    </tr>\n",
       "    <tr>\n",
       "      <th>3</th>\n",
       "      <td>ข่าวทำเนียบรัฐบาล</td>\n",
       "      <td>https://www.thaigov.go.th/news/contents/detail...</td>\n",
       "      <td>วันพฤหัสบดีที่ 30 มิถุนายน 2565</td>\n",
       "      <td>30/06/2565</td>\n",
       "      <td>ศบค. เผย สธ. ติดตามกรณีเชื้อกลายพันธุ์ BA.4 - ...</td>\n",
       "      <td>ศบค. เผย สธ. ติดตามกรณีเชื้อกลายพันธุ์ BA.4 - ...</td>\n",
       "      <td>วันนี้ (30 มิถุนายน 2565) 12.30 ณ โถงกลาง ตึกส...</td>\n",
       "    </tr>\n",
       "    <tr>\n",
       "      <th>4</th>\n",
       "      <td>ข่าวทำเนียบรัฐบาล</td>\n",
       "      <td>https://www.thaigov.go.th/news/contents/detail...</td>\n",
       "      <td>วันอังคารที่ 14 มิถุนายน 2565</td>\n",
       "      <td>14/06/2565</td>\n",
       "      <td>รัฐบาลเตรียมจัดงานเฉลิมพระเกียรติสมเด็จพระนางเ...</td>\n",
       "      <td>รัฐบาลเตรียมจัดงานเฉลิมพระเกียรติสมเด็จพระนางเ...</td>\n",
       "      <td>วันที่ 14 มิถุนายน 2565 นายธีรภัทร ประยูรสิทธิ...</td>\n",
       "    </tr>\n",
       "    <tr>\n",
       "      <th>5</th>\n",
       "      <td>ข่าวทำเนียบรัฐบาล</td>\n",
       "      <td>https://www.thaigov.go.th/news/contents/detail...</td>\n",
       "      <td>วันอังคารที่ 24 พฤษภาคม 2565</td>\n",
       "      <td>24/05/2565</td>\n",
       "      <td>เลขาธิการนายกรัฐมนตรีเป็นผู้แทนนายกรัฐมนตรี รั...</td>\n",
       "      <td>เลขาธิการนายกรัฐมนตรีเป็นผู้แทนนายกรัฐมนตรี รั...</td>\n",
       "      <td>วันนี้ (24 พฤษภาคม 2565) เวลา 14.30 น. ณ ห้องร...</td>\n",
       "    </tr>\n",
       "    <tr>\n",
       "      <th>6</th>\n",
       "      <td>ข่าวทำเนียบรัฐบาล</td>\n",
       "      <td>https://www.thaigov.go.th/news/contents/detail...</td>\n",
       "      <td>วันจันทร์ที่ 23 พฤษภาคม 2565</td>\n",
       "      <td>23/05/2565</td>\n",
       "      <td>รมว.กก.แถลงข่าวต้อนรับ Amazean Jungle Trail By...</td>\n",
       "      <td>รมว.กก.แถลงข่าวต้อนรับ Amazean Jungle Trail By...</td>\n",
       "      <td>วันที่ 23 พฤษภาคม 2565 เวลา 14.00 น. ณ ศูนย์แถ...</td>\n",
       "    </tr>\n",
       "    <tr>\n",
       "      <th>7</th>\n",
       "      <td>ข่าวทำเนียบรัฐบาล</td>\n",
       "      <td>https://www.thaigov.go.th/news/contents/detail...</td>\n",
       "      <td>วันจันทร์ที่ 23 พฤษภาคม 2565</td>\n",
       "      <td>23/05/2565</td>\n",
       "      <td>รายงานสรุปผลการดำเนินงานที่สำคัญ ของสำนักงานส่...</td>\n",
       "      <td>รายงานสรุปผลการดำเนินงานที่สำคัญของสำนักงานส่ง...</td>\n",
       "      <td>สำนักงานส่งเสริมวิสาหกิจขนาดกลางและขนาดย่อม ได...</td>\n",
       "    </tr>\n",
       "    <tr>\n",
       "      <th>8</th>\n",
       "      <td>ข่าวทำเนียบรัฐบาล</td>\n",
       "      <td>https://www.thaigov.go.th/news/contents/detail...</td>\n",
       "      <td>วันพฤหัสบดีที่ 12 พฤษภาคม 2565</td>\n",
       "      <td>12/05/2565</td>\n",
       "      <td>ผู้ช่วยโฆษก ศบค. ยืนยันการเดินทางในรูปแบบ Thai...</td>\n",
       "      <td>ผู้ช่วยโฆษก ศบค. ยืนยันการเดินทางในรูปแบบ Thai...</td>\n",
       "      <td>วันนี้ (12 พฤษภาคม 2565) เวลา 12.30 น. ณ โถงกล...</td>\n",
       "    </tr>\n",
       "    <tr>\n",
       "      <th>9</th>\n",
       "      <td>ข่าวทำเนียบรัฐบาล</td>\n",
       "      <td>https://www.thaigov.go.th/news/contents/detail...</td>\n",
       "      <td>วันพุธที่ 11 พฤษภาคม 2565</td>\n",
       "      <td>11/05/2565</td>\n",
       "      <td>ปลัดสำนักนายกรัฐมนตรี ให้การต้อนรับเด็กและเยาว...</td>\n",
       "      <td>ปลัดสำนักนายกรัฐมนตรี ให้การต้อนรับเด็กและเยาว...</td>\n",
       "      <td>วันที่ 11 พ.ค. 65 เวลา 08.45 น. ณ บริเวณสนามหญ...</td>\n",
       "    </tr>\n",
       "    <tr>\n",
       "      <th>10</th>\n",
       "      <td>ข่าวทำเนียบรัฐบาล</td>\n",
       "      <td>https://www.thaigov.go.th/news/contents/detail...</td>\n",
       "      <td>วันพุธที่ 24 กรกฎาคม 2562</td>\n",
       "      <td>24/07/2562</td>\n",
       "      <td>นายกรัฐมนตรี เป็นประธานพิธีทางศาสนามหามงคล 5 ศ...</td>\n",
       "      <td>รัฐบาลจัดพิธีทางศาสนามหามงคล 5 ศาสนา เพื่อถวาย...</td>\n",
       "      <td>วันนี้ (24 กรกฎาคม 2562) เวลา 08.15 น. ณ ตึกภั...</td>\n",
       "    </tr>\n",
       "    <tr>\n",
       "      <th>11</th>\n",
       "      <td>ข่าวทำเนียบรัฐบาล</td>\n",
       "      <td>https://www.thaigov.go.th/news/contents/detail...</td>\n",
       "      <td>วันพุธที่ 24 กรกฎาคม 2562</td>\n",
       "      <td>22/07/2562</td>\n",
       "      <td>นายกรัฐมนตรีเป็นประธานพิธีมหามงคลบำเพ็ญพระราชก...</td>\n",
       "      <td>นายกรัฐมนตรีเป็นประธานพิธีมหามงคลบำเพ็ญพระราชก...</td>\n",
       "      <td>วันนี้ (22 กรกฎาคม 2562) เวลา 17.45 น. ณ พระลา...</td>\n",
       "    </tr>\n",
       "    <tr>\n",
       "      <th>12</th>\n",
       "      <td>ข่าวทำเนียบรัฐบาล</td>\n",
       "      <td>https://www.thaigov.go.th/news/contents/detail...</td>\n",
       "      <td>วันศุกร์ที่ 19 กรกฎาคม 2562</td>\n",
       "      <td>19/07/2562</td>\n",
       "      <td>นายกรัฐมนตรีสั่งด่วนกองทัพสนับสนุนอากาศยาน - ก...</td>\n",
       "      <td>นายกรัฐมนตรีสั่งด่วนกองทัพสนับสนุนอากาศยาน - ก...</td>\n",
       "      <td>วันนี้ (19 กรกฎาคม 2562) พลเอก ประยุทธ์ จันทร์...</td>\n",
       "    </tr>\n",
       "    <tr>\n",
       "      <th>13</th>\n",
       "      <td>ข่าวทำเนียบรัฐบาล</td>\n",
       "      <td>https://www.thaigov.go.th/news/contents/detail...</td>\n",
       "      <td>วันพฤหัสบดีที่ 18 กรกฎาคม 2562</td>\n",
       "      <td>18/07/2562</td>\n",
       "      <td>นายกฯ ห่วงการท่องเที่ยวภูเก็ตและภาพลักษณ์ประเท...</td>\n",
       "      <td>นายกรัฐมนตรี เป็นห่วงการท่องเที่ยวภูเก็ตและภาพ...</td>\n",
       "      <td>วันนี้ (18 ก.ค.62) พลเอกประยุทธ์ จันทร์โอชา นา...</td>\n",
       "    </tr>\n",
       "    <tr>\n",
       "      <th>14</th>\n",
       "      <td>ข่าวทำเนียบรัฐบาล</td>\n",
       "      <td>https://www.thaigov.go.th/news/contents/detail...</td>\n",
       "      <td>วันจันทร์ที่ 29 กรกฎาคม 2562</td>\n",
       "      <td>28/07/2562</td>\n",
       "      <td>นายกรัฐมนตรีและภริยา  ลงนามถวายพระพร พระบาทสมเ...</td>\n",
       "      <td>นายกรัฐมนตรีและภริยา  ลงนามถวายพระพร พระบาทสมเ...</td>\n",
       "      <td>วันนี้ (28 กรกฎาคม 2562) เวลา 09.30 น. พลเอก ป...</td>\n",
       "    </tr>\n",
       "    <tr>\n",
       "      <th>15</th>\n",
       "      <td>ข่าวทำเนียบรัฐบาล</td>\n",
       "      <td>https://www.thaigov.go.th/news/contents/detail...</td>\n",
       "      <td>วันอาทิตย์ที่ 28 กรกฎาคม 2562</td>\n",
       "      <td>28/07/2562</td>\n",
       "      <td>นายกรัฐมนตรีนำข้าราชการ เจ้าหน้าที่รัฐ และพนัก...</td>\n",
       "      <td>นายกรัฐมนตรีนำข้าราชการพลเรือน ทหาร ตำรวจ พนัก...</td>\n",
       "      <td>วันนี้ (28 กรกฎาคม 2562) เวลา 07.50 น. ณ ท้องส...</td>\n",
       "    </tr>\n",
       "    <tr>\n",
       "      <th>16</th>\n",
       "      <td>ข่าวทำเนียบรัฐบาล</td>\n",
       "      <td>https://www.thaigov.go.th/news/contents/detail...</td>\n",
       "      <td>วันพฤหัสบดีที่ 25 กรกฎาคม 2562</td>\n",
       "      <td>25/07/2562</td>\n",
       "      <td>นายกรัฐมนตรี แถลงนโยบายของคณะรัฐมนตรีต่อรัฐสภา...</td>\n",
       "      <td>นายกรัฐมนตรีแถลงนโยบายของคณะรัฐมนตรีต่อรัฐสภา ...</td>\n",
       "      <td>วันนี้ (25 ก.ค.62) เวลา 09.30 น. ณ หอประชุมใหญ...</td>\n",
       "    </tr>\n",
       "    <tr>\n",
       "      <th>17</th>\n",
       "      <td>ข่าวทำเนียบรัฐบาล</td>\n",
       "      <td>https://www.thaigov.go.th/news/contents/detail...</td>\n",
       "      <td>วันพฤหัสบดีที่ 25 กรกฎาคม 2562</td>\n",
       "      <td>25/07/2562</td>\n",
       "      <td>คําแถลงนโยบายของคณะรัฐมนตรี พลเอก ประยุทธ์  จั...</td>\n",
       "      <td>พลเอก ประยุทธ์ จันทร์โอชา นายกรัฐมนตรี แถลงนโย...</td>\n",
       "      <td>คําแถลงนโยบาย\\r\\nของ\\r\\nคณะรัฐมนตรี\\r\\nพลเอก ป...</td>\n",
       "    </tr>\n",
       "    <tr>\n",
       "      <th>18</th>\n",
       "      <td>ข่าวทำเนียบรัฐบาล</td>\n",
       "      <td>https://www.thaigov.go.th/news/contents/detail...</td>\n",
       "      <td>วันพุธที่ 24 กรกฎาคม 2562</td>\n",
       "      <td>24/07/2562</td>\n",
       "      <td>นายกรัฐมนตรีเป็นประธานงานกิจกรรม จิตอาสาพัฒนาส...</td>\n",
       "      <td>นายกรัฐมนตรีเป็นประธานงานกิจกรรมจิตอาสาพัฒนาสิ...</td>\n",
       "      <td>วันนี้ (24 กรกฎาคม 2562) เวลา 10.30 น. ณ สวนวช...</td>\n",
       "    </tr>\n",
       "    <tr>\n",
       "      <th>19</th>\n",
       "      <td>ข่าวทำเนียบรัฐบาล</td>\n",
       "      <td>https://www.thaigov.go.th/news/contents/detail...</td>\n",
       "      <td>วันพฤหัสบดีที่ 18 กรกฎาคม 2562</td>\n",
       "      <td>18/07/2562</td>\n",
       "      <td>นายกรัฐมนตรี ย้ำ ครม.ปฏิบัติหน้าที่ให้ดีที่สุด...</td>\n",
       "      <td>พลเอก ประยุทธ์ จันทร์โอชา นายกรัฐมนตรี ย้ำคณะร...</td>\n",
       "      <td>วันนี้ (16 ก.ค.62) เวลา 20.45 น. ณ บริเวณโถงกล...</td>\n",
       "    </tr>\n",
       "    <tr>\n",
       "      <th>20</th>\n",
       "      <td>ข่าวทำเนียบรัฐบาล</td>\n",
       "      <td>https://www.thaigov.go.th/news/contents/detail...</td>\n",
       "      <td>วันพุธที่ 18 มีนาคม 2563</td>\n",
       "      <td>None</td>\n",
       "      <td>นายกฯ เยี่ยมศูนย์บริหารสถานการณ์โควิด-19 ให้กำ...</td>\n",
       "      <td>พลเอก ประยุทธ์ จันทร์โอชา นายกรัฐมนตรี เยี่ยมศ...</td>\n",
       "      <td>วันนี้ (18 มี.ค.63) เวลา 11.40 น. ภายหลังการตร...</td>\n",
       "    </tr>\n",
       "  </tbody>\n",
       "</table>\n",
       "</div>"
      ],
      "text/plain": [
       "        panel_heading                                                url   \n",
       "0   ข่าวทำเนียบรัฐบาล  https://www.thaigov.go.th/news/contents/detail...  \\\n",
       "1   ข่าวทำเนียบรัฐบาล  https://www.thaigov.go.th/news/contents/detail...   \n",
       "2   ข่าวทำเนียบรัฐบาล  https://www.thaigov.go.th/news/contents/detail...   \n",
       "3   ข่าวทำเนียบรัฐบาล  https://www.thaigov.go.th/news/contents/detail...   \n",
       "4   ข่าวทำเนียบรัฐบาล  https://www.thaigov.go.th/news/contents/detail...   \n",
       "5   ข่าวทำเนียบรัฐบาล  https://www.thaigov.go.th/news/contents/detail...   \n",
       "6   ข่าวทำเนียบรัฐบาล  https://www.thaigov.go.th/news/contents/detail...   \n",
       "7   ข่าวทำเนียบรัฐบาล  https://www.thaigov.go.th/news/contents/detail...   \n",
       "8   ข่าวทำเนียบรัฐบาล  https://www.thaigov.go.th/news/contents/detail...   \n",
       "9   ข่าวทำเนียบรัฐบาล  https://www.thaigov.go.th/news/contents/detail...   \n",
       "10  ข่าวทำเนียบรัฐบาล  https://www.thaigov.go.th/news/contents/detail...   \n",
       "11  ข่าวทำเนียบรัฐบาล  https://www.thaigov.go.th/news/contents/detail...   \n",
       "12  ข่าวทำเนียบรัฐบาล  https://www.thaigov.go.th/news/contents/detail...   \n",
       "13  ข่าวทำเนียบรัฐบาล  https://www.thaigov.go.th/news/contents/detail...   \n",
       "14  ข่าวทำเนียบรัฐบาล  https://www.thaigov.go.th/news/contents/detail...   \n",
       "15  ข่าวทำเนียบรัฐบาล  https://www.thaigov.go.th/news/contents/detail...   \n",
       "16  ข่าวทำเนียบรัฐบาล  https://www.thaigov.go.th/news/contents/detail...   \n",
       "17  ข่าวทำเนียบรัฐบาล  https://www.thaigov.go.th/news/contents/detail...   \n",
       "18  ข่าวทำเนียบรัฐบาล  https://www.thaigov.go.th/news/contents/detail...   \n",
       "19  ข่าวทำเนียบรัฐบาล  https://www.thaigov.go.th/news/contents/detail...   \n",
       "20  ข่าวทำเนียบรัฐบาล  https://www.thaigov.go.th/news/contents/detail...   \n",
       "\n",
       "                        hidden_date        date   \n",
       "0       วันอังคารที่ 18 เมษายน 2566  12/04/2566  \\\n",
       "1     วันศุกร์ที่ 18 พฤศจิกายน 2565  18/11/2565   \n",
       "2       วันเสาร์ที่ 16 กรกฎาคม 2565  16/07/2565   \n",
       "3   วันพฤหัสบดีที่ 30 มิถุนายน 2565  30/06/2565   \n",
       "4     วันอังคารที่ 14 มิถุนายน 2565  14/06/2565   \n",
       "5      วันอังคารที่ 24 พฤษภาคม 2565  24/05/2565   \n",
       "6      วันจันทร์ที่ 23 พฤษภาคม 2565  23/05/2565   \n",
       "7      วันจันทร์ที่ 23 พฤษภาคม 2565  23/05/2565   \n",
       "8    วันพฤหัสบดีที่ 12 พฤษภาคม 2565  12/05/2565   \n",
       "9         วันพุธที่ 11 พฤษภาคม 2565  11/05/2565   \n",
       "10        วันพุธที่ 24 กรกฎาคม 2562  24/07/2562   \n",
       "11        วันพุธที่ 24 กรกฎาคม 2562  22/07/2562   \n",
       "12      วันศุกร์ที่ 19 กรกฎาคม 2562  19/07/2562   \n",
       "13   วันพฤหัสบดีที่ 18 กรกฎาคม 2562  18/07/2562   \n",
       "14     วันจันทร์ที่ 29 กรกฎาคม 2562  28/07/2562   \n",
       "15    วันอาทิตย์ที่ 28 กรกฎาคม 2562  28/07/2562   \n",
       "16   วันพฤหัสบดีที่ 25 กรกฎาคม 2562  25/07/2562   \n",
       "17   วันพฤหัสบดีที่ 25 กรกฎาคม 2562  25/07/2562   \n",
       "18        วันพุธที่ 24 กรกฎาคม 2562  24/07/2562   \n",
       "19   วันพฤหัสบดีที่ 18 กรกฎาคม 2562  18/07/2562   \n",
       "20         วันพุธที่ 18 มีนาคม 2563        None   \n",
       "\n",
       "                                                   h3   \n",
       "0   เลขาธิการนายกรัฐมนตรี เป็นประธานพิธีทำบุญอาคาร...  \\\n",
       "1   ภริยานายกรัฐมนตรีนำคณะคู่สมรสผู้นำเขตเศรษฐกิจเ...   \n",
       "2   ชี้แจงประเด็นความต่อเนื่องของการประชุมคณะกรรมก...   \n",
       "3   ศบค. เผย สธ. ติดตามกรณีเชื้อกลายพันธุ์ BA.4 - ...   \n",
       "4   รัฐบาลเตรียมจัดงานเฉลิมพระเกียรติสมเด็จพระนางเ...   \n",
       "5   เลขาธิการนายกรัฐมนตรีเป็นผู้แทนนายกรัฐมนตรี รั...   \n",
       "6   รมว.กก.แถลงข่าวต้อนรับ Amazean Jungle Trail By...   \n",
       "7   รายงานสรุปผลการดำเนินงานที่สำคัญ ของสำนักงานส่...   \n",
       "8   ผู้ช่วยโฆษก ศบค. ยืนยันการเดินทางในรูปแบบ Thai...   \n",
       "9   ปลัดสำนักนายกรัฐมนตรี ให้การต้อนรับเด็กและเยาว...   \n",
       "10  นายกรัฐมนตรี เป็นประธานพิธีทางศาสนามหามงคล 5 ศ...   \n",
       "11  นายกรัฐมนตรีเป็นประธานพิธีมหามงคลบำเพ็ญพระราชก...   \n",
       "12  นายกรัฐมนตรีสั่งด่วนกองทัพสนับสนุนอากาศยาน - ก...   \n",
       "13  นายกฯ ห่วงการท่องเที่ยวภูเก็ตและภาพลักษณ์ประเท...   \n",
       "14  นายกรัฐมนตรีและภริยา  ลงนามถวายพระพร พระบาทสมเ...   \n",
       "15  นายกรัฐมนตรีนำข้าราชการ เจ้าหน้าที่รัฐ และพนัก...   \n",
       "16  นายกรัฐมนตรี แถลงนโยบายของคณะรัฐมนตรีต่อรัฐสภา...   \n",
       "17  คําแถลงนโยบายของคณะรัฐมนตรี พลเอก ประยุทธ์  จั...   \n",
       "18  นายกรัฐมนตรีเป็นประธานงานกิจกรรม จิตอาสาพัฒนาส...   \n",
       "19  นายกรัฐมนตรี ย้ำ ครม.ปฏิบัติหน้าที่ให้ดีที่สุด...   \n",
       "20  นายกฯ เยี่ยมศูนย์บริหารสถานการณ์โควิด-19 ให้กำ...   \n",
       "\n",
       "                                                title   \n",
       "0   เลขาธิการนายกรัฐมนตรี เป็นประธานพิธีทำบุญอาคาร...  \\\n",
       "1   ภริยานายกรัฐมนตรีนำคณะคู่สมรสผู้นำเขตเศรษฐกิจเ...   \n",
       "2   ชี้แจงประเด็นความต่อเนื่องของการประชุมคณะกรรมก...   \n",
       "3   ศบค. เผย สธ. ติดตามกรณีเชื้อกลายพันธุ์ BA.4 - ...   \n",
       "4   รัฐบาลเตรียมจัดงานเฉลิมพระเกียรติสมเด็จพระนางเ...   \n",
       "5   เลขาธิการนายกรัฐมนตรีเป็นผู้แทนนายกรัฐมนตรี รั...   \n",
       "6   รมว.กก.แถลงข่าวต้อนรับ Amazean Jungle Trail By...   \n",
       "7   รายงานสรุปผลการดำเนินงานที่สำคัญของสำนักงานส่ง...   \n",
       "8   ผู้ช่วยโฆษก ศบค. ยืนยันการเดินทางในรูปแบบ Thai...   \n",
       "9   ปลัดสำนักนายกรัฐมนตรี ให้การต้อนรับเด็กและเยาว...   \n",
       "10  รัฐบาลจัดพิธีทางศาสนามหามงคล 5 ศาสนา เพื่อถวาย...   \n",
       "11  นายกรัฐมนตรีเป็นประธานพิธีมหามงคลบำเพ็ญพระราชก...   \n",
       "12  นายกรัฐมนตรีสั่งด่วนกองทัพสนับสนุนอากาศยาน - ก...   \n",
       "13  นายกรัฐมนตรี เป็นห่วงการท่องเที่ยวภูเก็ตและภาพ...   \n",
       "14  นายกรัฐมนตรีและภริยา  ลงนามถวายพระพร พระบาทสมเ...   \n",
       "15  นายกรัฐมนตรีนำข้าราชการพลเรือน ทหาร ตำรวจ พนัก...   \n",
       "16  นายกรัฐมนตรีแถลงนโยบายของคณะรัฐมนตรีต่อรัฐสภา ...   \n",
       "17  พลเอก ประยุทธ์ จันทร์โอชา นายกรัฐมนตรี แถลงนโย...   \n",
       "18  นายกรัฐมนตรีเป็นประธานงานกิจกรรมจิตอาสาพัฒนาสิ...   \n",
       "19  พลเอก ประยุทธ์ จันทร์โอชา นายกรัฐมนตรี ย้ำคณะร...   \n",
       "20  พลเอก ประยุทธ์ จันทร์โอชา นายกรัฐมนตรี เยี่ยมศ...   \n",
       "\n",
       "                                               detail  \n",
       "0   วันนี้ (12 เมษายน 2566) เวลา 10.30 น. ณ บริเวณ...  \n",
       "1   วันนี้ (18 พ.ย. 65) เวลา 9.30 น. รศ.นราพร จันท...  \n",
       "2   วันที่ 15 กรกฎาคม 2565 นายศุภฤกษ์ ภู่พงศ์ศักดิ...  \n",
       "3   วันนี้ (30 มิถุนายน 2565) 12.30 ณ โถงกลาง ตึกส...  \n",
       "4   วันที่ 14 มิถุนายน 2565 นายธีรภัทร ประยูรสิทธิ...  \n",
       "5   วันนี้ (24 พฤษภาคม 2565) เวลา 14.30 น. ณ ห้องร...  \n",
       "6   วันที่ 23 พฤษภาคม 2565 เวลา 14.00 น. ณ ศูนย์แถ...  \n",
       "7   สำนักงานส่งเสริมวิสาหกิจขนาดกลางและขนาดย่อม ได...  \n",
       "8   วันนี้ (12 พฤษภาคม 2565) เวลา 12.30 น. ณ โถงกล...  \n",
       "9   วันที่ 11 พ.ค. 65 เวลา 08.45 น. ณ บริเวณสนามหญ...  \n",
       "10  วันนี้ (24 กรกฎาคม 2562) เวลา 08.15 น. ณ ตึกภั...  \n",
       "11  วันนี้ (22 กรกฎาคม 2562) เวลา 17.45 น. ณ พระลา...  \n",
       "12  วันนี้ (19 กรกฎาคม 2562) พลเอก ประยุทธ์ จันทร์...  \n",
       "13  วันนี้ (18 ก.ค.62) พลเอกประยุทธ์ จันทร์โอชา นา...  \n",
       "14  วันนี้ (28 กรกฎาคม 2562) เวลา 09.30 น. พลเอก ป...  \n",
       "15  วันนี้ (28 กรกฎาคม 2562) เวลา 07.50 น. ณ ท้องส...  \n",
       "16  วันนี้ (25 ก.ค.62) เวลา 09.30 น. ณ หอประชุมใหญ...  \n",
       "17  คําแถลงนโยบาย\\r\\nของ\\r\\nคณะรัฐมนตรี\\r\\nพลเอก ป...  \n",
       "18  วันนี้ (24 กรกฎาคม 2562) เวลา 10.30 น. ณ สวนวช...  \n",
       "19  วันนี้ (16 ก.ค.62) เวลา 20.45 น. ณ บริเวณโถงกล...  \n",
       "20  วันนี้ (18 มี.ค.63) เวลา 11.40 น. ภายหลังการตร...  "
      ]
     },
     "execution_count": 22,
     "metadata": {},
     "output_type": "execute_result"
    }
   ],
   "source": [
    "content_news"
   ]
  },
  {
   "cell_type": "code",
   "execution_count": null,
   "metadata": {},
   "outputs": [],
   "source": [
    "content_news.to_csv(\"thaigov_news_01.csv\")"
   ]
  }
 ],
 "metadata": {
  "kernelspec": {
   "display_name": "Python 3",
   "language": "python",
   "name": "python3"
  },
  "language_info": {
   "codemirror_mode": {
    "name": "ipython",
    "version": 3
   },
   "file_extension": ".py",
   "mimetype": "text/x-python",
   "name": "python",
   "nbconvert_exporter": "python",
   "pygments_lexer": "ipython3",
   "version": "3.11.2"
  },
  "orig_nbformat": 4
 },
 "nbformat": 4,
 "nbformat_minor": 2
}
